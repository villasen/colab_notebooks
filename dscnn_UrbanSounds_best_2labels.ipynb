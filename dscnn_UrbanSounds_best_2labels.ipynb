{
  "nbformat": 4,
  "nbformat_minor": 0,
  "metadata": {
    "colab": {
      "name": "dscnn_UrbanSounds_best.ipynb",
      "version": "0.3.2",
      "provenance": [],
      "collapsed_sections": [],
      "toc_visible": true,
      "include_colab_link": true
    },
    "kernelspec": {
      "name": "python2",
      "display_name": "Python 2"
    },
    "accelerator": "GPU"
  },
  "cells": [
    {
      "cell_type": "markdown",
      "metadata": {
        "id": "view-in-github",
        "colab_type": "text"
      },
      "source": [
        "<a href=\"https://colab.research.google.com/github/villasen/colab_notebooks/blob/master/dscnn_UrbanSounds_best_2labels.ipynb\" target=\"_parent\"><img src=\"https://colab.research.google.com/assets/colab-badge.svg\" alt=\"Open In Colab\"/></a>"
      ]
    },
    {
      "metadata": {
        "id": "Zcbjd43tLwYj",
        "colab_type": "text"
      },
      "cell_type": "markdown",
      "source": [
        "# TRAINING AND TESTING URBAN SOUNDS"
      ]
    },
    {
      "metadata": {
        "id": "gqkIgun2ZyBg",
        "colab_type": "code",
        "outputId": "bff6bd2f-4da0-4f26-9e84-77883bf8dd4a",
        "colab": {
          "base_uri": "https://localhost:8080/",
          "height": 122
        }
      },
      "cell_type": "code",
      "source": [
        "#%env URBAN_WORDS=Helicopter,Insects,Train,Dog,Snoring,Wind,Cat,Airplane,Breathing,Clapping\n",
        "#%env URBAN_WORDS=clock_alarm,sneezing,crying_baby,door_knock,drinking_sipping,dog,coughing,vacuum_cleaner,glass_breaking,laughing\n",
        "#%env URBAN8K_WORDS=air_conditioner,car_horn,children_playing,dog_bark,drilling,engine_idling,gun_shot,jackhammer,siren,street_music\n",
        "#%env URBAN_WORDS=clock_alarm,laughing\n",
        "%env URBAN_8KWORDS=dog_bark,gun_shot\n",
        "%env TIME_CLIP=1000\n",
        "%env SAMPLE_RATE=8000\n",
        "%env TRAIN_STEPS=5000,3000,2000\n",
        "%env MODEL_SIZE=5 64 10 4 2 2 64 3 3 1 1 64 3 3 1 1 64 3 3 1 1 64 3 3 1 1\n",
        "#%env MODEL_SIZE=5 172 10 4 2 2 172 3 3 1 1 172 3 3 1 1 172 3 3 1 1 172 3 3 1 1\n",
        "#%env MODEL_SIZE=5 172 10 4 2 1 172 3 3 2 2 172 3 3 1 1 172 3 3 1 1 172 3 3 1 1\n",
        "#%env MODEL_SIZE=5 172 10 4 2 2 172 3 3 1 1 172 3 3 1 1 172 3 3 1 1 172 3 3 1 1\n"
      ],
      "execution_count": 1,
      "outputs": [
        {
          "output_type": "stream",
          "text": [
            "env: URBAN_8KWORDS=dog_bark,gun_shot\n",
            "env: TIME_CLIP=1000\n",
            "env: SAMPLE_RATE=8000\n",
            "env: TRAIN_STEPS=5000,3000,2000\n",
            "env: MODEL_SIZE=5 64 10 4 2 2 64 3 3 1 1 64 3 3 1 1 64 3 3 1 1 64 3 3 1 1\n"
          ],
          "name": "stdout"
        }
      ]
    },
    {
      "metadata": {
        "id": "D9w8k6xSL_Nu",
        "colab_type": "text"
      },
      "cell_type": "markdown",
      "source": [
        "\n",
        "\n",
        "\n",
        "\n"
      ]
    },
    {
      "metadata": {
        "id": "LmF_IuxSMwYq",
        "colab_type": "code",
        "colab": {}
      },
      "cell_type": "code",
      "source": [
        "!rm -r work/DS_CNN_UrbanSounds"
      ],
      "execution_count": 0,
      "outputs": []
    },
    {
      "metadata": {
        "id": "fxJBDJYMaZ17",
        "colab_type": "code",
        "colab": {}
      },
      "cell_type": "code",
      "source": [
        "!ls -l work/DS_CNN_UrbanSounds/DS_CNN1/training/best"
      ],
      "execution_count": 0,
      "outputs": []
    },
    {
      "metadata": {
        "id": "PPUPTSbituY_",
        "colab_type": "code",
        "colab": {}
      },
      "cell_type": "code",
      "source": [
        "!rm -r ML-KWS-for-MCU"
      ],
      "execution_count": 0,
      "outputs": []
    },
    {
      "metadata": {
        "id": "jsMKvw1ei_Tv",
        "colab_type": "code",
        "outputId": "480c3ee2-28c9-49d4-e546-be04e5c52978",
        "colab": {
          "base_uri": "https://localhost:8080/",
          "height": 153
        }
      },
      "cell_type": "code",
      "source": [
        "!git clone https://github.com/villasen/ML-KWS-for-MCU.git\n"
      ],
      "execution_count": 2,
      "outputs": [
        {
          "output_type": "stream",
          "text": [
            "Cloning into 'ML-KWS-for-MCU'...\n",
            "remote: Enumerating objects: 81, done.\u001b[K\n",
            "remote: Counting objects: 100% (81/81), done.\u001b[K\n",
            "remote: Compressing objects: 100% (67/67), done.\u001b[K\n",
            "remote: Total 2613 (delta 24), reused 66 (delta 14), pack-reused 2532\u001b[K\n",
            "Receiving objects: 100% (2613/2613), 671.08 MiB | 33.13 MiB/s, done.\n",
            "Resolving deltas: 100% (347/347), done.\n",
            "Checking out files: 100% (2345/2345), done.\n"
          ],
          "name": "stdout"
        }
      ]
    },
    {
      "metadata": {
        "id": "7bWBVeU7b5Y1",
        "colab_type": "code",
        "colab": {}
      },
      "cell_type": "code",
      "source": [
        "!unzip combined_datasets.zip"
      ],
      "execution_count": 0,
      "outputs": []
    },
    {
      "metadata": {
        "id": "wGMsjxJKW6w-",
        "colab_type": "code",
        "colab": {}
      },
      "cell_type": "code",
      "source": [
        "!git clone https://github.com/villasen/Sound-Datasets.git"
      ],
      "execution_count": 0,
      "outputs": []
    },
    {
      "metadata": {
        "id": "yO6V7MKsSs1m",
        "colab_type": "code",
        "colab": {}
      },
      "cell_type": "code",
      "source": [
        "!rm -r Sound-Datasets"
      ],
      "execution_count": 0,
      "outputs": []
    },
    {
      "metadata": {
        "id": "71VirOXNuHry",
        "colab_type": "text"
      },
      "cell_type": "markdown",
      "source": [
        "Train model for Urban Sounds"
      ]
    },
    {
      "metadata": {
        "id": "Z822jlEFexVi",
        "colab_type": "code",
        "outputId": "5c11822e-31c8-4f7e-8d28-f8e0a7ff8239",
        "colab": {
          "base_uri": "https://localhost:8080/",
          "height": 3896
        }
      },
      "cell_type": "code",
      "source": [
        "!python ML-KWS-for-MCU/train.py \\\n",
        "--data_url= none  \\\n",
        "--data_dir combined_datasets/ \\\n",
        "--summaries_dir work/DS_CNN_UrbanSounds/DS_CNN1/retrain_logs \\\n",
        "--train_dir work/DS_CNN_Speech/DS_CNN1/training \\\n",
        "--clip_duration_ms $TIME_CLIP  \\\n",
        "--window_size_ms 40.0 \\\n",
        "--window_stride_ms 20.0 \\\n",
        "--dct_coefficient_count 10 \\\n",
        "--testing_percentage 10 \\\n",
        "--sample_rate $SAMPLE_RATE \\\n",
        "--batch_size 100 \\\n",
        "--save_step_interval 200 \\\n",
        "--eval_step_interval 400 \\\n",
        "--validation_percentage 10 \\\n",
        "--unknown_percentage 10.0 \\\n",
        "--silence_percentage 10.0 \\\n",
        "--how_many_training_steps $TRAIN_STEPS  \\\n",
        "--model_size_info $MODEL_SIZE \\\n",
        "--wanted_words=$URBAN_8KWORDS \\\n",
        "#--start_checkpoint work/DS_CNN_UrbanSounds/DS_CNN1/training/best/ds_cnn_7076.ckpt-9600"
      ],
      "execution_count": 10,
      "outputs": [
        {
          "output_type": "stream",
          "text": [
            "2019-05-12 19:10:06.866452: I tensorflow/core/platform/profile_utils/cpu_utils.cc:94] CPU Frequency: 2200000000 Hz\n",
            "2019-05-12 19:10:06.866730: I tensorflow/compiler/xla/service/service.cc:150] XLA service 0x5648d673ec00 executing computations on platform Host. Devices:\n",
            "2019-05-12 19:10:06.866762: I tensorflow/compiler/xla/service/service.cc:158]   StreamExecutor device (0): <undefined>, <undefined>\n",
            "2019-05-12 19:10:07.113345: I tensorflow/stream_executor/cuda/cuda_gpu_executor.cc:998] successful NUMA node read from SysFS had negative value (-1), but there must be at least one NUMA node, so returning NUMA node zero\n",
            "2019-05-12 19:10:07.113856: I tensorflow/compiler/xla/service/service.cc:150] XLA service 0x5648d673fc80 executing computations on platform CUDA. Devices:\n",
            "2019-05-12 19:10:07.113884: I tensorflow/compiler/xla/service/service.cc:158]   StreamExecutor device (0): Tesla T4, Compute Capability 7.5\n",
            "2019-05-12 19:10:07.114210: I tensorflow/core/common_runtime/gpu/gpu_device.cc:1433] Found device 0 with properties: \n",
            "name: Tesla T4 major: 7 minor: 5 memoryClockRate(GHz): 1.59\n",
            "pciBusID: 0000:00:04.0\n",
            "totalMemory: 14.73GiB freeMemory: 14.60GiB\n",
            "2019-05-12 19:10:07.114232: I tensorflow/core/common_runtime/gpu/gpu_device.cc:1512] Adding visible gpu devices: 0\n",
            "2019-05-12 19:10:08.497280: I tensorflow/core/common_runtime/gpu/gpu_device.cc:984] Device interconnect StreamExecutor with strength 1 edge matrix:\n",
            "2019-05-12 19:10:08.497345: I tensorflow/core/common_runtime/gpu/gpu_device.cc:990]      0 \n",
            "2019-05-12 19:10:08.497370: I tensorflow/core/common_runtime/gpu/gpu_device.cc:1003] 0:   N \n",
            "2019-05-12 19:10:08.497692: I tensorflow/core/common_runtime/gpu/gpu_device.cc:1115] Created TensorFlow device (/job:localhost/replica:0/task:0/device:GPU:0 with 14115 MB memory) -> physical GPU (device: 0, name: Tesla T4, pci bus id: 0000:00:04.0, compute capability: 7.5)\n",
            "2019-05-12 19:10:08.686165: I tensorflow/core/common_runtime/gpu/gpu_device.cc:1512] Adding visible gpu devices: 0\n",
            "2019-05-12 19:10:08.686219: I tensorflow/core/common_runtime/gpu/gpu_device.cc:984] Device interconnect StreamExecutor with strength 1 edge matrix:\n",
            "2019-05-12 19:10:08.686235: I tensorflow/core/common_runtime/gpu/gpu_device.cc:990]      0 \n",
            "2019-05-12 19:10:08.686248: I tensorflow/core/common_runtime/gpu/gpu_device.cc:1003] 0:   N \n",
            "2019-05-12 19:10:08.686486: I tensorflow/core/common_runtime/gpu/gpu_device.cc:1115] Created TensorFlow device (/job:localhost/replica:0/task:0/device:GPU:0 with 14115 MB memory) -> physical GPU (device: 0, name: Tesla T4, pci bus id: 0000:00:04.0, compute capability: 7.5)\n",
            "WARNING:tensorflow:From /usr/local/lib/python2.7/dist-packages/tensorflow/python/framework/op_def_library.py:263: colocate_with (from tensorflow.python.framework.ops) is deprecated and will be removed in a future version.\n",
            "Instructions for updating:\n",
            "Colocations handled automatically by placer.\n",
            "WARNING:tensorflow:From ML-KWS-for-MCU/train.py:156: softmax_cross_entropy_with_logits (from tensorflow.python.ops.nn_ops) is deprecated and will be removed in a future version.\n",
            "Instructions for updating:\n",
            "\n",
            "Future major versions of TensorFlow will allow gradients to flow\n",
            "into the labels input on backprop by default.\n",
            "\n",
            "See `tf.nn.softmax_cross_entropy_with_logits_v2`.\n",
            "\n",
            "WARNING:tensorflow:From /usr/local/lib/python2.7/dist-packages/tensorflow/python/ops/confusion_matrix.py:193: to_int64 (from tensorflow.python.ops.math_ops) is deprecated and will be removed in a future version.\n",
            "Instructions for updating:\n",
            "Use tf.cast instead.\n",
            "WARNING:tensorflow:From /usr/local/lib/python2.7/dist-packages/tensorflow/python/ops/confusion_matrix.py:194: to_int32 (from tensorflow.python.ops.math_ops) is deprecated and will be removed in a future version.\n",
            "Instructions for updating:\n",
            "Use tf.cast instead.\n",
            "Total number of Parameters:  22660\n",
            "INFO:tensorflow:Training from step: 1 \n",
            "2019-05-12 19:10:10.881931: I tensorflow/stream_executor/dso_loader.cc:152] successfully opened CUDA library libcublas.so.10.0 locally\n",
            "INFO:tensorflow:Confusion Matrix:\n",
            " [[14  0  0  0]\n",
            " [ 1  9  4  0]\n",
            " [ 5  3 87  4]\n",
            " [ 1  3  2 35]]\n",
            "INFO:tensorflow:Step 400: Validation accuracy = 86.31% (N=168)\n",
            "INFO:tensorflow:Saving best model to \"work/DS_CNN_Speech/DS_CNN1/training/best/ds_cnn_8630.ckpt-400\"\n",
            "INFO:tensorflow:So far the best validation accuracy is 86.31%\n",
            "INFO:tensorflow:Confusion Matrix:\n",
            " [[14  0  0  0]\n",
            " [ 1  9  4  0]\n",
            " [ 5  3 88  3]\n",
            " [ 1  1  3 36]]\n",
            "INFO:tensorflow:Step 800: Validation accuracy = 87.50% (N=168)\n",
            "INFO:tensorflow:Saving best model to \"work/DS_CNN_Speech/DS_CNN1/training/best/ds_cnn_8750.ckpt-800\"\n",
            "INFO:tensorflow:So far the best validation accuracy is 87.50%\n",
            "INFO:tensorflow:Confusion Matrix:\n",
            " [[14  0  0  0]\n",
            " [ 1  9  3  1]\n",
            " [ 5  4 87  3]\n",
            " [ 1  0  2 38]]\n",
            "INFO:tensorflow:Step 1200: Validation accuracy = 88.10% (N=168)\n",
            "INFO:tensorflow:Saving best model to \"work/DS_CNN_Speech/DS_CNN1/training/best/ds_cnn_8809.ckpt-1200\"\n",
            "INFO:tensorflow:So far the best validation accuracy is 88.10%\n",
            "INFO:tensorflow:Confusion Matrix:\n",
            " [[14  0  0  0]\n",
            " [ 1  9  2  2]\n",
            " [ 5  3 89  2]\n",
            " [ 1  1  2 37]]\n",
            "INFO:tensorflow:Step 1600: Validation accuracy = 88.69% (N=168)\n",
            "INFO:tensorflow:Saving best model to \"work/DS_CNN_Speech/DS_CNN1/training/best/ds_cnn_8869.ckpt-1600\"\n",
            "INFO:tensorflow:So far the best validation accuracy is 88.69%\n",
            "INFO:tensorflow:Confusion Matrix:\n",
            " [[14  0  0  0]\n",
            " [ 1  4  8  1]\n",
            " [ 5  5 88  1]\n",
            " [ 1  1  1 38]]\n",
            "INFO:tensorflow:Step 2000: Validation accuracy = 85.71% (N=168)\n",
            "INFO:tensorflow:So far the best validation accuracy is 88.69%\n",
            "INFO:tensorflow:Confusion Matrix:\n",
            " [[14  0  0  0]\n",
            " [ 1  4  8  1]\n",
            " [ 5  5 86  3]\n",
            " [ 1  2  1 37]]\n",
            "INFO:tensorflow:Step 2400: Validation accuracy = 83.93% (N=168)\n",
            "INFO:tensorflow:So far the best validation accuracy is 88.69%\n",
            "INFO:tensorflow:Confusion Matrix:\n",
            " [[14  0  0  0]\n",
            " [ 1  4  8  1]\n",
            " [ 5  4 89  1]\n",
            " [ 1  0  0 40]]\n",
            "INFO:tensorflow:Step 2800: Validation accuracy = 87.50% (N=168)\n",
            "INFO:tensorflow:So far the best validation accuracy is 88.69%\n",
            "INFO:tensorflow:Confusion Matrix:\n",
            " [[14  0  0  0]\n",
            " [ 1  7  4  2]\n",
            " [ 5  4 89  1]\n",
            " [ 1  0  1 39]]\n",
            "INFO:tensorflow:Step 3200: Validation accuracy = 88.69% (N=168)\n",
            "INFO:tensorflow:Saving best model to \"work/DS_CNN_Speech/DS_CNN1/training/best/ds_cnn_8869.ckpt-3200\"\n",
            "INFO:tensorflow:So far the best validation accuracy is 88.69%\n",
            "INFO:tensorflow:Confusion Matrix:\n",
            " [[14  0  0  0]\n",
            " [ 1  7  6  0]\n",
            " [ 5  5 89  0]\n",
            " [ 1  1  2 37]]\n",
            "INFO:tensorflow:Step 3600: Validation accuracy = 87.50% (N=168)\n",
            "INFO:tensorflow:So far the best validation accuracy is 88.69%\n",
            "INFO:tensorflow:Confusion Matrix:\n",
            " [[14  0  0  0]\n",
            " [ 1  4  8  1]\n",
            " [ 5  5 87  2]\n",
            " [ 1  0  1 39]]\n",
            "INFO:tensorflow:Step 4000: Validation accuracy = 85.71% (N=168)\n",
            "INFO:tensorflow:So far the best validation accuracy is 88.69%\n",
            "INFO:tensorflow:Confusion Matrix:\n",
            " [[14  0  0  0]\n",
            " [ 1  4  8  1]\n",
            " [ 5  3 90  1]\n",
            " [ 1  1  1 38]]\n",
            "INFO:tensorflow:Step 4400: Validation accuracy = 86.90% (N=168)\n",
            "INFO:tensorflow:So far the best validation accuracy is 88.69%\n",
            "INFO:tensorflow:Confusion Matrix:\n",
            " [[14  0  0  0]\n",
            " [ 1  5  6  2]\n",
            " [ 5  4 90  0]\n",
            " [ 1  0  1 39]]\n",
            "INFO:tensorflow:Step 4800: Validation accuracy = 88.10% (N=168)\n",
            "INFO:tensorflow:So far the best validation accuracy is 88.69%\n",
            "INFO:tensorflow:Confusion Matrix:\n",
            " [[14  0  0  0]\n",
            " [ 1  6  5  2]\n",
            " [ 5  6 87  1]\n",
            " [ 1  0  0 40]]\n",
            "INFO:tensorflow:Step 5200: Validation accuracy = 87.50% (N=168)\n",
            "INFO:tensorflow:So far the best validation accuracy is 88.69%\n",
            "INFO:tensorflow:Confusion Matrix:\n",
            " [[14  0  0  0]\n",
            " [ 1  5  7  1]\n",
            " [ 5  5 89  0]\n",
            " [ 1  0  0 40]]\n",
            "INFO:tensorflow:Step 5600: Validation accuracy = 88.10% (N=168)\n",
            "INFO:tensorflow:So far the best validation accuracy is 88.69%\n",
            "INFO:tensorflow:Confusion Matrix:\n",
            " [[14  0  0  0]\n",
            " [ 1  6  5  2]\n",
            " [ 5  6 88  0]\n",
            " [ 1  0  1 39]]\n",
            "INFO:tensorflow:Step 6000: Validation accuracy = 87.50% (N=168)\n",
            "INFO:tensorflow:So far the best validation accuracy is 88.69%\n",
            "INFO:tensorflow:Confusion Matrix:\n",
            " [[14  0  0  0]\n",
            " [ 1  5  7  1]\n",
            " [ 5  6 87  1]\n",
            " [ 1  0  0 40]]\n",
            "INFO:tensorflow:Step 6400: Validation accuracy = 86.90% (N=168)\n",
            "INFO:tensorflow:So far the best validation accuracy is 88.69%\n",
            "INFO:tensorflow:Confusion Matrix:\n",
            " [[14  0  0  0]\n",
            " [ 1  5  7  1]\n",
            " [ 5  6 88  0]\n",
            " [ 1  0  1 39]]\n",
            "INFO:tensorflow:Step 6800: Validation accuracy = 86.90% (N=168)\n",
            "INFO:tensorflow:So far the best validation accuracy is 88.69%\n",
            "INFO:tensorflow:Confusion Matrix:\n",
            " [[14  0  0  0]\n",
            " [ 1  5  5  3]\n",
            " [ 5  4 90  0]\n",
            " [ 1  0  0 40]]\n",
            "INFO:tensorflow:Step 7200: Validation accuracy = 88.69% (N=168)\n",
            "INFO:tensorflow:So far the best validation accuracy is 88.69%\n",
            "INFO:tensorflow:Confusion Matrix:\n",
            " [[14  0  0  0]\n",
            " [ 1  5  7  1]\n",
            " [ 5  5 88  1]\n",
            " [ 1  0  0 40]]\n",
            "INFO:tensorflow:Step 7600: Validation accuracy = 87.50% (N=168)\n",
            "INFO:tensorflow:So far the best validation accuracy is 88.69%\n",
            "INFO:tensorflow:Confusion Matrix:\n",
            " [[14  0  0  0]\n",
            " [ 1  5  7  1]\n",
            " [ 5  5 88  1]\n",
            " [ 1  0  2 38]]\n",
            "INFO:tensorflow:Step 8000: Validation accuracy = 86.31% (N=168)\n",
            "INFO:tensorflow:So far the best validation accuracy is 88.69%\n",
            "INFO:tensorflow:Confusion Matrix:\n",
            " [[14  0  0  0]\n",
            " [ 1  5  7  1]\n",
            " [ 5  4 89  1]\n",
            " [ 1  0  1 39]]\n",
            "INFO:tensorflow:Step 8400: Validation accuracy = 87.50% (N=168)\n",
            "INFO:tensorflow:So far the best validation accuracy is 88.69%\n",
            "INFO:tensorflow:Confusion Matrix:\n",
            " [[14  0  0  0]\n",
            " [ 1  5  7  1]\n",
            " [ 5  4 89  1]\n",
            " [ 1  0  0 40]]\n",
            "INFO:tensorflow:Step 8800: Validation accuracy = 88.10% (N=168)\n",
            "INFO:tensorflow:So far the best validation accuracy is 88.69%\n",
            "INFO:tensorflow:Confusion Matrix:\n",
            " [[14  0  0  0]\n",
            " [ 1  5  7  1]\n",
            " [ 5  4 89  1]\n",
            " [ 1  0  0 40]]\n",
            "INFO:tensorflow:Step 9200: Validation accuracy = 88.10% (N=168)\n",
            "INFO:tensorflow:So far the best validation accuracy is 88.69%\n",
            "INFO:tensorflow:Confusion Matrix:\n",
            " [[14  0  0  0]\n",
            " [ 1  5  7  1]\n",
            " [ 5  4 89  1]\n",
            " [ 1  0  0 40]]\n",
            "INFO:tensorflow:Step 9600: Validation accuracy = 88.10% (N=168)\n",
            "INFO:tensorflow:So far the best validation accuracy is 88.69%\n",
            "INFO:tensorflow:Confusion Matrix:\n",
            " [[14  0  0  0]\n",
            " [ 1  5  7  1]\n",
            " [ 5  4 89  1]\n",
            " [ 1  0  0 40]]\n",
            "INFO:tensorflow:Step 10000: Validation accuracy = 88.10% (N=168)\n",
            "INFO:tensorflow:So far the best validation accuracy is 88.69%\n",
            "INFO:tensorflow:set_size=179\n",
            "INFO:tensorflow:Confusion Matrix:\n",
            " [[ 15   0   0   0]\n",
            " [  2   5   7   1]\n",
            " [  6   5 102   2]\n",
            " [  1   0   0  33]]\n",
            "INFO:tensorflow:Final test accuracy = 86.59% (N=179)\n"
          ],
          "name": "stdout"
        }
      ]
    },
    {
      "metadata": {
        "id": "ik3putR0BJUo",
        "colab_type": "code",
        "colab": {
          "base_uri": "https://localhost:8080/",
          "height": 972
        },
        "outputId": "3fb72406-6bf8-4210-d1e5-a955c1cf35d1"
      },
      "cell_type": "code",
      "source": [
        "!python ML-KWS-for-MCU/test.py \\\n",
        "--data_url= none  \\\n",
        "--data_dir combined_datasets/ \\\n",
        "--train_dir work/DS_CNN_Speech/DS_CNN1/training \\\n",
        "--summaries_dir work/DS_CNN_UrbanSounds/DS_CNN1/retrain_logs \\\n",
        "--clip_duration_ms $TIME_CLIP  \\\n",
        "--window_size_ms 40.0 \\\n",
        "--window_stride_ms 20.0 \\\n",
        "--background_frequency 0.3 \\\n",
        "--dct_coefficient_count 10 \\\n",
        "--testing_percentage 10 \\\n",
        "--sample_rate $SAMPLE_RATE \\\n",
        "--batch_size 100 \\\n",
        "--validation_percentage 10 \\\n",
        "--unknown_percentage 10.0 \\\n",
        "--silence_percentage 10.0 \\\n",
        "--how_many_training_steps $TRAIN_STEPS  \\\n",
        "--model_size_info $MODEL_SIZE \\\n",
        "--checkpoint work/DS_CNN_Speech/DS_CNN1/training/best/ds_cnn_8869.ckpt-3200 \\\n",
        "--wanted_words=$URBAN_8KWORDS"
      ],
      "execution_count": 13,
      "outputs": [
        {
          "output_type": "stream",
          "text": [
            "2019-05-12 21:34:00.202650: I tensorflow/core/platform/profile_utils/cpu_utils.cc:94] CPU Frequency: 2200000000 Hz\n",
            "2019-05-12 21:34:00.202841: I tensorflow/compiler/xla/service/service.cc:150] XLA service 0x560e7a7de520 executing computations on platform Host. Devices:\n",
            "2019-05-12 21:34:00.202869: I tensorflow/compiler/xla/service/service.cc:158]   StreamExecutor device (0): <undefined>, <undefined>\n",
            "2019-05-12 21:34:00.358036: I tensorflow/stream_executor/cuda/cuda_gpu_executor.cc:998] successful NUMA node read from SysFS had negative value (-1), but there must be at least one NUMA node, so returning NUMA node zero\n",
            "2019-05-12 21:34:00.358531: I tensorflow/compiler/xla/service/service.cc:150] XLA service 0x560e7a7dfde0 executing computations on platform CUDA. Devices:\n",
            "2019-05-12 21:34:00.358561: I tensorflow/compiler/xla/service/service.cc:158]   StreamExecutor device (0): Tesla T4, Compute Capability 7.5\n",
            "2019-05-12 21:34:00.358888: I tensorflow/core/common_runtime/gpu/gpu_device.cc:1433] Found device 0 with properties: \n",
            "name: Tesla T4 major: 7 minor: 5 memoryClockRate(GHz): 1.59\n",
            "pciBusID: 0000:00:04.0\n",
            "totalMemory: 14.73GiB freeMemory: 14.60GiB\n",
            "2019-05-12 21:34:00.358915: I tensorflow/core/common_runtime/gpu/gpu_device.cc:1512] Adding visible gpu devices: 0\n",
            "2019-05-12 21:34:00.792994: I tensorflow/core/common_runtime/gpu/gpu_device.cc:984] Device interconnect StreamExecutor with strength 1 edge matrix:\n",
            "2019-05-12 21:34:00.793057: I tensorflow/core/common_runtime/gpu/gpu_device.cc:990]      0 \n",
            "2019-05-12 21:34:00.793069: I tensorflow/core/common_runtime/gpu/gpu_device.cc:1003] 0:   N \n",
            "2019-05-12 21:34:00.793332: I tensorflow/core/common_runtime/gpu/gpu_device.cc:1115] Created TensorFlow device (/job:localhost/replica:0/task:0/device:GPU:0 with 14115 MB memory) -> physical GPU (device: 0, name: Tesla T4, pci bus id: 0000:00:04.0, compute capability: 7.5)\n",
            "2019-05-12 21:34:00.972916: I tensorflow/core/common_runtime/gpu/gpu_device.cc:1512] Adding visible gpu devices: 0\n",
            "2019-05-12 21:34:00.973002: I tensorflow/core/common_runtime/gpu/gpu_device.cc:984] Device interconnect StreamExecutor with strength 1 edge matrix:\n",
            "2019-05-12 21:34:00.973017: I tensorflow/core/common_runtime/gpu/gpu_device.cc:990]      0 \n",
            "2019-05-12 21:34:00.973030: I tensorflow/core/common_runtime/gpu/gpu_device.cc:1003] 0:   N \n",
            "2019-05-12 21:34:00.973290: I tensorflow/core/common_runtime/gpu/gpu_device.cc:1115] Created TensorFlow device (/job:localhost/replica:0/task:0/device:GPU:0 with 14115 MB memory) -> physical GPU (device: 0, name: Tesla T4, pci bus id: 0000:00:04.0, compute capability: 7.5)\n",
            "WARNING:tensorflow:From /usr/local/lib/python2.7/dist-packages/tensorflow/python/framework/op_def_library.py:263: colocate_with (from tensorflow.python.framework.ops) is deprecated and will be removed in a future version.\n",
            "Instructions for updating:\n",
            "Colocations handled automatically by placer.\n",
            "WARNING:tensorflow:From /usr/local/lib/python2.7/dist-packages/tensorflow/python/ops/confusion_matrix.py:193: to_int64 (from tensorflow.python.ops.math_ops) is deprecated and will be removed in a future version.\n",
            "Instructions for updating:\n",
            "Use tf.cast instead.\n",
            "WARNING:tensorflow:From /usr/local/lib/python2.7/dist-packages/tensorflow/python/ops/confusion_matrix.py:194: to_int32 (from tensorflow.python.ops.math_ops) is deprecated and will be removed in a future version.\n",
            "Instructions for updating:\n",
            "Use tf.cast instead.\n",
            "WARNING:tensorflow:From /usr/local/lib/python2.7/dist-packages/tensorflow/python/training/saver.py:1266: checkpoint_exists (from tensorflow.python.training.checkpoint_management) is deprecated and will be removed in a future version.\n",
            "Instructions for updating:\n",
            "Use standard file APIs to check for files with this prefix.\n",
            "INFO:tensorflow:Restoring parameters from work/DS_CNN_Speech/DS_CNN1/training/best/ds_cnn_8869.ckpt-3200\n",
            "INFO:tensorflow:set_size=1303\n",
            "2019-05-12 21:34:01.590795: I tensorflow/stream_executor/dso_loader.cc:152] successfully opened CUDA library libcublas.so.10.0 locally\n",
            "INFO:tensorflow:Confusion Matrix:\n",
            " [[122   0   0   0]\n",
            " [  6 101   3   0]\n",
            " [ 18   0 756   0]\n",
            " [  4   0   0 293]]\n",
            "INFO:tensorflow:Training accuracy = 97.62% (N=1303)\n",
            "INFO:tensorflow:set_size=168\n",
            "INFO:tensorflow:Confusion Matrix:\n",
            " [[14  0  0  0]\n",
            " [ 1  8  4  1]\n",
            " [ 5  5 89  0]\n",
            " [ 1  0  3 37]]\n",
            "INFO:tensorflow:Validation accuracy = 88.10% (N=168)\n",
            "INFO:tensorflow:set_size=179\n",
            "INFO:tensorflow:Confusion Matrix:\n",
            " [[ 15   0   0   0]\n",
            " [  2   4   7   2]\n",
            " [  6   5 102   2]\n",
            " [  1   0   0  33]]\n",
            "INFO:tensorflow:Test accuracy = 86.03% (N=179)\n"
          ],
          "name": "stdout"
        }
      ]
    },
    {
      "metadata": {
        "id": "hRfQ0GcI5o1K",
        "colab_type": "text"
      },
      "cell_type": "markdown",
      "source": [
        ""
      ]
    },
    {
      "metadata": {
        "id": "ozFTretQuXQB",
        "colab_type": "text"
      },
      "cell_type": "markdown",
      "source": [
        "Freeze graph to protobuf file"
      ]
    },
    {
      "metadata": {
        "id": "WYgQzQyCjZSY",
        "colab_type": "code",
        "colab": {
          "base_uri": "https://localhost:8080/",
          "height": 496
        },
        "outputId": "1195da42-72ff-4bf4-952e-a8fe5e41c2c4"
      },
      "cell_type": "code",
      "source": [
        "!python ML-KWS-for-MCU/freeze.py \\\n",
        "--clip_duration_ms $TIME_CLIP  \\\n",
        "--window_size_ms 40.0 \\\n",
        "--window_stride_ms 20.0 \\\n",
        "--dct_coefficient_count 10 \\\n",
        "--sample_rate $SAMPLE_RATE \\\n",
        "--model_size_info $MODEL_SIZE  \\\n",
        "--checkpoint work/DS_CNN_Speech/DS_CNN1/training/best/ds_cnn_8869.ckpt-3200 \\\n",
        "--output_file urban_combined_dscnn.pb  \\\n",
        "--wanted_words $URBAN_8KWORDS\n"
      ],
      "execution_count": 14,
      "outputs": [
        {
          "output_type": "stream",
          "text": [
            "2019-05-12 21:34:59.571572: I tensorflow/core/platform/profile_utils/cpu_utils.cc:94] CPU Frequency: 2200000000 Hz\n",
            "2019-05-12 21:34:59.571864: I tensorflow/compiler/xla/service/service.cc:150] XLA service 0x55b1a733b700 executing computations on platform Host. Devices:\n",
            "2019-05-12 21:34:59.571916: I tensorflow/compiler/xla/service/service.cc:158]   StreamExecutor device (0): <undefined>, <undefined>\n",
            "2019-05-12 21:34:59.763372: I tensorflow/stream_executor/cuda/cuda_gpu_executor.cc:998] successful NUMA node read from SysFS had negative value (-1), but there must be at least one NUMA node, so returning NUMA node zero\n",
            "2019-05-12 21:34:59.764018: I tensorflow/compiler/xla/service/service.cc:150] XLA service 0x55b1a733b020 executing computations on platform CUDA. Devices:\n",
            "2019-05-12 21:34:59.764069: I tensorflow/compiler/xla/service/service.cc:158]   StreamExecutor device (0): Tesla T4, Compute Capability 7.5\n",
            "2019-05-12 21:34:59.764435: I tensorflow/core/common_runtime/gpu/gpu_device.cc:1433] Found device 0 with properties: \n",
            "name: Tesla T4 major: 7 minor: 5 memoryClockRate(GHz): 1.59\n",
            "pciBusID: 0000:00:04.0\n",
            "totalMemory: 14.73GiB freeMemory: 14.60GiB\n",
            "2019-05-12 21:34:59.764462: I tensorflow/core/common_runtime/gpu/gpu_device.cc:1512] Adding visible gpu devices: 0\n",
            "2019-05-12 21:35:00.191182: I tensorflow/core/common_runtime/gpu/gpu_device.cc:984] Device interconnect StreamExecutor with strength 1 edge matrix:\n",
            "2019-05-12 21:35:00.191244: I tensorflow/core/common_runtime/gpu/gpu_device.cc:990]      0 \n",
            "2019-05-12 21:35:00.191255: I tensorflow/core/common_runtime/gpu/gpu_device.cc:1003] 0:   N \n",
            "2019-05-12 21:35:00.191543: I tensorflow/core/common_runtime/gpu/gpu_device.cc:1115] Created TensorFlow device (/job:localhost/replica:0/task:0/device:GPU:0 with 14115 MB memory) -> physical GPU (device: 0, name: Tesla T4, pci bus id: 0000:00:04.0, compute capability: 7.5)\n",
            "WARNING:tensorflow:From /usr/local/lib/python2.7/dist-packages/tensorflow/python/framework/op_def_library.py:263: colocate_with (from tensorflow.python.framework.ops) is deprecated and will be removed in a future version.\n",
            "Instructions for updating:\n",
            "Colocations handled automatically by placer.\n",
            "WARNING:tensorflow:From /usr/local/lib/python2.7/dist-packages/tensorflow/python/training/saver.py:1266: checkpoint_exists (from tensorflow.python.training.checkpoint_management) is deprecated and will be removed in a future version.\n",
            "Instructions for updating:\n",
            "Use standard file APIs to check for files with this prefix.\n",
            "WARNING:tensorflow:From ML-KWS-for-MCU/freeze.py:128: convert_variables_to_constants (from tensorflow.python.framework.graph_util_impl) is deprecated and will be removed in a future version.\n",
            "Instructions for updating:\n",
            "Use tf.compat.v1.graph_util.convert_variables_to_constants\n",
            "WARNING:tensorflow:From /usr/local/lib/python2.7/dist-packages/tensorflow/python/framework/graph_util_impl.py:245: extract_sub_graph (from tensorflow.python.framework.graph_util_impl) is deprecated and will be removed in a future version.\n",
            "Instructions for updating:\n",
            "Use tf.compat.v1.graph_util.extract_sub_graph\n"
          ],
          "name": "stdout"
        }
      ]
    },
    {
      "metadata": {
        "id": "wU2DqZwG-iIN",
        "colab_type": "code",
        "colab": {}
      },
      "cell_type": "code",
      "source": [
        "!python tflite_convert \\\n",
        "  --output_file=/tmp/mobilenet_v1_1.0_224.tflite \\\n",
        "  --graph_def_file=/tmp/mobilenet_v1_0.50_128/frozen_graph.pb \\\n",
        "  --input_arrays=input \\\n",
        "  --output_arrays=MobilenetV1/Predictions/Reshape_1"
      ],
      "execution_count": 0,
      "outputs": []
    },
    {
      "metadata": {
        "id": "H6dF319Tre0H",
        "colab_type": "text"
      },
      "cell_type": "markdown",
      "source": [
        "Test protobuf file\n",
        "URBAN_WORDS=clock_alarm,sneezing,crying_baby,door_knock,drinking_sipping,dog,coughing,vacuum_cleaner,glass_breaking,laughing"
      ]
    },
    {
      "metadata": {
        "id": "hnEhGsHgjbsc",
        "colab_type": "code",
        "colab": {
          "base_uri": "https://localhost:8080/",
          "height": 445
        },
        "outputId": "5f0c1d40-a475-41ca-90c6-66cc26f7f295"
      },
      "cell_type": "code",
      "source": [
        "!python ML-KWS-for-MCU/label_wav.py \\\n",
        "--wav /content/combined_datasets/glass_breaking/2-250710-A.wav \\\n",
        "--graph /content/urban_combined_dscnn.pb \\\n",
        "--labels /content/work/DS_CNN_Speech/DS_CNN1/training/ds_cnn_labels.txt \\\n",
        "--how_many_labels 10"
      ],
      "execution_count": 20,
      "outputs": [
        {
          "output_type": "stream",
          "text": [
            "WARNING:tensorflow:From ML-KWS-for-MCU/label_wav.py:48: __init__ (from tensorflow.python.platform.gfile) is deprecated and will be removed in a future version.\n",
            "Instructions for updating:\n",
            "Use tf.gfile.GFile.\n",
            "2019-05-12 21:39:31.839654: I tensorflow/core/platform/profile_utils/cpu_utils.cc:94] CPU Frequency: 2200000000 Hz\n",
            "2019-05-12 21:39:31.839844: I tensorflow/compiler/xla/service/service.cc:150] XLA service 0x55bf4c8115a0 executing computations on platform Host. Devices:\n",
            "2019-05-12 21:39:31.839873: I tensorflow/compiler/xla/service/service.cc:158]   StreamExecutor device (0): <undefined>, <undefined>\n",
            "2019-05-12 21:39:31.993727: I tensorflow/stream_executor/cuda/cuda_gpu_executor.cc:998] successful NUMA node read from SysFS had negative value (-1), but there must be at least one NUMA node, so returning NUMA node zero\n",
            "2019-05-12 21:39:31.994222: I tensorflow/compiler/xla/service/service.cc:150] XLA service 0x55bf4c810ec0 executing computations on platform CUDA. Devices:\n",
            "2019-05-12 21:39:31.994252: I tensorflow/compiler/xla/service/service.cc:158]   StreamExecutor device (0): Tesla T4, Compute Capability 7.5\n",
            "2019-05-12 21:39:31.994637: I tensorflow/core/common_runtime/gpu/gpu_device.cc:1433] Found device 0 with properties: \n",
            "name: Tesla T4 major: 7 minor: 5 memoryClockRate(GHz): 1.59\n",
            "pciBusID: 0000:00:04.0\n",
            "totalMemory: 14.73GiB freeMemory: 14.60GiB\n",
            "2019-05-12 21:39:31.994670: I tensorflow/core/common_runtime/gpu/gpu_device.cc:1512] Adding visible gpu devices: 0\n",
            "2019-05-12 21:39:32.422368: I tensorflow/core/common_runtime/gpu/gpu_device.cc:984] Device interconnect StreamExecutor with strength 1 edge matrix:\n",
            "2019-05-12 21:39:32.422441: I tensorflow/core/common_runtime/gpu/gpu_device.cc:990]      0 \n",
            "2019-05-12 21:39:32.422474: I tensorflow/core/common_runtime/gpu/gpu_device.cc:1003] 0:   N \n",
            "2019-05-12 21:39:32.422754: W tensorflow/core/common_runtime/gpu/gpu_bfc_allocator.cc:42] Overriding allow_growth setting because the TF_FORCE_GPU_ALLOW_GROWTH environment variable is set. Original config value was 0.\n",
            "2019-05-12 21:39:32.422798: I tensorflow/core/common_runtime/gpu/gpu_device.cc:1115] Created TensorFlow device (/job:localhost/replica:0/task:0/device:GPU:0 with 14115 MB memory) -> physical GPU (device: 0, name: Tesla T4, pci bus id: 0000:00:04.0, compute capability: 7.5)\n",
            "2019-05-12 21:39:32.460580: I tensorflow/stream_executor/dso_loader.cc:152] successfully opened CUDA library libcublas.so.10.0 locally\n",
            "dog_bark (score = 0.69004)\n",
            "gun_shot (score = 0.22901)\n",
            "_unknown_ (score = 0.07790)\n",
            "_silence_ (score = 0.00305)\n"
          ],
          "name": "stdout"
        }
      ]
    },
    {
      "metadata": {
        "id": "lNahajMeudXH",
        "colab_type": "text"
      },
      "cell_type": "markdown",
      "source": [
        "Fold Batchnorm (needed for quantization of ds-cnn)"
      ]
    },
    {
      "metadata": {
        "id": "NQFFkKLAaLTw",
        "colab_type": "code",
        "colab": {}
      },
      "cell_type": "code",
      "source": [
        "!python ML-KWS-for-MCU/fold_batchnorm.py \\\n",
        "--summaries_dir work/DS_CNN/DS_CNN2/retrain_logs \\\n",
        "--train_dir work/DS_CNN/DS_CNN2/training \\\n",
        "--data_url= none  \\\n",
        "--data_dir Sound-Datasets/ESC50-downsampled_silence_dataset/ \\\n",
        "--clip_duration_ms $TIME_CLIP  \\\n",
        "--window_size_ms 40.0 \\\n",
        "--window_stride_ms 20.0 \\\n",
        "--dct_coefficient_count 10 \\\n",
        "--sample_rate $SAMPLE_RATE \\\n",
        "--batch_size 100 \\\n",
        "--save_step_interval 200 \\\n",
        "--eval_step_interval 400 \\\n",
        "--testing_percentage 10 \\\n",
        "--validation_percentage 10 \\\n",
        "--unknown_percentage 10.0 \\\n",
        "--silence_percentage 10.0 \\\n",
        "--model_size_info $MODEL_SIZE  \\\n",
        "--checkpoint work/DS_CNN_UrbanSounds/DS_CNN1/training/best/ds_cnn_7147.ckpt-29600 \\\n",
        "--wanted_words $URBAN8K_WORDS"
      ],
      "execution_count": 0,
      "outputs": []
    },
    {
      "metadata": {
        "id": "vueY3Jh1upj0",
        "colab_type": "text"
      },
      "cell_type": "markdown",
      "source": [
        "Quantize model to weights.h file"
      ]
    },
    {
      "metadata": {
        "id": "KP_OZCGOaCcz",
        "colab_type": "code",
        "colab": {}
      },
      "cell_type": "code",
      "source": [
        "!python ML-KWS-for-MCU/quant_test.py \\\n",
        "--summaries_dir work/DS_CNN/DS_CNN2/retrain_logs \\\n",
        "--train_dir work/DS_CNN/DS_CNN2/training \\\n",
        "--data_url= none  \\\n",
        "--data_dir Sound-Datasets/combined_datasets/ \\\n",
        "--clip_duration_ms $TIME_CLIP  \\\n",
        "--window_size_ms 40.0 \\\n",
        "--window_stride_ms 20.0 \\\n",
        "--dct_coefficient_count 10 \\\n",
        "--sample_rate $SAMPLE_RATE \\\n",
        "--batch_size 100 \\\n",
        "--save_step_interval 200 \\\n",
        "--eval_step_interval 400 \\\n",
        "--testing_percentage 10 \\\n",
        "--validation_percentage 10 \\\n",
        "--unknown_percentage 10.0 \\\n",
        "--silence_percentage 10.0 \\\n",
        "--model_size_info $MODEL_SIZE   \\\n",
        "--checkpoint work/DS_CNN_UrbanSounds/DS_CNN1/training/best/ds_cnn_7147.ckpt-29600_bnfused \\\n",
        "--wanted_words $URBAN8K_WORDS \\\n",
        "--act_max 32 32 32 32 32 32 32 32 32 32 32 32"
      ],
      "execution_count": 0,
      "outputs": []
    },
    {
      "metadata": {
        "id": "HG-LhQsWuzHG",
        "colab_type": "text"
      },
      "cell_type": "markdown",
      "source": [
        "Download weights.h"
      ]
    },
    {
      "metadata": {
        "id": "9VKYI14OMo5c",
        "colab_type": "code",
        "colab": {}
      },
      "cell_type": "code",
      "source": [
        "from google.colab import files\n",
        "\n",
        "files.download('weights.h')"
      ],
      "execution_count": 0,
      "outputs": []
    },
    {
      "metadata": {
        "id": "h04UYK1Aqa3Y",
        "colab_type": "code",
        "colab": {}
      },
      "cell_type": "code",
      "source": [
        ""
      ],
      "execution_count": 0,
      "outputs": []
    },
    {
      "metadata": {
        "id": "kCJVWFNmu4pE",
        "colab_type": "text"
      },
      "cell_type": "markdown",
      "source": [
        "Download model as tar file"
      ]
    },
    {
      "metadata": {
        "id": "mF5o-2mZbYpE",
        "colab_type": "code",
        "colab": {}
      },
      "cell_type": "code",
      "source": [
        "!tar -cvf dscnn_urban_Dataset3.tar /content/work/DS_CNN_UrbanSounds/\n",
        "!ls -l\n",
        "\n",
        "from google.colab import files\n",
        "\n",
        "files.download('dscnn_urban_Dataset3.tar')"
      ],
      "execution_count": 0,
      "outputs": []
    }
  ]
}