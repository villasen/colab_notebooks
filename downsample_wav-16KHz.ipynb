{
  "nbformat": 4,
  "nbformat_minor": 0,
  "metadata": {
    "colab": {
      "name": "downsample_wav.ipynb",
      "provenance": [],
      "collapsed_sections": [],
      "toc_visible": true,
      "include_colab_link": true
    },
    "kernelspec": {
      "name": "python3",
      "display_name": "Python 3"
    }
  },
  "cells": [
    {
      "cell_type": "markdown",
      "metadata": {
        "id": "view-in-github",
        "colab_type": "text"
      },
      "source": [
        "<a href=\"https://colab.research.google.com/github/villasen/colab_notebooks/blob/master/downsample_wav-16KHz.ipynb\" target=\"_parent\"><img src=\"https://colab.research.google.com/assets/colab-badge.svg\" alt=\"Open In Colab\"/></a>"
      ]
    },
    {
      "cell_type": "code",
      "metadata": {
        "id": "Gd9aCX62Gf7o",
        "colab_type": "code",
        "colab": {}
      },
      "source": [
        "!rm -r /content/Sound-Datasets"
      ],
      "execution_count": 0,
      "outputs": []
    },
    {
      "cell_type": "code",
      "metadata": {
        "id": "vjx8szL6ub52",
        "colab_type": "code",
        "colab": {}
      },
      "source": [
        "!git clone https://github.com/villasen/Sound-Datasets.git"
      ],
      "execution_count": 0,
      "outputs": []
    },
    {
      "cell_type": "code",
      "metadata": {
        "id": "8c3FniTeAIrV",
        "colab_type": "code",
        "outputId": "779143c1-28d9-4d05-f789-d7cbe69d326e",
        "colab": {
          "base_uri": "https://localhost:8080/",
          "height": 158
        }
      },
      "source": [
        "!git clone https://github.com/villasen/small-urban-sound-dataset"
      ],
      "execution_count": 0,
      "outputs": [
        {
          "output_type": "stream",
          "text": [
            "Cloning into 'small-urban-sound-dataset'...\n",
            "remote: Enumerating objects: 6489, done.\u001b[K\n",
            "remote: Counting objects: 100% (6489/6489), done.\u001b[K\n",
            "remote: Compressing objects: 100% (6487/6487), done.\u001b[K\n",
            "remote: Total 35111 (delta 2), reused 6489 (delta 2), pack-reused 28622\n",
            "Receiving objects: 100% (35111/35111), 986.16 MiB | 35.24 MiB/s, done.\n",
            "Resolving deltas: 100% (11000/11000), done.\n",
            "Checking out files: 100% (43821/43821), done.\n"
          ],
          "name": "stdout"
        }
      ]
    },
    {
      "cell_type": "code",
      "metadata": {
        "id": "ToaFm6qm8ivy",
        "colab_type": "code",
        "colab": {}
      },
      "source": [
        "!rm -r /content/downsampled_data_set"
      ],
      "execution_count": 0,
      "outputs": []
    },
    {
      "cell_type": "code",
      "metadata": {
        "id": "b0mEXdbGehrQ",
        "colab_type": "code",
        "outputId": "15f4fbf3-3f2d-4cf7-fc01-4937295e2af9",
        "colab": {
          "base_uri": "https://localhost:8080/",
          "height": 143
        }
      },
      "source": [
        "!pip install soundfile"
      ],
      "execution_count": 0,
      "outputs": [
        {
          "output_type": "stream",
          "text": [
            "Collecting soundfile\n",
            "  Downloading https://files.pythonhosted.org/packages/68/64/1191352221e2ec90db7492b4bf0c04fd9d2508de67b3f39cbf093cd6bd86/SoundFile-0.10.2-py2.py3-none-any.whl\n",
            "Requirement already satisfied: cffi>=1.0 in /usr/local/lib/python3.6/dist-packages (from soundfile) (1.13.0)\n",
            "Requirement already satisfied: pycparser in /usr/local/lib/python3.6/dist-packages (from cffi>=1.0->soundfile) (2.19)\n",
            "Installing collected packages: soundfile\n",
            "Successfully installed soundfile-0.10.2\n"
          ],
          "name": "stdout"
        }
      ]
    },
    {
      "cell_type": "code",
      "metadata": {
        "id": "90vcC0grQ4CZ",
        "colab_type": "code",
        "outputId": "3cc9d6a4-e348-403b-b886-ec1301e77b7d",
        "colab": {
          "base_uri": "https://localhost:8080/",
          "height": 107
        }
      },
      "source": [
        "!pip install sox\n",
        "#!pip install python-sox"
      ],
      "execution_count": 0,
      "outputs": [
        {
          "output_type": "stream",
          "text": [
            "Collecting sox\n",
            "  Downloading https://files.pythonhosted.org/packages/60/a0/5bee540554af8376e0313e462629d95bf2f2bc3c8cb60697aa01254e6cf5/sox-1.3.7-py2.py3-none-any.whl\n",
            "Installing collected packages: sox\n",
            "Successfully installed sox-1.3.7\n"
          ],
          "name": "stdout"
        }
      ]
    },
    {
      "cell_type": "code",
      "metadata": {
        "id": "vlXSZQnORPlN",
        "colab_type": "code",
        "outputId": "ad784ef9-1977-481a-bed5-bed03ea4e545",
        "colab": {
          "base_uri": "https://localhost:8080/",
          "height": 72
        }
      },
      "source": [
        "!rm -r /content/downsampled_data_set\n",
        "!rm -r /content/downsampled_ESC-50_splitted_data_set/\n",
        "import os\n",
        "import librosa\n",
        "import soundfile\n",
        "#import pysox"
      ],
      "execution_count": 0,
      "outputs": [
        {
          "output_type": "stream",
          "text": [
            "rm: cannot remove '/content/downsampled_data_set': No such file or directory\n",
            "rm: cannot remove '/content/downsampled_ESC-50_splitted_data_set/': No such file or directory\n"
          ],
          "name": "stdout"
        }
      ]
    },
    {
      "cell_type": "code",
      "metadata": {
        "id": "zDruIj0TR6bR",
        "colab_type": "code",
        "colab": {}
      },
      "source": [
        "os.chdir('/content/Sound-Datasets/ESC-50/Helicopter/')\n",
        "!ls\n",
        "librosa.effects.split()\n"
      ],
      "execution_count": 0,
      "outputs": []
    },
    {
      "cell_type": "markdown",
      "metadata": {
        "id": "lG7yh7iriRVw",
        "colab_type": "text"
      },
      "source": [
        "### Original dataset downsampling"
      ]
    },
    {
      "cell_type": "code",
      "metadata": {
        "id": "IYRwx2MEy8ul",
        "colab_type": "code",
        "colab": {}
      },
      "source": [
        "\n",
        "os.chdir('/content/Sound-Datasets/ESC-50/')\n",
        "\n",
        "for root, dirs, files in os.walk('.'):\n",
        "  label = root.lstrip('./')\n",
        "  path = '/content/downsampled_data_set/' + label\n",
        "  print(path)\n",
        "  os.mkdir(path)\n",
        "  for file in files:\n",
        "    # print(file)\n",
        "    data, sr = librosa.core.load(label + '/' + file, sr=8000, mono=True)\n",
        "    soundfile.write('/content/downsampled_data_set/' + label + '/' + file, data, sr, 'PCM_16')\n",
        "    \n",
        "os.chdir('/content/')"
      ],
      "execution_count": 0,
      "outputs": []
    },
    {
      "cell_type": "markdown",
      "metadata": {
        "id": "NdKq0-7siWTg",
        "colab_type": "text"
      },
      "source": [
        "### Downsampling splitted ESC-50 files"
      ]
    },
    {
      "cell_type": "code",
      "metadata": {
        "id": "F83O2rCFidVh",
        "colab_type": "code",
        "colab": {}
      },
      "source": [
        "os.chdir('/content/Sound-Datasets/ESC-50-splitted/')\n",
        "\n",
        "for root, dirs, files in os.walk('.'):\n",
        "  label = root.lstrip('./')\n",
        "  path = '/content/downsampled_ESC-50_splitted_data_set/' + label\n",
        "  print(path)\n",
        "  os.mkdir(path)\n",
        "  for file in files:\n",
        "    # print(file)\n",
        "    data, sr = librosa.core.load(label + '/' + file, sr=16000, mono=True)\n",
        "    soundfile.write('/content/downsampled_ESC-50_splitted_data_set/' + label + '/' + file, data, sr, 'PCM_16')\n",
        "    \n",
        "os.chdir('/content/')"
      ],
      "execution_count": 0,
      "outputs": []
    },
    {
      "cell_type": "code",
      "metadata": {
        "id": "1c_4U_CQ9xeG",
        "colab_type": "code",
        "colab": {}
      },
      "source": [
        "import os\n",
        "os.chdir('/content/')\n",
        "\n",
        "!tar -zcf downsampled_data_set.tar.gz downsampled_data_set/\n",
        "!ls -l"
      ],
      "execution_count": 0,
      "outputs": []
    },
    {
      "cell_type": "markdown",
      "metadata": {
        "id": "ERjn3m6V_3Mo",
        "colab_type": "text"
      },
      "source": [
        "### Downsampled ESC-50-split from 44kHz to 16KHz with silence removed one second long clips"
      ]
    },
    {
      "cell_type": "code",
      "metadata": {
        "id": "hYyOMFyoAFNk",
        "colab_type": "code",
        "colab": {}
      },
      "source": [
        "os.chdir('/content/small-urban-sound-dataset/ESC-50-split/ESC-50-splitted-no-silence-one-second/')\n",
        "\n",
        "for root, dirs, files in os.walk('.'):\n",
        "  label = root.lstrip('./')\n",
        "  path = '/content/ESC-50_split_data_set/' + label\n",
        "  print(path)\n",
        "  os.mkdir(path)\n",
        "  for file in files:\n",
        "    # print(file)\n",
        "    data, sr = librosa.core.load(label + '/' + file, sr=16000, mono=True)\n",
        "    soundfile.write('/content/ESC-50_split_data_set/' + label + '/' + file, data, sr, 'PCM_16')\n",
        "    \n",
        "os.chdir('/content/')"
      ],
      "execution_count": 0,
      "outputs": []
    },
    {
      "cell_type": "code",
      "metadata": {
        "id": "pLrqfQESqZlI",
        "colab_type": "code",
        "colab": {}
      },
      "source": [
        "import os\n",
        "os.chdir('/content/')\n",
        "\n",
        "!tar -zcf downsampled_ESC-50_splitted_data_set.tar.gz ESC-50_split_data_set/\n",
        "!ls -l"
      ],
      "execution_count": 0,
      "outputs": []
    }
  ]
}