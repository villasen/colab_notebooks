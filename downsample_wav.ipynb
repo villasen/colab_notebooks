{
  "nbformat": 4,
  "nbformat_minor": 0,
  "metadata": {
    "colab": {
      "name": "downsample_wav.ipynb",
      "version": "0.3.2",
      "provenance": [],
      "collapsed_sections": [],
      "include_colab_link": true
    },
    "kernelspec": {
      "name": "python3",
      "display_name": "Python 3"
    }
  },
  "cells": [
    {
      "cell_type": "markdown",
      "metadata": {
        "id": "view-in-github",
        "colab_type": "text"
      },
      "source": [
        "<a href=\"https://colab.research.google.com/github/villasen/colab_notebooks/blob/master/downsample_wav.ipynb\" target=\"_parent\"><img src=\"https://colab.research.google.com/assets/colab-badge.svg\" alt=\"Open In Colab\"/></a>"
      ]
    },
    {
      "metadata": {
        "id": "vjx8szL6ub52",
        "colab_type": "code",
        "colab": {}
      },
      "cell_type": "code",
      "source": [
        "!git clone https://github.com/villasen/Sound-Datasets.git"
      ],
      "execution_count": 0,
      "outputs": []
    },
    {
      "metadata": {
        "id": "ToaFm6qm8ivy",
        "colab_type": "code",
        "colab": {}
      },
      "cell_type": "code",
      "source": [
        "!rm -r /content/downsampled_data_set"
      ],
      "execution_count": 0,
      "outputs": []
    },
    {
      "metadata": {
        "id": "IYRwx2MEy8ul",
        "colab_type": "code",
        "colab": {}
      },
      "cell_type": "code",
      "source": [
        "import os\n",
        "import librosa\n",
        "\n",
        "os.chdir('/content/Sound-Datasets/ESC-50/')\n",
        "\n",
        "for root, dirs, files in os.walk('.'):\n",
        "  label = root.lstrip('./')\n",
        "  path = '/content/downsampled_data_set/' + label\n",
        "  print(path)\n",
        "  os.mkdir(path)\n",
        "  for file in files:\n",
        "    y, sr = librosa.load(label + '/' + file, sr=8000, mono=True, offset=0.0, duration=5.0)\n",
        "    librosa.output.write_wav('/content/downsampled_data_set/' + label + '/' + file, y, sr)\n",
        "    print(file)\n",
        "    \n",
        "os.chdir('/content/')"
      ],
      "execution_count": 0,
      "outputs": []
    },
    {
      "metadata": {
        "id": "1c_4U_CQ9xeG",
        "colab_type": "code",
        "colab": {}
      },
      "cell_type": "code",
      "source": [
        "import os\n",
        "os.chdir('/content/')\n",
        "\n",
        "!tar -zcf downsampled_data_set.tar.gz output/\n",
        "!ls -l"
      ],
      "execution_count": 0,
      "outputs": []
    }
  ]
}