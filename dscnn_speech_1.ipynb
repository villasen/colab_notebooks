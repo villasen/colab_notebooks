{
  "nbformat": 4,
  "nbformat_minor": 0,
  "metadata": {
    "colab": {
      "name": "dscnn_speech_1.ipynb",
      "version": "0.3.2",
      "provenance": [],
      "include_colab_link": true
    },
    "kernelspec": {
      "name": "python2",
      "display_name": "Python 2"
    },
    "accelerator": "GPU"
  },
  "cells": [
    {
      "cell_type": "markdown",
      "metadata": {
        "id": "view-in-github",
        "colab_type": "text"
      },
      "source": [
        "<a href=\"https://colab.research.google.com/github/villasen/colab_notebooks/blob/master/dscnn_speech_1.ipynb\" target=\"_parent\"><img src=\"https://colab.research.google.com/assets/colab-badge.svg\" alt=\"Open In Colab\"/></a>"
      ]
    },
    {
      "metadata": {
        "id": "LmF_IuxSMwYq",
        "colab_type": "code",
        "colab": {}
      },
      "cell_type": "code",
      "source": [
        "!rm -r work"
      ],
      "execution_count": 0,
      "outputs": []
    },
    {
      "metadata": {
        "id": "PPUPTSbituY_",
        "colab_type": "code",
        "colab": {}
      },
      "cell_type": "code",
      "source": [
        "!rm -r ML-KWS-for-MCU"
      ],
      "execution_count": 0,
      "outputs": []
    },
    {
      "metadata": {
        "id": "jsMKvw1ei_Tv",
        "colab_type": "code",
        "colab": {}
      },
      "cell_type": "code",
      "source": [
        "!git clone https://github.com/villasen/ML-KWS-for-MCU.git\n",
        "  "
      ],
      "execution_count": 0,
      "outputs": []
    },
    {
      "metadata": {
        "id": "oFlm555ct7pP",
        "colab_type": "text"
      },
      "cell_type": "markdown",
      "source": [
        "Train with default word set"
      ]
    },
    {
      "metadata": {
        "id": "RHypQwUIv2lH",
        "colab_type": "code",
        "colab": {}
      },
      "cell_type": "code",
      "source": [
        "!python ML-KWS-for-MCU/train.py --model_architecture ds_cnn --model_size_info 5 64 10 4 2 2 64 3 3 1 1 64 3 3 1 1 64 3 3 1 1 64 3 3 1 1 --dct_coefficient_count 10 \\\n",
        "--window_size_ms 40 --window_stride_ms 20 --learning_rate 0.0005,0.0001,0.00002 --how_many_training_steps 2000,1000,1000 --summaries_dir work/DS_CNN/DS_CNN1/retrain_logs \\\n",
        "--train_dir work/DS_CNN/DS_CNN1/training \n"
      ],
      "execution_count": 0,
      "outputs": []
    },
    {
      "metadata": {
        "id": "71VirOXNuHry",
        "colab_type": "text"
      },
      "cell_type": "markdown",
      "source": [
        "Train with alternate word set"
      ]
    },
    {
      "metadata": {
        "id": "L833M4ZSVClY",
        "colab_type": "code",
        "colab": {}
      },
      "cell_type": "code",
      "source": [
        "!python ML-KWS-for-MCU/train.py --model_architecture ds_cnn --model_size_info 5 64 10 4 2 2 64 3 3 1 1 64 3 3 1 1 64 3 3 1 1 64 3 3 1 1 --dct_coefficient_count 10 \\\n",
        "--window_size_ms 40 --window_stride_ms 20 --learning_rate 0.0005,0.0001,0.00002 --how_many_training_steps 5000,3000,2000 --summaries_dir work/DS_CNN/DS_CNN1/retrain_logs \\\n",
        "--train_dir work/DS_CNN/DS_CNN1/training --wanted_words=on,bed,cat,dog,down,eight,five,follow,off,four \n"
      ],
      "execution_count": 0,
      "outputs": []
    },
    {
      "metadata": {
        "id": "kAHyGtmfuUsx",
        "colab_type": "text"
      },
      "cell_type": "markdown",
      "source": [
        "Test model"
      ]
    },
    {
      "metadata": {
        "id": "2GBX9LXttqUG",
        "colab_type": "code",
        "colab": {}
      },
      "cell_type": "code",
      "source": [
        "!python ML-KWS-for-MCU/test.py --data_dir=/tmp/speech_dataset/ --model_architecture ds_cnn --model_size_info 5 64 10 4 2 2 64 3 3 1 1 64 3 3 1 1 64 3 3 1 1 64 3 3 1 1 \\\n",
        "-dct_coefficient_count 10 --window_size_ms 40 --window_stride_ms 20 --checkpoint work/DS_CNN/DS_CNN1/training/best/ds_cnn_9019.ckpt-3600\n"
      ],
      "execution_count": 0,
      "outputs": []
    },
    {
      "metadata": {
        "id": "ozFTretQuXQB",
        "colab_type": "text"
      },
      "cell_type": "markdown",
      "source": [
        "Freeze graph to protobuf file"
      ]
    },
    {
      "metadata": {
        "id": "W66vd6KnVerY",
        "colab_type": "code",
        "colab": {}
      },
      "cell_type": "code",
      "source": [
        "!python ML-KWS-for-MCU/freeze.py --model_architecture ds_cnn --model_size_info 5 64 10 4 2 2 64 3 3 1 1 64 3 3 1 1 64 3 3 1 1 64 3 3 1 1 --dct_coefficient_count 10 \\\n",
        "--window_size_ms 40 --window_stride_ms 20 --learning_rate 0.0005,0.0001,0.00002 --how_many_training_steps 10000,10000,10000 --summaries_dir work/DS_CNN/DS_CNN1/retrain_logs \\\n",
        "--train_dir work/DS_CNN/DS_CNN1/training --wanted_words=on,bed,cat,dog,down,eight,five,follow,off,four --checkpoint work/DNN/DNN1/training/best/    --output_file dscnn_dataset.pb\n"
      ],
      "execution_count": 0,
      "outputs": []
    },
    {
      "metadata": {
        "id": "lNahajMeudXH",
        "colab_type": "text"
      },
      "cell_type": "markdown",
      "source": [
        "Fold Batchnorm (needed for quantization of ds-cnn)"
      ]
    },
    {
      "metadata": {
        "id": "yEAWerxsVjtB",
        "colab_type": "code",
        "colab": {}
      },
      "cell_type": "code",
      "source": [
        "!python ML-KWS-for-MCU/fold_batchnorm.py --model_architecture ds_cnn --model_size_info 5 64 10 4 2 2 64 3 3 1 1 64 3 3 1 1 64 3 3 1 1 64 3 3 1 1 \\\n",
        "--dct_coefficient_count 10 --window_size_ms 40  --window_stride_ms 20 --checkpoint work/DS_CNN/DS_CNN1/training/best/ds_cnn_9019.ckpt-3600\n",
        "\n"
      ],
      "execution_count": 0,
      "outputs": []
    },
    {
      "metadata": {
        "id": "vueY3Jh1upj0",
        "colab_type": "text"
      },
      "cell_type": "markdown",
      "source": [
        "Quantize model to weights.h file"
      ]
    },
    {
      "metadata": {
        "id": "H5qnlEqUJf1C",
        "colab_type": "code",
        "colab": {}
      },
      "cell_type": "code",
      "source": [
        "!python ML-KWS-for-MCU/quant_test.py --data_dir=/tmp/speech_dataset/ --model_architecture ds_cnn --model_size_info 5 64 10 4 2 2 64 3 3 1 1 64 3 3 1 1 64 3 3 1 1 64 3 3 1 1 \\\n",
        "--dct_coefficient_count 10 --window_size_ms 40  --window_stride_ms 20 --checkpoint work/DS_CNN/DS_CNN1/training/best/ds_cnn_9019.ckpt-3600_bnfused --act_max 32 0 0 0 0 0 0 0 0 0 0 0"
      ],
      "execution_count": 0,
      "outputs": []
    },
    {
      "metadata": {
        "id": "HG-LhQsWuzHG",
        "colab_type": "text"
      },
      "cell_type": "markdown",
      "source": [
        "Download weights.h"
      ]
    },
    {
      "metadata": {
        "id": "9VKYI14OMo5c",
        "colab_type": "code",
        "colab": {}
      },
      "cell_type": "code",
      "source": [
        "from google.colab import files\n",
        "\n",
        "files.download('weights.h')"
      ],
      "execution_count": 0,
      "outputs": []
    },
    {
      "metadata": {
        "id": "kCJVWFNmu4pE",
        "colab_type": "text"
      },
      "cell_type": "markdown",
      "source": [
        "Download model as tar file"
      ]
    },
    {
      "metadata": {
        "id": "mF5o-2mZbYpE",
        "colab_type": "code",
        "colab": {}
      },
      "cell_type": "code",
      "source": [
        "!tar -cvf dscnn__defaultDataset_4000.tar /content/work/\n",
        "!ls -l\n",
        "\n",
        "from google.colab import files\n",
        "\n",
        "files.download('dscnn__defaultDataset_4000.tar')"
      ],
      "execution_count": 0,
      "outputs": []
    },
    {
      "metadata": {
        "id": "KNScvniJYgD0",
        "colab_type": "code",
        "colab": {}
      },
      "cell_type": "code",
      "source": [
        "!ls -l /content/work/DS_CNN/DS_CNN1/training/\n",
        "!cp /content/work/DS_CNN/DS_CNN1/training/ds_cnn_labels.txt /content/temp/\n",
        "!ls /content/temp/"
      ],
      "execution_count": 0,
      "outputs": []
    },
    {
      "metadata": {
        "id": "Rlli_dNSaNxo",
        "colab_type": "code",
        "colab": {}
      },
      "cell_type": "code",
      "source": [
        "!cp /content/work/DS_CNN/DS_CNN1/training/ds_cnn.pbtxt /content/temp/\n",
        "!ls /content/temp/"
      ],
      "execution_count": 0,
      "outputs": []
    }
  ]
}