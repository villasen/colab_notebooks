{
  "nbformat": 4,
  "nbformat_minor": 0,
  "metadata": {
    "colab": {
      "name": "dscnn_speech_1.ipynb",
      "version": "0.3.2",
      "provenance": [],
      "include_colab_link": true
    },
    "kernelspec": {
      "name": "python2",
      "display_name": "Python 2"
    },
    "accelerator": "GPU"
  },
  "cells": [
    {
      "cell_type": "markdown",
      "metadata": {
        "id": "view-in-github",
        "colab_type": "text"
      },
      "source": [
        "<a href=\"https://colab.research.google.com/github/villasen/colab_notebooks/blob/master/dscnn_speech_1.ipynb\" target=\"_parent\"><img src=\"https://colab.research.google.com/assets/colab-badge.svg\" alt=\"Open In Colab\"/></a>"
      ]
    },
    {
      "metadata": {
        "id": "gqkIgun2ZyBg",
        "colab_type": "code",
        "colab": {}
      },
      "cell_type": "code",
      "source": [
        "#DEFAULT WORD SET\n",
        "#%env WORDS=yes,no,up,down,left,right,on,off,stop,go\n",
        "\n",
        "#ALTERNATE WORD SETS\n",
        "%env WORDS=yes,no,up,down,left,right,on,off,stop,four"
      ],
      "execution_count": 0,
      "outputs": []
    },
    {
      "metadata": {
        "id": "LmF_IuxSMwYq",
        "colab_type": "code",
        "colab": {}
      },
      "cell_type": "code",
      "source": [
        "!rm -r work"
      ],
      "execution_count": 0,
      "outputs": []
    },
    {
      "metadata": {
        "id": "fxJBDJYMaZ17",
        "colab_type": "code",
        "colab": {}
      },
      "cell_type": "code",
      "source": [
        "!ls -l work/DS_CNN/DS_CNN1/training/best"
      ],
      "execution_count": 0,
      "outputs": []
    },
    {
      "metadata": {
        "id": "PPUPTSbituY_",
        "colab_type": "code",
        "colab": {}
      },
      "cell_type": "code",
      "source": [
        "!rm -r ML-KWS-for-MCU"
      ],
      "execution_count": 0,
      "outputs": []
    },
    {
      "metadata": {
        "id": "jsMKvw1ei_Tv",
        "colab_type": "code",
        "colab": {}
      },
      "cell_type": "code",
      "source": [
        "!git clone https://github.com/villasen/ML-KWS-for-MCU.git"
      ],
      "execution_count": 0,
      "outputs": []
    },
    {
      "metadata": {
        "id": "71VirOXNuHry",
        "colab_type": "text"
      },
      "cell_type": "markdown",
      "source": [
        "Train model"
      ]
    },
    {
      "metadata": {
        "id": "L833M4ZSVClY",
        "colab_type": "code",
        "colab": {}
      },
      "cell_type": "code",
      "source": [
        "!python ML-KWS-for-MCU/train.py \\\n",
        "--data_dir work/speech_dataset/ \\\n",
        "--summaries_dir work/DS_CNN/DS_CNN1/retrain_logs \\\n",
        "--train_dir work/DS_CNN/DS_CNN1/training \\\n",
        "--wanted_words $WORDS"
      ],
      "execution_count": 0,
      "outputs": []
    },
    {
      "metadata": {
        "id": "kAHyGtmfuUsx",
        "colab_type": "text"
      },
      "cell_type": "markdown",
      "source": [
        "Test model --   Need to update the checkpoint file if training different networks."
      ]
    },
    {
      "metadata": {
        "id": "2GBX9LXttqUG",
        "colab_type": "code",
        "colab": {}
      },
      "cell_type": "code",
      "source": [
        "!python ML-KWS-for-MCU/test.py \\\n",
        "--data_dir work/speech_dataset/ \\\n",
        "--checkpoint work/DS_CNN/DS_CNN1/training/best/ds_cnn_8805.ckpt-2800 \\\n",
        "--wanted_words $WORDS"
      ],
      "execution_count": 0,
      "outputs": []
    },
    {
      "metadata": {
        "id": "ozFTretQuXQB",
        "colab_type": "text"
      },
      "cell_type": "markdown",
      "source": [
        "Freeze graph to protobuf file"
      ]
    },
    {
      "metadata": {
        "id": "W66vd6KnVerY",
        "colab_type": "code",
        "colab": {}
      },
      "cell_type": "code",
      "source": [
        "!python ML-KWS-for-MCU/freeze.py \\\n",
        "--summaries_dir work/DS_CNN/DS_CNN1/retrain_logs \\\n",
        "--train_dir work/DS_CNN/DS_CNN1/training \\\n",
        "--checkpoint work/DS_CNN/DS_CNN1/training/best/ds_cnn_9543.ckpt-10400 \\\n",
        "--output_file my_dscnn.pb \\\n",
        "--wanted_words $WORDS"
      ],
      "execution_count": 0,
      "outputs": []
    },
    {
      "metadata": {
        "id": "H6dF319Tre0H",
        "colab_type": "text"
      },
      "cell_type": "markdown",
      "source": [
        "Test protobuf file"
      ]
    },
    {
      "metadata": {
        "id": "o616vjqnJoGQ",
        "colab_type": "code",
        "colab": {}
      },
      "cell_type": "code",
      "source": [
        "!python ML-KWS-for-MCU/label_wav.py \\\n",
        "--wav 0c09f202_nohash_0.wav \\\n",
        "--graph /content/my_dscnn.pb \\\n",
        "--labels /content/work/DS_CNN/DS_CNN1/training/ds_cnn_labels.txt \\\n",
        "--how_many_labels 10"
      ],
      "execution_count": 0,
      "outputs": []
    },
    {
      "metadata": {
        "id": "lNahajMeudXH",
        "colab_type": "text"
      },
      "cell_type": "markdown",
      "source": [
        "Fold Batchnorm (needed for quantization of ds-cnn)"
      ]
    },
    {
      "metadata": {
        "id": "yEAWerxsVjtB",
        "colab_type": "code",
        "colab": {}
      },
      "cell_type": "code",
      "source": [
        "!python ML-KWS-for-MCU/fold_batchnorm.py \\\n",
        "--data_dir work/speech_dataset/ \\\n",
        "--checkpoint work/DS_CNN/DS_CNN1/training/best/ds_cnn_9543.ckpt-10400 \\\n",
        "--wanted_words $WORDS"
      ],
      "execution_count": 0,
      "outputs": []
    },
    {
      "metadata": {
        "id": "vueY3Jh1upj0",
        "colab_type": "text"
      },
      "cell_type": "markdown",
      "source": [
        "Quantize model to weights.h file"
      ]
    },
    {
      "metadata": {
        "id": "H5qnlEqUJf1C",
        "colab_type": "code",
        "colab": {}
      },
      "cell_type": "code",
      "source": [
        "!python ML-KWS-for-MCU/quant_test.py \\\n",
        "--data_dir work/speech_dataset/ \\\n",
        "--checkpoint work/DS_CNN/DS_CNN1/training/best/ds_cnn_9543.ckpt-10400_bnfused \\\n",
        "--wanted_words $WORDS"
      ],
      "execution_count": 0,
      "outputs": []
    },
    {
      "metadata": {
        "id": "HG-LhQsWuzHG",
        "colab_type": "text"
      },
      "cell_type": "markdown",
      "source": [
        "Download weights.h"
      ]
    },
    {
      "metadata": {
        "id": "9VKYI14OMo5c",
        "colab_type": "code",
        "colab": {}
      },
      "cell_type": "code",
      "source": [
        "from google.colab import files\n",
        "\n",
        "files.download('weights.h')"
      ],
      "execution_count": 0,
      "outputs": []
    },
    {
      "metadata": {
        "id": "kCJVWFNmu4pE",
        "colab_type": "text"
      },
      "cell_type": "markdown",
      "source": [
        "Download model as tar file"
      ]
    },
    {
      "metadata": {
        "id": "mF5o-2mZbYpE",
        "colab_type": "code",
        "colab": {}
      },
      "cell_type": "code",
      "source": [
        "!tar -cvf dscnn__defaultDataset_4000.tar /content/work/\n",
        "!ls -l\n",
        "\n",
        "from google.colab import files\n",
        "\n",
        "files.download('dscnn__defaultDataset_4000.tar')"
      ],
      "execution_count": 0,
      "outputs": []
    },
    {
      "metadata": {
        "id": "Rpri-52Px3vq",
        "colab_type": "code",
        "colab": {}
      },
      "cell_type": "code",
      "source": [
        "!rm -r ESC-50\n"
      ],
      "execution_count": 0,
      "outputs": []
    },
    {
      "metadata": {
        "id": "cbB0lFOjp9xG",
        "colab_type": "code",
        "colab": {}
      },
      "cell_type": "code",
      "source": [
        "import os\n",
        "import shutil\n",
        "import urllib\n",
        "import zipfile\n",
        "import glob\n",
        "\n",
        "def download_dataset(name):\n",
        "    \"\"\"Download the dataset into current working directory.\"\"\"\n",
        "    if not os.path.exists(name):\n",
        "        os.mkdir(name)\n",
        "        urllib.urlretrieve('https://github.com/karoldvl/{0}/archive/master.zip'.format(name), '{0}/{0}.zip'.format(name))\n",
        "\n",
        "        with zipfile.ZipFile('{0}/{0}.zip'.format(name)) as package:\n",
        "            package.extractall('{0}/'.format(name))\n",
        "\n",
        "        os.unlink('{0}/{0}.zip'.format(name))        \n",
        "\n",
        "        for src in glob.glob('{0}/{0}-master/*'.format(name)):\n",
        "            shutil.move(src, '{0}/{1}'.format(name, os.path.basename(src)))\n",
        "\n",
        "        os.rmdir('{0}/{0}-master'.format(name))\n",
        "        #os.rmdir('ESC-50-master'.format(name))\n",
        "        \n",
        "#download_dataset('ESC-10')\n",
        "download_dataset('ESC-50')"
      ],
      "execution_count": 0,
      "outputs": []
    },
    {
      "metadata": {
        "id": "GuvdEqU61EiV",
        "colab_type": "code",
        "colab": {}
      },
      "cell_type": "code",
      "source": [
        "!ls -l ESC-50\n"
      ],
      "execution_count": 0,
      "outputs": []
    }
  ]
}