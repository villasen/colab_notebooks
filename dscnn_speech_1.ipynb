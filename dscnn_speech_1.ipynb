{
  "nbformat": 4,
  "nbformat_minor": 0,
  "metadata": {
    "colab": {
      "name": "dscnn_speech_1.ipynb",
      "version": "0.3.2",
      "provenance": [],
      "include_colab_link": true
    },
    "kernelspec": {
      "name": "python2",
      "display_name": "Python 2"
    },
    "accelerator": "GPU"
  },
  "cells": [
    {
      "cell_type": "markdown",
      "metadata": {
        "id": "view-in-github",
        "colab_type": "text"
      },
      "source": [
        "<a href=\"https://colab.research.google.com/github/villasen/colab_notebooks/blob/master/dscnn_speech_1.ipynb\" target=\"_parent\"><img src=\"https://colab.research.google.com/assets/colab-badge.svg\" alt=\"Open In Colab\"/></a>"
      ]
    },
    {
      "metadata": {
        "id": "LmF_IuxSMwYq",
        "colab_type": "code",
        "colab": {}
      },
      "cell_type": "code",
      "source": [
        "!rm -r work"
      ],
      "execution_count": 0,
      "outputs": []
    },
    {
      "metadata": {
        "id": "R6iM9kTpvyzz",
        "colab_type": "code",
        "colab": {}
      },
      "cell_type": "code",
      "source": [
        "!rm -r /tmp/speech_dataset/"
      ],
      "execution_count": 0,
      "outputs": []
    },
    {
      "metadata": {
        "id": "fxJBDJYMaZ17",
        "colab_type": "code",
        "colab": {}
      },
      "cell_type": "code",
      "source": [
        "!ls -l /content/work/DS_CNN/DS_CNN1/training/best"
      ],
      "execution_count": 0,
      "outputs": []
    },
    {
      "metadata": {
        "id": "gqkIgun2ZyBg",
        "colab_type": "code",
        "colab": {}
      },
      "cell_type": "code",
      "source": [
        "%env WORDS=yes,no,up,dog,down,eight,five,follow,off,four\n",
        "%env WORDS_DEFAULT='yes,no,up,down,left,right,on,off,stop,go'\n",
        "%env SHAPE=5 64 10 4 2 2 64 3 3 1 1 64 3 3 1 1 64 3 3 1 1 64 3 3 1 1"
      ],
      "execution_count": 0,
      "outputs": []
    },
    {
      "metadata": {
        "id": "PPUPTSbituY_",
        "colab_type": "code",
        "colab": {}
      },
      "cell_type": "code",
      "source": [
        "!rm -r ML-KWS-for-MCU"
      ],
      "execution_count": 0,
      "outputs": []
    },
    {
      "metadata": {
        "id": "jsMKvw1ei_Tv",
        "colab_type": "code",
        "outputId": "0f0888e4-b473-4c78-fb43-0260633477f4",
        "colab": {
          "base_uri": "https://localhost:8080/",
          "height": 136
        }
      },
      "cell_type": "code",
      "source": [
        "!git clone https://github.com/villasen/ML-KWS-for-MCU.git\n",
        "  "
      ],
      "execution_count": 15,
      "outputs": [
        {
          "output_type": "stream",
          "text": [
            "Cloning into 'ML-KWS-for-MCU'...\n",
            "remote: Enumerating objects: 15, done.\u001b[K\n",
            "remote: Counting objects: 100% (15/15), done.\u001b[K\n",
            "remote: Compressing objects: 100% (13/13), done.\u001b[K\n",
            "remote: Total 466 (delta 3), reused 8 (delta 2), pack-reused 451\u001b[K\n",
            "Receiving objects: 100% (466/466), 19.46 MiB | 7.75 MiB/s, done.\n",
            "Resolving deltas: 100% (94/94), done.\n"
          ],
          "name": "stdout"
        }
      ]
    },
    {
      "metadata": {
        "id": "oFlm555ct7pP",
        "colab_type": "text"
      },
      "cell_type": "markdown",
      "source": [
        "Train with default word set"
      ]
    },
    {
      "metadata": {
        "id": "RHypQwUIv2lH",
        "colab_type": "code",
        "colab": {}
      },
      "cell_type": "code",
      "source": [
        "!python ML-KWS-for-MCU/train.py --model_architecture ds_cnn --model_size_info 5 64 10 4 2 2 64 3 3 1 1 64 3 3 1 1 64 3 3 1 1 64 3 3 1 1 --dct_coefficient_count 10 \\\n",
        "--window_size_ms 40 --window_stride_ms 20 --learning_rate 0.0005,0.0001,0.00002 --how_many_training_steps 1000,1000,1000 --summaries_dir work/DS_CNN/DS_CNN1/retrain_logs \\\n",
        "--train_dir work/DS_CNN/DS_CNN1/training   \n"
      ],
      "execution_count": 0,
      "outputs": []
    },
    {
      "metadata": {
        "id": "71VirOXNuHry",
        "colab_type": "text"
      },
      "cell_type": "markdown",
      "source": [
        "Train with alternate word set"
      ]
    },
    {
      "metadata": {
        "id": "L833M4ZSVClY",
        "colab_type": "code",
        "outputId": "914af808-dce9-4e16-dc5c-386aba10e5ec",
        "colab": {
          "base_uri": "https://localhost:8080/",
          "height": 3760
        }
      },
      "cell_type": "code",
      "source": [
        "!python ML-KWS-for-MCU/train.py --model_architecture ds_cnn --model_size_info 5 64 10 4 2 2 64 3 3 1 1 64 3 3 1 1 64 3 3 1 1 64 3 3 1 1 --dct_coefficient_count 10 \\\n",
        "--window_size_ms 40 --window_stride_ms 20 --learning_rate 0.0005,0.0001,0.00002 --how_many_training_steps 2000,1000,1000 --summaries_dir work/DS_CNN/DS_CNN1/retrain_logs \\\n",
        "--train_dir work/DS_CNN/DS_CNN1/training --wanted_words yes,no,up,down,left,right,on,dog,bed,four\n"
      ],
      "execution_count": 16,
      "outputs": [
        {
          "output_type": "stream",
          "text": [
            "2019-03-08 06:02:17.942013: I tensorflow/core/platform/profile_utils/cpu_utils.cc:94] CPU Frequency: 2200000000 Hz\n",
            "2019-03-08 06:02:17.942357: I tensorflow/compiler/xla/service/service.cc:150] XLA service 0x562ba96058c0 executing computations on platform Host. Devices:\n",
            "2019-03-08 06:02:17.942396: I tensorflow/compiler/xla/service/service.cc:158]   StreamExecutor device (0): <undefined>, <undefined>\n",
            "2019-03-08 06:02:18.131680: I tensorflow/stream_executor/cuda/cuda_gpu_executor.cc:998] successful NUMA node read from SysFS had negative value (-1), but there must be at least one NUMA node, so returning NUMA node zero\n",
            "2019-03-08 06:02:18.132314: I tensorflow/compiler/xla/service/service.cc:150] XLA service 0x562ba9607c80 executing computations on platform CUDA. Devices:\n",
            "2019-03-08 06:02:18.132349: I tensorflow/compiler/xla/service/service.cc:158]   StreamExecutor device (0): Tesla K80, Compute Capability 3.7\n",
            "2019-03-08 06:02:18.132810: I tensorflow/core/common_runtime/gpu/gpu_device.cc:1433] Found device 0 with properties: \n",
            "name: Tesla K80 major: 3 minor: 7 memoryClockRate(GHz): 0.8235\n",
            "pciBusID: 0000:00:04.0\n",
            "totalMemory: 11.17GiB freeMemory: 11.10GiB\n",
            "2019-03-08 06:02:18.132843: I tensorflow/core/common_runtime/gpu/gpu_device.cc:1512] Adding visible gpu devices: 0\n",
            "2019-03-08 06:02:19.480308: I tensorflow/core/common_runtime/gpu/gpu_device.cc:984] Device interconnect StreamExecutor with strength 1 edge matrix:\n",
            "2019-03-08 06:02:19.480383: I tensorflow/core/common_runtime/gpu/gpu_device.cc:990]      0 \n",
            "2019-03-08 06:02:19.480415: I tensorflow/core/common_runtime/gpu/gpu_device.cc:1003] 0:   N \n",
            "2019-03-08 06:02:19.480778: I tensorflow/core/common_runtime/gpu/gpu_device.cc:1115] Created TensorFlow device (/job:localhost/replica:0/task:0/device:GPU:0 with 10754 MB memory) -> physical GPU (device: 0, name: Tesla K80, pci bus id: 0000:00:04.0, compute capability: 3.7)\n",
            ">> Downloading speech_commands_v0.02.tar.gz 100.0%\n",
            "INFO:tensorflow:Successfully downloaded speech_commands_v0.02.tar.gz (2428923189 bytes)\n",
            "2019-03-08 06:05:09.299303: I tensorflow/core/common_runtime/gpu/gpu_device.cc:1512] Adding visible gpu devices: 0\n",
            "2019-03-08 06:05:09.299522: I tensorflow/core/common_runtime/gpu/gpu_device.cc:984] Device interconnect StreamExecutor with strength 1 edge matrix:\n",
            "2019-03-08 06:05:09.299549: I tensorflow/core/common_runtime/gpu/gpu_device.cc:990]      0 \n",
            "2019-03-08 06:05:09.299564: I tensorflow/core/common_runtime/gpu/gpu_device.cc:1003] 0:   N \n",
            "2019-03-08 06:05:09.299843: I tensorflow/core/common_runtime/gpu/gpu_device.cc:1115] Created TensorFlow device (/job:localhost/replica:0/task:0/device:GPU:0 with 10754 MB memory) -> physical GPU (device: 0, name: Tesla K80, pci bus id: 0000:00:04.0, compute capability: 3.7)\n",
            "WARNING:tensorflow:From /usr/local/lib/python2.7/dist-packages/tensorflow/python/framework/op_def_library.py:263: colocate_with (from tensorflow.python.framework.ops) is deprecated and will be removed in a future version.\n",
            "Instructions for updating:\n",
            "Colocations handled automatically by placer.\n",
            "WARNING:tensorflow:From ML-KWS-for-MCU/train.py:156: softmax_cross_entropy_with_logits (from tensorflow.python.ops.nn_ops) is deprecated and will be removed in a future version.\n",
            "Instructions for updating:\n",
            "\n",
            "Future major versions of TensorFlow will allow gradients to flow\n",
            "into the labels input on backprop by default.\n",
            "\n",
            "See `tf.nn.softmax_cross_entropy_with_logits_v2`.\n",
            "\n",
            "WARNING:tensorflow:From /usr/local/lib/python2.7/dist-packages/tensorflow/python/ops/confusion_matrix.py:193: to_int64 (from tensorflow.python.ops.math_ops) is deprecated and will be removed in a future version.\n",
            "Instructions for updating:\n",
            "Use tf.cast instead.\n",
            "WARNING:tensorflow:From /usr/local/lib/python2.7/dist-packages/tensorflow/python/ops/confusion_matrix.py:194: to_int32 (from tensorflow.python.ops.math_ops) is deprecated and will be removed in a future version.\n",
            "Instructions for updating:\n",
            "Use tf.cast instead.\n",
            "Total number of Parameters:  23180\n",
            "INFO:tensorflow:Training from step: 1 \n",
            "2019-03-08 06:05:12.871921: I tensorflow/stream_executor/dso_loader.cc:152] successfully opened CUDA library libcublas.so.10.0 locally\n",
            "INFO:tensorflow:Confusion Matrix:\n",
            " [[340   0   0   0   0   0   0   0   0   0   0   0]\n",
            " [  7  83  17  43  49  16  24  28  30  12  16  15]\n",
            " [  3   4 356   4   0  12  15   0   0   0   3   0]\n",
            " [  7   3   5 346   1  23  13   2   3   2   1   0]\n",
            " [  2   8   0   2 312   2   8   0  10   6   0   0]\n",
            " [  2   6   5  44   1 312   2   0   1   3   1   0]\n",
            " [  4   4  27   1   4   1 298   6   1   0   4   2]\n",
            " [  1  11   0   1   3   0  13 327   3   1   2   1]\n",
            " [  4   9   0   0  18   4   0   2 320   3   1   2]\n",
            " [  3   5   0  54  12  42   1   1   6  71   0   2]\n",
            " [  3  23  10   2   6   0  17   2   3   0 147   0]\n",
            " [  2  10   0   1   6   0   0   2   6   1   0 345]]\n",
            "INFO:tensorflow:Step 400: Validation accuracy = 80.00% (N=4071)\n",
            "INFO:tensorflow:Saving best model to \"work/DS_CNN/DS_CNN1/training/best/ds_cnn_8000.ckpt-400\"\n",
            "INFO:tensorflow:So far the best validation accuracy is 80.00%\n",
            "INFO:tensorflow:Confusion Matrix:\n",
            " [[340   0   0   0   0   0   0   0   0   0   0   0]\n",
            " [  2 159  14  26  31   9  10  13  24  16  21  15]\n",
            " [  2   5 366   5   0   4  12   0   0   0   3   0]\n",
            " [  5  12   4 349   1  11   9   1   2   7   2   3]\n",
            " [  0  11   0   0 321   1   3   0   4   6   4   0]\n",
            " [  2   4   3  19   0 333   1   0   1  13   1   0]\n",
            " [  6  11  20   1   3   1 297   5   0   0   6   2]\n",
            " [  3  18   0   1   0   1   9 326   2   0   2   1]\n",
            " [  2  11   0   0  11   0   0   2 330   1   0   6]\n",
            " [  2   6   1  10   6  23   1   1   1 145   0   1]\n",
            " [  1  10   2   0   2   2   2   0   2   2 190   0]\n",
            " [  2  13   0   0   2   0   0   0   1   1   0 354]]\n",
            "INFO:tensorflow:Step 800: Validation accuracy = 86.22% (N=4071)\n",
            "INFO:tensorflow:Saving best model to \"work/DS_CNN/DS_CNN1/training/best/ds_cnn_8621.ckpt-800\"\n",
            "INFO:tensorflow:So far the best validation accuracy is 86.22%\n",
            "INFO:tensorflow:Confusion Matrix:\n",
            " [[340   0   0   0   0   0   0   0   0   0   0   0]\n",
            " [  2 187  11  15  28  10   9  11  22  18  16  11]\n",
            " [  2   5 377   2   0   2   7   0   0   0   2   0]\n",
            " [  5  14   5 351   1   8   6   0   2   7   2   5]\n",
            " [  0  16   1   0 319   1   3   0   4   5   1   0]\n",
            " [  2   2   1  15   0 342   0   0   1  13   1   0]\n",
            " [  3  10  27   1   1   1 300   5   0   0   3   1]\n",
            " [  2  15   1   1   0   0   3 337   1   0   2   1]\n",
            " [  3   8   0   0   6   3   0   3 333   3   0   4]\n",
            " [  0   7   1   7   3  18   1   1   1 157   0   1]\n",
            " [  1  10   1   0   3   2   1   2   1   2 190   0]\n",
            " [  3  25   0   0   0   0   0   0   1   0   0 344]]\n",
            "INFO:tensorflow:Step 1200: Validation accuracy = 87.87% (N=4071)\n",
            "INFO:tensorflow:Saving best model to \"work/DS_CNN/DS_CNN1/training/best/ds_cnn_8786.ckpt-1200\"\n",
            "INFO:tensorflow:So far the best validation accuracy is 87.87%\n",
            "INFO:tensorflow:Confusion Matrix:\n",
            " [[340   0   0   0   0   0   0   0   0   0   0   0]\n",
            " [  1 215   5  14  21  14   5  12  22   8  12  11]\n",
            " [  2   5 373   6   0   2   8   0   0   0   1   0]\n",
            " [  6  10   3 350   1  15   8   1   1   8   0   3]\n",
            " [  0  18   0   0 319   1   1   0   4   6   1   0]\n",
            " [  2   0   2  10   0 353   0   0   2   8   0   0]\n",
            " [  3   5  16   2   3   1 316   1   0   1   2   2]\n",
            " [  1  14   0   2   2   0   3 337   1   0   2   1]\n",
            " [  3   8   0   0   9   2   0   0 335   0   0   6]\n",
            " [  0   4   0   5   6  15   0   1   0 164   0   2]\n",
            " [  1   8   3   0   3   1   1   2   2   0 192   0]\n",
            " [  1  17   0   0   2   2   0   0   2   0   0 349]]\n",
            "INFO:tensorflow:Step 1600: Validation accuracy = 89.49% (N=4071)\n",
            "INFO:tensorflow:Saving best model to \"work/DS_CNN/DS_CNN1/training/best/ds_cnn_8948.ckpt-1600\"\n",
            "INFO:tensorflow:So far the best validation accuracy is 89.49%\n",
            "INFO:tensorflow:Confusion Matrix:\n",
            " [[340   0   0   0   0   0   0   0   0   0   0   0]\n",
            " [  1 222   6  18  21  11   7   9  13  11  10  11]\n",
            " [  1   4 373   4   0   3  11   0   0   0   1   0]\n",
            " [  5   8   4 369   1   2   7   0   0   7   0   3]\n",
            " [  1  16   0   0 323   0   2   0   1   7   0   0]\n",
            " [  2   3   2  20   0 335   0   0   2  13   0   0]\n",
            " [  3   7  16   2   1   0 317   3   0   1   1   1]\n",
            " [  1  17   0   2   0   0   2 338   0   0   2   1]\n",
            " [  2   9   0   2   8   2   0   1 326   2   0  11]\n",
            " [  0   5   0   6   3   7   0   1   1 172   0   2]\n",
            " [  1   5   1   0   5   0   1   2   1   1 196   0]\n",
            " [  1  15   0   0   1   0   0   0   1   1   0 354]]\n",
            "INFO:tensorflow:Step 2000: Validation accuracy = 90.03% (N=4071)\n",
            "INFO:tensorflow:Saving best model to \"work/DS_CNN/DS_CNN1/training/best/ds_cnn_9002.ckpt-2000\"\n",
            "INFO:tensorflow:So far the best validation accuracy is 90.03%\n",
            "INFO:tensorflow:Confusion Matrix:\n",
            " [[340   0   0   0   0   0   0   0   0   0   0   0]\n",
            " [  1 232   8  16  11   6   6  13  15  10   9  13]\n",
            " [  1   4 374   4   0   1  12   0   0   0   1   0]\n",
            " [  5   7   4 365   1   7   6   1   1   5   0   4]\n",
            " [  1  13   0   0 326   0   3   0   2   5   0   0]\n",
            " [  2   1   4  12   0 346   0   0   1  11   0   0]\n",
            " [  3   6  18   0   0   0 319   3   0   1   1   1]\n",
            " [  1  16   2   0   0   0   3 337   1   0   2   1]\n",
            " [  4   6   0   0   7   2   0   0 339   0   0   5]\n",
            " [  0   4   0   4   3   8   0   1   1 174   0   2]\n",
            " [  1   6   1   0   4   0   1   1   1   0 198   0]\n",
            " [  1  13   0   0   0   1   0   0   1   0   0 357]]\n",
            "INFO:tensorflow:Step 2400: Validation accuracy = 91.06% (N=4071)\n",
            "INFO:tensorflow:Saving best model to \"work/DS_CNN/DS_CNN1/training/best/ds_cnn_9105.ckpt-2400\"\n",
            "WARNING:tensorflow:From /usr/local/lib/python2.7/dist-packages/tensorflow/python/training/saver.py:966: remove_checkpoint (from tensorflow.python.training.checkpoint_management) is deprecated and will be removed in a future version.\n",
            "Instructions for updating:\n",
            "Use standard file APIs to delete files with this prefix.\n",
            "INFO:tensorflow:So far the best validation accuracy is 91.06%\n",
            "INFO:tensorflow:Confusion Matrix:\n",
            " [[340   0   0   0   0   0   0   0   0   0   0   0]\n",
            " [  1 229   7  16  16  10   9  10  13  10   7  12]\n",
            " [  1   4 377   2   0   3  10   0   0   0   0   0]\n",
            " [  4   8   6 364   0   9   4   0   1   5   1   4]\n",
            " [  1  11   0   0 327   0   3   0   1   7   0   0]\n",
            " [  2   0   4  10   0 348   0   0   1  12   0   0]\n",
            " [  2   7  15   0   0   0 320   4   0   2   1   1]\n",
            " [  1  19   2   0   0   0   3 335   1   0   1   1]\n",
            " [  2   9   0   0   7   1   0   0 338   3   0   3]\n",
            " [  0   3   0   3   2   8   0   1   0 178   0   2]\n",
            " [  0   5   2   0   3   0   0   2   1   2 198   0]\n",
            " [  1  14   0   0   0   1   0   0   1   1   0 355]]\n",
            "INFO:tensorflow:Step 2800: Validation accuracy = 91.11% (N=4071)\n",
            "INFO:tensorflow:Saving best model to \"work/DS_CNN/DS_CNN1/training/best/ds_cnn_9110.ckpt-2800\"\n",
            "INFO:tensorflow:So far the best validation accuracy is 91.11%\n",
            "INFO:tensorflow:Confusion Matrix:\n",
            " [[340   0   0   0   0   0   0   0   0   0   0   0]\n",
            " [  1 231   7  16  13   8   7  12  15  10   7  13]\n",
            " [  2   3 378   1   0   3  10   0   0   0   0   0]\n",
            " [  4   7   4 364   0   9   6   0   1   8   0   3]\n",
            " [  0  13   0   0 324   1   3   0   2   7   0   0]\n",
            " [  2   1   2  13   0 348   0   0   1  10   0   0]\n",
            " [  3   6  16   0   0   0 320   3   0   1   2   1]\n",
            " [  0  16   2   0   0   0   3 340   0   0   1   1]\n",
            " [  2   8   0   0   7   2   0   0 337   2   0   5]\n",
            " [  0   6   0   2   2   8   0   1   1 175   0   2]\n",
            " [  1   5   2   0   2   0   0   2   1   1 199   0]\n",
            " [  1  10   0   1   0   1   0   0   2   0   0 358]]\n",
            "INFO:tensorflow:Step 3200: Validation accuracy = 91.23% (N=4071)\n",
            "INFO:tensorflow:Saving best model to \"work/DS_CNN/DS_CNN1/training/best/ds_cnn_9123.ckpt-3200\"\n",
            "INFO:tensorflow:So far the best validation accuracy is 91.23%\n",
            "INFO:tensorflow:Confusion Matrix:\n",
            " [[340   0   0   0   0   0   0   0   0   0   0   0]\n",
            " [  1 230   6  15  13   8   7  12  15  10   8  15]\n",
            " [  1   4 376   2   0   3  11   0   0   0   0   0]\n",
            " [  4   8   5 365   0   8   5   0   1   6   0   4]\n",
            " [  0  12   0   0 324   1   3   0   2   8   0   0]\n",
            " [  2   0   3  13   0 348   0   0   1  10   0   0]\n",
            " [  3   6  17   0   0   0 320   3   0   1   1   1]\n",
            " [  1  16   2   0   0   0   3 338   0   0   2   1]\n",
            " [  2   5   0   0   7   2   0   0 339   1   0   7]\n",
            " [  0   3   0   3   2   8   0   1   1 177   0   2]\n",
            " [  1   5   2   0   2   0   0   2   1   1 199   0]\n",
            " [  1  10   0   1   0   1   0   0   2   0   0 358]]\n",
            "INFO:tensorflow:Step 3600: Validation accuracy = 91.23% (N=4071)\n",
            "INFO:tensorflow:So far the best validation accuracy is 91.23%\n",
            "INFO:tensorflow:Confusion Matrix:\n",
            " [[340   0   0   0   0   0   0   0   0   0   0   0]\n",
            " [  1 235   6  15  12   8   7  12  14   9   7  14]\n",
            " [  1   4 375   2   0   3  12   0   0   0   0   0]\n",
            " [  3  10   4 364   0   7   6   0   1   6   0   5]\n",
            " [  0  11   0   0 326   1   3   0   1   8   0   0]\n",
            " [  2   1   4  11   0 349   0   0   0  10   0   0]\n",
            " [  3   8  15   0   0   0 320   3   0   1   1   1]\n",
            " [  0  16   1   1   0   0   3 339   0   0   2   1]\n",
            " [  2   6   0   0   7   2   0   0 341   0   0   5]\n",
            " [  0   4   0   4   2   9   0   1   0 175   0   2]\n",
            " [  1   5   2   0   2   0   1   2   1   1 198   0]\n",
            " [  1  12   0   1   0   2   0   0   2   0   0 355]]\n",
            "INFO:tensorflow:Step 4000: Validation accuracy = 91.30% (N=4071)\n",
            "INFO:tensorflow:Saving best model to \"work/DS_CNN/DS_CNN1/training/best/ds_cnn_9130.ckpt-4000\"\n",
            "INFO:tensorflow:So far the best validation accuracy is 91.30%\n",
            "INFO:tensorflow:set_size=4424\n",
            "INFO:tensorflow:Confusion Matrix:\n",
            " [[369   0   0   0   0   0   0   0   0   0   0   0]\n",
            " [  0 239   4  14  20  17   6  14  14  10  13  18]\n",
            " [  1   9 396   1   0   1   9   0   0   0   0   2]\n",
            " [  0  10   1 367   1  14   2   4   0   2   4   0]\n",
            " [  3  13   0   0 393   2   2   0  10   2   0   0]\n",
            " [  0  11   5  12   0 363   1   0   4   6   4   0]\n",
            " [  1   6  11   2   0   0 383   4   0   0   5   0]\n",
            " [  1  17   1   0   0   1   7 365   1   0   2   1]\n",
            " [  1  12   0   0   7   3   0   0 369   2   0   2]\n",
            " [  3   4   0   9   1   8   1   1   1 191   1   0]\n",
            " [  3   7   2   0   1   4   6   5   0   0 178   1]\n",
            " [  0  13   1   1   1   0   0   0   5   1   0 378]]\n",
            "INFO:tensorflow:Final test accuracy = 90.21% (N=4424)\n"
          ],
          "name": "stdout"
        }
      ]
    },
    {
      "metadata": {
        "id": "kAHyGtmfuUsx",
        "colab_type": "text"
      },
      "cell_type": "markdown",
      "source": [
        "Test model --   Need to update the checkpoint file if training different networks."
      ]
    },
    {
      "metadata": {
        "id": "2GBX9LXttqUG",
        "colab_type": "code",
        "colab": {}
      },
      "cell_type": "code",
      "source": [
        "!python ML-KWS-for-MCU/test.py  --model_architecture ds_cnn --model_size_info 5 64 10 4 2 2 64 3 3 1 1 64 3 3 1 1 64 3 3 1 1 64 3 3 1 1 \\\n",
        "--dct_coefficient_count 10 --window_size_ms 40 --window_stride_ms 20 --checkpoint work/DS_CNN/DS_CNN1/training/best/ds_cnn_8805.ckpt-2800\n"
      ],
      "execution_count": 0,
      "outputs": []
    },
    {
      "metadata": {
        "id": "Yjg2p3cQCrL8",
        "colab_type": "text"
      },
      "cell_type": "markdown",
      "source": [
        "Test model with different keyword set-- Need to update the checkpoint file if training different networks."
      ]
    },
    {
      "metadata": {
        "id": "YzZYuR6hCdHy",
        "colab_type": "code",
        "colab": {
          "base_uri": "https://localhost:8080/",
          "height": 1380
        },
        "outputId": "8d7f72c0-99e8-41b0-c0df-729fff91d1ec"
      },
      "cell_type": "code",
      "source": [
        "!python ML-KWS-for-MCU/test.py --data_dir=/tmp/speech_dataset/ --model_architecture ds_cnn --model_size_info 5 64 10 4 2 2 64 3 3 1 1 64 3 3 1 1 64 3 3 1 1 64 3 3 1 1 \\\n",
        "--dct_coefficient_count 10 --window_size_ms 40 --window_stride_ms 20 --checkpoint work/DS_CNN/DS_CNN1/training/best/ds_cnn_9130.ckpt-4000 \\\n",
        "--wanted_words yes,no,up,down,left,right,on,dog,bed,four"
      ],
      "execution_count": 17,
      "outputs": [
        {
          "output_type": "stream",
          "text": [
            "2019-03-08 06:37:00.357097: I tensorflow/core/platform/profile_utils/cpu_utils.cc:94] CPU Frequency: 2200000000 Hz\n",
            "2019-03-08 06:37:00.357400: I tensorflow/compiler/xla/service/service.cc:150] XLA service 0x5569682e3020 executing computations on platform Host. Devices:\n",
            "2019-03-08 06:37:00.357461: I tensorflow/compiler/xla/service/service.cc:158]   StreamExecutor device (0): <undefined>, <undefined>\n",
            "2019-03-08 06:37:00.461490: I tensorflow/stream_executor/cuda/cuda_gpu_executor.cc:998] successful NUMA node read from SysFS had negative value (-1), but there must be at least one NUMA node, so returning NUMA node zero\n",
            "2019-03-08 06:37:00.462073: I tensorflow/compiler/xla/service/service.cc:150] XLA service 0x5569682e3440 executing computations on platform CUDA. Devices:\n",
            "2019-03-08 06:37:00.462180: I tensorflow/compiler/xla/service/service.cc:158]   StreamExecutor device (0): Tesla K80, Compute Capability 3.7\n",
            "2019-03-08 06:37:00.462658: I tensorflow/core/common_runtime/gpu/gpu_device.cc:1433] Found device 0 with properties: \n",
            "name: Tesla K80 major: 3 minor: 7 memoryClockRate(GHz): 0.8235\n",
            "pciBusID: 0000:00:04.0\n",
            "totalMemory: 11.17GiB freeMemory: 11.10GiB\n",
            "2019-03-08 06:37:00.462716: I tensorflow/core/common_runtime/gpu/gpu_device.cc:1512] Adding visible gpu devices: 0\n",
            "2019-03-08 06:37:00.847295: I tensorflow/core/common_runtime/gpu/gpu_device.cc:984] Device interconnect StreamExecutor with strength 1 edge matrix:\n",
            "2019-03-08 06:37:00.847366: I tensorflow/core/common_runtime/gpu/gpu_device.cc:990]      0 \n",
            "2019-03-08 06:37:00.847380: I tensorflow/core/common_runtime/gpu/gpu_device.cc:1003] 0:   N \n",
            "2019-03-08 06:37:00.847681: I tensorflow/core/common_runtime/gpu/gpu_device.cc:1115] Created TensorFlow device (/job:localhost/replica:0/task:0/device:GPU:0 with 10754 MB memory) -> physical GPU (device: 0, name: Tesla K80, pci bus id: 0000:00:04.0, compute capability: 3.7)\n",
            "2019-03-08 06:38:44.813057: I tensorflow/core/common_runtime/gpu/gpu_device.cc:1512] Adding visible gpu devices: 0\n",
            "2019-03-08 06:38:44.813370: I tensorflow/core/common_runtime/gpu/gpu_device.cc:984] Device interconnect StreamExecutor with strength 1 edge matrix:\n",
            "2019-03-08 06:38:44.813396: I tensorflow/core/common_runtime/gpu/gpu_device.cc:990]      0 \n",
            "2019-03-08 06:38:44.813411: I tensorflow/core/common_runtime/gpu/gpu_device.cc:1003] 0:   N \n",
            "2019-03-08 06:38:44.813686: I tensorflow/core/common_runtime/gpu/gpu_device.cc:1115] Created TensorFlow device (/job:localhost/replica:0/task:0/device:GPU:0 with 10754 MB memory) -> physical GPU (device: 0, name: Tesla K80, pci bus id: 0000:00:04.0, compute capability: 3.7)\n",
            "WARNING:tensorflow:From /usr/local/lib/python2.7/dist-packages/tensorflow/python/framework/op_def_library.py:263: colocate_with (from tensorflow.python.framework.ops) is deprecated and will be removed in a future version.\n",
            "Instructions for updating:\n",
            "Colocations handled automatically by placer.\n",
            "WARNING:tensorflow:From /usr/local/lib/python2.7/dist-packages/tensorflow/python/ops/confusion_matrix.py:193: to_int64 (from tensorflow.python.ops.math_ops) is deprecated and will be removed in a future version.\n",
            "Instructions for updating:\n",
            "Use tf.cast instead.\n",
            "WARNING:tensorflow:From /usr/local/lib/python2.7/dist-packages/tensorflow/python/ops/confusion_matrix.py:194: to_int32 (from tensorflow.python.ops.math_ops) is deprecated and will be removed in a future version.\n",
            "Instructions for updating:\n",
            "Use tf.cast instead.\n",
            "WARNING:tensorflow:From /usr/local/lib/python2.7/dist-packages/tensorflow/python/training/saver.py:1266: checkpoint_exists (from tensorflow.python.training.checkpoint_management) is deprecated and will be removed in a future version.\n",
            "Instructions for updating:\n",
            "Use standard file APIs to check for files with this prefix.\n",
            "INFO:tensorflow:Restoring parameters from work/DS_CNN/DS_CNN1/training/best/ds_cnn_9130.ckpt-4000\n",
            "INFO:tensorflow:set_size=33412\n",
            "2019-03-08 06:38:46.342681: I tensorflow/stream_executor/dso_loader.cc:152] successfully opened CUDA library libcublas.so.10.0 locally\n",
            "INFO:tensorflow:Confusion Matrix:\n",
            " [[2780    0    0    0    0    0    0    0    0    0    0    0]\n",
            " [  18 2004   24  118  149   58   38   71  159   55   65  117]\n",
            " [   7   39 3038   21    6   14   34    3    0    3    5    8]\n",
            " [   9   41   13 2928    8   42   13    1    1   33   10   10]\n",
            " [  17   60    2    5 2843    2   15    0   30    9   18    5]\n",
            " [  14   39   10   80    2 2972    9    0   14   57   10   14]\n",
            " [   6   54   61   15    4    5 2812   33    7    7   23   15]\n",
            " [  12   86    2    3    5    1   36 2837    5    1   22    3]\n",
            " [  12   43    1    1   32   13    1    0 2995    8    4   26]\n",
            " [   9   30    3   47    8   63    1    2    2 1478    5   10]\n",
            " [  14   64    4    5    6   14   23   14    1    1 1359    3]\n",
            " [  23   97    2    2    7    1    3    2   22    8    0 2718]]\n",
            "INFO:tensorflow:Training accuracy = 92.07% (N=33412)\n",
            "INFO:tensorflow:set_size=4071\n",
            "INFO:tensorflow:Confusion Matrix:\n",
            " [[340   0   0   0   0   0   0   0   0   0   0   0]\n",
            " [  0 239   3  14  14  13   5   8  13   9   7  15]\n",
            " [  1   5 379   3   0   1   8   0   0   0   0   0]\n",
            " [  4   9   3 368   0   7   6   0   1   4   0   4]\n",
            " [  1   8   0   0 329   0   2   0   2   8   0   0]\n",
            " [  2   1   2  14   0 350   0   0   0   8   0   0]\n",
            " [  3   6  10   0   0   1 326   3   0   1   1   1]\n",
            " [  1  17   1   1   0   0   3 338   0   0   1   1]\n",
            " [  4   2   0   0   8   2   0   0 342   1   0   4]\n",
            " [  0   3   0   3   3   9   0   0   0 177   0   2]\n",
            " [  2   5   0   0   3   0   1   1   2   1 198   0]\n",
            " [  1   8   0   0   0   1   0   0   2   0   0 361]]\n",
            "INFO:tensorflow:Validation accuracy = 92.04% (N=4071)\n",
            "INFO:tensorflow:set_size=4424\n",
            "INFO:tensorflow:Confusion Matrix:\n",
            " [[369   0   0   0   0   0   0   0   0   0   0   0]\n",
            " [  1 244   2  13  20  15   7  11  16   9  13  18]\n",
            " [  1   9 398   1   0   1   7   0   0   0   0   2]\n",
            " [  0   5   2 379   0   8   2   2   0   3   4   0]\n",
            " [  2   9   0   1 394   1   3   0  12   2   1   0]\n",
            " [  2  11   3  18   0 363   1   0   3   4   1   0]\n",
            " [  1   4  11   2   0   0 385   3   0   0   6   0]\n",
            " [  1  16   1   0   0   1   7 363   1   0   4   2]\n",
            " [  2  10   0   0   7   5   0   0 368   1   0   3]\n",
            " [  3   3   0  11   1   9   1   1   1 189   1   0]\n",
            " [  3   9   2   1   1   3   5   4   0   0 179   0]\n",
            " [  0  15   0   1   1   0   0   0   5   1   0 377]]\n",
            "INFO:tensorflow:Test accuracy = 90.60% (N=4424)\n"
          ],
          "name": "stdout"
        }
      ]
    },
    {
      "metadata": {
        "id": "ozFTretQuXQB",
        "colab_type": "text"
      },
      "cell_type": "markdown",
      "source": [
        "Freeze graph to protobuf file"
      ]
    },
    {
      "metadata": {
        "id": "W66vd6KnVerY",
        "colab_type": "code",
        "colab": {
          "base_uri": "https://localhost:8080/",
          "height": 496
        },
        "outputId": "924f30d0-6ed5-4fa1-d230-c4358899567d"
      },
      "cell_type": "code",
      "source": [
        "!python ML-KWS-for-MCU/freeze.py --model_architecture ds_cnn --model_size_info 5 64 10 4 2 2 64 3 3 1 1 64 3 3 1 1 64 3 3 1 1 64 3 3 1 1 --dct_coefficient_count 10 \\\n",
        "--window_size_ms 40 --window_stride_ms 20 --learning_rate 0.0005,0.0001,0.00002 --how_many_training_steps 10000,10000,10000 --summaries_dir work/DS_CNN/DS_CNN1/retrain_logs \\\n",
        "--train_dir work/DS_CNN/DS_CNN1/training --checkpoint work/DS_CNN/DS_CNN1/training/best/ds_cnn_9130.ckpt-4000 --wanted_words yes,no,up,down,left,right,on,dog,bed,four --output_file my_dscnn.pb\n"
      ],
      "execution_count": 18,
      "outputs": [
        {
          "output_type": "stream",
          "text": [
            "2019-03-08 06:44:45.173536: I tensorflow/core/platform/profile_utils/cpu_utils.cc:94] CPU Frequency: 2200000000 Hz\n",
            "2019-03-08 06:44:45.173811: I tensorflow/compiler/xla/service/service.cc:150] XLA service 0x55dd12cb11e0 executing computations on platform Host. Devices:\n",
            "2019-03-08 06:44:45.173862: I tensorflow/compiler/xla/service/service.cc:158]   StreamExecutor device (0): <undefined>, <undefined>\n",
            "2019-03-08 06:44:45.271567: I tensorflow/stream_executor/cuda/cuda_gpu_executor.cc:998] successful NUMA node read from SysFS had negative value (-1), but there must be at least one NUMA node, so returning NUMA node zero\n",
            "2019-03-08 06:44:45.272182: I tensorflow/compiler/xla/service/service.cc:150] XLA service 0x55dd12cb3c80 executing computations on platform CUDA. Devices:\n",
            "2019-03-08 06:44:45.272219: I tensorflow/compiler/xla/service/service.cc:158]   StreamExecutor device (0): Tesla K80, Compute Capability 3.7\n",
            "2019-03-08 06:44:45.272593: I tensorflow/core/common_runtime/gpu/gpu_device.cc:1433] Found device 0 with properties: \n",
            "name: Tesla K80 major: 3 minor: 7 memoryClockRate(GHz): 0.8235\n",
            "pciBusID: 0000:00:04.0\n",
            "totalMemory: 11.17GiB freeMemory: 11.10GiB\n",
            "2019-03-08 06:44:45.272639: I tensorflow/core/common_runtime/gpu/gpu_device.cc:1512] Adding visible gpu devices: 0\n",
            "2019-03-08 06:44:45.651060: I tensorflow/core/common_runtime/gpu/gpu_device.cc:984] Device interconnect StreamExecutor with strength 1 edge matrix:\n",
            "2019-03-08 06:44:45.651134: I tensorflow/core/common_runtime/gpu/gpu_device.cc:990]      0 \n",
            "2019-03-08 06:44:45.651152: I tensorflow/core/common_runtime/gpu/gpu_device.cc:1003] 0:   N \n",
            "2019-03-08 06:44:45.651457: I tensorflow/core/common_runtime/gpu/gpu_device.cc:1115] Created TensorFlow device (/job:localhost/replica:0/task:0/device:GPU:0 with 10754 MB memory) -> physical GPU (device: 0, name: Tesla K80, pci bus id: 0000:00:04.0, compute capability: 3.7)\n",
            "WARNING:tensorflow:From /usr/local/lib/python2.7/dist-packages/tensorflow/python/framework/op_def_library.py:263: colocate_with (from tensorflow.python.framework.ops) is deprecated and will be removed in a future version.\n",
            "Instructions for updating:\n",
            "Colocations handled automatically by placer.\n",
            "WARNING:tensorflow:From /usr/local/lib/python2.7/dist-packages/tensorflow/python/training/saver.py:1266: checkpoint_exists (from tensorflow.python.training.checkpoint_management) is deprecated and will be removed in a future version.\n",
            "Instructions for updating:\n",
            "Use standard file APIs to check for files with this prefix.\n",
            "WARNING:tensorflow:From ML-KWS-for-MCU/freeze.py:128: convert_variables_to_constants (from tensorflow.python.framework.graph_util_impl) is deprecated and will be removed in a future version.\n",
            "Instructions for updating:\n",
            "Use tf.compat.v1.graph_util.convert_variables_to_constants\n",
            "WARNING:tensorflow:From /usr/local/lib/python2.7/dist-packages/tensorflow/python/framework/graph_util_impl.py:245: extract_sub_graph (from tensorflow.python.framework.graph_util_impl) is deprecated and will be removed in a future version.\n",
            "Instructions for updating:\n",
            "Use tf.compat.v1.graph_util.extract_sub_graph\n"
          ],
          "name": "stdout"
        }
      ]
    },
    {
      "metadata": {
        "id": "o616vjqnJoGQ",
        "colab_type": "code",
        "colab": {
          "base_uri": "https://localhost:8080/",
          "height": 547
        },
        "outputId": "c346886a-d02e-4fa0-e508-bcc912c90264"
      },
      "cell_type": "code",
      "source": [
        "!python ML-KWS-for-MCU/label_wav.py --wav 0b7ee1a0_nohash_0.wav --graph /content/my_dscnn.pb --labels /content/work/DS_CNN/DS_CNN1/training/ds_cnn_labels.txt --how_many_labels 10"
      ],
      "execution_count": 22,
      "outputs": [
        {
          "output_type": "stream",
          "text": [
            "WARNING:tensorflow:From ML-KWS-for-MCU/label_wav.py:48: __init__ (from tensorflow.python.platform.gfile) is deprecated and will be removed in a future version.\n",
            "Instructions for updating:\n",
            "Use tf.gfile.GFile.\n",
            "2019-03-08 06:54:23.060180: I tensorflow/core/platform/profile_utils/cpu_utils.cc:94] CPU Frequency: 2200000000 Hz\n",
            "2019-03-08 06:54:23.060550: I tensorflow/compiler/xla/service/service.cc:150] XLA service 0x559d5ee4d1e0 executing computations on platform Host. Devices:\n",
            "2019-03-08 06:54:23.060589: I tensorflow/compiler/xla/service/service.cc:158]   StreamExecutor device (0): <undefined>, <undefined>\n",
            "2019-03-08 06:54:23.156248: I tensorflow/stream_executor/cuda/cuda_gpu_executor.cc:998] successful NUMA node read from SysFS had negative value (-1), but there must be at least one NUMA node, so returning NUMA node zero\n",
            "2019-03-08 06:54:23.156945: I tensorflow/compiler/xla/service/service.cc:150] XLA service 0x559d5ee4fc80 executing computations on platform CUDA. Devices:\n",
            "2019-03-08 06:54:23.157016: I tensorflow/compiler/xla/service/service.cc:158]   StreamExecutor device (0): Tesla K80, Compute Capability 3.7\n",
            "2019-03-08 06:54:23.157367: I tensorflow/core/common_runtime/gpu/gpu_device.cc:1433] Found device 0 with properties: \n",
            "name: Tesla K80 major: 3 minor: 7 memoryClockRate(GHz): 0.8235\n",
            "pciBusID: 0000:00:04.0\n",
            "totalMemory: 11.17GiB freeMemory: 11.10GiB\n",
            "2019-03-08 06:54:23.157400: I tensorflow/core/common_runtime/gpu/gpu_device.cc:1512] Adding visible gpu devices: 0\n",
            "2019-03-08 06:54:23.541374: I tensorflow/core/common_runtime/gpu/gpu_device.cc:984] Device interconnect StreamExecutor with strength 1 edge matrix:\n",
            "2019-03-08 06:54:23.541517: I tensorflow/core/common_runtime/gpu/gpu_device.cc:990]      0 \n",
            "2019-03-08 06:54:23.541546: I tensorflow/core/common_runtime/gpu/gpu_device.cc:1003] 0:   N \n",
            "2019-03-08 06:54:23.541854: W tensorflow/core/common_runtime/gpu/gpu_bfc_allocator.cc:42] Overriding allow_growth setting because the TF_FORCE_GPU_ALLOW_GROWTH environment variable is set. Original config value was 0.\n",
            "2019-03-08 06:54:23.541912: I tensorflow/core/common_runtime/gpu/gpu_device.cc:1115] Created TensorFlow device (/job:localhost/replica:0/task:0/device:GPU:0 with 10754 MB memory) -> physical GPU (device: 0, name: Tesla K80, pci bus id: 0000:00:04.0, compute capability: 3.7)\n",
            "2019-03-08 06:54:23.622985: I tensorflow/stream_executor/dso_loader.cc:152] successfully opened CUDA library libcublas.so.10.0 locally\n",
            "bed (score = 0.96626)\n",
            "_unknown_ (score = 0.01229)\n",
            "down (score = 0.00616)\n",
            "no (score = 0.00460)\n",
            "right (score = 0.00451)\n",
            "left (score = 0.00246)\n",
            "yes (score = 0.00246)\n",
            "dog (score = 0.00057)\n",
            "on (score = 0.00035)\n",
            "up (score = 0.00030)\n"
          ],
          "name": "stdout"
        }
      ]
    },
    {
      "metadata": {
        "id": "lNahajMeudXH",
        "colab_type": "text"
      },
      "cell_type": "markdown",
      "source": [
        "Fold Batchnorm (needed for quantization of ds-cnn)"
      ]
    },
    {
      "metadata": {
        "id": "yEAWerxsVjtB",
        "colab_type": "code",
        "outputId": "ab0357d9-57a1-4580-ffc8-5375a5964f5e",
        "colab": {
          "base_uri": "https://localhost:8080/",
          "height": 853
        }
      },
      "cell_type": "code",
      "source": [
        "!python ML-KWS-for-MCU/fold_batchnorm.py --model_architecture ds_cnn --model_size_info 5 64 10 4 2 2 64 3 3 1 1 64 3 3 1 1 64 3 3 1 1 64 3 3 1 1 \\\n",
        "--dct_coefficient_count 10 --window_size_ms 40  --window_stride_ms 20  --checkpoint work/DS_CNN/DS_CNN1/training/best/ds_cnn_9130.ckpt-4000 \\\n",
        "--wanted_words yes,no,up,down,left,right,on,dog,bed,four\n",
        "\n",
        "\n"
      ],
      "execution_count": 27,
      "outputs": [
        {
          "output_type": "stream",
          "text": [
            "2019-03-08 07:03:59.324517: I tensorflow/core/platform/profile_utils/cpu_utils.cc:94] CPU Frequency: 2200000000 Hz\n",
            "2019-03-08 07:03:59.324772: I tensorflow/compiler/xla/service/service.cc:150] XLA service 0x55bc0dc63760 executing computations on platform Host. Devices:\n",
            "2019-03-08 07:03:59.324824: I tensorflow/compiler/xla/service/service.cc:158]   StreamExecutor device (0): <undefined>, <undefined>\n",
            "2019-03-08 07:03:59.422199: I tensorflow/stream_executor/cuda/cuda_gpu_executor.cc:998] successful NUMA node read from SysFS had negative value (-1), but there must be at least one NUMA node, so returning NUMA node zero\n",
            "2019-03-08 07:03:59.422743: I tensorflow/compiler/xla/service/service.cc:150] XLA service 0x55bc0dc659c0 executing computations on platform CUDA. Devices:\n",
            "2019-03-08 07:03:59.422781: I tensorflow/compiler/xla/service/service.cc:158]   StreamExecutor device (0): Tesla K80, Compute Capability 3.7\n",
            "2019-03-08 07:03:59.423143: I tensorflow/core/common_runtime/gpu/gpu_device.cc:1433] Found device 0 with properties: \n",
            "name: Tesla K80 major: 3 minor: 7 memoryClockRate(GHz): 0.8235\n",
            "pciBusID: 0000:00:04.0\n",
            "totalMemory: 11.17GiB freeMemory: 11.10GiB\n",
            "2019-03-08 07:03:59.423176: I tensorflow/core/common_runtime/gpu/gpu_device.cc:1512] Adding visible gpu devices: 0\n",
            "2019-03-08 07:03:59.798993: I tensorflow/core/common_runtime/gpu/gpu_device.cc:984] Device interconnect StreamExecutor with strength 1 edge matrix:\n",
            "2019-03-08 07:03:59.799071: I tensorflow/core/common_runtime/gpu/gpu_device.cc:990]      0 \n",
            "2019-03-08 07:03:59.799090: I tensorflow/core/common_runtime/gpu/gpu_device.cc:1003] 0:   N \n",
            "2019-03-08 07:03:59.799445: I tensorflow/core/common_runtime/gpu/gpu_device.cc:1115] Created TensorFlow device (/job:localhost/replica:0/task:0/device:GPU:0 with 10754 MB memory) -> physical GPU (device: 0, name: Tesla K80, pci bus id: 0000:00:04.0, compute capability: 3.7)\n",
            "WARNING:tensorflow:From /usr/local/lib/python2.7/dist-packages/tensorflow/python/framework/op_def_library.py:263: colocate_with (from tensorflow.python.framework.ops) is deprecated and will be removed in a future version.\n",
            "Instructions for updating:\n",
            "Colocations handled automatically by placer.\n",
            "WARNING:tensorflow:From /usr/local/lib/python2.7/dist-packages/tensorflow/python/ops/confusion_matrix.py:193: to_int64 (from tensorflow.python.ops.math_ops) is deprecated and will be removed in a future version.\n",
            "Instructions for updating:\n",
            "Use tf.cast instead.\n",
            "WARNING:tensorflow:From /usr/local/lib/python2.7/dist-packages/tensorflow/python/ops/confusion_matrix.py:194: to_int32 (from tensorflow.python.ops.math_ops) is deprecated and will be removed in a future version.\n",
            "Instructions for updating:\n",
            "Use tf.cast instead.\n",
            "WARNING:tensorflow:From /usr/local/lib/python2.7/dist-packages/tensorflow/python/training/saver.py:1266: checkpoint_exists (from tensorflow.python.training.checkpoint_management) is deprecated and will be removed in a future version.\n",
            "Instructions for updating:\n",
            "Use standard file APIs to check for files with this prefix.\n",
            "INFO:tensorflow:Restoring parameters from work/DS_CNN/DS_CNN1/training/best/ds_cnn_9130.ckpt-4000\n",
            "INFO:tensorflow:Folding batch normalization layer parameters to preceding layer weights/biases\n",
            "INFO:tensorflow:Updating DS-CNN/conv_1/weights:0\n",
            "INFO:tensorflow:Updating DS-CNN/conv_1/biases:0\n",
            "INFO:tensorflow:Updating DS-CNN/conv_ds_1/dw_conv/depthwise_weights:0\n",
            "INFO:tensorflow:Updating DS-CNN/conv_ds_1/dw_conv/biases:0\n",
            "INFO:tensorflow:Updating DS-CNN/conv_ds_1/pw_conv/weights:0\n",
            "INFO:tensorflow:Updating DS-CNN/conv_ds_1/pw_conv/biases:0\n",
            "INFO:tensorflow:Updating DS-CNN/conv_ds_2/dw_conv/depthwise_weights:0\n",
            "INFO:tensorflow:Updating DS-CNN/conv_ds_2/dw_conv/biases:0\n",
            "INFO:tensorflow:Updating DS-CNN/conv_ds_2/pw_conv/weights:0\n",
            "INFO:tensorflow:Updating DS-CNN/conv_ds_2/pw_conv/biases:0\n",
            "INFO:tensorflow:Updating DS-CNN/conv_ds_3/dw_conv/depthwise_weights:0\n",
            "INFO:tensorflow:Updating DS-CNN/conv_ds_3/dw_conv/biases:0\n",
            "INFO:tensorflow:Updating DS-CNN/conv_ds_3/pw_conv/weights:0\n",
            "INFO:tensorflow:Updating DS-CNN/conv_ds_3/pw_conv/biases:0\n",
            "INFO:tensorflow:Updating DS-CNN/conv_ds_4/dw_conv/depthwise_weights:0\n",
            "INFO:tensorflow:Updating DS-CNN/conv_ds_4/dw_conv/biases:0\n",
            "INFO:tensorflow:Updating DS-CNN/conv_ds_4/pw_conv/weights:0\n",
            "INFO:tensorflow:Updating DS-CNN/conv_ds_4/pw_conv/biases:0\n",
            "INFO:tensorflow:Saving new checkpoint at work/DS_CNN/DS_CNN1/training/best/ds_cnn_9130.ckpt-4000_bnfused\n"
          ],
          "name": "stdout"
        }
      ]
    },
    {
      "metadata": {
        "id": "vueY3Jh1upj0",
        "colab_type": "text"
      },
      "cell_type": "markdown",
      "source": [
        "Quantize model to weights.h file"
      ]
    },
    {
      "metadata": {
        "id": "H5qnlEqUJf1C",
        "colab_type": "code",
        "outputId": "7cb62d47-d266-46ee-a490-2fe9757b07e7",
        "colab": {
          "base_uri": "https://localhost:8080/",
          "height": 1720
        }
      },
      "cell_type": "code",
      "source": [
        "!python ML-KWS-for-MCU/quant_test.py --data_dir=/tmp/speech_dataset/ --model_architecture ds_cnn --model_size_info 5 64 10 4 2 2 64 3 3 1 1 64 3 3 1 1 64 3 3 1 1 64 3 3 1 1 \\\n",
        "--dct_coefficient_count 10 --window_size_ms 40  --window_stride_ms 20 --checkpoint work/DS_CNN/DS_CNN1/training/best/ds_cnn_9130.ckpt-4000_bnfused --act_max 32 0 0 0 0 0 0 0 0 0 0 0 \\\n",
        "--wanted_words yes,no,up,down,left,right,on,dog,bed,four"
      ],
      "execution_count": 28,
      "outputs": [
        {
          "output_type": "stream",
          "text": [
            "2019-03-08 07:05:45.435794: I tensorflow/core/platform/profile_utils/cpu_utils.cc:94] CPU Frequency: 2200000000 Hz\n",
            "2019-03-08 07:05:45.436085: I tensorflow/compiler/xla/service/service.cc:150] XLA service 0x55e82bd98ec0 executing computations on platform Host. Devices:\n",
            "2019-03-08 07:05:45.436127: I tensorflow/compiler/xla/service/service.cc:158]   StreamExecutor device (0): <undefined>, <undefined>\n",
            "2019-03-08 07:05:45.533761: I tensorflow/stream_executor/cuda/cuda_gpu_executor.cc:998] successful NUMA node read from SysFS had negative value (-1), but there must be at least one NUMA node, so returning NUMA node zero\n",
            "2019-03-08 07:05:45.534376: I tensorflow/compiler/xla/service/service.cc:150] XLA service 0x55e82bd992e0 executing computations on platform CUDA. Devices:\n",
            "2019-03-08 07:05:45.534417: I tensorflow/compiler/xla/service/service.cc:158]   StreamExecutor device (0): Tesla K80, Compute Capability 3.7\n",
            "2019-03-08 07:05:45.534851: I tensorflow/core/common_runtime/gpu/gpu_device.cc:1433] Found device 0 with properties: \n",
            "name: Tesla K80 major: 3 minor: 7 memoryClockRate(GHz): 0.8235\n",
            "pciBusID: 0000:00:04.0\n",
            "totalMemory: 11.17GiB freeMemory: 11.10GiB\n",
            "2019-03-08 07:05:45.534887: I tensorflow/core/common_runtime/gpu/gpu_device.cc:1512] Adding visible gpu devices: 0\n",
            "2019-03-08 07:05:45.927792: I tensorflow/core/common_runtime/gpu/gpu_device.cc:984] Device interconnect StreamExecutor with strength 1 edge matrix:\n",
            "2019-03-08 07:05:45.927870: I tensorflow/core/common_runtime/gpu/gpu_device.cc:990]      0 \n",
            "2019-03-08 07:05:45.927890: I tensorflow/core/common_runtime/gpu/gpu_device.cc:1003] 0:   N \n",
            "2019-03-08 07:05:45.928217: I tensorflow/core/common_runtime/gpu/gpu_device.cc:1115] Created TensorFlow device (/job:localhost/replica:0/task:0/device:GPU:0 with 10754 MB memory) -> physical GPU (device: 0, name: Tesla K80, pci bus id: 0000:00:04.0, compute capability: 3.7)\n",
            "2019-03-08 07:07:19.879517: I tensorflow/core/common_runtime/gpu/gpu_device.cc:1512] Adding visible gpu devices: 0\n",
            "2019-03-08 07:07:19.879657: I tensorflow/core/common_runtime/gpu/gpu_device.cc:984] Device interconnect StreamExecutor with strength 1 edge matrix:\n",
            "2019-03-08 07:07:19.879696: I tensorflow/core/common_runtime/gpu/gpu_device.cc:990]      0 \n",
            "2019-03-08 07:07:19.879726: I tensorflow/core/common_runtime/gpu/gpu_device.cc:1003] 0:   N \n",
            "2019-03-08 07:07:19.880147: I tensorflow/core/common_runtime/gpu/gpu_device.cc:1115] Created TensorFlow device (/job:localhost/replica:0/task:0/device:GPU:0 with 10754 MB memory) -> physical GPU (device: 0, name: Tesla K80, pci bus id: 0000:00:04.0, compute capability: 3.7)\n",
            "WARNING:tensorflow:From /usr/local/lib/python2.7/dist-packages/tensorflow/python/framework/op_def_library.py:263: colocate_with (from tensorflow.python.framework.ops) is deprecated and will be removed in a future version.\n",
            "Instructions for updating:\n",
            "Colocations handled automatically by placer.\n",
            "WARNING:tensorflow:From /usr/local/lib/python2.7/dist-packages/tensorflow/python/ops/confusion_matrix.py:193: to_int64 (from tensorflow.python.ops.math_ops) is deprecated and will be removed in a future version.\n",
            "Instructions for updating:\n",
            "Use tf.cast instead.\n",
            "WARNING:tensorflow:From /usr/local/lib/python2.7/dist-packages/tensorflow/python/ops/confusion_matrix.py:194: to_int32 (from tensorflow.python.ops.math_ops) is deprecated and will be removed in a future version.\n",
            "Instructions for updating:\n",
            "Use tf.cast instead.\n",
            "WARNING:tensorflow:From /usr/local/lib/python2.7/dist-packages/tensorflow/python/training/saver.py:1266: checkpoint_exists (from tensorflow.python.training.checkpoint_management) is deprecated and will be removed in a future version.\n",
            "Instructions for updating:\n",
            "Use standard file APIs to check for files with this prefix.\n",
            "INFO:tensorflow:Restoring parameters from work/DS_CNN/DS_CNN1/training/best/ds_cnn_9130.ckpt-4000_bnfused\n",
            "DS_CNN_conv_1_weights_0 number of wts/bias: (10, 4, 1, 64) dec bits: 10 max: (0.10253906,0.102342434) min: (-0.076171875,-0.075754754)\n",
            "DS_CNN_conv_1_biases_0 number of wts/bias: (64,) dec bits: 8 max: (0.3515625,0.35099667) min: (-0.22265625,-0.2218147)\n",
            "DS_CNN_conv_ds_1_dw_conv_depthwise_weights_0 number of wts/bias: (3, 3, 64, 1) dec bits: 5 max: (3.125,3.112359) min: (-2.625,-2.6366622)\n",
            "DS_CNN_conv_ds_1_dw_conv_biases_0 number of wts/bias: (64,) dec bits: 7 max: (0.6640625,0.6602136) min: (-0.953125,-0.9532913)\n",
            "DS_CNN_conv_ds_1_pw_conv_weights_0 number of wts/bias: (1, 1, 64, 64) dec bits: 7 max: (0.6171875,0.61556274) min: (-0.7890625,-0.7915081)\n",
            "DS_CNN_conv_ds_1_pw_conv_biases_0 number of wts/bias: (64,) dec bits: 7 max: (0.984375,0.984737) min: (-0.703125,-0.7030404)\n",
            "DS_CNN_conv_ds_2_dw_conv_depthwise_weights_0 number of wts/bias: (3, 3, 64, 1) dec bits: 5 max: (2.125,2.1262205) min: (-1.6875,-1.7012514)\n",
            "DS_CNN_conv_ds_2_dw_conv_biases_0 number of wts/bias: (64,) dec bits: 6 max: (0.953125,0.9526056) min: (-1.296875,-1.2945486)\n",
            "DS_CNN_conv_ds_2_pw_conv_weights_0 number of wts/bias: (1, 1, 64, 64) dec bits: 7 max: (0.5859375,0.58230186) min: (-0.625,-0.6285935)\n",
            "DS_CNN_conv_ds_2_pw_conv_biases_0 number of wts/bias: (64,) dec bits: 6 max: (1.234375,1.2380538) min: (-1.53125,-1.5350919)\n",
            "DS_CNN_conv_ds_3_dw_conv_depthwise_weights_0 number of wts/bias: (3, 3, 64, 1) dec bits: 6 max: (1.296875,1.2953528) min: (-1.46875,-1.4695389)\n",
            "DS_CNN_conv_ds_3_dw_conv_biases_0 number of wts/bias: (64,) dec bits: 6 max: (1.375,1.3732842) min: (-1.1875,-1.1804627)\n",
            "DS_CNN_conv_ds_3_pw_conv_weights_0 number of wts/bias: (1, 1, 64, 64) dec bits: 7 max: (0.65625,0.6536417) min: (-0.625,-0.62341046)\n",
            "DS_CNN_conv_ds_3_pw_conv_biases_0 number of wts/bias: (64,) dec bits: 6 max: (1.34375,1.3467345) min: (-1.265625,-1.2655045)\n",
            "DS_CNN_conv_ds_4_dw_conv_depthwise_weights_0 number of wts/bias: (3, 3, 64, 1) dec bits: 6 max: (0.953125,0.9540738) min: (-1.59375,-1.5984304)\n",
            "DS_CNN_conv_ds_4_dw_conv_biases_0 number of wts/bias: (64,) dec bits: 6 max: (1.421875,1.4242034) min: (-1.125,-1.1182506)\n",
            "DS_CNN_conv_ds_4_pw_conv_weights_0 number of wts/bias: (1, 1, 64, 64) dec bits: 7 max: (0.6796875,0.6771618) min: (-0.5546875,-0.5542988)\n",
            "DS_CNN_conv_ds_4_pw_conv_biases_0 number of wts/bias: (64,) dec bits: 7 max: (0.875,0.8777436) min: (-0.546875,-0.55066437)\n",
            "DS_CNN_fc1_weights_0 number of wts/bias: (64, 12) dec bits: 7 max: (0.65625,0.65311086) min: (-0.6171875,-0.6204451)\n",
            "DS_CNN_fc1_biases_0 number of wts/bias: (12,) dec bits: 11 max: (0.05859375,0.05873861) min: (-0.045898438,-0.046094287)\n",
            "INFO:tensorflow:set_size=33412\n",
            "2019-03-08 07:07:20.822394: I tensorflow/stream_executor/dso_loader.cc:152] successfully opened CUDA library libcublas.so.10.0 locally\n",
            "INFO:tensorflow:Confusion Matrix:\n",
            " [[2771    0    0    0    0    0    0    0    0    0    0    0]\n",
            " [  15 1964   21   91  106   45   34   68   89   71   52  112]\n",
            " [   7   45 3187   20    1    9   48    1    0    2   12    4]\n",
            " [  16   53   13 3054    4   19   18    3    1   16   10   11]\n",
            " [  24   94    1    2 2763    0   11    4   19   10   16    6]\n",
            " [  13   42   15   90    4 2865   10    0    8   45   18    4]\n",
            " [   7   58   60   27    9    2 2825   20    0    0   29    8]\n",
            " [  11   81    0    9    3    0   25 2759    3    1   17    5]\n",
            " [  13   98    1    1   58   12    1    3 2868   17    3   28]\n",
            " [  10   29    4   57   15   54    2    0    2 1526    5   15]\n",
            " [  15   82    1    6    7   10   22    9    5    0 1452    6]\n",
            " [  18   90    3    5   10    1    2    3   11    2    0 2814]]\n",
            "INFO:tensorflow:Training accuracy = 92.33% (N=33412)\n",
            "INFO:tensorflow:set_size=4071\n",
            "INFO:tensorflow:Confusion Matrix:\n",
            " [[340   0   0   0   0   0   0   0   0   0   0   0]\n",
            " [  0 246   3  11  13  12   4  10  10   9   5  17]\n",
            " [  1   4 379   3   0   1   9   0   0   0   0   0]\n",
            " [  5   6   4 378   0   3   2   0   1   4   1   2]\n",
            " [  0  11   0   0 333   0   1   0   0   5   0   0]\n",
            " [  2   1   3  15   0 348   0   0   0   6   2   0]\n",
            " [  3   3  12   0   0   0 326   4   0   1   2   1]\n",
            " [  0  11   0   1   0   0   2 347   0   0   1   1]\n",
            " [  4   3   0   0   8   2   0   1 336   1   1   7]\n",
            " [  0   3   1   4   3   3   0   2   1 178   0   2]\n",
            " [  1   8   1   0   2   0   2   1   1   0 197   0]\n",
            " [  1  11   0   0   1   0   0   0   0   0   0 360]]\n",
            "INFO:tensorflow:Validation accuracy = 92.56% (N=4071)\n",
            "INFO:tensorflow:set_size=4424\n",
            "INFO:tensorflow:Confusion Matrix:\n",
            " [[369   0   0   0   0   0   0   0   0   0   0   0]\n",
            " [  1 253   3  12  21  13   5  12  12   8  11  18]\n",
            " [  1   9 397   2   0   1   7   0   0   0   0   2]\n",
            " [  0   9   2 378   0   7   2   2   0   1   4   0]\n",
            " [  2  12   0   1 398   0   3   0   7   2   0   0]\n",
            " [  2  11   4  18   0 359   3   0   2   5   2   0]\n",
            " [  1   3  10   3   0   0 386   3   0   0   6   0]\n",
            " [  1  16   1   0   0   0   6 367   1   0   3   1]\n",
            " [  2  14   0   0   7   5   0   0 364   1   0   3]\n",
            " [  3   5   0  12   1   7   1   1   0 189   1   0]\n",
            " [  2  10   1   1   1   2   6   4   0   0 180   0]\n",
            " [  1  17   0   1   4   0   0   0   1   0   0 376]]\n",
            "INFO:tensorflow:Test accuracy = 90.78% (N=4424)\n"
          ],
          "name": "stdout"
        }
      ]
    },
    {
      "metadata": {
        "id": "HG-LhQsWuzHG",
        "colab_type": "text"
      },
      "cell_type": "markdown",
      "source": [
        "Download weights.h"
      ]
    },
    {
      "metadata": {
        "id": "9VKYI14OMo5c",
        "colab_type": "code",
        "colab": {}
      },
      "cell_type": "code",
      "source": [
        "from google.colab import files\n",
        "\n",
        "files.download('weights.h')"
      ],
      "execution_count": 0,
      "outputs": []
    },
    {
      "metadata": {
        "id": "kCJVWFNmu4pE",
        "colab_type": "text"
      },
      "cell_type": "markdown",
      "source": [
        "Download model as tar file"
      ]
    },
    {
      "metadata": {
        "id": "mF5o-2mZbYpE",
        "colab_type": "code",
        "outputId": "a66e9e93-aa62-489a-9555-47037ed495e4",
        "colab": {
          "base_uri": "https://localhost:8080/",
          "height": 714
        }
      },
      "cell_type": "code",
      "source": [
        "!tar -cvf dscnn__defaultDataset_4000.tar /content/work/\n",
        "!ls -l\n",
        "\n",
        "from google.colab import files\n",
        "\n",
        "files.download('dscnn__defaultDataset_4000.tar')"
      ],
      "execution_count": 30,
      "outputs": [
        {
          "output_type": "stream",
          "text": [
            "tar: Removing leading `/' from member names\n",
            "/content/work/\n",
            "/content/work/DS_CNN/\n",
            "/content/work/DS_CNN/DS_CNN1/\n",
            "/content/work/DS_CNN/DS_CNN1/training/\n",
            "/content/work/DS_CNN/DS_CNN1/training/ds_cnn_labels.txt\n",
            "/content/work/DS_CNN/DS_CNN1/training/best/\n",
            "/content/work/DS_CNN/DS_CNN1/training/best/ds_cnn_9130.ckpt-4000_bnfused.data-00000-of-00001\n",
            "/content/work/DS_CNN/DS_CNN1/training/best/ds_cnn_9123.ckpt-3200.meta\n",
            "/content/work/DS_CNN/DS_CNN1/training/best/ds_cnn_9002.ckpt-2000.meta\n",
            "/content/work/DS_CNN/DS_CNN1/training/best/ds_cnn_9002.ckpt-2000.data-00000-of-00001\n",
            "/content/work/DS_CNN/DS_CNN1/training/best/checkpoint\n",
            "/content/work/DS_CNN/DS_CNN1/training/best/ds_cnn_9123.ckpt-3200.index\n",
            "/content/work/DS_CNN/DS_CNN1/training/best/ds_cnn_9130.ckpt-4000_bnfused.meta\n",
            "/content/work/DS_CNN/DS_CNN1/training/best/ds_cnn_9105.ckpt-2400.index\n",
            "/content/work/DS_CNN/DS_CNN1/training/best/ds_cnn_9130.ckpt-4000.index\n",
            "/content/work/DS_CNN/DS_CNN1/training/best/ds_cnn_9130.ckpt-4000.data-00000-of-00001\n",
            "/content/work/DS_CNN/DS_CNN1/training/best/ds_cnn_9130.ckpt-4000.meta\n",
            "/content/work/DS_CNN/DS_CNN1/training/best/ds_cnn_9123.ckpt-3200.data-00000-of-00001\n",
            "/content/work/DS_CNN/DS_CNN1/training/best/ds_cnn_9105.ckpt-2400.meta\n",
            "/content/work/DS_CNN/DS_CNN1/training/best/ds_cnn_9110.ckpt-2800.index\n",
            "/content/work/DS_CNN/DS_CNN1/training/best/ds_cnn_9130.ckpt-4000_bnfused.index\n",
            "/content/work/DS_CNN/DS_CNN1/training/best/ds_cnn_9110.ckpt-2800.data-00000-of-00001\n",
            "/content/work/DS_CNN/DS_CNN1/training/best/ds_cnn_9110.ckpt-2800.meta\n",
            "/content/work/DS_CNN/DS_CNN1/training/best/ds_cnn_9002.ckpt-2000.index\n",
            "/content/work/DS_CNN/DS_CNN1/training/best/ds_cnn_9105.ckpt-2400.data-00000-of-00001\n",
            "/content/work/DS_CNN/DS_CNN1/training/ds_cnn.pbtxt\n",
            "/content/work/DS_CNN/DS_CNN1/retrain_logs/\n",
            "/content/work/DS_CNN/DS_CNN1/retrain_logs/validation/\n",
            "/content/work/DS_CNN/DS_CNN1/retrain_logs/validation/events.out.tfevents.1552025222.aa7c43130848\n",
            "/content/work/DS_CNN/DS_CNN1/retrain_logs/train/\n",
            "/content/work/DS_CNN/DS_CNN1/retrain_logs/train/events.out.tfevents.1552025111.aa7c43130848\n",
            "total 5536\n",
            "-rw-r--r-- 1 root root   32044 Mar  8 06:52 0b7ee1a0_nohash_0.wav\n",
            "-rw-r--r-- 1 root root 5396480 Mar  8 07:11 dscnn__defaultDataset_4000.tar\n",
            "drwxr-xr-x 6 root root    4096 Mar  8 05:42 ESC-50\n",
            "drwxr-xr-x 5 root root    4096 Mar  8 07:05 ML-KWS-for-MCU\n",
            "-rw-r--r-- 1 root root  119509 Mar  8 06:44 my_dscnn.pb\n",
            "drwxr-xr-x 1 root root    4096 Feb 26 17:33 sample_data\n",
            "-rw-r--r-- 1 root root   96234 Mar  8 07:07 weights.h\n",
            "drwxr-xr-x 3 root root    4096 Mar  8 06:05 work\n"
          ],
          "name": "stdout"
        }
      ]
    },
    {
      "metadata": {
        "id": "Rpri-52Px3vq",
        "colab_type": "code",
        "colab": {}
      },
      "cell_type": "code",
      "source": [
        "!rm -r ESC-50\n"
      ],
      "execution_count": 0,
      "outputs": []
    },
    {
      "metadata": {
        "id": "cbB0lFOjp9xG",
        "colab_type": "code",
        "colab": {}
      },
      "cell_type": "code",
      "source": [
        "import os\n",
        "import shutil\n",
        "import urllib\n",
        "import zipfile\n",
        "import glob\n",
        "\n",
        "def download_dataset(name):\n",
        "    \"\"\"Download the dataset into current working directory.\"\"\"\n",
        "    if not os.path.exists(name):\n",
        "        os.mkdir(name)\n",
        "        urllib.urlretrieve('https://github.com/karoldvl/{0}/archive/master.zip'.format(name), '{0}/{0}.zip'.format(name))\n",
        "\n",
        "        with zipfile.ZipFile('{0}/{0}.zip'.format(name)) as package:\n",
        "            package.extractall('{0}/'.format(name))\n",
        "\n",
        "        os.unlink('{0}/{0}.zip'.format(name))        \n",
        "\n",
        "        for src in glob.glob('{0}/{0}-master/*'.format(name)):\n",
        "            shutil.move(src, '{0}/{1}'.format(name, os.path.basename(src)))\n",
        "\n",
        "        os.rmdir('{0}/{0}-master'.format(name))\n",
        "        #os.rmdir('ESC-50-master'.format(name))\n",
        "        \n",
        "#download_dataset('ESC-10')\n",
        "download_dataset('ESC-50')"
      ],
      "execution_count": 0,
      "outputs": []
    },
    {
      "metadata": {
        "id": "GuvdEqU61EiV",
        "colab_type": "code",
        "colab": {
          "base_uri": "https://localhost:8080/",
          "height": 187
        },
        "outputId": "5fa067ce-ec4c-4829-c18d-c1902c79c519"
      },
      "cell_type": "code",
      "source": [
        "!ls -l ESC-50\n"
      ],
      "execution_count": 14,
      "outputs": [
        {
          "output_type": "stream",
          "text": [
            "total 1372\n",
            "drwxr-xr-x 2 root root  69632 Mar  8 05:42 audio\n",
            "-rw-r--r-- 1 root root 999382 Mar  8 05:42 esc50.gif\n",
            "drwxr-xr-x 4 root root   4096 Mar  8 05:42 ESC-50-master\n",
            "-rw-r--r-- 1 root root 284523 Mar  8 05:42 LICENSE\n",
            "drwxr-xr-x 2 root root   4096 Mar  8 05:42 meta\n",
            "-rw-r--r-- 1 root root     42 Mar  8 05:42 pytest.ini\n",
            "-rw-r--r-- 1 root root  25036 Mar  8 05:42 README.md\n",
            "-rw-r--r-- 1 root root     45 Mar  8 05:42 requirements.txt\n",
            "drwxr-xr-x 2 root root   4096 Mar  8 05:42 tests\n"
          ],
          "name": "stdout"
        }
      ]
    }
  ]
}