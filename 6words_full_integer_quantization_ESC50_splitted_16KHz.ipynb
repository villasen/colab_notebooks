{
  "nbformat": 4,
  "nbformat_minor": 0,
  "metadata": {
    "colab": {
      "name": "6words-full-integer-quantization-ESC50-splitted-16KHz.ipynb",
      "provenance": [],
      "include_colab_link": true
    },
    "kernelspec": {
      "name": "python3",
      "display_name": "Python 3"
    }
  },
  "cells": [
    {
      "cell_type": "markdown",
      "metadata": {
        "id": "view-in-github",
        "colab_type": "text"
      },
      "source": [
        "<a href=\"https://colab.research.google.com/github/villasen/colab_notebooks/blob/master/6words_full_integer_quantization_ESC50_splitted_16KHz.ipynb\" target=\"_parent\"><img src=\"https://colab.research.google.com/assets/colab-badge.svg\" alt=\"Open In Colab\"/></a>"
      ]
    },
    {
      "cell_type": "code",
      "metadata": {
        "id": "ixSfN52b0FhH",
        "colab_type": "code",
        "colab": {
          "base_uri": "https://localhost:8080/",
          "height": 123
        },
        "outputId": "f780b519-868f-492e-b892-072a38c2e1cd"
      },
      "source": [
        "!git clone https://github.com/villasen/Sound-Datasets.git\n",
        "!rm -r sample_data"
      ],
      "execution_count": 1,
      "outputs": [
        {
          "output_type": "stream",
          "text": [
            "Cloning into 'Sound-Datasets'...\n",
            "remote: Enumerating objects: 49500, done.\u001b[K\n",
            "remote: Total 49500 (delta 0), reused 0 (delta 0), pack-reused 49500\u001b[K\n",
            "Receiving objects: 100% (49500/49500), 1.97 GiB | 35.97 MiB/s, done.\n",
            "Resolving deltas: 100% (15354/15354), done.\n",
            "Checking out files: 100% (53687/53687), done.\n"
          ],
          "name": "stdout"
        }
      ]
    },
    {
      "cell_type": "code",
      "metadata": {
        "id": "Nf9a330N0iOo",
        "colab_type": "code",
        "colab": {}
      },
      "source": [
        "MFCC=14"
      ],
      "execution_count": 0,
      "outputs": []
    },
    {
      "cell_type": "code",
      "metadata": {
        "id": "4JfGzx141sRB",
        "colab_type": "code",
        "colab": {
          "base_uri": "https://localhost:8080/",
          "height": 52
        },
        "outputId": "9539035e-6f0f-49ba-df04-0f696e159ea2"
      },
      "source": [
        "import keras\n",
        "from keras import layers\n",
        "from keras import models\n",
        "from keras import backend as K\n",
        "from keras import optimizers\n",
        "from keras import utils\n",
        "from keras.models import Sequential\n",
        "from keras.layers import Dense, Dropout, Flatten, Conv2D, MaxPooling2D\n",
        "import numpy as np\n",
        "import librosa\n",
        "import tensorflow\n",
        "import scipy\n",
        "import os, shutil\n",
        "from keras.utils import to_categorical\n",
        "from sklearn.model_selection import train_test_split\n",
        "import matplotlib.pyplot as plt\n",
        "import tensorflow as tf\n",
        "from six.moves import urllib\n",
        "import sys\n",
        "import tarfile\n",
        "import os.path\n",
        "from os import path\n",
        "from tensorflow.python.ops import io_ops\n",
        "from tensorflow.contrib.framework.python.ops import audio_ops as contrib_audio\n",
        "\n",
        "\n",
        "from __future__ import absolute_import\n",
        "from __future__ import division\n",
        "from __future__ import print_function\n",
        "\n",
        "from numpy  import array\n",
        "from tensorflow.contrib.quantize.python import fold_batch_norms\n",
        "from tensorflow.contrib.quantize.python import quantize\n",
        "from tensorflow.python.framework import ops\n",
        "print(tf.__version__)\n",
        "\n",
        "\n",
        "\n",
        "\n",
        "\n",
        "\n",
        "########### FUNCTIONS\n",
        "\n",
        "def urban_wav2mfcc(file_path, max_pad_len):\n",
        "    wave, sr = librosa.load(file_path, mono=True, sr=None)\n",
        "    mfcc = librosa.feature.mfcc(wave, sr=16000, n_mfcc=MFCC, n_fft=640, hop_length=320)\n",
        "      \n",
        "    pad_width = max_pad_len - mfcc.shape[1]\n",
        "    #print(max_pad_len)\n",
        "    #print(mfcc.shape[1])\n",
        "    #print(pad_width)\n",
        "    if pad_width < 0: \n",
        "      print(mfcc.shape[1])\n",
        "      print(pad_width)\n",
        "      print(\"error in \"+ file_path)\n",
        "    \n",
        "    mfcc = np.pad(mfcc, pad_width=((0, 0), (0, pad_width)), mode='constant')\n",
        "    return mfcc \n",
        "\n",
        "\n",
        "  \n",
        "  \n",
        "def load_wav_file(wav_file):\n",
        "  with tf.Session(graph=tf.Graph()) as sess:\n",
        "      wav_filename_placeholder = tf.placeholder(tf.string, [])\n",
        "      wav_loader = io_ops.read_file(wav_filename_placeholder)\n",
        "      wav_decoder = contrib_audio.decode_wav(wav_loader, desired_channels=1)\n",
        "      return sess.run(\n",
        "          wav_decoder,\n",
        "          feed_dict={wav_filename_placeholder: wav_file}).audio.flatten()\n",
        "\n",
        "\n",
        "\n",
        "\n",
        "\n",
        "\n",
        "\n",
        "\n"
      ],
      "execution_count": 3,
      "outputs": [
        {
          "output_type": "stream",
          "text": [
            "Using TensorFlow backend.\n"
          ],
          "name": "stderr"
        },
        {
          "output_type": "stream",
          "text": [
            "1.15.0-rc3\n"
          ],
          "name": "stdout"
        }
      ]
    },
    {
      "cell_type": "code",
      "metadata": {
        "id": "HRwHIPoL1wM1",
        "colab_type": "code",
        "colab": {}
      },
      "source": [
        "!pip install --upgrade tensorflow-gpu\n",
        "# Installing tf version 1.15\n",
        "! pip uninstall -y tensorflow\n",
        "#! pip install -U tf-nightly\n",
        "!pip install tf-nightly==1.15.0.dev20190821\n",
        "!rm -rf /tmp/urban_sound_models\n"
      ],
      "execution_count": 0,
      "outputs": []
    },
    {
      "cell_type": "code",
      "metadata": {
        "id": "87Lew_C017Rg",
        "colab_type": "code",
        "colab": {}
      },
      "source": [
        "def build_urban_model():\n",
        " return keras.Sequential([\n",
        "      \n",
        "    keras.layers.Conv2D(64, (4,MFCC), strides=(2,2), padding='same', activation='relu', input_shape=(MFCC,51,1), kernel_regularizer=keras.regularizers.l2(0.001)),     \n",
        "\n",
        "# Depthwise layers\n",
        "    keras.layers.Dropout(0.5), \n",
        "    keras.layers.SeparableConv2D(64, (3,3), strides=(1,1), data_format='channels_last', padding='same', depth_multiplier=1, activation='relu', kernel_regularizer=keras.regularizers.l2(0.001)),\n",
        "    keras.layers.Dropout(0.5),\n",
        "    keras.layers.Conv2D(64, (1,1), strides=(1,1), padding='same', use_bias=False, activation='relu', kernel_regularizer=keras.regularizers.l2(0.001)),\n",
        "    keras.layers.Dropout(0.5),\n",
        "\n",
        "      \n",
        "    keras.layers.AveragePooling2D(pool_size=(5, 25), strides=(2,2), padding='valid', data_format=None),\n",
        "    keras.layers.Dropout(0.5),\n",
        "    keras.layers.Flatten(data_format=None),\n",
        "    keras.layers.Dense(64, kernel_regularizer=keras.regularizers.l2(0.001),  activation='relu'),\n",
        "  \n",
        "      \n",
        "    keras.layers.Dense(6, activation='softmax')     \n",
        "      \n",
        "      \n",
        "  ])  \n"
      ],
      "execution_count": 0,
      "outputs": []
    },
    {
      "cell_type": "code",
      "metadata": {
        "id": "vqEPCQO32Ey-",
        "colab_type": "code",
        "colab": {
          "base_uri": "https://localhost:8080/",
          "height": 996
        },
        "outputId": "2f2489de-f094-472e-c25e-d1c72502ab2d"
      },
      "source": [
        "import tensorflow as tf\n",
        "tf.enable_eager_execution()\n",
        "import os.path\n",
        "from os import path\n",
        "\n",
        "#!rm -r _background_noise_\n",
        "\n",
        "MFCC=14\n",
        "\n",
        "DATA_PATH= '/content/Sound-Datasets/downsampled_ESC-50_splitted_data_set/'\n",
        "!ls -al /content/Sound-Datasets/downsampled_ESC-50_splitted_data_set/\n",
        "\n",
        "\n",
        "labels = os.listdir('Sound-Datasets/downsampled_ESC-50_splitted_data_set/')\n",
        "print(labels)\n",
        "\n",
        "test_single_file = '/content/test_single_file/'\n",
        "if path.exists('/content/test_single_file/') :\n",
        "    print (\"folder test_single exits, removing\")\n",
        "    !rm -rf /content/test_single_file\n",
        "os.mkdir(test_single_file)\n",
        "\n",
        "target_npy_files = \"/content/target_npy_files/\"\n",
        "if path.exists(\"/content/target_npy_files/\") :\n",
        "    print (\"folder target_npy_files exits, removing\")\n",
        "    !rm -rf /content/target_npy_files\n",
        "os.mkdir(target_npy_files)\n",
        "\n",
        "\n",
        "target_txt_files = \"/content/target_txt_files/\"\n",
        "if path.exists(\"/content/target_txt_files/\") :\n",
        "    print (\"folder target_txt_files folder exits, removing\")\n",
        "    !rm -rf /content/target_txt_files\n",
        "os.mkdir(target_txt_files)\n",
        "\n",
        "\n",
        "\n",
        "#crying baby\n",
        "# if path.exists(\"/content/test_single_file/crying_baby\") :\n",
        "#      print (\"folder test_single_file/crying_baby exits, removing\")\n",
        "#      !rm -rf /content/test_single_file/crying_baby\n",
        "# os.mkdir('/content/test_single_file/crying_baby')\n",
        "\n",
        "# dog\n",
        "if path.exists(\"/content/test_single_file/dog\") :\n",
        "     print (\"folder test_single_file/dog exits, removing\")\n",
        "     !rm -rf /content/test_single_file/dog\n",
        "os.mkdir('/content/test_single_file/dog')\n",
        "\n",
        "\n",
        "\n",
        "# clapping\n",
        "if path.exists(\"/content/test_single_file/clapping\") :\n",
        "     print (\"folder test_single_file/clapping exits, removing\")\n",
        "     !rm -rf /content/test_single_file/clapping\n",
        "os.mkdir('/content/test_single_file/clapping')\n",
        "\n",
        "# door knock\n",
        "if path.exists(\"/content/test_single_file/door_knock\") :\n",
        "    print (\"folder test_single_file/door_knock exits, removing\")\n",
        "    !rm -rf /content/test_single_file/door_knock\n",
        "os.mkdir('/content/test_single_file/door_knock')\n",
        "\n",
        "# clock alarm\n",
        "if path.exists(\"/content/test_single_file/clock_alarm\") :\n",
        "    print (\"folder test_single_file/clock_alarm exits, removing\")\n",
        "    !rm -rf /content/test_single_file/clock_alarm\n",
        "os.mkdir('/content/test_single_file/clock_alarm')\n",
        "\n",
        "# glass_breaking\n",
        "if path.exists(\"/content/test_single_file/glass_breaking\") :\n",
        "    print (\"folder test_single_file/glass_breaking exits, removing\")\n",
        "    !rm -rf /content/test_single_file/glass_breaking\n",
        "os.mkdir('/content/test_single_file/glass_breaking')\n",
        "\n",
        "# fireworks\n",
        "if path.exists(\"/content/test_single_file/fireworks\") :\n",
        "    print (\"folder test_single_file/fireworks exits, removing\")\n",
        "    !rm -rf /content/test_single_file/fireworks\n",
        "os.mkdir('/content/test_single_file/fireworks')"
      ],
      "execution_count": 5,
      "outputs": [
        {
          "output_type": "stream",
          "text": [
            "total 608\n",
            "drwxr-xr-x 52 root root  4096 Oct 17 02:32 .\n",
            "drwxr-xr-x 13 root root  4096 Oct 17 02:33 ..\n",
            "drwxr-xr-x  2 root root 12288 Oct 17 02:32 airplane\n",
            "drwxr-xr-x  2 root root 12288 Oct 17 02:32 breathing\n",
            "drwxr-xr-x  2 root root 12288 Oct 17 02:32 brushing_teeth\n",
            "drwxr-xr-x  2 root root 12288 Oct 17 02:32 can_opening\n",
            "drwxr-xr-x  2 root root 12288 Oct 17 02:32 car_horn\n",
            "drwxr-xr-x  2 root root 12288 Oct 17 02:32 cat\n",
            "drwxr-xr-x  2 root root 12288 Oct 17 02:32 chainsaw\n",
            "drwxr-xr-x  2 root root 12288 Oct 17 02:32 chirping_birds\n",
            "drwxr-xr-x  2 root root 12288 Oct 17 02:32 church_bells\n",
            "drwxr-xr-x  2 root root 12288 Oct 17 02:32 clapping\n",
            "drwxr-xr-x  2 root root 12288 Oct 17 02:32 clock_alarm\n",
            "drwxr-xr-x  2 root root 12288 Oct 17 02:32 clock_tick\n",
            "drwxr-xr-x  2 root root 12288 Oct 17 02:32 coughing\n",
            "drwxr-xr-x  2 root root 12288 Oct 17 02:32 cow\n",
            "drwxr-xr-x  2 root root 12288 Oct 17 02:32 crackling_fire\n",
            "drwxr-xr-x  2 root root 12288 Oct 17 02:32 crickets\n",
            "drwxr-xr-x  2 root root 12288 Oct 17 02:32 crow\n",
            "drwxr-xr-x  2 root root 12288 Oct 17 02:32 crying_baby\n",
            "drwxr-xr-x  2 root root 12288 Oct 17 02:32 dog\n",
            "drwxr-xr-x  2 root root 12288 Oct 17 02:32 door_knock\n",
            "drwxr-xr-x  2 root root 12288 Oct 17 02:32 door_wood_creacks\n",
            "drwxr-xr-x  2 root root 12288 Oct 17 02:32 drinking_sipping\n",
            "drwxr-xr-x  2 root root 12288 Oct 17 02:32 engine\n",
            "drwxr-xr-x  2 root root 12288 Oct 17 02:32 fireworks\n",
            "drwxr-xr-x  2 root root 12288 Oct 17 02:32 footsteps\n",
            "drwxr-xr-x  2 root root 12288 Oct 17 02:32 frog\n",
            "drwxr-xr-x  2 root root 12288 Oct 17 02:32 glass_breaking\n",
            "drwxr-xr-x  2 root root 12288 Oct 17 02:32 handsaw\n",
            "drwxr-xr-x  2 root root 12288 Oct 17 02:32 Helicopter\n",
            "drwxr-xr-x  2 root root 12288 Oct 17 02:32 hen\n",
            "drwxr-xr-x  2 root root 12288 Oct 17 02:32 insects\n",
            "drwxr-xr-x  2 root root 12288 Oct 17 02:32 keyboard_typing\n",
            "drwxr-xr-x  2 root root 12288 Oct 17 02:32 laughing\n",
            "drwxr-xr-x  2 root root 12288 Oct 17 02:32 mouse_click\n",
            "drwxr-xr-x  2 root root 12288 Oct 17 02:32 pig\n",
            "drwxr-xr-x  2 root root 12288 Oct 17 02:32 pouring_water\n",
            "drwxr-xr-x  2 root root 12288 Oct 17 02:32 rain\n",
            "drwxr-xr-x  2 root root 12288 Oct 17 02:32 rooster\n",
            "drwxr-xr-x  2 root root 12288 Oct 17 02:32 sea_waves\n",
            "drwxr-xr-x  2 root root 12288 Oct 17 02:32 sheep\n",
            "drwxr-xr-x  2 root root 12288 Oct 17 02:32 siren\n",
            "drwxr-xr-x  2 root root 12288 Oct 17 02:32 sneezing\n",
            "drwxr-xr-x  2 root root 12288 Oct 17 02:32 snoring\n",
            "drwxr-xr-x  2 root root 12288 Oct 17 02:32 thunderstorm\n",
            "drwxr-xr-x  2 root root 12288 Oct 17 02:32 toilet_flush\n",
            "drwxr-xr-x  2 root root 12288 Oct 17 02:32 train\n",
            "drwxr-xr-x  2 root root 12288 Oct 17 02:32 vacuum_cleaner\n",
            "drwxr-xr-x  2 root root 12288 Oct 17 02:32 washing_machine\n",
            "drwxr-xr-x  2 root root 12288 Oct 17 02:32 water_drops\n",
            "drwxr-xr-x  2 root root 12288 Oct 17 02:32 wind\n",
            "['door_wood_creacks', 'chirping_birds', 'insects', 'sea_waves', 'clock_alarm', 'chainsaw', 'siren', 'frog', 'clapping', 'cow', 'rooster', 'drinking_sipping', 'clock_tick', 'can_opening', 'train', 'crickets', 'washing_machine', 'sheep', 'hen', 'thunderstorm', 'breathing', 'glass_breaking', 'water_drops', 'crackling_fire', 'engine', 'handsaw', 'brushing_teeth', 'laughing', 'car_horn', 'pouring_water', 'sneezing', 'wind', 'cat', 'airplane', 'crow', 'door_knock', 'mouse_click', 'pig', 'fireworks', 'toilet_flush', 'church_bells', 'vacuum_cleaner', 'Helicopter', 'rain', 'snoring', 'keyboard_typing', 'dog', 'crying_baby', 'coughing', 'footsteps']\n"
          ],
          "name": "stdout"
        }
      ]
    },
    {
      "cell_type": "markdown",
      "metadata": {
        "id": "AN7VqLDX6vXk",
        "colab_type": "text"
      },
      "source": [
        "### Test sample 1"
      ]
    },
    {
      "cell_type": "code",
      "metadata": {
        "id": "HsZkdzXY6qIv",
        "colab_type": "code",
        "colab": {
          "base_uri": "https://localhost:8080/",
          "height": 54
        },
        "outputId": "fd97da13-d53c-4550-c507-d9c4667109a3"
      },
      "source": [
        "\n",
        "!mv  /content/Sound-Datasets/downsampled_ESC-50_splitted_data_set/crying_baby/A-5-198411-D.wav  /content/test_single_file/crying_baby/\n",
        "!mv  /content/Sound-Datasets/downsampled_ESC-50_splitted_data_set/clapping/A-1-105224-A.wav  /content/test_single_file/clapping/\n",
        "!mv  /content/Sound-Datasets/downsampled_ESC-50_splitted_data_set/dog/A-1-97392-A.wav  /content/test_single_file/dog/\n",
        "!mv  /content/Sound-Datasets/downsampled_ESC-50_splitted_data_set/door_knock/A-1-101336-A.wav  /content/test_single_file/door_knock/\n",
        "!mv  /content/Sound-Datasets/downsampled_ESC-50_splitted_data_set/clock_alarm/A-5-210612-A.wav  /content/test_single_file/clock_alarm/\n",
        "!mv  /content/Sound-Datasets/downsampled_ESC-50_splitted_data_set/glass_breaking/A-1-84705-A.wav  /content/test_single_file/glass_breaking/\n",
        "!mv  /content/Sound-Datasets/downsampled_ESC-50_splitted_data_set/fireworks/A-1-160563-A.wav  /content/test_single_file/fireworks/"
      ],
      "execution_count": 7,
      "outputs": [
        {
          "output_type": "stream",
          "text": [
            "mv: cannot move '/content/Sound-Datasets/downsampled_ESC-50_splitted_data_set/crying_baby/A-5-198411-D.wav' to '/content/test_single_file/crying_baby/': Not a directory\n"
          ],
          "name": "stdout"
        }
      ]
    },
    {
      "cell_type": "markdown",
      "metadata": {
        "id": "clevdCEI623E",
        "colab_type": "text"
      },
      "source": [
        "### Test sample 2"
      ]
    },
    {
      "cell_type": "code",
      "metadata": {
        "id": "TOiX8SOD66_4",
        "colab_type": "code",
        "colab": {}
      },
      "source": [
        "!cp -r /content/Sound-Datasets/downsampled_ESC-50_splitted_data_set/crying_baby/C-1-187207-A.wav  /content/test_single_file/crying_baby/\n",
        "!cp -r /content/Sound-Datasets/downsampled_ESC-50_splitted_data_set/clapping/E-5-221950-A.wav  /content/test_single_file/clapping/\n",
        "!cp -r /content/Sound-Datasets/downsampled_ESC-50_splitted_data_set/door_knock/D-5-250026-B.wav  /content/test_single_file/door_knock/\n",
        "!cp -r /content/Sound-Datasets/downsampled_ESC-50_splitted_data_set/clock_alarm/A-3-117793-A.wav  /content/test_single_file/clock_alarm/\n",
        "!cp -r /content/Sound-Datasets/downsampled_ESC-50_splitted_data_set/glass_breaking/D-3-216280-A.wav  /content/test_single_file/glass_breaking/\n",
        "!cp -r /content/Sound-Datasets/downsampled_ESC-50_splitted_data_set/fireworks/E-5-160614-B.wav  /content/test_single_file/fireworks/\n",
        "!cp -r /content/Sound-Datasets/downsampled_ESC-50_splitted_data_set/dog/C-5-203128-B.wav  /content/test_single_file/dog/"
      ],
      "execution_count": 0,
      "outputs": []
    },
    {
      "cell_type": "code",
      "metadata": {
        "id": "cGCyr3j582pI",
        "colab_type": "code",
        "colab": {
          "base_uri": "https://localhost:8080/",
          "height": 161
        },
        "outputId": "60823154-0976-4788-f8d6-2a0a543e76f6"
      },
      "source": [
        "path = DATA_PATH\n",
        "labels = os.listdir(path) \n",
        "print(labels)\n",
        "\n",
        "max_feature = 0\n",
        "for label in labels:\n",
        "  mfcc_vectors=[]\n",
        "   \n",
        "  wavefiles = [path + label + '/' + wavfile for wavfile in os.listdir(path + '/' + label)]\n",
        "    \n",
        "  if label=='dog' or label=='clapping' or label=='door_knock' or label=='clock_alarm' \\\n",
        "             or label=='glass_breaking' or label=='fireworks': \n",
        "#  if label=='clapping': \n",
        "    for wavfile in wavefiles:\n",
        "            \n",
        "      max_pad_len = 51\n",
        "      #mfcc = urban_wav2mfcc(wavfile, 51)\n",
        "      wave, sr = librosa.load(wavfile , mono=True, sr=None)\n",
        "      #mfcc = librosa.feature.mfcc(wave, sr=16000, n_mfcc=10, n_fft=3200, hop_length=1600)\n",
        "      mfcc = librosa.feature.mfcc(wave, sr=16000, n_mfcc=MFCC, n_fft=640, hop_length=320)\n",
        "      #print(mfcc)\n",
        "      pad_width = max_pad_len - mfcc.shape[1]\n",
        "      #print(max_pad_len)\n",
        "      #print(mfcc.shape[1])\n",
        "      #print(pad_width)\n",
        "      \n",
        "      if pad_width < 0: \n",
        "        print(mfcc.shape[1])\n",
        "        print(pad_width)\n",
        "        #print(\"error in \"+ file_path)\n",
        "      mfcc_vectors.append(mfcc)\n",
        "\n",
        "\n",
        "    np.save('/content/target_npy_files/' + label + '.npy', mfcc_vectors)\n",
        "    np.savetxt('/content/target_txt_files/' + label + '.txt', mfcc_vectors[2], delimiter=', ')\n",
        "    print(label)"
      ],
      "execution_count": 8,
      "outputs": [
        {
          "output_type": "stream",
          "text": [
            "['door_wood_creacks', 'chirping_birds', 'insects', 'sea_waves', 'clock_alarm', 'chainsaw', 'siren', 'frog', 'clapping', 'cow', 'rooster', 'drinking_sipping', 'clock_tick', 'can_opening', 'train', 'crickets', 'washing_machine', 'sheep', 'hen', 'thunderstorm', 'breathing', 'glass_breaking', 'water_drops', 'crackling_fire', 'engine', 'handsaw', 'brushing_teeth', 'laughing', 'car_horn', 'pouring_water', 'sneezing', 'wind', 'cat', 'airplane', 'crow', 'door_knock', 'mouse_click', 'pig', 'fireworks', 'toilet_flush', 'church_bells', 'vacuum_cleaner', 'Helicopter', 'rain', 'snoring', 'keyboard_typing', 'dog', 'crying_baby', 'coughing', 'footsteps']\n",
            "clock_alarm\n",
            "clapping\n",
            "glass_breaking\n",
            "door_knock\n",
            "fireworks\n",
            "dog\n"
          ],
          "name": "stdout"
        }
      ]
    },
    {
      "cell_type": "code",
      "metadata": {
        "id": "CdK2Ouzs9xar",
        "colab_type": "code",
        "colab": {
          "base_uri": "https://localhost:8080/",
          "height": 123
        },
        "outputId": "764fbef7-4e98-4caf-a43b-1869e12c9be5"
      },
      "source": [
        "split_ratio = 0.8\n",
        "random_state = 42\n",
        "\n",
        "npy_files= os.listdir('/content/target_npy_files/')\n",
        "print(npy_files)\n",
        "\n",
        "X = np.load('/content/target_npy_files/' + npy_files[0])\n",
        "y = np.zeros(X.shape[0])\n",
        "print(npy_files[0])\n",
        "print(npy_files[1])\n",
        "print(npy_files[2])\n",
        "print(X.shape)\n",
        "print(y.shape)\n",
        "\n",
        "\n",
        "# # Append all of the dataset into one single array, same goes for \n",
        "for i, label in enumerate(npy_files[1:]):\n",
        "   x = np.load('/content/target_npy_files/' + label)\n",
        "  \n",
        "#     #x = np.load('/content/speech-numpy/' + label)\n",
        "\n",
        "   X = np.vstack((X, x))\n",
        "   y = np.append(y, np.full(x.shape[0], fill_value= (i + 1)))\n",
        "\n",
        "\n",
        "# return train_test_split(X, y, test_size= (1 - split_ratio), random_state=random_state, shuffle=True) \n",
        "X_train, X_test, y_train, y_test = train_test_split(X, y, test_size= (1 - split_ratio), random_state=random_state, shuffle=True)\n",
        "\n",
        "\n",
        "X_train = X_train.reshape(X_train.shape[0], MFCC, 51, 1)\n",
        "X_test = X_test.reshape(X_test.shape[0], MFCC, 51, 1)\n",
        "y_train_hot = to_categorical(y_train)\n",
        "y_test_hot = to_categorical(y_test)\n",
        "\n",
        "\n",
        "\n",
        "\n",
        "\n",
        "#mfcc_crying_baby = urban_wav2mfcc('test_single_file/crying_baby/A-5-198411-D.wav', max_pad_len=51)\n",
        "mfcc_dog = urban_wav2mfcc('test_single_file/dog/A-1-97392-A.wav', max_pad_len=51)\n",
        "mfcc_clapping = urban_wav2mfcc('test_single_file/clapping/A-1-105224-A.wav', max_pad_len=51)\n",
        "mfcc_door_knock = urban_wav2mfcc('test_single_file/door_knock/A-1-101336-A.wav', max_pad_len=51)\n",
        "mfcc_clock_alarm = urban_wav2mfcc('test_single_file/clock_alarm/A-5-210612-A.wav', max_pad_len=51)\n",
        "mfcc_glass_breaking = urban_wav2mfcc('test_single_file/glass_breaking/A-1-84705-A.wav', max_pad_len=51)\n",
        "mfcc_fireworks = urban_wav2mfcc('test_single_file/fireworks/A-1-160563-A.wav', max_pad_len=51)\n",
        "\n",
        "#crying_baby_file = mfcc_crying_baby.reshape(1, MFCC, 51, 1)\n",
        "dog_file = mfcc_dog.reshape(1, MFCC, 51, 1)\n",
        "clapping_file = mfcc_clapping.reshape(1, MFCC, 51, 1)\n",
        "door_knock_file = mfcc_door_knock.reshape(1, MFCC, 51, 1)\n",
        "clock_alarm_file = mfcc_clock_alarm.reshape(1, MFCC, 51, 1)\n",
        "glass_breaking_file = mfcc_glass_breaking.reshape(1, MFCC, 51, 1)\n",
        "fireworks_file = mfcc_fireworks.reshape(1, MFCC, 51, 1)\n",
        "\n",
        "#np.save('/content/' + 'crying_baby_single.npy', crying_baby_file)\n",
        "np.save('/content/' + 'dog_single.npy', dog_file)\n",
        "np.save('/content/' + 'clapping_single.npy', clapping_file)\n",
        "np.save('/content/' + 'door_knock_single.npy', door_knock_file )\n",
        "np.save('/content/' + 'clock_alarm_single.npy', clock_alarm_file )\n",
        "np.save('/content/' + 'glass_breaking_single.npy', glass_breaking_file)\n",
        "np.save('/content/' + 'fireworks_single.npy', fireworks_file)"
      ],
      "execution_count": 9,
      "outputs": [
        {
          "output_type": "stream",
          "text": [
            "['door_knock.npy', 'clapping.npy', 'glass_breaking.npy', 'clock_alarm.npy', 'fireworks.npy', 'dog.npy']\n",
            "door_knock.npy\n",
            "clapping.npy\n",
            "glass_breaking.npy\n",
            "(199, 14, 51)\n",
            "(199,)\n"
          ],
          "name": "stdout"
        }
      ]
    },
    {
      "cell_type": "code",
      "metadata": {
        "id": "ZJG8-dD_BC3W",
        "colab_type": "code",
        "colab": {
          "base_uri": "https://localhost:8080/",
          "height": 1000
        },
        "outputId": "bfd698c6-8aa3-4686-a5f3-a8a3c3881533"
      },
      "source": [
        "!rm checkpoint\n",
        "!rm checkpoints.data-00000-of-00001\n",
        "!rm checkpoints.index\n",
        "!rm checkpoints.meta\n",
        "\n",
        "\n",
        "speech_graph = tf.Graph()\n",
        "speech_sess = tf.Session(graph=speech_graph)\n",
        "\n",
        "keras.backend.set_session(speech_sess)\n",
        "with speech_graph.as_default():\n",
        "     \n",
        "  #build my model\n",
        "  model = build_urban_model()\n",
        "  #give me model structure\n",
        "  model.summary()\n",
        "\n",
        "  #my own optimizer\n",
        "  Amartin = optimizers.Adam(lr=0.0005, beta_1=0.9, beta_2=0.999)\n",
        "  \n",
        "  model.compile(optimizer= Amartin, loss='categorical_crossentropy', metrics=['accuracy'])\n",
        "  \n",
        "  # run it\n",
        "  history = model.fit(X_train, y_train_hot, batch_size=200, epochs=300, verbose=1, validation_data=(X_test, y_test_hot))\n",
        "  #save my graph\n",
        "  saver = tf.train.Saver()\n",
        "  saver.save(speech_sess, 'checkpoints')"
      ],
      "execution_count": 10,
      "outputs": [
        {
          "output_type": "stream",
          "text": [
            "rm: cannot remove 'checkpoint': No such file or directory\n",
            "rm: cannot remove 'checkpoints.data-00000-of-00001': No such file or directory\n",
            "rm: cannot remove 'checkpoints.index': No such file or directory\n",
            "rm: cannot remove 'checkpoints.meta': No such file or directory\n",
            "WARNING:tensorflow:From /usr/local/lib/python3.6/dist-packages/keras/backend/tensorflow_backend.py:66: The name tf.get_default_graph is deprecated. Please use tf.compat.v1.get_default_graph instead.\n",
            "\n",
            "WARNING:tensorflow:From /usr/local/lib/python3.6/dist-packages/keras/backend/tensorflow_backend.py:541: The name tf.placeholder is deprecated. Please use tf.compat.v1.placeholder instead.\n",
            "\n",
            "WARNING:tensorflow:From /usr/local/lib/python3.6/dist-packages/keras/backend/tensorflow_backend.py:4432: The name tf.random_uniform is deprecated. Please use tf.random.uniform instead.\n",
            "\n",
            "WARNING:tensorflow:From /usr/local/lib/python3.6/dist-packages/keras/backend/tensorflow_backend.py:148: The name tf.placeholder_with_default is deprecated. Please use tf.compat.v1.placeholder_with_default instead.\n",
            "\n",
            "WARNING:tensorflow:From /usr/local/lib/python3.6/dist-packages/keras/backend/tensorflow_backend.py:3733: calling dropout (from tensorflow.python.ops.nn_ops) with keep_prob is deprecated and will be removed in a future version.\n",
            "Instructions for updating:\n",
            "Please use `rate` instead of `keep_prob`. Rate should be set to `rate = 1 - keep_prob`.\n",
            "WARNING:tensorflow:From /usr/local/lib/python3.6/dist-packages/keras/backend/tensorflow_backend.py:4271: The name tf.nn.avg_pool is deprecated. Please use tf.nn.avg_pool2d instead.\n",
            "\n",
            "Model: \"sequential_1\"\n",
            "_________________________________________________________________\n",
            "Layer (type)                 Output Shape              Param #   \n",
            "=================================================================\n",
            "conv2d_1 (Conv2D)            (None, 7, 26, 64)         3648      \n",
            "_________________________________________________________________\n",
            "dropout_1 (Dropout)          (None, 7, 26, 64)         0         \n",
            "_________________________________________________________________\n",
            "separable_conv2d_1 (Separabl (None, 7, 26, 64)         4736      \n",
            "_________________________________________________________________\n",
            "dropout_2 (Dropout)          (None, 7, 26, 64)         0         \n",
            "_________________________________________________________________\n",
            "conv2d_2 (Conv2D)            (None, 7, 26, 64)         4096      \n",
            "_________________________________________________________________\n",
            "dropout_3 (Dropout)          (None, 7, 26, 64)         0         \n",
            "_________________________________________________________________\n",
            "average_pooling2d_1 (Average (None, 2, 1, 64)          0         \n",
            "_________________________________________________________________\n",
            "dropout_4 (Dropout)          (None, 2, 1, 64)          0         \n",
            "_________________________________________________________________\n",
            "flatten_1 (Flatten)          (None, 128)               0         \n",
            "_________________________________________________________________\n",
            "dense_1 (Dense)              (None, 64)                8256      \n",
            "_________________________________________________________________\n",
            "dense_2 (Dense)              (None, 6)                 390       \n",
            "=================================================================\n",
            "Total params: 21,126\n",
            "Trainable params: 21,126\n",
            "Non-trainable params: 0\n",
            "_________________________________________________________________\n",
            "WARNING:tensorflow:From /usr/local/lib/python3.6/dist-packages/keras/optimizers.py:793: The name tf.train.Optimizer is deprecated. Please use tf.compat.v1.train.Optimizer instead.\n",
            "\n",
            "WARNING:tensorflow:From /usr/local/lib/python3.6/dist-packages/keras/backend/tensorflow_backend.py:3576: The name tf.log is deprecated. Please use tf.math.log instead.\n",
            "\n",
            "WARNING:tensorflow:From /usr/local/lib/python3.6/dist-packages/tensorflow_core/python/ops/math_grad.py:1424: where (from tensorflow.python.ops.array_ops) is deprecated and will be removed in a future version.\n",
            "Instructions for updating:\n",
            "Use tf.where in 2.0, which has the same broadcast rule as np.where\n",
            "WARNING:tensorflow:From /usr/local/lib/python3.6/dist-packages/keras/backend/tensorflow_backend.py:1033: The name tf.assign_add is deprecated. Please use tf.compat.v1.assign_add instead.\n",
            "\n",
            "WARNING:tensorflow:From /usr/local/lib/python3.6/dist-packages/keras/backend/tensorflow_backend.py:1020: The name tf.assign is deprecated. Please use tf.compat.v1.assign instead.\n",
            "\n",
            "Train on 955 samples, validate on 239 samples\n",
            "Epoch 1/300\n",
            "WARNING:tensorflow:From /usr/local/lib/python3.6/dist-packages/keras/backend/tensorflow_backend.py:190: The name tf.get_default_session is deprecated. Please use tf.compat.v1.get_default_session instead.\n",
            "\n",
            "WARNING:tensorflow:From /usr/local/lib/python3.6/dist-packages/keras/backend/tensorflow_backend.py:207: The name tf.global_variables is deprecated. Please use tf.compat.v1.global_variables instead.\n",
            "\n",
            "WARNING:tensorflow:From /usr/local/lib/python3.6/dist-packages/keras/backend/tensorflow_backend.py:216: The name tf.is_variable_initialized is deprecated. Please use tf.compat.v1.is_variable_initialized instead.\n",
            "\n",
            "WARNING:tensorflow:From /usr/local/lib/python3.6/dist-packages/keras/backend/tensorflow_backend.py:223: The name tf.variables_initializer is deprecated. Please use tf.compat.v1.variables_initializer instead.\n",
            "\n",
            "955/955 [==============================] - 3s 3ms/step - loss: 2.5358 - acc: 0.1822 - val_loss: 1.9922 - val_acc: 0.1799\n",
            "Epoch 2/300\n",
            "955/955 [==============================] - 1s 1ms/step - loss: 2.1118 - acc: 0.1906 - val_loss: 1.9207 - val_acc: 0.1841\n",
            "Epoch 3/300\n",
            "955/955 [==============================] - 1s 1ms/step - loss: 1.9620 - acc: 0.1958 - val_loss: 1.8867 - val_acc: 0.2636\n",
            "Epoch 4/300\n",
            "955/955 [==============================] - 1s 1ms/step - loss: 1.8964 - acc: 0.2524 - val_loss: 1.8578 - val_acc: 0.3975\n",
            "Epoch 5/300\n",
            "955/955 [==============================] - 1s 1ms/step - loss: 1.8548 - acc: 0.2691 - val_loss: 1.8265 - val_acc: 0.4561\n",
            "Epoch 6/300\n",
            "955/955 [==============================] - 1s 1ms/step - loss: 1.8196 - acc: 0.2974 - val_loss: 1.7891 - val_acc: 0.4686\n",
            "Epoch 7/300\n",
            "955/955 [==============================] - 1s 1ms/step - loss: 1.7885 - acc: 0.3089 - val_loss: 1.7421 - val_acc: 0.4979\n",
            "Epoch 8/300\n",
            "955/955 [==============================] - 1s 1ms/step - loss: 1.7321 - acc: 0.3424 - val_loss: 1.6838 - val_acc: 0.4979\n",
            "Epoch 9/300\n",
            "955/955 [==============================] - 1s 1ms/step - loss: 1.6952 - acc: 0.3613 - val_loss: 1.6189 - val_acc: 0.5356\n",
            "Epoch 10/300\n",
            "955/955 [==============================] - 1s 1ms/step - loss: 1.6174 - acc: 0.4052 - val_loss: 1.5395 - val_acc: 0.5607\n",
            "Epoch 11/300\n",
            "955/955 [==============================] - 1s 1ms/step - loss: 1.5649 - acc: 0.4335 - val_loss: 1.4686 - val_acc: 0.6109\n",
            "Epoch 12/300\n",
            "955/955 [==============================] - 1s 1ms/step - loss: 1.5119 - acc: 0.4482 - val_loss: 1.4053 - val_acc: 0.6192\n",
            "Epoch 13/300\n",
            "955/955 [==============================] - 1s 1ms/step - loss: 1.4585 - acc: 0.4901 - val_loss: 1.3604 - val_acc: 0.6067\n",
            "Epoch 14/300\n",
            "955/955 [==============================] - 1s 1ms/step - loss: 1.3953 - acc: 0.5068 - val_loss: 1.3106 - val_acc: 0.6067\n",
            "Epoch 15/300\n",
            "955/955 [==============================] - 1s 1ms/step - loss: 1.3660 - acc: 0.5183 - val_loss: 1.2571 - val_acc: 0.6151\n",
            "Epoch 16/300\n",
            "955/955 [==============================] - 1s 1ms/step - loss: 1.3279 - acc: 0.5613 - val_loss: 1.2222 - val_acc: 0.6192\n",
            "Epoch 17/300\n",
            "955/955 [==============================] - 1s 1ms/step - loss: 1.2639 - acc: 0.5686 - val_loss: 1.2023 - val_acc: 0.6192\n",
            "Epoch 18/300\n",
            "955/955 [==============================] - 1s 1ms/step - loss: 1.2796 - acc: 0.5539 - val_loss: 1.1954 - val_acc: 0.6318\n",
            "Epoch 19/300\n",
            "955/955 [==============================] - 1s 1ms/step - loss: 1.2201 - acc: 0.5791 - val_loss: 1.1840 - val_acc: 0.6234\n",
            "Epoch 20/300\n",
            "955/955 [==============================] - 1s 1ms/step - loss: 1.2209 - acc: 0.6000 - val_loss: 1.1450 - val_acc: 0.6485\n",
            "Epoch 21/300\n",
            "955/955 [==============================] - 1s 1ms/step - loss: 1.1549 - acc: 0.6084 - val_loss: 1.1223 - val_acc: 0.6527\n",
            "Epoch 22/300\n",
            "955/955 [==============================] - 1s 1ms/step - loss: 1.1881 - acc: 0.5916 - val_loss: 1.1122 - val_acc: 0.6527\n",
            "Epoch 23/300\n",
            "955/955 [==============================] - 1s 1ms/step - loss: 1.1449 - acc: 0.6073 - val_loss: 1.1050 - val_acc: 0.6485\n",
            "Epoch 24/300\n",
            "955/955 [==============================] - 1s 1ms/step - loss: 1.1352 - acc: 0.6084 - val_loss: 1.0929 - val_acc: 0.6485\n",
            "Epoch 25/300\n",
            "955/955 [==============================] - 1s 1ms/step - loss: 1.1264 - acc: 0.6126 - val_loss: 1.0788 - val_acc: 0.6653\n",
            "Epoch 26/300\n",
            "955/955 [==============================] - 1s 1ms/step - loss: 1.0654 - acc: 0.6356 - val_loss: 1.0677 - val_acc: 0.6736\n",
            "Epoch 27/300\n",
            "955/955 [==============================] - 1s 1ms/step - loss: 1.0843 - acc: 0.6377 - val_loss: 1.0588 - val_acc: 0.6653\n",
            "Epoch 28/300\n",
            "955/955 [==============================] - 1s 1ms/step - loss: 1.0993 - acc: 0.6670 - val_loss: 1.0528 - val_acc: 0.6653\n",
            "Epoch 29/300\n",
            "955/955 [==============================] - 1s 1ms/step - loss: 1.0481 - acc: 0.6461 - val_loss: 1.0505 - val_acc: 0.6611\n",
            "Epoch 30/300\n",
            "955/955 [==============================] - 1s 1ms/step - loss: 1.0882 - acc: 0.6419 - val_loss: 1.0399 - val_acc: 0.6569\n",
            "Epoch 31/300\n",
            "955/955 [==============================] - 1s 1ms/step - loss: 1.0302 - acc: 0.6785 - val_loss: 1.0128 - val_acc: 0.6904\n",
            "Epoch 32/300\n",
            "955/955 [==============================] - 1s 1ms/step - loss: 1.0292 - acc: 0.6628 - val_loss: 1.0105 - val_acc: 0.6820\n",
            "Epoch 33/300\n",
            "955/955 [==============================] - 1s 1ms/step - loss: 1.0379 - acc: 0.6586 - val_loss: 1.0244 - val_acc: 0.6485\n",
            "Epoch 34/300\n",
            "955/955 [==============================] - 1s 1ms/step - loss: 1.0217 - acc: 0.6461 - val_loss: 1.0014 - val_acc: 0.6611\n",
            "Epoch 35/300\n",
            "955/955 [==============================] - 1s 1ms/step - loss: 1.0086 - acc: 0.6482 - val_loss: 0.9873 - val_acc: 0.7071\n",
            "Epoch 36/300\n",
            "955/955 [==============================] - 1s 1ms/step - loss: 0.9804 - acc: 0.6723 - val_loss: 0.9840 - val_acc: 0.6946\n",
            "Epoch 37/300\n",
            "955/955 [==============================] - 1s 1ms/step - loss: 1.0192 - acc: 0.6691 - val_loss: 0.9791 - val_acc: 0.6862\n",
            "Epoch 38/300\n",
            "955/955 [==============================] - 1s 1ms/step - loss: 0.9740 - acc: 0.6785 - val_loss: 0.9721 - val_acc: 0.6987\n",
            "Epoch 39/300\n",
            "955/955 [==============================] - 1s 1ms/step - loss: 0.9829 - acc: 0.6838 - val_loss: 0.9666 - val_acc: 0.6862\n",
            "Epoch 40/300\n",
            "955/955 [==============================] - 1s 1ms/step - loss: 0.9794 - acc: 0.6691 - val_loss: 0.9599 - val_acc: 0.7029\n",
            "Epoch 41/300\n",
            "955/955 [==============================] - 1s 1ms/step - loss: 0.9457 - acc: 0.6995 - val_loss: 0.9537 - val_acc: 0.6778\n",
            "Epoch 42/300\n",
            "955/955 [==============================] - 1s 1ms/step - loss: 0.9825 - acc: 0.6764 - val_loss: 0.9339 - val_acc: 0.7029\n",
            "Epoch 43/300\n",
            "955/955 [==============================] - 1s 1ms/step - loss: 0.9401 - acc: 0.6921 - val_loss: 0.9225 - val_acc: 0.7071\n",
            "Epoch 44/300\n",
            "955/955 [==============================] - 1s 1ms/step - loss: 0.9261 - acc: 0.6921 - val_loss: 0.9313 - val_acc: 0.6987\n",
            "Epoch 45/300\n",
            "955/955 [==============================] - 1s 1ms/step - loss: 0.9277 - acc: 0.7058 - val_loss: 0.9303 - val_acc: 0.6946\n",
            "Epoch 46/300\n",
            "955/955 [==============================] - 1s 1ms/step - loss: 0.9318 - acc: 0.6785 - val_loss: 0.9242 - val_acc: 0.6987\n",
            "Epoch 47/300\n",
            "955/955 [==============================] - 1s 1ms/step - loss: 0.9415 - acc: 0.6848 - val_loss: 0.9258 - val_acc: 0.6946\n",
            "Epoch 48/300\n",
            "955/955 [==============================] - 1s 1ms/step - loss: 0.9197 - acc: 0.6723 - val_loss: 0.9228 - val_acc: 0.6946\n",
            "Epoch 49/300\n",
            "955/955 [==============================] - 1s 1ms/step - loss: 0.9155 - acc: 0.7079 - val_loss: 0.9110 - val_acc: 0.7197\n",
            "Epoch 50/300\n",
            "955/955 [==============================] - 1s 1ms/step - loss: 0.9022 - acc: 0.7058 - val_loss: 0.9033 - val_acc: 0.7406\n",
            "Epoch 51/300\n",
            "955/955 [==============================] - 1s 1ms/step - loss: 0.9085 - acc: 0.6953 - val_loss: 0.9031 - val_acc: 0.7280\n",
            "Epoch 52/300\n",
            "955/955 [==============================] - 1s 1ms/step - loss: 0.9247 - acc: 0.6963 - val_loss: 0.9151 - val_acc: 0.7155\n",
            "Epoch 53/300\n",
            "955/955 [==============================] - 1s 1ms/step - loss: 0.8926 - acc: 0.7047 - val_loss: 0.8939 - val_acc: 0.7280\n",
            "Epoch 54/300\n",
            "955/955 [==============================] - 1s 1ms/step - loss: 0.9015 - acc: 0.7225 - val_loss: 0.8938 - val_acc: 0.7197\n",
            "Epoch 55/300\n",
            "955/955 [==============================] - 1s 1ms/step - loss: 0.9027 - acc: 0.7047 - val_loss: 0.8877 - val_acc: 0.7238\n",
            "Epoch 56/300\n",
            "955/955 [==============================] - 1s 1ms/step - loss: 0.8907 - acc: 0.7099 - val_loss: 0.8852 - val_acc: 0.7238\n",
            "Epoch 57/300\n",
            "955/955 [==============================] - 1s 1ms/step - loss: 0.8607 - acc: 0.7204 - val_loss: 0.8903 - val_acc: 0.7238\n",
            "Epoch 58/300\n",
            "955/955 [==============================] - 1s 1ms/step - loss: 0.8837 - acc: 0.7120 - val_loss: 0.8770 - val_acc: 0.7280\n",
            "Epoch 59/300\n",
            "955/955 [==============================] - 1s 1ms/step - loss: 0.8684 - acc: 0.7089 - val_loss: 0.8694 - val_acc: 0.7280\n",
            "Epoch 60/300\n",
            "955/955 [==============================] - 1s 1ms/step - loss: 0.8365 - acc: 0.7277 - val_loss: 0.8710 - val_acc: 0.7197\n",
            "Epoch 61/300\n",
            "955/955 [==============================] - 1s 1ms/step - loss: 0.8528 - acc: 0.7110 - val_loss: 0.8661 - val_acc: 0.7238\n",
            "Epoch 62/300\n",
            "955/955 [==============================] - 1s 1ms/step - loss: 0.8686 - acc: 0.7110 - val_loss: 0.8620 - val_acc: 0.7364\n",
            "Epoch 63/300\n",
            "955/955 [==============================] - 1s 1ms/step - loss: 0.8376 - acc: 0.7267 - val_loss: 0.8693 - val_acc: 0.7406\n",
            "Epoch 64/300\n",
            "955/955 [==============================] - 1s 1ms/step - loss: 0.8664 - acc: 0.7298 - val_loss: 0.8524 - val_acc: 0.7280\n",
            "Epoch 65/300\n",
            "955/955 [==============================] - 1s 1ms/step - loss: 0.8440 - acc: 0.7194 - val_loss: 0.8535 - val_acc: 0.7364\n",
            "Epoch 66/300\n",
            "955/955 [==============================] - 1s 1ms/step - loss: 0.8411 - acc: 0.7330 - val_loss: 0.8538 - val_acc: 0.7406\n",
            "Epoch 67/300\n",
            "955/955 [==============================] - 1s 1ms/step - loss: 0.8298 - acc: 0.7382 - val_loss: 0.8446 - val_acc: 0.7490\n",
            "Epoch 68/300\n",
            "955/955 [==============================] - 1s 1ms/step - loss: 0.8452 - acc: 0.6932 - val_loss: 0.8381 - val_acc: 0.7364\n",
            "Epoch 69/300\n",
            "955/955 [==============================] - 1s 1ms/step - loss: 0.8227 - acc: 0.7246 - val_loss: 0.8476 - val_acc: 0.7406\n",
            "Epoch 70/300\n",
            "955/955 [==============================] - 1s 1ms/step - loss: 0.8461 - acc: 0.7487 - val_loss: 0.8447 - val_acc: 0.7406\n",
            "Epoch 71/300\n",
            "955/955 [==============================] - 1s 1ms/step - loss: 0.8167 - acc: 0.7414 - val_loss: 0.8302 - val_acc: 0.7615\n",
            "Epoch 72/300\n",
            "955/955 [==============================] - 1s 1ms/step - loss: 0.8083 - acc: 0.7476 - val_loss: 0.8242 - val_acc: 0.7573\n",
            "Epoch 73/300\n",
            "955/955 [==============================] - 1s 1ms/step - loss: 0.8239 - acc: 0.7393 - val_loss: 0.8170 - val_acc: 0.7531\n",
            "Epoch 74/300\n",
            "955/955 [==============================] - 1s 1ms/step - loss: 0.7959 - acc: 0.7592 - val_loss: 0.8057 - val_acc: 0.7615\n",
            "Epoch 75/300\n",
            "955/955 [==============================] - 1s 1ms/step - loss: 0.8143 - acc: 0.7403 - val_loss: 0.8060 - val_acc: 0.7615\n",
            "Epoch 76/300\n",
            "955/955 [==============================] - 1s 1ms/step - loss: 0.8498 - acc: 0.7330 - val_loss: 0.8238 - val_acc: 0.7490\n",
            "Epoch 77/300\n",
            "955/955 [==============================] - 1s 1ms/step - loss: 0.8155 - acc: 0.7382 - val_loss: 0.8187 - val_acc: 0.7573\n",
            "Epoch 78/300\n",
            "955/955 [==============================] - 1s 1ms/step - loss: 0.7873 - acc: 0.7309 - val_loss: 0.8216 - val_acc: 0.7406\n",
            "Epoch 79/300\n",
            "955/955 [==============================] - 1s 1ms/step - loss: 0.7979 - acc: 0.7497 - val_loss: 0.8134 - val_acc: 0.7573\n",
            "Epoch 80/300\n",
            "955/955 [==============================] - 1s 1ms/step - loss: 0.8035 - acc: 0.7455 - val_loss: 0.8042 - val_acc: 0.7657\n",
            "Epoch 81/300\n",
            "955/955 [==============================] - 1s 1ms/step - loss: 0.7935 - acc: 0.7403 - val_loss: 0.8014 - val_acc: 0.7490\n",
            "Epoch 82/300\n",
            "955/955 [==============================] - 1s 1ms/step - loss: 0.7609 - acc: 0.7466 - val_loss: 0.7991 - val_acc: 0.7490\n",
            "Epoch 83/300\n",
            "955/955 [==============================] - 1s 1ms/step - loss: 0.7755 - acc: 0.7539 - val_loss: 0.7940 - val_acc: 0.7573\n",
            "Epoch 84/300\n",
            "955/955 [==============================] - 1s 1ms/step - loss: 0.7809 - acc: 0.7455 - val_loss: 0.7960 - val_acc: 0.7406\n",
            "Epoch 85/300\n",
            "955/955 [==============================] - 1s 1ms/step - loss: 0.7912 - acc: 0.7602 - val_loss: 0.7943 - val_acc: 0.7531\n",
            "Epoch 86/300\n",
            "955/955 [==============================] - 1s 1ms/step - loss: 0.7984 - acc: 0.7351 - val_loss: 0.7889 - val_acc: 0.7573\n",
            "Epoch 87/300\n",
            "955/955 [==============================] - 1s 1ms/step - loss: 0.7839 - acc: 0.7508 - val_loss: 0.7865 - val_acc: 0.7573\n",
            "Epoch 88/300\n",
            "955/955 [==============================] - 1s 1ms/step - loss: 0.7667 - acc: 0.7717 - val_loss: 0.7831 - val_acc: 0.7657\n",
            "Epoch 89/300\n",
            "955/955 [==============================] - 1s 1ms/step - loss: 0.7527 - acc: 0.7602 - val_loss: 0.7826 - val_acc: 0.7699\n",
            "Epoch 90/300\n",
            "955/955 [==============================] - 1s 1ms/step - loss: 0.7705 - acc: 0.7497 - val_loss: 0.7836 - val_acc: 0.7573\n",
            "Epoch 91/300\n",
            "955/955 [==============================] - 1s 1ms/step - loss: 0.7542 - acc: 0.7602 - val_loss: 0.7828 - val_acc: 0.7657\n",
            "Epoch 92/300\n",
            "955/955 [==============================] - 1s 1ms/step - loss: 0.7536 - acc: 0.7602 - val_loss: 0.7742 - val_acc: 0.7699\n",
            "Epoch 93/300\n",
            "955/955 [==============================] - 1s 1ms/step - loss: 0.7686 - acc: 0.7623 - val_loss: 0.7765 - val_acc: 0.7573\n",
            "Epoch 94/300\n",
            "955/955 [==============================] - 1s 1ms/step - loss: 0.7588 - acc: 0.7518 - val_loss: 0.7828 - val_acc: 0.7615\n",
            "Epoch 95/300\n",
            "955/955 [==============================] - 1s 1ms/step - loss: 0.7909 - acc: 0.7393 - val_loss: 0.7708 - val_acc: 0.7782\n",
            "Epoch 96/300\n",
            "955/955 [==============================] - 1s 1ms/step - loss: 0.7559 - acc: 0.7707 - val_loss: 0.7707 - val_acc: 0.7699\n",
            "Epoch 97/300\n",
            "955/955 [==============================] - 1s 1ms/step - loss: 0.7503 - acc: 0.7644 - val_loss: 0.7673 - val_acc: 0.7657\n",
            "Epoch 98/300\n",
            "955/955 [==============================] - 1s 1ms/step - loss: 0.7858 - acc: 0.7487 - val_loss: 0.7778 - val_acc: 0.7699\n",
            "Epoch 99/300\n",
            "955/955 [==============================] - 1s 1ms/step - loss: 0.7383 - acc: 0.7581 - val_loss: 0.7886 - val_acc: 0.7657\n",
            "Epoch 100/300\n",
            "955/955 [==============================] - 1s 1ms/step - loss: 0.7664 - acc: 0.7508 - val_loss: 0.7585 - val_acc: 0.7615\n",
            "Epoch 101/300\n",
            "955/955 [==============================] - 1s 1ms/step - loss: 0.7781 - acc: 0.7550 - val_loss: 0.7531 - val_acc: 0.7782\n",
            "Epoch 102/300\n",
            "955/955 [==============================] - 1s 1ms/step - loss: 0.7553 - acc: 0.7675 - val_loss: 0.7607 - val_acc: 0.7699\n",
            "Epoch 103/300\n",
            "955/955 [==============================] - 1s 1ms/step - loss: 0.7457 - acc: 0.7634 - val_loss: 0.7639 - val_acc: 0.7699\n",
            "Epoch 104/300\n",
            "955/955 [==============================] - 1s 1ms/step - loss: 0.7130 - acc: 0.7707 - val_loss: 0.7515 - val_acc: 0.7741\n",
            "Epoch 105/300\n",
            "955/955 [==============================] - 1s 1ms/step - loss: 0.7494 - acc: 0.7654 - val_loss: 0.7535 - val_acc: 0.7699\n",
            "Epoch 106/300\n",
            "955/955 [==============================] - 1s 1ms/step - loss: 0.7274 - acc: 0.7675 - val_loss: 0.7531 - val_acc: 0.7741\n",
            "Epoch 107/300\n",
            "955/955 [==============================] - 1s 1ms/step - loss: 0.7072 - acc: 0.7864 - val_loss: 0.7429 - val_acc: 0.7782\n",
            "Epoch 108/300\n",
            "955/955 [==============================] - 1s 1ms/step - loss: 0.7378 - acc: 0.7696 - val_loss: 0.7485 - val_acc: 0.7741\n",
            "Epoch 109/300\n",
            "955/955 [==============================] - 1s 1ms/step - loss: 0.7314 - acc: 0.7665 - val_loss: 0.7557 - val_acc: 0.7699\n",
            "Epoch 110/300\n",
            "955/955 [==============================] - 1s 1ms/step - loss: 0.7410 - acc: 0.7623 - val_loss: 0.7641 - val_acc: 0.7782\n",
            "Epoch 111/300\n",
            "955/955 [==============================] - 1s 1ms/step - loss: 0.7242 - acc: 0.7696 - val_loss: 0.7560 - val_acc: 0.7573\n",
            "Epoch 112/300\n",
            "955/955 [==============================] - 1s 1ms/step - loss: 0.7178 - acc: 0.7791 - val_loss: 0.7535 - val_acc: 0.7657\n",
            "Epoch 113/300\n",
            "955/955 [==============================] - 1s 1ms/step - loss: 0.7218 - acc: 0.7675 - val_loss: 0.7505 - val_acc: 0.7741\n",
            "Epoch 114/300\n",
            "955/955 [==============================] - 1s 1ms/step - loss: 0.7370 - acc: 0.7696 - val_loss: 0.7381 - val_acc: 0.7699\n",
            "Epoch 115/300\n",
            "955/955 [==============================] - 1s 1ms/step - loss: 0.7412 - acc: 0.7686 - val_loss: 0.7442 - val_acc: 0.7950\n",
            "Epoch 116/300\n",
            "955/955 [==============================] - 1s 1ms/step - loss: 0.7382 - acc: 0.7592 - val_loss: 0.7429 - val_acc: 0.7908\n",
            "Epoch 117/300\n",
            "955/955 [==============================] - 1s 1ms/step - loss: 0.7215 - acc: 0.7665 - val_loss: 0.7335 - val_acc: 0.7782\n",
            "Epoch 118/300\n",
            "955/955 [==============================] - 1s 1ms/step - loss: 0.7252 - acc: 0.7644 - val_loss: 0.7364 - val_acc: 0.7699\n",
            "Epoch 119/300\n",
            "955/955 [==============================] - 1s 1ms/step - loss: 0.7313 - acc: 0.7675 - val_loss: 0.7273 - val_acc: 0.7782\n",
            "Epoch 120/300\n",
            "955/955 [==============================] - 1s 1ms/step - loss: 0.7009 - acc: 0.7801 - val_loss: 0.7286 - val_acc: 0.7908\n",
            "Epoch 121/300\n",
            "955/955 [==============================] - 1s 1ms/step - loss: 0.7244 - acc: 0.7634 - val_loss: 0.7345 - val_acc: 0.7866\n",
            "Epoch 122/300\n",
            "955/955 [==============================] - 1s 1ms/step - loss: 0.6954 - acc: 0.7812 - val_loss: 0.7241 - val_acc: 0.7866\n",
            "Epoch 123/300\n",
            "955/955 [==============================] - 1s 1ms/step - loss: 0.6760 - acc: 0.7864 - val_loss: 0.7290 - val_acc: 0.7866\n",
            "Epoch 124/300\n",
            "955/955 [==============================] - 1s 1ms/step - loss: 0.7043 - acc: 0.7780 - val_loss: 0.7277 - val_acc: 0.7824\n",
            "Epoch 125/300\n",
            "955/955 [==============================] - 1s 1ms/step - loss: 0.7042 - acc: 0.7770 - val_loss: 0.7360 - val_acc: 0.7866\n",
            "Epoch 126/300\n",
            "955/955 [==============================] - 1s 1ms/step - loss: 0.6986 - acc: 0.7791 - val_loss: 0.7346 - val_acc: 0.7824\n",
            "Epoch 127/300\n",
            "955/955 [==============================] - 1s 1ms/step - loss: 0.6902 - acc: 0.7728 - val_loss: 0.7275 - val_acc: 0.7782\n",
            "Epoch 128/300\n",
            "955/955 [==============================] - 1s 1ms/step - loss: 0.6859 - acc: 0.7895 - val_loss: 0.7161 - val_acc: 0.7908\n",
            "Epoch 129/300\n",
            "955/955 [==============================] - 1s 1ms/step - loss: 0.6950 - acc: 0.7623 - val_loss: 0.7248 - val_acc: 0.7824\n",
            "Epoch 130/300\n",
            "955/955 [==============================] - 1s 1ms/step - loss: 0.6990 - acc: 0.7696 - val_loss: 0.7242 - val_acc: 0.7866\n",
            "Epoch 131/300\n",
            "955/955 [==============================] - 1s 1ms/step - loss: 0.6796 - acc: 0.7885 - val_loss: 0.7225 - val_acc: 0.7908\n",
            "Epoch 132/300\n",
            "955/955 [==============================] - 1s 1ms/step - loss: 0.6696 - acc: 0.7812 - val_loss: 0.7308 - val_acc: 0.7908\n",
            "Epoch 133/300\n",
            "955/955 [==============================] - 1s 1ms/step - loss: 0.6985 - acc: 0.7801 - val_loss: 0.7164 - val_acc: 0.7992\n",
            "Epoch 134/300\n",
            "955/955 [==============================] - 1s 1ms/step - loss: 0.6938 - acc: 0.7759 - val_loss: 0.7068 - val_acc: 0.7908\n",
            "Epoch 135/300\n",
            "955/955 [==============================] - 1s 1ms/step - loss: 0.6660 - acc: 0.8052 - val_loss: 0.7056 - val_acc: 0.7950\n",
            "Epoch 136/300\n",
            "955/955 [==============================] - 1s 1ms/step - loss: 0.6919 - acc: 0.7832 - val_loss: 0.7140 - val_acc: 0.8117\n",
            "Epoch 137/300\n",
            "955/955 [==============================] - 1s 1ms/step - loss: 0.6852 - acc: 0.7728 - val_loss: 0.6966 - val_acc: 0.7992\n",
            "Epoch 138/300\n",
            "955/955 [==============================] - 1s 1ms/step - loss: 0.6814 - acc: 0.7864 - val_loss: 0.7028 - val_acc: 0.7950\n",
            "Epoch 139/300\n",
            "955/955 [==============================] - 1s 1ms/step - loss: 0.6765 - acc: 0.7874 - val_loss: 0.7044 - val_acc: 0.7866\n",
            "Epoch 140/300\n",
            "955/955 [==============================] - 1s 1ms/step - loss: 0.6809 - acc: 0.7843 - val_loss: 0.7104 - val_acc: 0.7992\n",
            "Epoch 141/300\n",
            "955/955 [==============================] - 1s 1ms/step - loss: 0.6564 - acc: 0.7895 - val_loss: 0.6995 - val_acc: 0.8033\n",
            "Epoch 142/300\n",
            "955/955 [==============================] - 1s 1ms/step - loss: 0.6683 - acc: 0.7822 - val_loss: 0.7010 - val_acc: 0.7950\n",
            "Epoch 143/300\n",
            "955/955 [==============================] - 1s 1ms/step - loss: 0.6543 - acc: 0.8000 - val_loss: 0.7002 - val_acc: 0.7992\n",
            "Epoch 144/300\n",
            "955/955 [==============================] - 1s 1ms/step - loss: 0.6938 - acc: 0.7801 - val_loss: 0.6959 - val_acc: 0.7950\n",
            "Epoch 145/300\n",
            "955/955 [==============================] - 1s 1ms/step - loss: 0.6745 - acc: 0.7791 - val_loss: 0.6987 - val_acc: 0.8075\n",
            "Epoch 146/300\n",
            "955/955 [==============================] - 1s 1ms/step - loss: 0.6620 - acc: 0.7843 - val_loss: 0.6969 - val_acc: 0.7908\n",
            "Epoch 147/300\n",
            "955/955 [==============================] - 1s 1ms/step - loss: 0.6714 - acc: 0.7832 - val_loss: 0.7005 - val_acc: 0.7992\n",
            "Epoch 148/300\n",
            "955/955 [==============================] - 1s 1ms/step - loss: 0.6669 - acc: 0.7864 - val_loss: 0.6949 - val_acc: 0.8075\n",
            "Epoch 149/300\n",
            "955/955 [==============================] - 1s 1ms/step - loss: 0.6567 - acc: 0.7937 - val_loss: 0.6961 - val_acc: 0.8075\n",
            "Epoch 150/300\n",
            "955/955 [==============================] - 1s 1ms/step - loss: 0.6598 - acc: 0.7979 - val_loss: 0.6879 - val_acc: 0.8159\n",
            "Epoch 151/300\n",
            "955/955 [==============================] - 1s 1ms/step - loss: 0.6643 - acc: 0.7895 - val_loss: 0.6864 - val_acc: 0.8159\n",
            "Epoch 152/300\n",
            "955/955 [==============================] - 1s 1ms/step - loss: 0.6382 - acc: 0.8063 - val_loss: 0.6957 - val_acc: 0.7992\n",
            "Epoch 153/300\n",
            "955/955 [==============================] - 1s 1ms/step - loss: 0.6555 - acc: 0.8073 - val_loss: 0.7088 - val_acc: 0.7908\n",
            "Epoch 154/300\n",
            "955/955 [==============================] - 1s 1ms/step - loss: 0.6452 - acc: 0.7948 - val_loss: 0.6953 - val_acc: 0.8033\n",
            "Epoch 155/300\n",
            "955/955 [==============================] - 1s 1ms/step - loss: 0.6514 - acc: 0.7853 - val_loss: 0.6901 - val_acc: 0.8033\n",
            "Epoch 156/300\n",
            "955/955 [==============================] - 1s 1ms/step - loss: 0.6460 - acc: 0.7948 - val_loss: 0.6769 - val_acc: 0.8159\n",
            "Epoch 157/300\n",
            "955/955 [==============================] - 1s 1ms/step - loss: 0.6686 - acc: 0.8000 - val_loss: 0.6772 - val_acc: 0.8159\n",
            "Epoch 158/300\n",
            "955/955 [==============================] - 1s 1ms/step - loss: 0.6531 - acc: 0.7979 - val_loss: 0.6854 - val_acc: 0.8117\n",
            "Epoch 159/300\n",
            "955/955 [==============================] - 1s 1ms/step - loss: 0.6396 - acc: 0.8021 - val_loss: 0.6794 - val_acc: 0.7866\n",
            "Epoch 160/300\n",
            "955/955 [==============================] - 1s 1ms/step - loss: 0.6578 - acc: 0.7916 - val_loss: 0.6845 - val_acc: 0.8075\n",
            "Epoch 161/300\n",
            "955/955 [==============================] - 1s 1ms/step - loss: 0.6306 - acc: 0.7990 - val_loss: 0.6809 - val_acc: 0.8159\n",
            "Epoch 162/300\n",
            "955/955 [==============================] - 1s 1ms/step - loss: 0.6546 - acc: 0.7885 - val_loss: 0.6797 - val_acc: 0.8075\n",
            "Epoch 163/300\n",
            "955/955 [==============================] - 1s 1ms/step - loss: 0.6395 - acc: 0.7927 - val_loss: 0.6828 - val_acc: 0.8075\n",
            "Epoch 164/300\n",
            "955/955 [==============================] - 1s 1ms/step - loss: 0.6198 - acc: 0.7990 - val_loss: 0.6897 - val_acc: 0.7992\n",
            "Epoch 165/300\n",
            "955/955 [==============================] - 1s 1ms/step - loss: 0.6475 - acc: 0.7916 - val_loss: 0.6820 - val_acc: 0.7992\n",
            "Epoch 166/300\n",
            "955/955 [==============================] - 1s 1ms/step - loss: 0.6537 - acc: 0.7916 - val_loss: 0.6843 - val_acc: 0.8075\n",
            "Epoch 167/300\n",
            "955/955 [==============================] - 1s 1ms/step - loss: 0.6353 - acc: 0.8000 - val_loss: 0.6764 - val_acc: 0.8033\n",
            "Epoch 168/300\n",
            "955/955 [==============================] - 1s 1ms/step - loss: 0.6559 - acc: 0.7864 - val_loss: 0.6695 - val_acc: 0.8117\n",
            "Epoch 169/300\n",
            "955/955 [==============================] - 1s 1ms/step - loss: 0.6347 - acc: 0.8010 - val_loss: 0.6724 - val_acc: 0.8159\n",
            "Epoch 170/300\n",
            "955/955 [==============================] - 1s 1ms/step - loss: 0.6110 - acc: 0.7948 - val_loss: 0.6702 - val_acc: 0.7992\n",
            "Epoch 171/300\n",
            "955/955 [==============================] - 1s 1ms/step - loss: 0.6308 - acc: 0.7937 - val_loss: 0.6701 - val_acc: 0.7908\n",
            "Epoch 172/300\n",
            "955/955 [==============================] - 1s 1ms/step - loss: 0.6347 - acc: 0.7990 - val_loss: 0.6754 - val_acc: 0.7992\n",
            "Epoch 173/300\n",
            "955/955 [==============================] - 1s 1ms/step - loss: 0.6355 - acc: 0.7822 - val_loss: 0.6686 - val_acc: 0.8117\n",
            "Epoch 174/300\n",
            "955/955 [==============================] - 1s 1ms/step - loss: 0.6150 - acc: 0.8094 - val_loss: 0.6606 - val_acc: 0.8117\n",
            "Epoch 175/300\n",
            "955/955 [==============================] - 1s 1ms/step - loss: 0.6422 - acc: 0.8010 - val_loss: 0.6621 - val_acc: 0.7992\n",
            "Epoch 176/300\n",
            "955/955 [==============================] - 1s 1ms/step - loss: 0.6397 - acc: 0.8010 - val_loss: 0.6671 - val_acc: 0.8075\n",
            "Epoch 177/300\n",
            "955/955 [==============================] - 1s 1ms/step - loss: 0.6103 - acc: 0.8157 - val_loss: 0.6798 - val_acc: 0.8075\n",
            "Epoch 178/300\n",
            "955/955 [==============================] - 1s 1ms/step - loss: 0.6405 - acc: 0.7937 - val_loss: 0.6698 - val_acc: 0.8033\n",
            "Epoch 179/300\n",
            "955/955 [==============================] - 1s 1ms/step - loss: 0.6154 - acc: 0.8031 - val_loss: 0.6668 - val_acc: 0.8159\n",
            "Epoch 180/300\n",
            "955/955 [==============================] - 1s 1ms/step - loss: 0.6339 - acc: 0.8031 - val_loss: 0.6736 - val_acc: 0.7992\n",
            "Epoch 181/300\n",
            "955/955 [==============================] - 1s 1ms/step - loss: 0.6024 - acc: 0.8042 - val_loss: 0.6692 - val_acc: 0.8033\n",
            "Epoch 182/300\n",
            "955/955 [==============================] - 1s 1ms/step - loss: 0.6092 - acc: 0.8115 - val_loss: 0.6624 - val_acc: 0.8033\n",
            "Epoch 183/300\n",
            "955/955 [==============================] - 1s 1ms/step - loss: 0.6238 - acc: 0.7979 - val_loss: 0.6630 - val_acc: 0.7992\n",
            "Epoch 184/300\n",
            "955/955 [==============================] - 1s 1ms/step - loss: 0.6047 - acc: 0.8021 - val_loss: 0.6718 - val_acc: 0.8033\n",
            "Epoch 185/300\n",
            "955/955 [==============================] - 1s 1ms/step - loss: 0.6352 - acc: 0.7895 - val_loss: 0.6647 - val_acc: 0.7908\n",
            "Epoch 186/300\n",
            "955/955 [==============================] - 1s 1ms/step - loss: 0.6195 - acc: 0.8147 - val_loss: 0.6658 - val_acc: 0.7950\n",
            "Epoch 187/300\n",
            "955/955 [==============================] - 1s 1ms/step - loss: 0.6066 - acc: 0.8073 - val_loss: 0.6736 - val_acc: 0.7950\n",
            "Epoch 188/300\n",
            "955/955 [==============================] - 1s 1ms/step - loss: 0.6204 - acc: 0.8042 - val_loss: 0.6727 - val_acc: 0.7950\n",
            "Epoch 189/300\n",
            "955/955 [==============================] - 1s 1ms/step - loss: 0.6129 - acc: 0.7906 - val_loss: 0.6599 - val_acc: 0.8075\n",
            "Epoch 190/300\n",
            "955/955 [==============================] - 1s 1ms/step - loss: 0.6053 - acc: 0.8052 - val_loss: 0.6565 - val_acc: 0.8033\n",
            "Epoch 191/300\n",
            "955/955 [==============================] - 1s 1ms/step - loss: 0.6187 - acc: 0.8010 - val_loss: 0.6666 - val_acc: 0.7908\n",
            "Epoch 192/300\n",
            "955/955 [==============================] - 1s 1ms/step - loss: 0.6288 - acc: 0.7990 - val_loss: 0.6760 - val_acc: 0.7908\n",
            "Epoch 193/300\n",
            "955/955 [==============================] - 1s 1ms/step - loss: 0.6074 - acc: 0.8063 - val_loss: 0.6648 - val_acc: 0.7992\n",
            "Epoch 194/300\n",
            "955/955 [==============================] - 1s 1ms/step - loss: 0.6081 - acc: 0.7948 - val_loss: 0.6619 - val_acc: 0.7992\n",
            "Epoch 195/300\n",
            "955/955 [==============================] - 1s 1ms/step - loss: 0.6122 - acc: 0.8031 - val_loss: 0.6628 - val_acc: 0.8075\n",
            "Epoch 196/300\n",
            "955/955 [==============================] - 1s 1ms/step - loss: 0.6003 - acc: 0.8157 - val_loss: 0.6614 - val_acc: 0.8117\n",
            "Epoch 197/300\n",
            "955/955 [==============================] - 1s 1ms/step - loss: 0.6188 - acc: 0.8094 - val_loss: 0.6594 - val_acc: 0.7950\n",
            "Epoch 198/300\n",
            "955/955 [==============================] - 1s 1ms/step - loss: 0.6135 - acc: 0.8188 - val_loss: 0.6606 - val_acc: 0.8033\n",
            "Epoch 199/300\n",
            "955/955 [==============================] - 1s 1ms/step - loss: 0.6104 - acc: 0.8000 - val_loss: 0.6665 - val_acc: 0.8033\n",
            "Epoch 200/300\n",
            "955/955 [==============================] - 1s 1ms/step - loss: 0.6007 - acc: 0.8157 - val_loss: 0.6518 - val_acc: 0.8075\n",
            "Epoch 201/300\n",
            "955/955 [==============================] - 1s 1ms/step - loss: 0.5985 - acc: 0.8147 - val_loss: 0.6486 - val_acc: 0.8117\n",
            "Epoch 202/300\n",
            "955/955 [==============================] - 1s 1ms/step - loss: 0.5984 - acc: 0.8126 - val_loss: 0.6528 - val_acc: 0.8117\n",
            "Epoch 203/300\n",
            "955/955 [==============================] - 1s 1ms/step - loss: 0.6040 - acc: 0.7990 - val_loss: 0.6540 - val_acc: 0.8075\n",
            "Epoch 204/300\n",
            "955/955 [==============================] - 1s 1ms/step - loss: 0.5942 - acc: 0.8199 - val_loss: 0.6442 - val_acc: 0.7992\n",
            "Epoch 205/300\n",
            "955/955 [==============================] - 1s 1ms/step - loss: 0.5868 - acc: 0.8094 - val_loss: 0.6429 - val_acc: 0.8117\n",
            "Epoch 206/300\n",
            "955/955 [==============================] - 1s 1ms/step - loss: 0.6030 - acc: 0.8000 - val_loss: 0.6506 - val_acc: 0.8117\n",
            "Epoch 207/300\n",
            "955/955 [==============================] - 1s 1ms/step - loss: 0.5845 - acc: 0.8073 - val_loss: 0.6622 - val_acc: 0.8075\n",
            "Epoch 208/300\n",
            "955/955 [==============================] - 1s 1ms/step - loss: 0.6035 - acc: 0.8021 - val_loss: 0.6559 - val_acc: 0.8033\n",
            "Epoch 209/300\n",
            "955/955 [==============================] - 1s 1ms/step - loss: 0.5791 - acc: 0.8241 - val_loss: 0.6545 - val_acc: 0.8117\n",
            "Epoch 210/300\n",
            "955/955 [==============================] - 1s 1ms/step - loss: 0.5930 - acc: 0.8136 - val_loss: 0.6560 - val_acc: 0.8033\n",
            "Epoch 211/300\n",
            "955/955 [==============================] - 1s 1ms/step - loss: 0.6089 - acc: 0.8073 - val_loss: 0.6505 - val_acc: 0.7992\n",
            "Epoch 212/300\n",
            "955/955 [==============================] - 1s 1ms/step - loss: 0.5940 - acc: 0.8010 - val_loss: 0.6378 - val_acc: 0.8075\n",
            "Epoch 213/300\n",
            "955/955 [==============================] - 1s 1ms/step - loss: 0.5925 - acc: 0.8073 - val_loss: 0.6346 - val_acc: 0.8075\n",
            "Epoch 214/300\n",
            "955/955 [==============================] - 1s 1ms/step - loss: 0.5856 - acc: 0.8209 - val_loss: 0.6522 - val_acc: 0.7992\n",
            "Epoch 215/300\n",
            "955/955 [==============================] - 1s 1ms/step - loss: 0.5734 - acc: 0.8126 - val_loss: 0.6418 - val_acc: 0.7992\n",
            "Epoch 216/300\n",
            "955/955 [==============================] - 1s 1ms/step - loss: 0.6043 - acc: 0.8147 - val_loss: 0.6360 - val_acc: 0.8033\n",
            "Epoch 217/300\n",
            "955/955 [==============================] - 1s 1ms/step - loss: 0.5875 - acc: 0.8115 - val_loss: 0.6408 - val_acc: 0.8033\n",
            "Epoch 218/300\n",
            "955/955 [==============================] - 1s 1ms/step - loss: 0.5859 - acc: 0.8147 - val_loss: 0.6553 - val_acc: 0.8033\n",
            "Epoch 219/300\n",
            "955/955 [==============================] - 1s 1ms/step - loss: 0.6005 - acc: 0.8094 - val_loss: 0.6397 - val_acc: 0.8117\n",
            "Epoch 220/300\n",
            "955/955 [==============================] - 1s 1ms/step - loss: 0.5814 - acc: 0.8126 - val_loss: 0.6362 - val_acc: 0.8033\n",
            "Epoch 221/300\n",
            "955/955 [==============================] - 1s 1ms/step - loss: 0.5854 - acc: 0.8168 - val_loss: 0.6349 - val_acc: 0.8159\n",
            "Epoch 222/300\n",
            "955/955 [==============================] - 1s 1ms/step - loss: 0.6003 - acc: 0.8157 - val_loss: 0.6420 - val_acc: 0.8075\n",
            "Epoch 223/300\n",
            "955/955 [==============================] - 1s 1ms/step - loss: 0.5787 - acc: 0.8220 - val_loss: 0.6397 - val_acc: 0.8033\n",
            "Epoch 224/300\n",
            "955/955 [==============================] - 1s 1ms/step - loss: 0.5689 - acc: 0.8325 - val_loss: 0.6443 - val_acc: 0.8075\n",
            "Epoch 225/300\n",
            "955/955 [==============================] - 1s 1ms/step - loss: 0.5752 - acc: 0.8168 - val_loss: 0.6392 - val_acc: 0.8159\n",
            "Epoch 226/300\n",
            "955/955 [==============================] - 1s 1ms/step - loss: 0.5728 - acc: 0.8188 - val_loss: 0.6323 - val_acc: 0.8201\n",
            "Epoch 227/300\n",
            "955/955 [==============================] - 1s 1ms/step - loss: 0.5621 - acc: 0.8346 - val_loss: 0.6279 - val_acc: 0.8159\n",
            "Epoch 228/300\n",
            "955/955 [==============================] - 1s 1ms/step - loss: 0.5652 - acc: 0.8126 - val_loss: 0.6294 - val_acc: 0.8075\n",
            "Epoch 229/300\n",
            "955/955 [==============================] - 1s 1ms/step - loss: 0.5622 - acc: 0.8105 - val_loss: 0.6319 - val_acc: 0.8075\n",
            "Epoch 230/300\n",
            "955/955 [==============================] - 1s 1ms/step - loss: 0.5657 - acc: 0.8188 - val_loss: 0.6439 - val_acc: 0.8033\n",
            "Epoch 231/300\n",
            "955/955 [==============================] - 1s 1ms/step - loss: 0.5642 - acc: 0.8199 - val_loss: 0.6357 - val_acc: 0.8075\n",
            "Epoch 232/300\n",
            "955/955 [==============================] - 1s 1ms/step - loss: 0.5500 - acc: 0.8230 - val_loss: 0.6331 - val_acc: 0.8159\n",
            "Epoch 233/300\n",
            "955/955 [==============================] - 1s 1ms/step - loss: 0.5752 - acc: 0.8084 - val_loss: 0.6333 - val_acc: 0.8075\n",
            "Epoch 234/300\n",
            "955/955 [==============================] - 1s 1ms/step - loss: 0.5588 - acc: 0.8168 - val_loss: 0.6349 - val_acc: 0.8117\n",
            "Epoch 235/300\n",
            "955/955 [==============================] - 1s 1ms/step - loss: 0.5571 - acc: 0.8188 - val_loss: 0.6322 - val_acc: 0.8117\n",
            "Epoch 236/300\n",
            "955/955 [==============================] - 1s 1ms/step - loss: 0.5699 - acc: 0.8230 - val_loss: 0.6262 - val_acc: 0.8033\n",
            "Epoch 237/300\n",
            "955/955 [==============================] - 1s 1ms/step - loss: 0.5574 - acc: 0.8199 - val_loss: 0.6250 - val_acc: 0.8033\n",
            "Epoch 238/300\n",
            "955/955 [==============================] - 1s 1ms/step - loss: 0.5685 - acc: 0.8178 - val_loss: 0.6287 - val_acc: 0.7950\n",
            "Epoch 239/300\n",
            "955/955 [==============================] - 1s 1ms/step - loss: 0.5739 - acc: 0.8094 - val_loss: 0.6279 - val_acc: 0.8117\n",
            "Epoch 240/300\n",
            "955/955 [==============================] - 1s 1ms/step - loss: 0.5733 - acc: 0.8084 - val_loss: 0.6216 - val_acc: 0.8201\n",
            "Epoch 241/300\n",
            "955/955 [==============================] - 1s 1ms/step - loss: 0.5813 - acc: 0.8084 - val_loss: 0.6143 - val_acc: 0.8201\n",
            "Epoch 242/300\n",
            "955/955 [==============================] - 1s 1ms/step - loss: 0.5683 - acc: 0.8168 - val_loss: 0.6454 - val_acc: 0.8201\n",
            "Epoch 243/300\n",
            "955/955 [==============================] - 1s 1ms/step - loss: 0.5402 - acc: 0.8346 - val_loss: 0.6267 - val_acc: 0.8033\n",
            "Epoch 244/300\n",
            "955/955 [==============================] - 1s 1ms/step - loss: 0.5733 - acc: 0.8094 - val_loss: 0.6247 - val_acc: 0.8033\n",
            "Epoch 245/300\n",
            "955/955 [==============================] - 1s 1ms/step - loss: 0.5744 - acc: 0.8105 - val_loss: 0.6193 - val_acc: 0.8159\n",
            "Epoch 246/300\n",
            "955/955 [==============================] - 1s 1ms/step - loss: 0.5778 - acc: 0.8115 - val_loss: 0.6140 - val_acc: 0.8159\n",
            "Epoch 247/300\n",
            "955/955 [==============================] - 1s 1ms/step - loss: 0.5689 - acc: 0.8168 - val_loss: 0.6143 - val_acc: 0.8075\n",
            "Epoch 248/300\n",
            "955/955 [==============================] - 1s 1ms/step - loss: 0.5482 - acc: 0.8147 - val_loss: 0.6113 - val_acc: 0.8159\n",
            "Epoch 249/300\n",
            "955/955 [==============================] - 1s 1ms/step - loss: 0.5462 - acc: 0.8209 - val_loss: 0.6151 - val_acc: 0.8075\n",
            "Epoch 250/300\n",
            "955/955 [==============================] - 1s 1ms/step - loss: 0.5586 - acc: 0.8188 - val_loss: 0.6146 - val_acc: 0.8075\n",
            "Epoch 251/300\n",
            "955/955 [==============================] - 1s 1ms/step - loss: 0.5749 - acc: 0.8115 - val_loss: 0.6156 - val_acc: 0.8075\n",
            "Epoch 252/300\n",
            "955/955 [==============================] - 1s 1ms/step - loss: 0.5488 - acc: 0.8262 - val_loss: 0.6231 - val_acc: 0.8117\n",
            "Epoch 253/300\n",
            "955/955 [==============================] - 1s 1ms/step - loss: 0.5595 - acc: 0.8209 - val_loss: 0.6212 - val_acc: 0.8117\n",
            "Epoch 254/300\n",
            "955/955 [==============================] - 1s 1ms/step - loss: 0.5598 - acc: 0.8094 - val_loss: 0.6191 - val_acc: 0.8033\n",
            "Epoch 255/300\n",
            "955/955 [==============================] - 1s 1ms/step - loss: 0.5537 - acc: 0.8178 - val_loss: 0.6127 - val_acc: 0.8033\n",
            "Epoch 256/300\n",
            "955/955 [==============================] - 1s 1ms/step - loss: 0.5451 - acc: 0.8241 - val_loss: 0.6215 - val_acc: 0.8033\n",
            "Epoch 257/300\n",
            "955/955 [==============================] - 1s 1ms/step - loss: 0.5460 - acc: 0.8272 - val_loss: 0.6234 - val_acc: 0.8075\n",
            "Epoch 258/300\n",
            "955/955 [==============================] - 1s 1ms/step - loss: 0.5598 - acc: 0.8262 - val_loss: 0.6157 - val_acc: 0.8117\n",
            "Epoch 259/300\n",
            "955/955 [==============================] - 1s 1ms/step - loss: 0.5503 - acc: 0.8230 - val_loss: 0.6226 - val_acc: 0.8117\n",
            "Epoch 260/300\n",
            "955/955 [==============================] - 1s 1ms/step - loss: 0.5555 - acc: 0.8147 - val_loss: 0.6180 - val_acc: 0.8243\n",
            "Epoch 261/300\n",
            "955/955 [==============================] - 1s 1ms/step - loss: 0.5729 - acc: 0.8335 - val_loss: 0.6164 - val_acc: 0.8033\n",
            "Epoch 262/300\n",
            "955/955 [==============================] - 1s 1ms/step - loss: 0.5536 - acc: 0.8262 - val_loss: 0.6198 - val_acc: 0.8075\n",
            "Epoch 263/300\n",
            "955/955 [==============================] - 1s 1ms/step - loss: 0.5396 - acc: 0.8283 - val_loss: 0.6172 - val_acc: 0.8117\n",
            "Epoch 264/300\n",
            "955/955 [==============================] - 1s 1ms/step - loss: 0.5458 - acc: 0.8199 - val_loss: 0.6045 - val_acc: 0.8117\n",
            "Epoch 265/300\n",
            "955/955 [==============================] - 1s 1ms/step - loss: 0.5343 - acc: 0.8199 - val_loss: 0.6144 - val_acc: 0.8117\n",
            "Epoch 266/300\n",
            "955/955 [==============================] - 1s 1ms/step - loss: 0.5349 - acc: 0.8325 - val_loss: 0.6192 - val_acc: 0.8033\n",
            "Epoch 267/300\n",
            "955/955 [==============================] - 1s 1ms/step - loss: 0.5414 - acc: 0.8178 - val_loss: 0.6099 - val_acc: 0.8159\n",
            "Epoch 268/300\n",
            "955/955 [==============================] - 1s 1ms/step - loss: 0.5275 - acc: 0.8188 - val_loss: 0.6041 - val_acc: 0.8159\n",
            "Epoch 269/300\n",
            "955/955 [==============================] - 1s 1ms/step - loss: 0.5454 - acc: 0.8241 - val_loss: 0.6033 - val_acc: 0.8033\n",
            "Epoch 270/300\n",
            "955/955 [==============================] - 1s 1ms/step - loss: 0.5189 - acc: 0.8356 - val_loss: 0.6068 - val_acc: 0.8117\n",
            "Epoch 271/300\n",
            "955/955 [==============================] - 1s 1ms/step - loss: 0.5392 - acc: 0.8199 - val_loss: 0.6028 - val_acc: 0.8159\n",
            "Epoch 272/300\n",
            "955/955 [==============================] - 1s 1ms/step - loss: 0.5166 - acc: 0.8398 - val_loss: 0.6030 - val_acc: 0.8159\n",
            "Epoch 273/300\n",
            "955/955 [==============================] - 1s 1ms/step - loss: 0.5254 - acc: 0.8220 - val_loss: 0.6060 - val_acc: 0.8117\n",
            "Epoch 274/300\n",
            "955/955 [==============================] - 1s 1ms/step - loss: 0.5294 - acc: 0.8325 - val_loss: 0.6081 - val_acc: 0.8075\n",
            "Epoch 275/300\n",
            "955/955 [==============================] - 1s 1ms/step - loss: 0.5262 - acc: 0.8230 - val_loss: 0.6045 - val_acc: 0.8201\n",
            "Epoch 276/300\n",
            "955/955 [==============================] - 1s 1ms/step - loss: 0.5320 - acc: 0.8293 - val_loss: 0.6079 - val_acc: 0.8201\n",
            "Epoch 277/300\n",
            "955/955 [==============================] - 1s 1ms/step - loss: 0.5254 - acc: 0.8241 - val_loss: 0.6092 - val_acc: 0.8159\n",
            "Epoch 278/300\n",
            "955/955 [==============================] - 1s 1ms/step - loss: 0.5283 - acc: 0.8304 - val_loss: 0.6138 - val_acc: 0.8117\n",
            "Epoch 279/300\n",
            "955/955 [==============================] - 1s 1ms/step - loss: 0.5558 - acc: 0.8136 - val_loss: 0.6084 - val_acc: 0.8201\n",
            "Epoch 280/300\n",
            "955/955 [==============================] - 1s 1ms/step - loss: 0.5501 - acc: 0.8168 - val_loss: 0.6084 - val_acc: 0.8159\n",
            "Epoch 281/300\n",
            "955/955 [==============================] - 1s 1ms/step - loss: 0.5419 - acc: 0.8241 - val_loss: 0.6253 - val_acc: 0.8033\n",
            "Epoch 282/300\n",
            "955/955 [==============================] - 1s 1ms/step - loss: 0.5393 - acc: 0.8199 - val_loss: 0.6153 - val_acc: 0.8117\n",
            "Epoch 283/300\n",
            "955/955 [==============================] - 1s 1ms/step - loss: 0.5439 - acc: 0.8241 - val_loss: 0.6025 - val_acc: 0.8117\n",
            "Epoch 284/300\n",
            "955/955 [==============================] - 1s 1ms/step - loss: 0.5298 - acc: 0.8304 - val_loss: 0.6029 - val_acc: 0.8159\n",
            "Epoch 285/300\n",
            "955/955 [==============================] - 1s 1ms/step - loss: 0.5332 - acc: 0.8314 - val_loss: 0.5930 - val_acc: 0.8075\n",
            "Epoch 286/300\n",
            "955/955 [==============================] - 1s 1ms/step - loss: 0.5442 - acc: 0.8178 - val_loss: 0.5913 - val_acc: 0.8117\n",
            "Epoch 287/300\n",
            "955/955 [==============================] - 1s 1ms/step - loss: 0.5275 - acc: 0.8335 - val_loss: 0.6043 - val_acc: 0.8117\n",
            "Epoch 288/300\n",
            "955/955 [==============================] - 1s 1ms/step - loss: 0.5144 - acc: 0.8262 - val_loss: 0.5935 - val_acc: 0.8117\n",
            "Epoch 289/300\n",
            "955/955 [==============================] - 1s 1ms/step - loss: 0.5372 - acc: 0.8251 - val_loss: 0.5948 - val_acc: 0.8075\n",
            "Epoch 290/300\n",
            "955/955 [==============================] - 1s 1ms/step - loss: 0.5376 - acc: 0.8283 - val_loss: 0.5910 - val_acc: 0.8201\n",
            "Epoch 291/300\n",
            "955/955 [==============================] - 1s 1ms/step - loss: 0.5433 - acc: 0.8178 - val_loss: 0.5967 - val_acc: 0.8326\n",
            "Epoch 292/300\n",
            "955/955 [==============================] - 1s 1ms/step - loss: 0.5416 - acc: 0.8168 - val_loss: 0.6083 - val_acc: 0.8117\n",
            "Epoch 293/300\n",
            "955/955 [==============================] - 1s 1ms/step - loss: 0.5430 - acc: 0.8408 - val_loss: 0.6089 - val_acc: 0.8117\n",
            "Epoch 294/300\n",
            "955/955 [==============================] - 1s 1ms/step - loss: 0.5516 - acc: 0.8188 - val_loss: 0.6015 - val_acc: 0.8117\n",
            "Epoch 295/300\n",
            "955/955 [==============================] - 1s 1ms/step - loss: 0.5322 - acc: 0.8356 - val_loss: 0.6052 - val_acc: 0.8033\n",
            "Epoch 296/300\n",
            "955/955 [==============================] - 1s 1ms/step - loss: 0.5375 - acc: 0.8304 - val_loss: 0.5931 - val_acc: 0.8159\n",
            "Epoch 297/300\n",
            "955/955 [==============================] - 1s 1ms/step - loss: 0.5337 - acc: 0.8272 - val_loss: 0.5984 - val_acc: 0.8285\n",
            "Epoch 298/300\n",
            "955/955 [==============================] - 1s 1ms/step - loss: 0.5034 - acc: 0.8304 - val_loss: 0.5976 - val_acc: 0.8075\n",
            "Epoch 299/300\n",
            "955/955 [==============================] - 1s 1ms/step - loss: 0.5550 - acc: 0.8147 - val_loss: 0.6130 - val_acc: 0.8075\n",
            "Epoch 300/300\n",
            "955/955 [==============================] - 1s 1ms/step - loss: 0.5162 - acc: 0.8283 - val_loss: 0.5989 - val_acc: 0.8159\n"
          ],
          "name": "stdout"
        }
      ]
    },
    {
      "cell_type": "code",
      "metadata": {
        "id": "dnEpd1YcC1yw",
        "colab_type": "code",
        "colab": {
          "base_uri": "https://localhost:8080/",
          "height": 544
        },
        "outputId": "8de41e28-a2ec-4746-d9ff-59f628ec0d4e"
      },
      "source": [
        "  acc = history.history['acc']\n",
        "  val_acc = history.history['val_acc']\n",
        "  loss = history.history['loss']\n",
        "  val_loss = history.history['val_loss']\n",
        "  epochs = range(1, len(acc) + 1)\n",
        "\n",
        "  plt.plot(epochs, acc, 'bo', label='Training acc')\n",
        "  plt.plot(epochs, val_acc, 'b', label='Validation acc')\n",
        "  plt.title('Training and validation accuracy')\n",
        "  plt.legend()\n",
        "  plt.figure()\n",
        "  plt.plot(epochs, loss, 'bo', label='Training loss')\n",
        "  plt.plot(epochs,val_loss, 'b', label='Validation loss')\n",
        "  plt.title('Training and validation loss')\n",
        "  plt.legend()\n",
        "  plt.show()"
      ],
      "execution_count": 11,
      "outputs": [
        {
          "output_type": "display_data",
          "data": {
            "image/png": "[encoded data removed]",
            "text/plain": [
              "<Figure size 432x288 with 1 Axes>"
            ]
          },
          "metadata": {
            "tags": []
          }
        },
        {
          "output_type": "display_data",
          "data": {
            "image/png": "[encoded data removed]",
            "text/plain": [
              "<Figure size 432x288 with 1 Axes>"
            ]
          },
          "metadata": {
            "tags": []
          }
        }
      ]
    },
    {
      "cell_type": "code",
      "metadata": {
        "id": "UAzATKmuC-bg",
        "colab_type": "code",
        "colab": {
          "base_uri": "https://localhost:8080/",
          "height": 196
        },
        "outputId": "e4336104-6260-423e-df41-faf9ca74ab86"
      },
      "source": [
        "eval_speech_graph = tf.Graph()\n",
        "eval_speech_sess = tf.Session(graph=eval_speech_graph)\n",
        "\n",
        "keras.backend.set_session(eval_speech_sess)\n",
        "with eval_speech_graph.as_default():\n",
        "    keras.backend.set_learning_phase(0)\n",
        "    eval_model = build_urban_model()\n",
        "\n",
        "    #For quantization aware training only\n",
        "    #tf.contrib.quantize.create_eval_graph(input_graph=eval_speech_graph)\n",
        "    eval_speech_graph_def = eval_speech_graph.as_graph_def()\n",
        "    saver = tf.train.Saver()\n",
        "    saver.restore(eval_speech_sess, 'checkpoints')\n",
        "\n",
        "    frozen_graph_def = tf.graph_util.convert_variables_to_constants( eval_speech_sess, eval_speech_graph_def, \n",
        "                                                                    [eval_model.output.op.name] )\n",
        "\n",
        "    with open('frozen_urban_model.pb', 'wb') as f:\n",
        "      f.write(frozen_graph_def.SerializeToString())"
      ],
      "execution_count": 12,
      "outputs": [
        {
          "output_type": "stream",
          "text": [
            "INFO:tensorflow:Restoring parameters from checkpoints\n",
            "WARNING:tensorflow:From <ipython-input-12-0f3293bd894d>:16: convert_variables_to_constants (from tensorflow.python.framework.graph_util_impl) is deprecated and will be removed in a future version.\n",
            "Instructions for updating:\n",
            "Use `tf.compat.v1.graph_util.convert_variables_to_constants`\n",
            "WARNING:tensorflow:From /usr/local/lib/python3.6/dist-packages/tensorflow_core/python/framework/graph_util_impl.py:277: extract_sub_graph (from tensorflow.python.framework.graph_util_impl) is deprecated and will be removed in a future version.\n",
            "Instructions for updating:\n",
            "Use `tf.compat.v1.graph_util.extract_sub_graph`\n",
            "INFO:tensorflow:Froze 10 variables.\n",
            "INFO:tensorflow:Converted 10 variables to const ops.\n"
          ],
          "name": "stdout"
        }
      ]
    },
    {
      "cell_type": "code",
      "metadata": {
        "id": "OMQ7P0SfDAPz",
        "colab_type": "code",
        "colab": {}
      },
      "source": [
        "import pathlib\n",
        "\n",
        "tf.enable_eager_execution()\n",
        "tf.logging.set_verbosity(tf.logging.DEBUG)\n",
        "\n",
        "converter = tf.lite.TFLiteConverter.from_frozen_graph( \"frozen_urban_model.pb\", [\"conv2d_1_input\"], [\"dense_2/Softmax\"])\n",
        "tflite_model = converter.convert()"
      ],
      "execution_count": 0,
      "outputs": []
    },
    {
      "cell_type": "code",
      "metadata": {
        "id": "58yDd2ZaDJfC",
        "colab_type": "code",
        "colab": {}
      },
      "source": [
        "tflite_models_dir = pathlib.Path(\"/tmp/ESC50-split-models/\")\n",
        "tflite_models_dir.mkdir(exist_ok=True, parents=True)"
      ],
      "execution_count": 0,
      "outputs": []
    },
    {
      "cell_type": "code",
      "metadata": {
        "id": "J9ss0LxXDTaW",
        "colab_type": "code",
        "colab": {}
      },
      "source": [
        "dog_uint8 = tf.cast(dog_file, tf.uint8)\n",
        "clapping_uint8 = tf.cast(clapping_file, tf.uint8)\n",
        "door_knock_uint8 = tf.cast(door_knock_file, tf.uint8)\n",
        "clock_alarm_uint8 = tf.cast(clock_alarm_file, tf.uint8)\n",
        "glass_breaking_uint8 = tf.cast(glass_breaking_file, tf.uint8)\n",
        "fireworks_uint8 = tf.cast(fireworks_file, tf.uint8)\n"
      ],
      "execution_count": 0,
      "outputs": []
    },
    {
      "cell_type": "code",
      "metadata": {
        "id": "CdlDx4RcDzAk",
        "colab_type": "code",
        "colab": {}
      },
      "source": [
        "np.save('/content/' + 'dog_single_uint8.npy', dog_uint8)\n",
        "np.save('/content/' + 'clapping_single_uint8.npy', clapping_uint8)\n",
        "np.save('/content/' + 'door_knock_single_uint8.npy', door_knock_uint8)\n",
        "np.save('/content/' + 'clock_alarm_single_uint8.npy', clock_alarm_uint8 )\n",
        "np.save('/content/' + 'glass_breaking_single_uint8.npy', glass_breaking_uint8)\n",
        "np.save('/content/' + 'fireworks_single_uint8.npy', fireworks_uint8 )"
      ],
      "execution_count": 0,
      "outputs": []
    },
    {
      "cell_type": "code",
      "metadata": {
        "id": "cuGzRYavES2u",
        "colab_type": "code",
        "colab": {
          "base_uri": "https://localhost:8080/",
          "height": 34
        },
        "outputId": "9332a422-1461-4ae9-d4f8-320ae3981e66"
      },
      "source": [
        "tflite_model_file = tflite_models_dir/\"esc50-split-model.tflite\"\n",
        "tflite_model_file.write_bytes(tflite_model)"
      ],
      "execution_count": 18,
      "outputs": [
        {
          "output_type": "execute_result",
          "data": {
            "text/plain": [
              "87500"
            ]
          },
          "metadata": {
            "tags": []
          },
          "execution_count": 18
        }
      ]
    },
    {
      "cell_type": "code",
      "metadata": {
        "id": "fVeRww2LEc4h",
        "colab_type": "code",
        "colab": {
          "base_uri": "https://localhost:8080/",
          "height": 52
        },
        "outputId": "1d6bb369-ebbf-4667-b6c4-daa2c1009236"
      },
      "source": [
        "!ls -lh {tflite_models_dir}"
      ],
      "execution_count": 19,
      "outputs": [
        {
          "output_type": "stream",
          "text": [
            "total 88K\n",
            "-rw-r--r-- 1 root root 86K Oct 17 02:50 esc50-split-model.tflite\n"
          ],
          "name": "stdout"
        }
      ]
    },
    {
      "cell_type": "code",
      "metadata": {
        "id": "NNWiiVE2EfT3",
        "colab_type": "code",
        "colab": {}
      },
      "source": [
        "# Optimize for size\n",
        "tf.logging.set_verbosity(tf.logging.INFO)\n",
        "converter.optimizations = [tf.lite.Optimize.DEFAULT]"
      ],
      "execution_count": 0,
      "outputs": []
    },
    {
      "cell_type": "code",
      "metadata": {
        "id": "_-2qnmQfEiHL",
        "colab_type": "code",
        "colab": {}
      },
      "source": [
        "# Create quantized values with an accurate dynamic range of activations, \n",
        "# for that need to provide a representative dataset\n",
        "\n",
        "#sounds = tf.cast(X_train, tf.float32)/255.0\n",
        "sounds = tf.cast(X_train, tf.float32)\n",
        "urban_ds = tf.data.Dataset.from_tensor_slices((sounds)).batch(1)\n",
        "def representative_data_gen():\n",
        "  for input_value in urban_ds.take(100):\n",
        "    yield [input_value]\n",
        "    \n",
        "converter.representative_dataset = representative_data_gen"
      ],
      "execution_count": 0,
      "outputs": []
    },
    {
      "cell_type": "code",
      "metadata": {
        "id": "fFUqmRgMEmCh",
        "colab_type": "code",
        "colab": {
          "base_uri": "https://localhost:8080/",
          "height": 34
        },
        "outputId": "01903469-e6ab-4766-940f-7bca72045e5a"
      },
      "source": [
        "tflite_quant_model = converter.convert()\n",
        "tflite_model_quant_file = tflite_models_dir/\"esc50-split-model_quant.tflite\"\n",
        "tflite_model_quant_file.write_bytes(tflite_quant_model)"
      ],
      "execution_count": 22,
      "outputs": [
        {
          "output_type": "execute_result",
          "data": {
            "text/plain": [
              "31120"
            ]
          },
          "metadata": {
            "tags": []
          },
          "execution_count": 22
        }
      ]
    },
    {
      "cell_type": "code",
      "metadata": {
        "id": "ppMZclqFEuK8",
        "colab_type": "code",
        "colab": {
          "base_uri": "https://localhost:8080/",
          "height": 70
        },
        "outputId": "a962a5ee-b21a-4e86-87ef-f3e621caa7e0"
      },
      "source": [
        "!ls -lh {tflite_models_dir}"
      ],
      "execution_count": 23,
      "outputs": [
        {
          "output_type": "stream",
          "text": [
            "total 120K\n",
            "-rw-r--r-- 1 root root 31K Oct 17 02:50 esc50-split-model_quant.tflite\n",
            "-rw-r--r-- 1 root root 86K Oct 17 02:50 esc50-split-model.tflite\n"
          ],
          "name": "stdout"
        }
      ]
    },
    {
      "cell_type": "code",
      "metadata": {
        "id": "vhLSS-0YEvNX",
        "colab_type": "code",
        "colab": {
          "base_uri": "https://localhost:8080/",
          "height": 34
        },
        "outputId": "cccf3013-b249-4600-e437-175569769881"
      },
      "source": [
        "# The converted model needs to be fully quantized. That means all ops need to be \n",
        "# quantized, no floats left. The input and outputs need to be integers too.\n",
        "\n",
        "converter.target_spec.supported_ops = [tf.lite.OpsSet.TFLITE_BUILTINS_INT8]\n",
        "converter.inference_input_type = tf.uint8\n",
        "converter.inference_output_type = tf.uint8\n",
        "\n",
        "tflite_model_quant = converter.convert()\n",
        "tflite_model_quant_file = tflite_models_dir/\"esc50-split-model_quant_io.tflite\"\n",
        "tflite_model_quant_file.write_bytes(tflite_model_quant)"
      ],
      "execution_count": 24,
      "outputs": [
        {
          "output_type": "execute_result",
          "data": {
            "text/plain": [
              "31192"
            ]
          },
          "metadata": {
            "tags": []
          },
          "execution_count": 24
        }
      ]
    },
    {
      "cell_type": "code",
      "metadata": {
        "id": "X9RbRpDPE2tc",
        "colab_type": "code",
        "colab": {
          "base_uri": "https://localhost:8080/",
          "height": 87
        },
        "outputId": "fc41b2bf-cf31-4a3c-b790-3b9a187acd67"
      },
      "source": [
        "!ls -lh {tflite_models_dir}"
      ],
      "execution_count": 25,
      "outputs": [
        {
          "output_type": "stream",
          "text": [
            "total 152K\n",
            "-rw-r--r-- 1 root root 31K Oct 17 02:50 esc50-split-model_quant_io.tflite\n",
            "-rw-r--r-- 1 root root 31K Oct 17 02:50 esc50-split-model_quant.tflite\n",
            "-rw-r--r-- 1 root root 86K Oct 17 02:50 esc50-split-model.tflite\n"
          ],
          "name": "stdout"
        }
      ]
    },
    {
      "cell_type": "code",
      "metadata": {
        "id": "CyyVI07xE52n",
        "colab_type": "code",
        "colab": {
          "base_uri": "https://localhost:8080/",
          "height": 52
        },
        "outputId": "d80428db-4136-4fe2-9b89-dda651f3a35a"
      },
      "source": [
        "# Load data for float model\n",
        "#sounds = tf.cast(X_test, tf.float32)/255.0\n",
        "sounds = tf.cast(X_test, tf.float32)\n",
        "urban_ds = tf.data.Dataset.from_tensor_slices(sounds).batch(1)\n",
        "\n",
        "# Load data for quantized model\n",
        "sounds_uint8 = tf.cast(X_test, tf.uint8)\n",
        "urban_ds_uint8 = tf.data.Dataset.from_tensor_slices(sounds_uint8).batch(1)\n",
        "print(urban_ds)\n",
        "print(urban_ds_uint8)"
      ],
      "execution_count": 26,
      "outputs": [
        {
          "output_type": "stream",
          "text": [
            "<DatasetV1Adapter shapes: (?, 14, 51, 1), types: tf.float32>\n",
            "<DatasetV1Adapter shapes: (?, 14, 51, 1), types: tf.uint8>\n"
          ],
          "name": "stdout"
        }
      ]
    },
    {
      "cell_type": "code",
      "metadata": {
        "id": "r4f13wGME7e3",
        "colab_type": "code",
        "colab": {}
      },
      "source": [
        "# Grab files to test\n",
        "mfcc_dog = urban_wav2mfcc('test_single_file/dog/A-1-97392-A.wav', max_pad_len=51)\n",
        "mfcc_clapping = urban_wav2mfcc('test_single_file/clapping/A-1-105224-A.wav', max_pad_len=51)\n",
        "mfcc_door_knock = urban_wav2mfcc('test_single_file/door_knock/A-1-101336-A.wav', max_pad_len=51)\n",
        "mfcc_clock_alarm = urban_wav2mfcc('test_single_file/clock_alarm/A-5-210612-A.wav', max_pad_len=51)\n",
        "mfcc_glass_breaking = urban_wav2mfcc('test_single_file/glass_breaking/A-1-84705-A.wav', max_pad_len=51)\n",
        "mfcc_fireworks = urban_wav2mfcc('test_single_file/fireworks/A-1-160563-A.wav', max_pad_len=51)"
      ],
      "execution_count": 0,
      "outputs": []
    },
    {
      "cell_type": "code",
      "metadata": {
        "id": "yKHktbjMFIvB",
        "colab_type": "code",
        "colab": {}
      },
      "source": [
        "# 2D to 1D tensor\n",
        "mfcc_dog_flat = mfcc_dog.flatten()\n",
        "mfcc_clapping_flat = mfcc_clapping.flatten()\n",
        "mfcc_door_knock_flat = mfcc_door_knock.flatten()\n",
        "mfcc_clock_alarm_flat = mfcc_clock_alarm.flatten()\n",
        "mfcc_glass_breaking_flat = mfcc_glass_breaking.flatten()\n",
        "mfcc_fireworks_flat = mfcc_fireworks.flatten()"
      ],
      "execution_count": 0,
      "outputs": []
    },
    {
      "cell_type": "code",
      "metadata": {
        "id": "PA-L6fpxFmZp",
        "colab_type": "code",
        "colab": {}
      },
      "source": [
        "# Quantize \n",
        "dog_uint8 = tf.cast(mfcc_dog_flat, tf.uint8)\n",
        "clapping_uint8 = tf.cast(mfcc_clapping_flat, tf.uint8)\n",
        "door_knock_uint8 = tf.cast(mfcc_door_knock_flat, tf.uint8)\n",
        "clock_alarm_uint8 = tf.cast(mfcc_clock_alarm_flat , tf.uint8)\n",
        "glass_breaking_uint8 = tf.cast(mfcc_glass_breaking_flat, tf.uint8)\n",
        "fireworks_uint8 = tf.cast(mfcc_fireworks_flat, tf.uint8)"
      ],
      "execution_count": 0,
      "outputs": []
    },
    {
      "cell_type": "code",
      "metadata": {
        "id": "xTMoIqgbGY3s",
        "colab_type": "code",
        "colab": {}
      },
      "source": [
        "np.savetxt('dog_uint8.txt', [dog_uint8], fmt='%i, ', header='{', footer='}', comments='')\n",
        "np.savetxt('clapping_uint8.txt', [clapping_uint8], fmt='%i, ', header='{', footer='}', comments='')\n",
        "np.savetxt('door_knock_uint8.txt', [door_knock_uint8], fmt='%i, ', header='{', footer='}', comments='')\n",
        "np.savetxt('clock_alarm_uint8.txt', [clock_alarm_uint8], fmt='%i, ', header='{', footer='}', comments='')\n",
        "np.savetxt('glass_breaking_uint8.txt', [glass_breaking_uint8], fmt='%i, ', header='{', footer='}', comments='')\n",
        "np.savetxt('fireworks_uint8.txt', [fireworks_uint8], fmt='%i, ', header='{', footer='}', comments='')"
      ],
      "execution_count": 0,
      "outputs": []
    },
    {
      "cell_type": "markdown",
      "metadata": {
        "id": "rRGhOz7mG1ov",
        "colab_type": "text"
      },
      "source": [
        "### run model with tflite interpreter"
      ]
    },
    {
      "cell_type": "code",
      "metadata": {
        "id": "kVnznPDUG9ss",
        "colab_type": "code",
        "colab": {}
      },
      "source": [
        "interpreter = tf.lite.Interpreter(model_path=str(tflite_model_file))\n",
        "interpreter.allocate_tensors()"
      ],
      "execution_count": 0,
      "outputs": []
    },
    {
      "cell_type": "code",
      "metadata": {
        "id": "CdK0rCZiHAuW",
        "colab_type": "code",
        "colab": {}
      },
      "source": [
        "\n",
        "interpreter_quant = tf.lite.Interpreter(model_path=str(tflite_model_quant_file))\n",
        "\n",
        "interpreter_quant.allocate_tensors()"
      ],
      "execution_count": 0,
      "outputs": []
    },
    {
      "cell_type": "code",
      "metadata": {
        "id": "CNv8Dn1cHE2_",
        "colab_type": "code",
        "colab": {
          "base_uri": "https://localhost:8080/",
          "height": 34
        },
        "outputId": "6dcd006a-41a4-4b4f-ed7b-f70b1fafb72b"
      },
      "source": [
        "for sound in urban_ds:\n",
        "  break\n",
        "\n",
        "interpreter.set_tensor(interpreter.get_input_details()[0][\"index\"], sound)\n",
        "interpreter.invoke()\n",
        "predictions = interpreter.get_tensor(\n",
        "    interpreter.get_output_details()[0][\"index\"])\n",
        "\n",
        "print(predictions)"
      ],
      "execution_count": 33,
      "outputs": [
        {
          "output_type": "stream",
          "text": [
            "[[0.26578802 0.0811587  0.45903614 0.04947668 0.01299273 0.13154782]]\n"
          ],
          "name": "stdout"
        }
      ]
    },
    {
      "cell_type": "code",
      "metadata": {
        "id": "k5Vm65xxHID7",
        "colab_type": "code",
        "colab": {
          "base_uri": "https://localhost:8080/",
          "height": 34
        },
        "outputId": "bba4d009-cc7f-406e-9161-0d2cd9736cf2"
      },
      "source": [
        "for sound in urban_ds_uint8:\n",
        "  break\n",
        "#print(sound)\n",
        "interpreter_quant.set_tensor(\n",
        "    interpreter_quant.get_input_details()[0][\"index\"], sound)\n",
        "interpreter_quant.invoke()\n",
        "predictions = interpreter_quant.get_tensor(\n",
        "    interpreter_quant.get_output_details()[0][\"index\"])\n",
        "\n",
        "print(predictions)"
      ],
      "execution_count": 34,
      "outputs": [
        {
          "output_type": "stream",
          "text": [
            "[[  0   0   0   3   0 253]]\n"
          ],
          "name": "stdout"
        }
      ]
    }
  ]
}