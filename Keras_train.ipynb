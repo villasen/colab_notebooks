{
  "nbformat": 4,
  "nbformat_minor": 0,
  "metadata": {
    "colab": {
      "name": "Keras_train.ipynb",
      "version": "0.3.2",
      "provenance": [],
      "toc_visible": true,
      "include_colab_link": true
    },
    "kernelspec": {
      "name": "python2",
      "display_name": "Python 2"
    },
    "accelerator": "GPU"
  },
  "cells": [
    {
      "cell_type": "markdown",
      "metadata": {
        "id": "view-in-github",
        "colab_type": "text"
      },
      "source": [
        "<a href=\"https://colab.research.google.com/github/villasen/colab_notebooks/blob/master/Keras_train.ipynb\" target=\"_parent\"><img src=\"https://colab.research.google.com/assets/colab-badge.svg\" alt=\"Open In Colab\"/></a>"
      ]
    },
    {
      "cell_type": "markdown",
      "metadata": {
        "id": "lWZNjHYTtLnS",
        "colab_type": "text"
      },
      "source": [
        "# Building DS-CNN model using Keras framework"
      ]
    },
    {
      "cell_type": "code",
      "metadata": {
        "id": "mCzVr55e-Xza",
        "colab_type": "code",
        "colab": {}
      },
      "source": [
        "%env TIME_CLIP=1000\n",
        "%env MFCC_DIM = 10\n",
        "%env FRAME_DIM = 49\n",
        "%env INPUT_SHAPE = (MFCC_DIM, FRAME_DIM)\n"
      ],
      "execution_count": 0,
      "outputs": []
    },
    {
      "cell_type": "code",
      "metadata": {
        "id": "0DrgEh1EKJBu",
        "colab_type": "code",
        "colab": {}
      },
      "source": [
        "from keras import layers\n",
        "from keras import models\n",
        "from keras import backend as K"
      ],
      "execution_count": 0,
      "outputs": []
    },
    {
      "cell_type": "code",
      "metadata": {
        "id": "EWsjPl-K0IE4",
        "colab_type": "code",
        "colab": {}
      },
      "source": [
        "# Creating Keras sequential model\n",
        "model = models.Sequential()\n",
        "\n",
        "# 1\n",
        "model.add(layers.Conv2D(64, (4,10), strides=(2,2), padding='same', activation='relu', \\\n",
        "          input_shape=(10, 49, 1)))\n",
        "#model.add(layers.BatchNormalization(axis=))\n",
        "#model.add(layers.DepthwiseConv2D( (3,3), strides=(1,1), padding='same', depth_multiplier=1, \\\n",
        "#          activation='relu', data_format='channels_last'))\n",
        "model.add(layers.BatchNormalization(axis=-1, momentum=0.99, epsilon=0.001, \\\n",
        "                                    center=True, scale=True, beta_initializer='zeros', \\\n",
        "                                    gamma_initializer='ones', moving_mean_initializer='zeros', \\\n",
        "                                    moving_variance_initializer='ones', beta_regularizer=None, \\\n",
        "                                    gamma_regularizer=None, beta_constraint=None, gamma_constraint=None))\n",
        "model.add(layers.ReLU(max_value=None, negative_slope=0.0, threshold=0.0))\n",
        "\n",
        "# 2\n",
        "model.add(layers.SeparableConv2D(64, (3,3), strides=(1,1), data_format='channels_last', padding='same', depth_multiplier=1, activation='relu'))  \n",
        "#model.add(layers.BatchNormalization(axis=-1, momentum=0.99, epsilon=0.001, center=True, \\\n",
        "#                                   beta_initializer='zeros', gamma_initializer='ones',  \\  \n",
        "#                                   moving_mean_initializer='zeros', moving_variance_initializer='ones' \\\n",
        "#                                   beta_regularizer=None, gamma_regularizer=None, beta_constraint=None, \\\n",
        "#                                   gamma_constraint=None))\n",
        "model.add(layers.BatchNormalization(axis=-1, momentum=0.99, epsilon=0.001, \\\n",
        "                                    center=True, scale=True, beta_initializer='zeros', \\\n",
        "                                    gamma_initializer='ones', moving_mean_initializer='zeros', \\\n",
        "                                    moving_variance_initializer='ones', beta_regularizer=None, \\\n",
        "                                    gamma_regularizer=None, beta_constraint=None, gamma_constraint=None))\n",
        "model.add(layers.ReLU(max_value=None, negative_slope=0.0, threshold=0.0))\n",
        "\n",
        "\n",
        "model.add(layers.Conv2D(64, (1,1), strides=(1,1), padding='same', use_bias=False))\n",
        "model.add(layers.BatchNormalization(axis=-1, momentum=0.99, epsilon=0.001, \\\n",
        "                                    center=True, scale=True, beta_initializer='zeros', \\\n",
        "                                    gamma_initializer='ones', moving_mean_initializer='zeros', \\\n",
        "                                    moving_variance_initializer='ones', beta_regularizer=None, \\\n",
        "                                    gamma_regularizer=None, beta_constraint=None, gamma_constraint=None))\n",
        "model.add(layers.ReLU(max_value=None, negative_slope=0.0, threshold=0.0))\n",
        "\n",
        "# 3\n",
        "model.add(layers.SeparableConv2D(64, (3,3), strides=(1,1), data_format='channels_last', padding='same', depth_multiplier=1, activation='relu'))\n",
        "model.add(layers.BatchNormalization(axis=-1, momentum=0.99, epsilon=0.001, \\\n",
        "                                    center=True, scale=True, beta_initializer='zeros', \\\n",
        "                                    gamma_initializer='ones', moving_mean_initializer='zeros', \\\n",
        "                                    moving_variance_initializer='ones', beta_regularizer=None, \\\n",
        "                                    gamma_regularizer=None, beta_constraint=None, gamma_constraint=None))\n",
        "model.add(layers.ReLU(max_value=None, negative_slope=0.0, threshold=0.0))\n",
        "\n",
        "model.add(layers.Conv2D(64, (1,1), strides=(1,1), padding='same', use_bias=False))\n",
        "model.add(layers.BatchNormalization(axis=-1, momentum=0.99, epsilon=0.001, \\\n",
        "                                    center=True, scale=True, beta_initializer='zeros', \\\n",
        "                                    gamma_initializer='ones', moving_mean_initializer='zeros', \\\n",
        "                                    moving_variance_initializer='ones', beta_regularizer=None, \\\n",
        "                                    gamma_regularizer=None, beta_constraint=None, gamma_constraint=None))\n",
        "model.add(layers.ReLU(max_value=None, negative_slope=0.0, threshold=0.0))\n",
        "\n",
        "\n",
        "# 4\n",
        "model.add(layers.SeparableConv2D(64, (3,3), strides=(1,1), data_format='channels_last', padding='same', depth_multiplier=1, activation='relu'))\n",
        "model.add(layers.BatchNormalization(axis=-1, momentum=0.99, epsilon=0.001, \\\n",
        "                                    center=True, scale=True, beta_initializer='zeros', \\\n",
        "                                    gamma_initializer='ones', moving_mean_initializer='zeros', \\\n",
        "                                    moving_variance_initializer='ones', beta_regularizer=None, \\\n",
        "                                    gamma_regularizer=None, beta_constraint=None, gamma_constraint=None))\n",
        "model.add(layers.ReLU(max_value=None, negative_slope=0.0, threshold=0.0))\n",
        "\n",
        "model.add(layers.Conv2D(64, (1,1), strides=(1,1), padding='same', use_bias=False))\n",
        "model.add(layers.BatchNormalization(axis=-1, momentum=0.99, epsilon=0.001, \\\n",
        "                                    center=True, scale=True, beta_initializer='zeros', \\\n",
        "                                    gamma_initializer='ones', moving_mean_initializer='zeros', \\\n",
        "                                    moving_variance_initializer='ones', beta_regularizer=None, \\\n",
        "                                    gamma_regularizer=None, beta_constraint=None, gamma_constraint=None))\n",
        "model.add(layers.ReLU(max_value=None, negative_slope=0.0, threshold=0.0))\n",
        "\n",
        "\n",
        "# 5\n",
        "model.add(layers.SeparableConv2D(64, (3,3), strides=(1,1), data_format='channels_last', padding='same', depth_multiplier=1, activation='relu'))\n",
        "model.add(layers.BatchNormalization(axis=-1, momentum=0.99, epsilon=0.001, \\\n",
        "                                    center=True, scale=True, beta_initializer='zeros', \\\n",
        "                                    gamma_initializer='ones', moving_mean_initializer='zeros', \\\n",
        "                                    moving_variance_initializer='ones', beta_regularizer=None, \\\n",
        "                                    gamma_regularizer=None, beta_constraint=None, gamma_constraint=None))\n",
        "model.add(layers.ReLU(max_value=None, negative_slope=0.0, threshold=0.0))\n",
        "\n",
        "model.add(layers.Conv2D(64, (1,1), strides=(1,1), padding='same', use_bias=False))\n",
        "model.add(layers.BatchNormalization(axis=-1, momentum=0.99, epsilon=0.001, \\\n",
        "                                    center=True, scale=True, beta_initializer='zeros', \\\n",
        "                                    gamma_initializer='ones', moving_mean_initializer='zeros', \\\n",
        "                                    moving_variance_initializer='ones', beta_regularizer=None, \\\n",
        "                                    gamma_regularizer=None, beta_constraint=None, gamma_constraint=None))\n",
        "model.add(layers.ReLU(max_value=None, negative_slope=0.0, threshold=0.0))\n",
        "\n",
        "\n",
        "\n",
        "# Restarts layer sequence number \n",
        "K.clear_session()\n"
      ],
      "execution_count": 0,
      "outputs": []
    },
    {
      "cell_type": "code",
      "metadata": {
        "id": "yiLUN--y0u79",
        "colab_type": "code",
        "outputId": "4b22308f-c7ef-4b37-81bc-2774fa927de5",
        "colab": {
          "base_uri": "https://localhost:8080/",
          "height": 1054
        }
      },
      "source": [
        "model.summary()"
      ],
      "execution_count": 29,
      "outputs": [
        {
          "output_type": "stream",
          "text": [
            "_________________________________________________________________\n",
            "Layer (type)                 Output Shape              Param #   \n",
            "=================================================================\n",
            "conv2d_1 (Conv2D)            (None, 5, 25, 64)         2624      \n",
            "_________________________________________________________________\n",
            "batch_normalization_1 (Batch (None, 5, 25, 64)         256       \n",
            "_________________________________________________________________\n",
            "re_lu_1 (ReLU)               (None, 5, 25, 64)         0         \n",
            "_________________________________________________________________\n",
            "separable_conv2d_1 (Separabl (None, 5, 25, 64)         4736      \n",
            "_________________________________________________________________\n",
            "batch_normalization_2 (Batch (None, 5, 25, 64)         256       \n",
            "_________________________________________________________________\n",
            "re_lu_2 (ReLU)               (None, 5, 25, 64)         0         \n",
            "_________________________________________________________________\n",
            "conv2d_2 (Conv2D)            (None, 5, 25, 64)         4096      \n",
            "_________________________________________________________________\n",
            "batch_normalization_3 (Batch (None, 5, 25, 64)         256       \n",
            "_________________________________________________________________\n",
            "re_lu_3 (ReLU)               (None, 5, 25, 64)         0         \n",
            "_________________________________________________________________\n",
            "separable_conv2d_2 (Separabl (None, 5, 25, 64)         4736      \n",
            "_________________________________________________________________\n",
            "batch_normalization_4 (Batch (None, 5, 25, 64)         256       \n",
            "_________________________________________________________________\n",
            "re_lu_4 (ReLU)               (None, 5, 25, 64)         0         \n",
            "_________________________________________________________________\n",
            "conv2d_3 (Conv2D)            (None, 5, 25, 64)         4096      \n",
            "_________________________________________________________________\n",
            "batch_normalization_5 (Batch (None, 5, 25, 64)         256       \n",
            "_________________________________________________________________\n",
            "re_lu_5 (ReLU)               (None, 5, 25, 64)         0         \n",
            "_________________________________________________________________\n",
            "separable_conv2d_3 (Separabl (None, 5, 25, 64)         4736      \n",
            "_________________________________________________________________\n",
            "batch_normalization_6 (Batch (None, 5, 25, 64)         256       \n",
            "_________________________________________________________________\n",
            "re_lu_6 (ReLU)               (None, 5, 25, 64)         0         \n",
            "_________________________________________________________________\n",
            "conv2d_4 (Conv2D)            (None, 5, 25, 64)         4096      \n",
            "_________________________________________________________________\n",
            "batch_normalization_7 (Batch (None, 5, 25, 64)         256       \n",
            "_________________________________________________________________\n",
            "re_lu_7 (ReLU)               (None, 5, 25, 64)         0         \n",
            "_________________________________________________________________\n",
            "separable_conv2d_4 (Separabl (None, 5, 25, 64)         4736      \n",
            "_________________________________________________________________\n",
            "batch_normalization_8 (Batch (None, 5, 25, 64)         256       \n",
            "_________________________________________________________________\n",
            "re_lu_8 (ReLU)               (None, 5, 25, 64)         0         \n",
            "_________________________________________________________________\n",
            "conv2d_5 (Conv2D)            (None, 5, 25, 64)         4096      \n",
            "_________________________________________________________________\n",
            "batch_normalization_9 (Batch (None, 5, 25, 64)         256       \n",
            "_________________________________________________________________\n",
            "re_lu_9 (ReLU)               (None, 5, 25, 64)         0         \n",
            "=================================================================\n",
            "Total params: 40,256\n",
            "Trainable params: 39,104\n",
            "Non-trainable params: 1,152\n",
            "_________________________________________________________________\n"
          ],
          "name": "stdout"
        }
      ]
    },
    {
      "cell_type": "code",
      "metadata": {
        "id": "aKoVSl3ibtmd",
        "colab_type": "code",
        "colab": {}
      },
      "source": [
        "def test_my_model(self):\n",
        "  np.random.seed(1976)\n",
        "  mfcc_dim = 10\n",
        "  frame_dim = 49\n",
        "  input_shape = (mfcc_dim, fram_dim, 1)\n",
        "  depth_multiplier = 1\n",
        "  kernel_height = 3\n",
        "  kernel_width = 3\n",
        "  num_kernels = 64\n",
        "  "
      ],
      "execution_count": 0,
      "outputs": []
    }
  ]
}