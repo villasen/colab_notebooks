{
  "nbformat": 4,
  "nbformat_minor": 0,
  "metadata": {
    "colab": {
      "name": "Keras_train.ipynb",
      "version": "0.3.2",
      "provenance": [],
      "include_colab_link": true
    },
    "kernelspec": {
      "name": "python2",
      "display_name": "Python 2"
    },
    "accelerator": "GPU"
  },
  "cells": [
    {
      "cell_type": "markdown",
      "metadata": {
        "id": "view-in-github",
        "colab_type": "text"
      },
      "source": [
        "<a href=\"https://colab.research.google.com/github/villasen/colab_notebooks/blob/master/Keras_train.ipynb\" target=\"_parent\"><img src=\"https://colab.research.google.com/assets/colab-badge.svg\" alt=\"Open In Colab\"/></a>"
      ]
    },
    {
      "cell_type": "markdown",
      "metadata": {
        "id": "lWZNjHYTtLnS",
        "colab_type": "text"
      },
      "source": [
        "# Building DS-CNN model using Keras framework"
      ]
    },
    {
      "cell_type": "code",
      "metadata": {
        "id": "mCzVr55e-Xza",
        "colab_type": "code",
        "colab": {}
      },
      "source": [
        "%env TIME_CLIP=1000\n",
        "%env MFCC_DIM = 10\n",
        "%env FRAME_DIM = 49\n",
        "%env INPUT_SHAPE = (MFCC_DIM, FRAME_DIM)\n"
      ],
      "execution_count": 0,
      "outputs": []
    },
    {
      "cell_type": "code",
      "metadata": {
        "id": "0DrgEh1EKJBu",
        "colab_type": "code",
        "colab": {}
      },
      "source": [
        "from keras import layers\n",
        "from keras import models\n",
        "from keras import backend as K"
      ],
      "execution_count": 0,
      "outputs": []
    },
    {
      "cell_type": "code",
      "metadata": {
        "id": "EWsjPl-K0IE4",
        "colab_type": "code",
        "outputId": "3ed820d9-ec6f-454b-d26c-a714bf3dfc62",
        "colab": {
          "base_uri": "https://localhost:8080/",
          "height": 130
        }
      },
      "source": [
        "\n",
        "  \n",
        "\n",
        "\n",
        "model = models.Sequential()\n",
        "model.add(layers.Conv2D(64, (4,10), strides=(2,2), padding='same', activation='relu', \\\n",
        "          input_shape=(10, 49, 1)))\n",
        "#model.add(layers.DepthwiseConv2D( (3,3), strides=(1,1), padding='same', depth_multiplier=1, \\\n",
        "#          activation='relu', data_format='channels_last'))\n",
        "model.add(layers.SeparableConv2D(64, (3,3), strides=(1,1), data_format='channels_last', padding='same', depth_multiplier=1, activation='relu'))                                                   \n",
        "model.add(layers.BatchNormalization(axis=-1, momentum=0.99, epsilon=0.001, center=True, \\\n",
        "                                   beta_initializer='zeros', gamma_initializer='ones',  \\  \n",
        "                                   moving_mean_initializer='zeros', moving_variance_initializer='ones' \\\n",
        "                                   beta_regularizer=None, gamma_regularizer=None, beta_constraint=None, \\\n",
        "                                   gamma_constraint=None))\n",
        "model.add(layers.SeparableConv2D(64, (3,3), strides=(1,1), data_format='channels_last', padding='same', depth_multiplier=1, activation='relu'))\n",
        "model.add(layers.SeparableConv2D(64, (3,3), strides=(1,1), data_format='channels_last', padding='same', depth_multiplier=1, activation='relu'))\n",
        "model.add(layers.SeparableConv2D(64, (3,3), strides=(1,1), data_format='channels_last', padding='same', depth_multiplier=1, activation='relu'))\n",
        "\n",
        "\n",
        "\n",
        "# Restarts layer sequence number \n",
        "K.clear_session()\n"
      ],
      "execution_count": 0,
      "outputs": [
        {
          "output_type": "error",
          "ename": "SyntaxError",
          "evalue": "ignored",
          "traceback": [
            "\u001b[0;36m  File \u001b[0;32m\"<ipython-input-5-e07e84bdfe29>\"\u001b[0;36m, line \u001b[0;32m10\u001b[0m\n\u001b[0;31m    model.add(layers.BatchNormalization(axis=-1, momentum=0.99, epsilon=0.001, center=True,                                    beta_initializer='zeros', gamma_initializer='ones',  \\\u001b[0m\n\u001b[0m                                                                                                                                                                                       ^\u001b[0m\n\u001b[0;31mSyntaxError\u001b[0m\u001b[0;31m:\u001b[0m unexpected character after line continuation character\n"
          ]
        }
      ]
    },
    {
      "cell_type": "code",
      "metadata": {
        "id": "yiLUN--y0u79",
        "colab_type": "code",
        "outputId": "a069f335-99de-4e61-c505-a1535d6ada49",
        "colab": {
          "base_uri": "https://localhost:8080/",
          "height": 306
        }
      },
      "source": [
        "model.summary()"
      ],
      "execution_count": 0,
      "outputs": [
        {
          "output_type": "stream",
          "text": [
            "_________________________________________________________________\n",
            "Layer (type)                 Output Shape              Param #   \n",
            "=================================================================\n",
            "conv2d_1 (Conv2D)            (None, 5, 25, 64)         2624      \n",
            "_________________________________________________________________\n",
            "separable_conv2d_1 (Separabl (None, 5, 25, 64)         4736      \n",
            "_________________________________________________________________\n",
            "separable_conv2d_2 (Separabl (None, 5, 25, 64)         4736      \n",
            "_________________________________________________________________\n",
            "separable_conv2d_3 (Separabl (None, 5, 25, 64)         4736      \n",
            "_________________________________________________________________\n",
            "separable_conv2d_4 (Separabl (None, 5, 25, 64)         4736      \n",
            "=================================================================\n",
            "Total params: 21,568\n",
            "Trainable params: 21,568\n",
            "Non-trainable params: 0\n",
            "_________________________________________________________________\n"
          ],
          "name": "stdout"
        }
      ]
    },
    {
      "cell_type": "code",
      "metadata": {
        "id": "aKoVSl3ibtmd",
        "colab_type": "code",
        "colab": {}
      },
      "source": [
        "def test_my_model(self):\n",
        "  np.random.seed(1976)\n",
        "  mfcc_dim = 10\n",
        "  frame_dim = 49\n",
        "  input_shape = (mfcc_dim, fram_dim, 1)\n",
        "  depth_multiplier = 1\n",
        "  kernel_height = 3\n",
        "  kernel_width = 3\n",
        "  num_kernels = 64\n",
        "  "
      ],
      "execution_count": 0,
      "outputs": []
    }
  ]
}