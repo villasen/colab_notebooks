{
  "nbformat": 4,
  "nbformat_minor": 0,
  "metadata": {
    "colab": {
      "name": "Keras_train.ipynb",
      "version": "0.3.2",
      "provenance": [],
      "toc_visible": true,
      "include_colab_link": true
    },
    "kernelspec": {
      "name": "python3",
      "display_name": "Python 3"
    },
    "accelerator": "GPU"
  },
  "cells": [
    {
      "cell_type": "markdown",
      "metadata": {
        "id": "view-in-github",
        "colab_type": "text"
      },
      "source": [
        "<a href=\"https://colab.research.google.com/github/villasen/colab_notebooks/blob/master/Keras_train.ipynb\" target=\"_parent\"><img src=\"https://colab.research.google.com/assets/colab-badge.svg\" alt=\"Open In Colab\"/></a>"
      ]
    },
    {
      "cell_type": "markdown",
      "metadata": {
        "id": "1XfXFsAnRkn9",
        "colab_type": "text"
      },
      "source": [
        "#Urban dataset download and file structure setup for train, validation, and test"
      ]
    },
    {
      "cell_type": "code",
      "metadata": {
        "id": "X6mpdiRj4-Fs",
        "colab_type": "code",
        "outputId": "9ffdbe47-2c03-4f53-9bb2-c96e6bb5b3a8",
        "colab": {
          "base_uri": "https://localhost:8080/",
          "height": 153
        }
      },
      "source": [
        "!git clone https://github.com/villasen/small-urban-sound-dataset.git"
      ],
      "execution_count": 10,
      "outputs": [
        {
          "output_type": "stream",
          "text": [
            "Cloning into 'small-urban-sound-dataset'...\n",
            "remote: Enumerating objects: 9719, done.\u001b[K\n",
            "remote: Counting objects: 100% (9719/9719), done.\u001b[K\n",
            "remote: Compressing objects: 100% (9324/9324), done.\u001b[K\n",
            "remote: Total 9719 (delta 398), reused 9713 (delta 394), pack-reused 0\u001b[K\n",
            "Receiving objects: 100% (9719/9719), 259.08 MiB | 37.24 MiB/s, done.\n",
            "Resolving deltas: 100% (398/398), done.\n",
            "Checking out files: 100% (10185/10185), done.\n"
          ],
          "name": "stdout"
        }
      ]
    },
    {
      "cell_type": "code",
      "metadata": {
        "id": "8qrPrM21WXMz",
        "colab_type": "code",
        "colab": {}
      },
      "source": [
        "!rm -r /content/small-urban-sound-dataset"
      ],
      "execution_count": 0,
      "outputs": []
    },
    {
      "cell_type": "code",
      "metadata": {
        "id": "xpCKSN5YBPkZ",
        "colab_type": "code",
        "colab": {}
      },
      "source": [
        "!rm -r test_single_file/"
      ],
      "execution_count": 0,
      "outputs": []
    },
    {
      "cell_type": "code",
      "metadata": {
        "id": "kD6xOVD6ho2x",
        "colab_type": "code",
        "colab": {
          "base_uri": "https://localhost:8080/",
          "height": 34
        },
        "outputId": "7a03c39b-cf65-444c-9924-0c08c1fd897a"
      },
      "source": [
        "!rm -r /content/target_npy_files/"
      ],
      "execution_count": 8,
      "outputs": [
        {
          "output_type": "stream",
          "text": [
            "rm: cannot remove '/content/target_npy_files/': No such file or directory\n"
          ],
          "name": "stdout"
        }
      ]
    },
    {
      "cell_type": "code",
      "metadata": {
        "id": "iQz67Mm9GIUy",
        "colab_type": "code",
        "outputId": "94337439-9dd9-4a1a-e1b4-ca1a0ef4c169",
        "colab": {
          "base_uri": "https://localhost:8080/",
          "height": 1530
        }
      },
      "source": [
        "#from preprocess import *\n",
        "import keras\n",
        "from keras import layers\n",
        "from keras import models\n",
        "from keras import backend as K\n",
        "from keras import optimizers\n",
        "from keras import utils\n",
        "from keras.models import Sequential\n",
        "from keras.layers import Dense, Dropout, Flatten, Conv2D, MaxPooling2D\n",
        "import numpy as np\n",
        "import librosa\n",
        "import tensorflow\n",
        "import scipy\n",
        "import os, shutil\n",
        "from keras.utils import to_categorical\n",
        "from sklearn.model_selection import train_test_split\n",
        "import matplotlib.pyplot as plt\n",
        "\n",
        "\n",
        "target_dir = '/content/target_npy_files'\n",
        "target_model = '/content/target_model/'\n",
        "#DATA_PATH = \"small-urban-sound-dataset/tiny-dataset/\"\n",
        "DATA_PATH = \"small-urban-sound-dataset/combined_datasets/\"\n",
        "os.mkdir(target_dir)\n",
        "\n",
        "test_single_file = 'test_single_file/'\n",
        "os.mkdir(test_single_file)\n",
        "!mv small-urban-sound-dataset/combined_datasets/Helicopter/1-172649-A.wav test_single_file\n",
        "\n",
        "\n",
        "def wav2mfcc(file_path, max_pad_len):\n",
        "    wave, sr = librosa.load(file_path, mono=True, sr=None)\n",
        "    mfcc = librosa.feature.mfcc(wave, sr=16000, n_mfcc=10, n_fft=640, hop_length=320)\n",
        "    pad_width = max_pad_len - mfcc.shape[1]\n",
        "    if pad_width < 0: \n",
        "      print(mfcc.shape[1])\n",
        "      print(pad_width)\n",
        "      print(\"error in \"+ file_path)\n",
        "    \n",
        "    mfcc = np.pad(mfcc, pad_width=((0, 0), (0, pad_width)), mode='constant')\n",
        "    return mfcc\n",
        "\n",
        "  \n",
        "  \n",
        "def get_labels(path):\n",
        "    labels = os.listdir(path) \n",
        "    label_indices = np.arange(0, len(labels))\n",
        "    return labels, label_indices, to_categorical(label_indices)  \n",
        "\n",
        "\n",
        "\n",
        "               \n",
        "def save_data_to_array(path=DATA_PATH, max_pad_len=51):\n",
        "    labels, _, _ = get_labels(path)\n",
        "\n",
        "    for label in labels:\n",
        "        # Init mfcc vectors\n",
        "        mfcc_vectors = []\n",
        "\n",
        "        wavfiles = [path + label + '/' + wavfile for wavfile in os.listdir(path + '/' + label)]\n",
        "        for wavfile in wavfiles:\n",
        "            if label == '_background_noise_' : break\n",
        "            mfcc = wav2mfcc(wavfile, max_pad_len=max_pad_len)\n",
        "            \n",
        "            mfcc_vectors.append(mfcc)\n",
        "        np.save('/content/target_npy_files/' + label + '.npy', mfcc_vectors)\n",
        "        print(label)\n",
        "        print(len(mfcc_vectors))\n",
        "        \n",
        "\n",
        "        \n",
        "\n",
        "def get_train_test(split_ratio=0.9, random_state=42):\n",
        "    # Get available labels\n",
        "    labels, indices, _ = get_labels(DATA_PATH)\n",
        "\n",
        "    # Getting first arrays\n",
        "    X = np.load('/content/target_npy_files/' + labels[0] + '.npy')\n",
        "    y = np.zeros(X.shape[0])\n",
        "\n",
        "    \n",
        "    # Append all of the dataset into one single array, same goes for y\n",
        "    for i, label in enumerate(labels[1:]):\n",
        "        x = np.load('/content/target_npy_files/' + label + '.npy')\n",
        "        \n",
        "        X = np.vstack((X, x))\n",
        "        y = np.append(y, np.full(x.shape[0], fill_value= (i + 1)))\n",
        "        \n",
        "    assert X.shape[0] == len(y)\n",
        "\n",
        "    return train_test_split(X, y, test_size= (1 - split_ratio), random_state=random_state, shuffle=True)\n",
        "\n",
        "  \n",
        "  \n",
        "  \n",
        "save_data_to_array(path=DATA_PATH, max_pad_len=51)    \n",
        "X_train, X_test, y_train, y_test = get_train_test()\n",
        "\n",
        "X_train = X_train.reshape(X_train.shape[0], 10, 51, 1)\n",
        "X_test = X_test.reshape(X_test.shape[0], 10, 51, 1)\n",
        "y_train_hot = to_categorical(y_train)\n",
        "y_test_hot = to_categorical(y_test)"
      ],
      "execution_count": 12,
      "outputs": [
        {
          "output_type": "stream",
          "text": [
            "Using TensorFlow backend.\n"
          ],
          "name": "stderr"
        },
        {
          "output_type": "stream",
          "text": [
            "hen\n",
            "40\n",
            "dog_bark\n",
            "1000\n",
            "coughing\n",
            "40\n",
            "cow\n",
            "40\n",
            "pig\n",
            "40\n",
            "train\n",
            "40\n",
            "street_music\n",
            "1000\n",
            "clapping\n",
            "40\n",
            "air_conditioner\n",
            "1000\n",
            "sea_waves\n",
            "40\n",
            "chirping_birds\n",
            "40\n",
            "laughing\n",
            "40\n",
            "chainsaw\n",
            "40\n",
            "siren\n",
            "929\n",
            "pouring_water\n",
            "40\n",
            "water_drops\n",
            "40\n",
            "jackhammer\n",
            "1000\n",
            "clock_tick\n",
            "40\n",
            "insects\n",
            "40\n",
            "thunderstorm\n",
            "40\n",
            "cat\n",
            "40\n",
            "toilet_flush\n",
            "40\n",
            "drilling\n",
            "1000\n",
            "wind\n",
            "40\n",
            "clock_alarm\n",
            "40\n",
            "engine_idling\n",
            "1000\n",
            "mouse_click\n",
            "40\n",
            "car_horn\n",
            "40\n",
            "breathing\n",
            "40\n",
            "children_playing\n",
            "1000\n",
            "sneezing\n",
            "40\n",
            "church_bells\n",
            "40\n",
            "washing_machine\n",
            "40\n",
            "rain\n",
            "40\n",
            "rooster\n",
            "40\n",
            "can_opening\n",
            "40\n",
            "vacuum_cleaner\n",
            "40\n",
            "brushing_teeth\n",
            "40\n",
            "snoring\n",
            "40\n",
            "Helicopter\n",
            "39\n",
            "gun_shot\n",
            "374\n",
            "airplane\n",
            "40\n",
            "sheep\n",
            "40\n",
            "keyboard_typing\n",
            "40\n"
          ],
          "name": "stdout"
        }
      ]
    },
    {
      "cell_type": "code",
      "metadata": {
        "id": "xi_wRLjZgBWQ",
        "colab_type": "code",
        "colab": {}
      },
      "source": [
        "  \n",
        "#save_data_to_array(path=DATA_PATH, max_pad_len=51)    \n",
        "X_train, X_test, y_train, y_test = get_train_test()\n",
        "\n",
        "X_train = X_train.reshape(X_train.shape[0], 10, 51, 1)\n",
        "X_test = X_test.reshape(X_test.shape[0], 10, 51, 1)\n",
        "y_train_hot = to_categorical(y_train)\n",
        "y_test_hot = to_categorical(y_test)"
      ],
      "execution_count": 0,
      "outputs": []
    },
    {
      "cell_type": "code",
      "metadata": {
        "id": "qvG5N6W6MRLV",
        "colab_type": "code",
        "colab": {}
      },
      "source": [
        "!rm -r /content/target_npy_files/*.npy"
      ],
      "execution_count": 0,
      "outputs": []
    },
    {
      "cell_type": "markdown",
      "metadata": {
        "id": "lWZNjHYTtLnS",
        "colab_type": "text"
      },
      "source": [
        "# Building DS-CNN model using Keras framework"
      ]
    },
    {
      "cell_type": "code",
      "metadata": {
        "id": "EWsjPl-K0IE4",
        "colab_type": "code",
        "outputId": "a2b132d2-3cac-4e94-d47a-4cc029b726d2",
        "colab": {
          "base_uri": "https://localhost:8080/",
          "height": 7535
        }
      },
      "source": [
        "# Creating Keras sequential model\n",
        "#bn = 1\n",
        "target_model = '/content/target_model/'\n",
        "os.mkdir(target_model)\n",
        "BN=True\n",
        "model = models.Sequential()\n",
        "\n",
        "def dscnn_train():\n",
        "  # 1\n",
        "      model.add(layers.Conv2D(64, (4,10), strides=(2,2), padding='same', activation='relu', \\\n",
        "                #input_shape=(10, 49, 1)))\n",
        "                input_shape=(10,51,1)))\n",
        "      #model.add(layers.Dropout(0.5))\n",
        "      if BN == True:\n",
        "          model.add(layers.BatchNormalization(axis=-1, momentum=0.99, epsilon=0.001, \\\n",
        "                                                center=True, scale=True, beta_initializer='zeros', \\\n",
        "                                                gamma_initializer='ones', moving_mean_initializer='zeros', \\\n",
        "                                                moving_variance_initializer='ones', beta_regularizer=None, \\\n",
        "                                                gamma_regularizer=None, beta_constraint=None, gamma_constraint=None))\n",
        "      \n",
        "      #model.add(layers.Dropout(0.5))\n",
        "      model.add(layers.ReLU(max_value=None, negative_slope=0.0, threshold=0.0))\n",
        "      #model.add(layers.Dropout(0.5))\n",
        "      # 2\n",
        "      model.add(layers.SeparableConv2D(64, (3,3), strides=(1,1), data_format='channels_last', padding='same', depth_multiplier=1, activation='relu'))  \n",
        "      if BN == True:\n",
        "          model.add(layers.BatchNormalization(axis=-1, momentum=0.99, epsilon=0.001, \\\n",
        "                                              center=True, scale=True, beta_initializer='zeros', \\\n",
        "                                              gamma_initializer='ones', moving_mean_initializer='zeros', \\\n",
        "                                              moving_variance_initializer='ones', beta_regularizer=None, \\\n",
        "                                              gamma_regularizer=None, beta_constraint=None, gamma_constraint=None))\n",
        "      #model.add(layers.Dropout(0.5))\n",
        "      model.add(layers.ReLU(max_value=None, negative_slope=0.0, threshold=0.0))\n",
        "      #model.add(layers.Dropout(0.5))\n",
        "\n",
        "      model.add(layers.Conv2D(64, (1,1), strides=(1,1), padding='same', use_bias=False))\n",
        "      if BN == True:\n",
        "          model.add(layers.BatchNormalization(axis=-1, momentum=0.99, epsilon=0.001, \\\n",
        "                                              center=True, scale=True, beta_initializer='zeros', \\\n",
        "                                              gamma_initializer='ones', moving_mean_initializer='zeros', \\\n",
        "                                              moving_variance_initializer='ones', beta_regularizer=None, \\\n",
        "                                              gamma_regularizer=None, beta_constraint=None, gamma_constraint=None))\n",
        "     # model.add(layers.Dropout(0.5))\n",
        "      model.add(layers.ReLU(max_value=None, negative_slope=0.0, threshold=0.0))\n",
        "     # model.add(layers.Dropout(0.5))\n",
        "      # 3\n",
        "      model.add(layers.SeparableConv2D(64, (3,3), strides=(1,1), data_format='channels_last', padding='same', depth_multiplier=1, activation='relu'))\n",
        "      if BN == True:\n",
        "          model.add(layers.BatchNormalization(axis=-1, momentum=0.99, epsilon=0.001, \\\n",
        "                                              center=True, scale=True, beta_initializer='zeros', \\\n",
        "                                              gamma_initializer='ones', moving_mean_initializer='zeros', \\\n",
        "                                              moving_variance_initializer='ones', beta_regularizer=None, \\\n",
        "                                              gamma_regularizer=None, beta_constraint=None, gamma_constraint=None))\n",
        "      \n",
        "      #model.add(layers.Dropout(0.5))\n",
        "      model.add(layers.ReLU(max_value=None, negative_slope=0.0, threshold=0.0))\n",
        "     # model.add(layers.Dropout(0.5))\n",
        "      \n",
        "      model.add(layers.Conv2D(64, (1,1), strides=(1,1), padding='same', use_bias=False))\n",
        "      if BN == True:\n",
        "          model.add(layers.BatchNormalization(axis=-1, momentum=0.99, epsilon=0.001, \\\n",
        "                                              center=True, scale=True, beta_initializer='zeros', \\\n",
        "                                              gamma_initializer='ones', moving_mean_initializer='zeros', \\\n",
        "                                              moving_variance_initializer='ones', beta_regularizer=None, \\\n",
        "                                              gamma_regularizer=None, beta_constraint=None, gamma_constraint=None))\n",
        "      #model.add(layers.Dropout(0.5))\n",
        "      model.add(layers.ReLU(max_value=None, negative_slope=0.0, threshold=0.0))\n",
        "      model.add(layers.Dropout(0.5))\n",
        "\n",
        "      # 4\n",
        "      model.add(layers.SeparableConv2D(64, (3,3), strides=(1,1), data_format='channels_last', padding='same', depth_multiplier=1, activation='relu'))\n",
        "      if BN == True:\n",
        "          model.add(layers.BatchNormalization(axis=-1, momentum=0.99, epsilon=0.001, \\\n",
        "                                              center=True, scale=True, beta_initializer='zeros', \\\n",
        "                                              gamma_initializer='ones', moving_mean_initializer='zeros', \\\n",
        "                                              moving_variance_initializer='ones', beta_regularizer=None, \\\n",
        "                                              gamma_regularizer=None, beta_constraint=None, gamma_constraint=None))\n",
        "      #model.add(layers.Dropout(0.5))\n",
        "      model.add(layers.ReLU(max_value=None, negative_slope=0.0, threshold=0.0))\n",
        "      model.add(layers.Dropout(0.5))\n",
        "      model.add(layers.Conv2D(64, (1,1), strides=(1,1), padding='same', use_bias=False))\n",
        "      if BN == True:\n",
        "          model.add(layers.BatchNormalization(axis=-1, momentum=0.99, epsilon=0.001, \\\n",
        "                                              center=True, scale=True, beta_initializer='zeros', \\\n",
        "                                              gamma_initializer='ones', moving_mean_initializer='zeros', \\\n",
        "                                              moving_variance_initializer='ones', beta_regularizer=None, \\\n",
        "                                              gamma_regularizer=None, beta_constraint=None, gamma_constraint=None))\n",
        "      model.add(layers.Dropout(0.5))\n",
        "      model.add(layers.ReLU(max_value=None, negative_slope=0.0, threshold=0.0))\n",
        "      model.add(layers.Dropout(0.5))\n",
        "\n",
        "      # 5\n",
        "      model.add(layers.SeparableConv2D(64, (3,3), strides=(1,1), data_format='channels_last', padding='same', depth_multiplier=1, activation='relu'))\n",
        "      if BN == True:\n",
        "          model.add(layers.BatchNormalization(axis=-1, momentum=0.99, epsilon=0.001, \\\n",
        "                                              center=True, scale=True, beta_initializer='zeros', \\\n",
        "                                              gamma_initializer='ones', moving_mean_initializer='zeros', \\\n",
        "                                              moving_variance_initializer='ones', beta_regularizer=None, \\\n",
        "                                              gamma_regularizer=None, beta_constraint=None, gamma_constraint=None))\n",
        "      #model.add(layers.Dropout(0.5))\n",
        "      model.add(layers.ReLU(max_value=None, negative_slope=0.0, threshold=0.0))\n",
        "      model.add(layers.Dropout(0.5))\n",
        "      model.add(layers.Conv2D(64, (1,1), strides=(1,1), padding='same', use_bias=False))\n",
        "      if BN == True:      \n",
        "          model.add(layers.BatchNormalization(axis=-1, momentum=0.99, epsilon=0.001, \\\n",
        "                                              center=True, scale=True, beta_initializer='zeros', \\\n",
        "                                              gamma_initializer='ones', moving_mean_initializer='zeros', \\\n",
        "                                              moving_variance_initializer='ones', beta_regularizer=None, \\\n",
        "                                              gamma_regularizer=None, beta_constraint=None, gamma_constraint=None))\n",
        "      #model.add(layers.Dropout(0.5))\n",
        "      model.add(layers.ReLU(max_value=None, negative_slope=0.0, threshold=0.0))\n",
        "      model.add(layers.Dropout(0.5))\n",
        "\n",
        "\n",
        "      \n",
        "           \n",
        "      \n",
        "# Final layer\n",
        "      \n",
        "      #model.add(layers.Dropout(0.5))\n",
        "      model.add(layers.AveragePooling2D(pool_size=(5, 25), strides=(2,2), padding='valid', data_format=None))\n",
        "      model.add(layers.Dropout(0.5))\n",
        "      model.add(layers.Flatten(data_format=None))\n",
        "     # model.add(layers.Dropout(0.5))\n",
        "      model.add(layers.Dense(64, activation='relu'))\n",
        "      model.add(layers.Dropout(0.5))\n",
        "      #model.add(layers.Dense(12, activation='softmax'))\n",
        "      model.add(layers.Dense(44, activation='softmax'))\n",
        "      #model.add(layers.Dropout(0.5))\n",
        "      # Compilation step to choose loss function, optimizer and metric\n",
        "      # Configuring the learning process\n",
        "      model.compile(optimizer='adam', loss='categorical_crossentropy', metrics=['accuracy'])\n",
        "      #model.fit()\n",
        "      history = model.fit(X_train, y_train_hot, batch_size=100, epochs=200, verbose=1, validation_data=(X_test, y_test_hot))\n",
        "      \n",
        "      #plt.plot(history.history['acc'])\n",
        "      #Restarts layer sequence number \n",
        "      #K.clear_session()\n",
        "\n",
        "      acc = history.history['acc']\n",
        "      val_acc = history.history['val_acc']\n",
        "      loss = history.history['loss']\n",
        "      val_loss = history.history['val_loss']\n",
        "      epochs = range(1, len(acc) + 1)\n",
        "      \n",
        "      plt.plot(epochs, acc, 'bo', label='Training acc')\n",
        "      plt.plot(epochs, val_acc, 'b', label='Validation acc')\n",
        "      plt.title('Training and validation accuracy')\n",
        "      plt.legend()\n",
        "\n",
        "      plt.figure()\n",
        "\n",
        "      plt.plot(epochs, loss, 'bo', label='Training loss')\n",
        "      plt.plot(epochs,val_loss, 'b', label='Validation loss')\n",
        "      plt.title('Training and validation loss')\n",
        "      plt.legend()\n",
        "      plt.show()\n",
        "      \n",
        "      \n",
        "      model.save('/content/target_model/urban_sound.h5')\n",
        "  \n",
        "dscnn_train()  "
      ],
      "execution_count": 13,
      "outputs": [
        {
          "output_type": "stream",
          "text": [
            "WARNING:tensorflow:From /usr/local/lib/python3.6/dist-packages/tensorflow/python/framework/op_def_library.py:263: colocate_with (from tensorflow.python.framework.ops) is deprecated and will be removed in a future version.\n",
            "Instructions for updating:\n",
            "Colocations handled automatically by placer.\n",
            "WARNING:tensorflow:From /usr/local/lib/python3.6/dist-packages/keras/backend/tensorflow_backend.py:3445: calling dropout (from tensorflow.python.ops.nn_ops) with keep_prob is deprecated and will be removed in a future version.\n",
            "Instructions for updating:\n",
            "Please use `rate` instead of `keep_prob`. Rate should be set to `rate = 1 - keep_prob`.\n",
            "WARNING:tensorflow:From /usr/local/lib/python3.6/dist-packages/tensorflow/python/ops/math_ops.py:3066: to_int32 (from tensorflow.python.ops.math_ops) is deprecated and will be removed in a future version.\n",
            "Instructions for updating:\n",
            "Use tf.cast instead.\n",
            "Train on 8731 samples, validate on 971 samples\n",
            "Epoch 1/200\n",
            "8731/8731 [==============================] - 7s 792us/step - loss: 3.1998 - acc: 0.1160 - val_loss: 2.8840 - val_acc: 0.1287\n",
            "Epoch 2/200\n",
            "8731/8731 [==============================] - 2s 184us/step - loss: 2.6929 - acc: 0.1833 - val_loss: 2.8833 - val_acc: 0.1390\n",
            "Epoch 3/200\n",
            "8731/8731 [==============================] - 2s 194us/step - loss: 2.5627 - acc: 0.2180 - val_loss: 2.6976 - val_acc: 0.2019\n",
            "Epoch 4/200\n",
            "8731/8731 [==============================] - 2s 187us/step - loss: 2.4785 - acc: 0.2405 - val_loss: 2.5780 - val_acc: 0.2441\n",
            "Epoch 5/200\n",
            "8731/8731 [==============================] - 2s 182us/step - loss: 2.3919 - acc: 0.2621 - val_loss: 2.3819 - val_acc: 0.2966\n",
            "Epoch 6/200\n",
            "8731/8731 [==============================] - 2s 179us/step - loss: 2.3020 - acc: 0.2949 - val_loss: 2.4921 - val_acc: 0.2533\n",
            "Epoch 7/200\n",
            "8731/8731 [==============================] - 2s 182us/step - loss: 2.2439 - acc: 0.3169 - val_loss: 2.2577 - val_acc: 0.3131\n",
            "Epoch 8/200\n",
            "8731/8731 [==============================] - 2s 191us/step - loss: 2.1697 - acc: 0.3382 - val_loss: 2.2891 - val_acc: 0.3306\n",
            "Epoch 9/200\n",
            "8731/8731 [==============================] - 2s 195us/step - loss: 2.1374 - acc: 0.3543 - val_loss: 2.1853 - val_acc: 0.3831\n",
            "Epoch 10/200\n",
            "8731/8731 [==============================] - 2s 196us/step - loss: 2.0812 - acc: 0.3664 - val_loss: 2.3724 - val_acc: 0.2925\n",
            "Epoch 11/200\n",
            "8731/8731 [==============================] - 2s 193us/step - loss: 2.0435 - acc: 0.3899 - val_loss: 2.0187 - val_acc: 0.3996\n",
            "Epoch 12/200\n",
            "8731/8731 [==============================] - 2s 177us/step - loss: 1.9933 - acc: 0.4146 - val_loss: 2.0200 - val_acc: 0.3975\n",
            "Epoch 13/200\n",
            "8731/8731 [==============================] - 2s 177us/step - loss: 1.9523 - acc: 0.4253 - val_loss: 1.9649 - val_acc: 0.4367\n",
            "Epoch 14/200\n",
            "8731/8731 [==============================] - 2s 179us/step - loss: 1.8864 - acc: 0.4427 - val_loss: 1.8960 - val_acc: 0.4418\n",
            "Epoch 15/200\n",
            "8731/8731 [==============================] - 2s 179us/step - loss: 1.8547 - acc: 0.4619 - val_loss: 2.1299 - val_acc: 0.4078\n",
            "Epoch 16/200\n",
            "8731/8731 [==============================] - 2s 176us/step - loss: 1.8319 - acc: 0.4660 - val_loss: 1.9767 - val_acc: 0.4284\n",
            "Epoch 17/200\n",
            "8731/8731 [==============================] - 2s 180us/step - loss: 1.7879 - acc: 0.4886 - val_loss: 1.7976 - val_acc: 0.4799\n",
            "Epoch 18/200\n",
            "8731/8731 [==============================] - 2s 178us/step - loss: 1.7574 - acc: 0.4908 - val_loss: 1.8022 - val_acc: 0.4737\n",
            "Epoch 19/200\n",
            "8731/8731 [==============================] - 2s 180us/step - loss: 1.7207 - acc: 0.5045 - val_loss: 1.8030 - val_acc: 0.5015\n",
            "Epoch 20/200\n",
            "8731/8731 [==============================] - 2s 176us/step - loss: 1.6953 - acc: 0.5169 - val_loss: 1.7588 - val_acc: 0.5036\n",
            "Epoch 21/200\n",
            "8731/8731 [==============================] - 2s 186us/step - loss: 1.6746 - acc: 0.5194 - val_loss: 1.7512 - val_acc: 0.5088\n",
            "Epoch 22/200\n",
            "8731/8731 [==============================] - 2s 181us/step - loss: 1.6284 - acc: 0.5357 - val_loss: 1.7209 - val_acc: 0.5232\n",
            "Epoch 23/200\n",
            "8731/8731 [==============================] - 2s 180us/step - loss: 1.6267 - acc: 0.5391 - val_loss: 1.7054 - val_acc: 0.5273\n",
            "Epoch 24/200\n",
            "8731/8731 [==============================] - 2s 181us/step - loss: 1.5771 - acc: 0.5474 - val_loss: 1.7156 - val_acc: 0.5314\n",
            "Epoch 25/200\n",
            "8731/8731 [==============================] - 2s 187us/step - loss: 1.5655 - acc: 0.5518 - val_loss: 1.7105 - val_acc: 0.5263\n",
            "Epoch 26/200\n",
            "8731/8731 [==============================] - 2s 178us/step - loss: 1.5391 - acc: 0.5672 - val_loss: 1.6434 - val_acc: 0.5541\n",
            "Epoch 27/200\n",
            "8731/8731 [==============================] - 2s 181us/step - loss: 1.5280 - acc: 0.5704 - val_loss: 1.6493 - val_acc: 0.5685\n",
            "Epoch 28/200\n",
            "8731/8731 [==============================] - 2s 180us/step - loss: 1.4891 - acc: 0.5747 - val_loss: 1.6627 - val_acc: 0.5582\n",
            "Epoch 29/200\n",
            "8731/8731 [==============================] - 2s 184us/step - loss: 1.4838 - acc: 0.5871 - val_loss: 1.6282 - val_acc: 0.5685\n",
            "Epoch 30/200\n",
            "8731/8731 [==============================] - 2s 181us/step - loss: 1.4840 - acc: 0.5940 - val_loss: 1.7638 - val_acc: 0.5376\n",
            "Epoch 31/200\n",
            "8731/8731 [==============================] - 2s 183us/step - loss: 1.4581 - acc: 0.5956 - val_loss: 1.6412 - val_acc: 0.5654\n",
            "Epoch 32/200\n",
            "8731/8731 [==============================] - 2s 180us/step - loss: 1.4336 - acc: 0.6082 - val_loss: 1.5718 - val_acc: 0.5602\n",
            "Epoch 33/200\n",
            "8731/8731 [==============================] - 2s 178us/step - loss: 1.4246 - acc: 0.6086 - val_loss: 1.5806 - val_acc: 0.5716\n",
            "Epoch 34/200\n",
            "8731/8731 [==============================] - 2s 180us/step - loss: 1.4047 - acc: 0.6114 - val_loss: 1.7642 - val_acc: 0.5499\n",
            "Epoch 35/200\n",
            "8731/8731 [==============================] - 2s 180us/step - loss: 1.3806 - acc: 0.6207 - val_loss: 1.6722 - val_acc: 0.5747\n",
            "Epoch 36/200\n",
            "8731/8731 [==============================] - 2s 181us/step - loss: 1.3787 - acc: 0.6224 - val_loss: 1.5398 - val_acc: 0.6148\n",
            "Epoch 37/200\n",
            "8731/8731 [==============================] - 2s 181us/step - loss: 1.3659 - acc: 0.6288 - val_loss: 1.6346 - val_acc: 0.5705\n",
            "Epoch 38/200\n",
            "8731/8731 [==============================] - 2s 180us/step - loss: 1.3502 - acc: 0.6331 - val_loss: 1.6542 - val_acc: 0.5685\n",
            "Epoch 39/200\n",
            "8731/8731 [==============================] - 2s 184us/step - loss: 1.3203 - acc: 0.6410 - val_loss: 1.5269 - val_acc: 0.5973\n",
            "Epoch 40/200\n",
            "8731/8731 [==============================] - 2s 182us/step - loss: 1.3183 - acc: 0.6417 - val_loss: 1.5322 - val_acc: 0.6272\n",
            "Epoch 41/200\n",
            "8731/8731 [==============================] - 2s 182us/step - loss: 1.3150 - acc: 0.6406 - val_loss: 1.4834 - val_acc: 0.6169\n",
            "Epoch 42/200\n",
            "8731/8731 [==============================] - 2s 189us/step - loss: 1.3090 - acc: 0.6504 - val_loss: 1.5257 - val_acc: 0.6014\n",
            "Epoch 43/200\n",
            "8731/8731 [==============================] - 2s 195us/step - loss: 1.2971 - acc: 0.6524 - val_loss: 1.6327 - val_acc: 0.5994\n",
            "Epoch 44/200\n",
            "8731/8731 [==============================] - 2s 192us/step - loss: 1.3071 - acc: 0.6561 - val_loss: 1.4219 - val_acc: 0.6395\n",
            "Epoch 45/200\n",
            "8731/8731 [==============================] - 2s 195us/step - loss: 1.2745 - acc: 0.6528 - val_loss: 1.4837 - val_acc: 0.6313\n",
            "Epoch 46/200\n",
            "8731/8731 [==============================] - 2s 193us/step - loss: 1.2647 - acc: 0.6582 - val_loss: 1.5521 - val_acc: 0.5911\n",
            "Epoch 47/200\n",
            "8731/8731 [==============================] - 2s 192us/step - loss: 1.2530 - acc: 0.6594 - val_loss: 1.5205 - val_acc: 0.6251\n",
            "Epoch 48/200\n",
            "8731/8731 [==============================] - 2s 190us/step - loss: 1.2319 - acc: 0.6683 - val_loss: 1.5902 - val_acc: 0.6148\n",
            "Epoch 49/200\n",
            "8731/8731 [==============================] - 2s 187us/step - loss: 1.2198 - acc: 0.6712 - val_loss: 1.4927 - val_acc: 0.6385\n",
            "Epoch 50/200\n",
            "8731/8731 [==============================] - 2s 185us/step - loss: 1.2219 - acc: 0.6708 - val_loss: 1.5171 - val_acc: 0.6282\n",
            "Epoch 51/200\n",
            "8731/8731 [==============================] - 2s 186us/step - loss: 1.2226 - acc: 0.6708 - val_loss: 1.4298 - val_acc: 0.6529\n",
            "Epoch 52/200\n",
            "8731/8731 [==============================] - 2s 185us/step - loss: 1.1968 - acc: 0.6750 - val_loss: 1.4930 - val_acc: 0.6354\n",
            "Epoch 53/200\n",
            "8731/8731 [==============================] - 2s 185us/step - loss: 1.2027 - acc: 0.6776 - val_loss: 1.5919 - val_acc: 0.6231\n",
            "Epoch 54/200\n",
            "8731/8731 [==============================] - 2s 187us/step - loss: 1.2009 - acc: 0.6767 - val_loss: 1.3893 - val_acc: 0.6426\n",
            "Epoch 55/200\n",
            "8731/8731 [==============================] - 2s 197us/step - loss: 1.2005 - acc: 0.6754 - val_loss: 1.5515 - val_acc: 0.6210\n",
            "Epoch 56/200\n",
            "8731/8731 [==============================] - 2s 186us/step - loss: 1.1636 - acc: 0.6847 - val_loss: 1.6309 - val_acc: 0.6169\n",
            "Epoch 57/200\n",
            "8731/8731 [==============================] - 2s 183us/step - loss: 1.1619 - acc: 0.6871 - val_loss: 1.5164 - val_acc: 0.6344\n",
            "Epoch 58/200\n",
            "8731/8731 [==============================] - 2s 183us/step - loss: 1.1699 - acc: 0.6806 - val_loss: 1.4618 - val_acc: 0.6426\n",
            "Epoch 59/200\n",
            "8731/8731 [==============================] - 2s 183us/step - loss: 1.1495 - acc: 0.6893 - val_loss: 1.5188 - val_acc: 0.6457\n",
            "Epoch 60/200\n",
            "8731/8731 [==============================] - 2s 185us/step - loss: 1.1801 - acc: 0.6850 - val_loss: 1.4301 - val_acc: 0.6303\n",
            "Epoch 61/200\n",
            "8731/8731 [==============================] - 2s 184us/step - loss: 1.1233 - acc: 0.6945 - val_loss: 1.4405 - val_acc: 0.6406\n",
            "Epoch 62/200\n",
            "8731/8731 [==============================] - 2s 183us/step - loss: 1.1400 - acc: 0.6872 - val_loss: 1.4302 - val_acc: 0.6457\n",
            "Epoch 63/200\n",
            "8731/8731 [==============================] - 2s 185us/step - loss: 1.1355 - acc: 0.6916 - val_loss: 1.4113 - val_acc: 0.6519\n",
            "Epoch 64/200\n",
            "8731/8731 [==============================] - 2s 185us/step - loss: 1.1504 - acc: 0.6934 - val_loss: 1.3886 - val_acc: 0.6447\n",
            "Epoch 65/200\n",
            "8731/8731 [==============================] - 2s 186us/step - loss: 1.1223 - acc: 0.6948 - val_loss: 1.4957 - val_acc: 0.6591\n",
            "Epoch 66/200\n",
            "8731/8731 [==============================] - 2s 185us/step - loss: 1.1340 - acc: 0.6952 - val_loss: 1.4286 - val_acc: 0.6560\n",
            "Epoch 67/200\n",
            "8731/8731 [==============================] - 2s 189us/step - loss: 1.0953 - acc: 0.7035 - val_loss: 1.3980 - val_acc: 0.6571\n",
            "Epoch 68/200\n",
            "8731/8731 [==============================] - 2s 189us/step - loss: 1.1151 - acc: 0.7014 - val_loss: 1.6307 - val_acc: 0.6189\n",
            "Epoch 69/200\n",
            "8731/8731 [==============================] - 2s 187us/step - loss: 1.1016 - acc: 0.7027 - val_loss: 1.3816 - val_acc: 0.6601\n",
            "Epoch 70/200\n",
            "8731/8731 [==============================] - 2s 180us/step - loss: 1.1013 - acc: 0.7008 - val_loss: 1.4750 - val_acc: 0.6540\n",
            "Epoch 71/200\n",
            "8731/8731 [==============================] - 2s 184us/step - loss: 1.1142 - acc: 0.6941 - val_loss: 1.4595 - val_acc: 0.6529\n",
            "Epoch 72/200\n",
            "8731/8731 [==============================] - 2s 183us/step - loss: 1.0719 - acc: 0.7031 - val_loss: 1.5075 - val_acc: 0.6426\n",
            "Epoch 73/200\n",
            "8731/8731 [==============================] - 2s 183us/step - loss: 1.0810 - acc: 0.7039 - val_loss: 1.4350 - val_acc: 0.6663\n",
            "Epoch 74/200\n",
            "8731/8731 [==============================] - 2s 181us/step - loss: 1.0665 - acc: 0.7070 - val_loss: 1.4921 - val_acc: 0.6643\n",
            "Epoch 75/200\n",
            "8731/8731 [==============================] - 2s 188us/step - loss: 1.0777 - acc: 0.7058 - val_loss: 1.4826 - val_acc: 0.6519\n",
            "Epoch 76/200\n",
            "8731/8731 [==============================] - 2s 185us/step - loss: 1.0642 - acc: 0.7152 - val_loss: 1.4043 - val_acc: 0.6571\n",
            "Epoch 77/200\n",
            "8731/8731 [==============================] - 2s 182us/step - loss: 1.0759 - acc: 0.7013 - val_loss: 1.4516 - val_acc: 0.6560\n",
            "Epoch 78/200\n",
            "8731/8731 [==============================] - 2s 184us/step - loss: 1.0548 - acc: 0.7105 - val_loss: 1.4502 - val_acc: 0.6601\n",
            "Epoch 79/200\n",
            "8731/8731 [==============================] - 2s 182us/step - loss: 1.0422 - acc: 0.7129 - val_loss: 1.5191 - val_acc: 0.6488\n",
            "Epoch 80/200\n",
            "8731/8731 [==============================] - 2s 181us/step - loss: 1.0454 - acc: 0.7131 - val_loss: 1.4632 - val_acc: 0.6457\n",
            "Epoch 81/200\n",
            "8731/8731 [==============================] - 2s 180us/step - loss: 1.0626 - acc: 0.7090 - val_loss: 1.3725 - val_acc: 0.6612\n",
            "Epoch 82/200\n",
            "8731/8731 [==============================] - 2s 185us/step - loss: 1.0407 - acc: 0.7138 - val_loss: 1.4256 - val_acc: 0.6550\n",
            "Epoch 83/200\n",
            "8731/8731 [==============================] - 2s 184us/step - loss: 1.0308 - acc: 0.7203 - val_loss: 1.4807 - val_acc: 0.6519\n",
            "Epoch 84/200\n",
            "8731/8731 [==============================] - 2s 182us/step - loss: 1.0523 - acc: 0.7098 - val_loss: 1.4861 - val_acc: 0.6571\n",
            "Epoch 85/200\n",
            "8731/8731 [==============================] - 2s 183us/step - loss: 1.0286 - acc: 0.7186 - val_loss: 1.5429 - val_acc: 0.6468\n",
            "Epoch 86/200\n",
            "8731/8731 [==============================] - 2s 193us/step - loss: 1.0581 - acc: 0.7081 - val_loss: 1.3742 - val_acc: 0.6488\n",
            "Epoch 87/200\n",
            "8731/8731 [==============================] - 2s 208us/step - loss: 1.0398 - acc: 0.7114 - val_loss: 1.3848 - val_acc: 0.6777\n",
            "Epoch 88/200\n",
            "8731/8731 [==============================] - 2s 202us/step - loss: 1.0125 - acc: 0.7204 - val_loss: 1.5260 - val_acc: 0.6550\n",
            "Epoch 89/200\n",
            "8731/8731 [==============================] - 2s 203us/step - loss: 1.0104 - acc: 0.7229 - val_loss: 1.5174 - val_acc: 0.6447\n",
            "Epoch 90/200\n",
            "8731/8731 [==============================] - 2s 197us/step - loss: 1.0171 - acc: 0.7233 - val_loss: 1.4135 - val_acc: 0.6622\n",
            "Epoch 91/200\n",
            "8731/8731 [==============================] - 2s 202us/step - loss: 1.0277 - acc: 0.7216 - val_loss: 1.3977 - val_acc: 0.6632\n",
            "Epoch 92/200\n",
            "8731/8731 [==============================] - 2s 194us/step - loss: 1.0185 - acc: 0.7207 - val_loss: 1.4804 - val_acc: 0.6643\n",
            "Epoch 93/200\n",
            "8731/8731 [==============================] - 2s 191us/step - loss: 0.9861 - acc: 0.7221 - val_loss: 1.4299 - val_acc: 0.6643\n",
            "Epoch 94/200\n",
            "8731/8731 [==============================] - 2s 194us/step - loss: 0.9786 - acc: 0.7300 - val_loss: 1.4989 - val_acc: 0.6663\n",
            "Epoch 95/200\n",
            "8731/8731 [==============================] - 2s 191us/step - loss: 0.9963 - acc: 0.7242 - val_loss: 1.4943 - val_acc: 0.6509\n",
            "Epoch 96/200\n",
            "8731/8731 [==============================] - 2s 192us/step - loss: 0.9916 - acc: 0.7306 - val_loss: 1.4865 - val_acc: 0.6447\n",
            "Epoch 97/200\n",
            "8731/8731 [==============================] - 2s 184us/step - loss: 0.9901 - acc: 0.7231 - val_loss: 1.4852 - val_acc: 0.6591\n",
            "Epoch 98/200\n",
            "8731/8731 [==============================] - 2s 178us/step - loss: 0.9947 - acc: 0.7256 - val_loss: 1.4273 - val_acc: 0.6704\n",
            "Epoch 99/200\n",
            "8731/8731 [==============================] - 2s 181us/step - loss: 0.9932 - acc: 0.7299 - val_loss: 1.4668 - val_acc: 0.6643\n",
            "Epoch 100/200\n",
            "8731/8731 [==============================] - 2s 179us/step - loss: 0.9712 - acc: 0.7361 - val_loss: 1.4265 - val_acc: 0.6725\n",
            "Epoch 101/200\n",
            "8731/8731 [==============================] - 2s 181us/step - loss: 0.9658 - acc: 0.7332 - val_loss: 1.4622 - val_acc: 0.6643\n",
            "Epoch 102/200\n",
            "8731/8731 [==============================] - 2s 180us/step - loss: 0.9691 - acc: 0.7319 - val_loss: 1.3759 - val_acc: 0.6838\n",
            "Epoch 103/200\n",
            "8731/8731 [==============================] - 2s 177us/step - loss: 0.9659 - acc: 0.7290 - val_loss: 1.4587 - val_acc: 0.6715\n",
            "Epoch 104/200\n",
            "8731/8731 [==============================] - 2s 179us/step - loss: 0.9798 - acc: 0.7332 - val_loss: 1.4394 - val_acc: 0.6601\n",
            "Epoch 105/200\n",
            "8731/8731 [==============================] - 2s 183us/step - loss: 0.9644 - acc: 0.7342 - val_loss: 1.5011 - val_acc: 0.6581\n",
            "Epoch 106/200\n",
            "8731/8731 [==============================] - 2s 180us/step - loss: 0.9555 - acc: 0.7365 - val_loss: 1.5608 - val_acc: 0.6622\n",
            "Epoch 107/200\n",
            "8731/8731 [==============================] - 2s 180us/step - loss: 0.9749 - acc: 0.7374 - val_loss: 1.4277 - val_acc: 0.6777\n",
            "Epoch 108/200\n",
            "8731/8731 [==============================] - 2s 183us/step - loss: 0.9506 - acc: 0.7385 - val_loss: 1.5193 - val_acc: 0.6715\n",
            "Epoch 109/200\n",
            "8731/8731 [==============================] - 2s 180us/step - loss: 0.9567 - acc: 0.7351 - val_loss: 1.4405 - val_acc: 0.6663\n",
            "Epoch 110/200\n",
            "8731/8731 [==============================] - 2s 179us/step - loss: 0.9524 - acc: 0.7371 - val_loss: 1.3765 - val_acc: 0.6777\n",
            "Epoch 111/200\n",
            "8731/8731 [==============================] - 2s 188us/step - loss: 0.9513 - acc: 0.7365 - val_loss: 1.4976 - val_acc: 0.6550\n",
            "Epoch 112/200\n",
            "8731/8731 [==============================] - 2s 186us/step - loss: 0.9328 - acc: 0.7422 - val_loss: 1.4730 - val_acc: 0.6571\n",
            "Epoch 113/200\n",
            "8731/8731 [==============================] - 2s 185us/step - loss: 0.9465 - acc: 0.7350 - val_loss: 1.4988 - val_acc: 0.6704\n",
            "Epoch 114/200\n",
            "8731/8731 [==============================] - 2s 186us/step - loss: 0.9261 - acc: 0.7413 - val_loss: 1.4209 - val_acc: 0.6694\n",
            "Epoch 115/200\n",
            "8731/8731 [==============================] - 2s 186us/step - loss: 0.9696 - acc: 0.7336 - val_loss: 1.4332 - val_acc: 0.6715\n",
            "Epoch 116/200\n",
            "8731/8731 [==============================] - 2s 189us/step - loss: 0.9335 - acc: 0.7429 - val_loss: 1.6617 - val_acc: 0.6622\n",
            "Epoch 117/200\n",
            "8731/8731 [==============================] - 2s 186us/step - loss: 0.9236 - acc: 0.7416 - val_loss: 1.5196 - val_acc: 0.6756\n",
            "Epoch 118/200\n",
            "8731/8731 [==============================] - 2s 185us/step - loss: 0.9675 - acc: 0.7345 - val_loss: 1.4618 - val_acc: 0.6694\n",
            "Epoch 119/200\n",
            "8731/8731 [==============================] - 2s 188us/step - loss: 0.9181 - acc: 0.7461 - val_loss: 1.4843 - val_acc: 0.6704\n",
            "Epoch 120/200\n",
            "8731/8731 [==============================] - 2s 186us/step - loss: 0.9071 - acc: 0.7477 - val_loss: 1.4237 - val_acc: 0.6756\n",
            "Epoch 121/200\n",
            "8731/8731 [==============================] - 2s 186us/step - loss: 0.9021 - acc: 0.7486 - val_loss: 1.4682 - val_acc: 0.6684\n",
            "Epoch 122/200\n",
            "8731/8731 [==============================] - 2s 185us/step - loss: 0.9593 - acc: 0.7375 - val_loss: 1.4271 - val_acc: 0.6735\n",
            "Epoch 123/200\n",
            "8731/8731 [==============================] - 2s 186us/step - loss: 0.9393 - acc: 0.7395 - val_loss: 1.4345 - val_acc: 0.6828\n",
            "Epoch 124/200\n",
            "8731/8731 [==============================] - 2s 191us/step - loss: 0.9357 - acc: 0.7401 - val_loss: 1.5150 - val_acc: 0.6704\n",
            "Epoch 125/200\n",
            "8731/8731 [==============================] - 2s 189us/step - loss: 0.8995 - acc: 0.7515 - val_loss: 1.4579 - val_acc: 0.6869\n",
            "Epoch 126/200\n",
            "8731/8731 [==============================] - 2s 189us/step - loss: 0.8892 - acc: 0.7485 - val_loss: 1.5462 - val_acc: 0.6807\n",
            "Epoch 127/200\n",
            "8731/8731 [==============================] - 2s 188us/step - loss: 0.9123 - acc: 0.7507 - val_loss: 1.4741 - val_acc: 0.6828\n",
            "Epoch 128/200\n",
            "8731/8731 [==============================] - 2s 183us/step - loss: 0.9012 - acc: 0.7488 - val_loss: 1.4709 - val_acc: 0.6601\n",
            "Epoch 129/200\n",
            "8731/8731 [==============================] - 2s 187us/step - loss: 0.8994 - acc: 0.7541 - val_loss: 1.4116 - val_acc: 0.6746\n",
            "Epoch 130/200\n",
            "8731/8731 [==============================] - 2s 192us/step - loss: 0.9022 - acc: 0.7478 - val_loss: 1.4199 - val_acc: 0.6746\n",
            "Epoch 131/200\n",
            "8731/8731 [==============================] - 2s 199us/step - loss: 0.9718 - acc: 0.7360 - val_loss: 1.4007 - val_acc: 0.6787\n",
            "Epoch 132/200\n",
            "8731/8731 [==============================] - 2s 194us/step - loss: 0.9197 - acc: 0.7457 - val_loss: 1.5596 - val_acc: 0.6437\n",
            "Epoch 133/200\n",
            "8731/8731 [==============================] - 2s 191us/step - loss: 0.8785 - acc: 0.7520 - val_loss: 1.4608 - val_acc: 0.6756\n",
            "Epoch 134/200\n",
            "8731/8731 [==============================] - 2s 188us/step - loss: 0.8912 - acc: 0.7480 - val_loss: 1.4300 - val_acc: 0.6807\n",
            "Epoch 135/200\n",
            "8731/8731 [==============================] - 2s 181us/step - loss: 0.9126 - acc: 0.7462 - val_loss: 1.4277 - val_acc: 0.6828\n",
            "Epoch 136/200\n",
            "8731/8731 [==============================] - 2s 194us/step - loss: 0.8986 - acc: 0.7475 - val_loss: 1.4219 - val_acc: 0.6828\n",
            "Epoch 137/200\n",
            "8731/8731 [==============================] - 2s 191us/step - loss: 0.9008 - acc: 0.7454 - val_loss: 1.3216 - val_acc: 0.6838\n",
            "Epoch 138/200\n",
            "8731/8731 [==============================] - 2s 185us/step - loss: 0.8782 - acc: 0.7583 - val_loss: 1.4896 - val_acc: 0.6859\n",
            "Epoch 139/200\n",
            "8731/8731 [==============================] - 2s 186us/step - loss: 0.8726 - acc: 0.7548 - val_loss: 1.3696 - val_acc: 0.6859\n",
            "Epoch 140/200\n",
            "8731/8731 [==============================] - 2s 183us/step - loss: 0.8844 - acc: 0.7565 - val_loss: 1.4258 - val_acc: 0.6849\n",
            "Epoch 141/200\n",
            "8731/8731 [==============================] - 2s 196us/step - loss: 0.8744 - acc: 0.7579 - val_loss: 1.4162 - val_acc: 0.6890\n",
            "Epoch 142/200\n",
            "8731/8731 [==============================] - 2s 193us/step - loss: 0.8679 - acc: 0.7574 - val_loss: 1.3655 - val_acc: 0.6921\n",
            "Epoch 143/200\n",
            "8731/8731 [==============================] - 2s 195us/step - loss: 0.8706 - acc: 0.7529 - val_loss: 1.3951 - val_acc: 0.6797\n",
            "Epoch 144/200\n",
            "8731/8731 [==============================] - 2s 192us/step - loss: 0.8747 - acc: 0.7511 - val_loss: 1.5165 - val_acc: 0.6787\n",
            "Epoch 145/200\n",
            "8731/8731 [==============================] - 2s 190us/step - loss: 0.9185 - acc: 0.7483 - val_loss: 1.4662 - val_acc: 0.6766\n",
            "Epoch 146/200\n",
            "8731/8731 [==============================] - 2s 193us/step - loss: 0.8841 - acc: 0.7510 - val_loss: 1.4350 - val_acc: 0.6777\n",
            "Epoch 147/200\n",
            "8731/8731 [==============================] - 2s 189us/step - loss: 0.8712 - acc: 0.7542 - val_loss: 1.4240 - val_acc: 0.6787\n",
            "Epoch 148/200\n",
            "8731/8731 [==============================] - 2s 186us/step - loss: 0.8576 - acc: 0.7565 - val_loss: 1.4179 - val_acc: 0.6859\n",
            "Epoch 149/200\n",
            "8731/8731 [==============================] - 2s 187us/step - loss: 0.8487 - acc: 0.7603 - val_loss: 1.4015 - val_acc: 0.6818\n",
            "Epoch 150/200\n",
            "8731/8731 [==============================] - 2s 183us/step - loss: 0.8551 - acc: 0.7580 - val_loss: 1.4161 - val_acc: 0.6900\n",
            "Epoch 151/200\n",
            "8731/8731 [==============================] - 2s 183us/step - loss: 0.8669 - acc: 0.7595 - val_loss: 1.5454 - val_acc: 0.6663\n",
            "Epoch 152/200\n",
            "8731/8731 [==============================] - 2s 187us/step - loss: 0.8954 - acc: 0.7455 - val_loss: 1.5008 - val_acc: 0.6869\n",
            "Epoch 153/200\n",
            "8731/8731 [==============================] - 2s 184us/step - loss: 0.8381 - acc: 0.7587 - val_loss: 1.5580 - val_acc: 0.6735\n",
            "Epoch 154/200\n",
            "8731/8731 [==============================] - 2s 187us/step - loss: 0.8547 - acc: 0.7614 - val_loss: 1.4825 - val_acc: 0.6818\n",
            "Epoch 155/200\n",
            "8731/8731 [==============================] - 2s 188us/step - loss: 0.8498 - acc: 0.7586 - val_loss: 1.4346 - val_acc: 0.6910\n",
            "Epoch 156/200\n",
            "8731/8731 [==============================] - 2s 190us/step - loss: 0.8254 - acc: 0.7652 - val_loss: 1.4570 - val_acc: 0.6952\n",
            "Epoch 157/200\n",
            "8731/8731 [==============================] - 2s 192us/step - loss: 0.8546 - acc: 0.7580 - val_loss: 1.4639 - val_acc: 0.6838\n",
            "Epoch 158/200\n",
            "8731/8731 [==============================] - 2s 191us/step - loss: 0.8393 - acc: 0.7626 - val_loss: 1.4654 - val_acc: 0.6807\n",
            "Epoch 159/200\n",
            "8731/8731 [==============================] - 2s 194us/step - loss: 0.8495 - acc: 0.7611 - val_loss: 1.4630 - val_acc: 0.6880\n",
            "Epoch 160/200\n",
            "8731/8731 [==============================] - 2s 191us/step - loss: 0.8539 - acc: 0.7628 - val_loss: 1.4850 - val_acc: 0.6890\n",
            "Epoch 161/200\n",
            "8731/8731 [==============================] - 2s 191us/step - loss: 0.8511 - acc: 0.7613 - val_loss: 1.4138 - val_acc: 0.6859\n",
            "Epoch 162/200\n",
            "8731/8731 [==============================] - 2s 185us/step - loss: 0.8555 - acc: 0.7617 - val_loss: 1.5004 - val_acc: 0.6818\n",
            "Epoch 163/200\n",
            "8731/8731 [==============================] - 2s 184us/step - loss: 0.8319 - acc: 0.7673 - val_loss: 1.4653 - val_acc: 0.6756\n",
            "Epoch 164/200\n",
            "8731/8731 [==============================] - 2s 183us/step - loss: 0.8413 - acc: 0.7605 - val_loss: 1.5322 - val_acc: 0.6797\n",
            "Epoch 165/200\n",
            "8731/8731 [==============================] - 2s 185us/step - loss: 0.8354 - acc: 0.7667 - val_loss: 1.4366 - val_acc: 0.6756\n",
            "Epoch 166/200\n",
            "8731/8731 [==============================] - 2s 185us/step - loss: 0.8156 - acc: 0.7720 - val_loss: 1.4826 - val_acc: 0.6890\n",
            "Epoch 167/200\n",
            "8731/8731 [==============================] - 2s 182us/step - loss: 0.8227 - acc: 0.7650 - val_loss: 1.3987 - val_acc: 0.6869\n",
            "Epoch 168/200\n",
            "8731/8731 [==============================] - 2s 191us/step - loss: 0.8268 - acc: 0.7661 - val_loss: 1.5177 - val_acc: 0.6849\n",
            "Epoch 169/200\n",
            "8731/8731 [==============================] - 2s 188us/step - loss: 0.8176 - acc: 0.7647 - val_loss: 1.4893 - val_acc: 0.6859\n",
            "Epoch 170/200\n",
            "8731/8731 [==============================] - 2s 186us/step - loss: 0.8238 - acc: 0.7699 - val_loss: 1.4337 - val_acc: 0.6756\n",
            "Epoch 171/200\n",
            "8731/8731 [==============================] - 2s 190us/step - loss: 0.8265 - acc: 0.7674 - val_loss: 1.4123 - val_acc: 0.6869\n",
            "Epoch 172/200\n",
            "8731/8731 [==============================] - 2s 181us/step - loss: 0.8215 - acc: 0.7673 - val_loss: 1.4812 - val_acc: 0.6777\n",
            "Epoch 173/200\n",
            "8731/8731 [==============================] - 2s 188us/step - loss: 0.8414 - acc: 0.7652 - val_loss: 1.4787 - val_acc: 0.6756\n",
            "Epoch 174/200\n",
            "8731/8731 [==============================] - 2s 189us/step - loss: 0.8313 - acc: 0.7688 - val_loss: 1.4143 - val_acc: 0.6900\n",
            "Epoch 175/200\n",
            "8731/8731 [==============================] - 2s 183us/step - loss: 0.8083 - acc: 0.7715 - val_loss: 1.4907 - val_acc: 0.6982\n",
            "Epoch 176/200\n",
            "8731/8731 [==============================] - 2s 190us/step - loss: 0.8469 - acc: 0.7564 - val_loss: 1.4211 - val_acc: 0.6962\n",
            "Epoch 177/200\n",
            "8731/8731 [==============================] - 2s 186us/step - loss: 0.8052 - acc: 0.7692 - val_loss: 1.4508 - val_acc: 0.6910\n",
            "Epoch 178/200\n",
            "8731/8731 [==============================] - 2s 187us/step - loss: 0.7939 - acc: 0.7732 - val_loss: 1.4714 - val_acc: 0.6890\n",
            "Epoch 179/200\n",
            "8731/8731 [==============================] - 2s 186us/step - loss: 0.8161 - acc: 0.7705 - val_loss: 1.5390 - val_acc: 0.6807\n",
            "Epoch 180/200\n",
            "8731/8731 [==============================] - 2s 182us/step - loss: 0.8249 - acc: 0.7674 - val_loss: 1.3990 - val_acc: 0.6972\n",
            "Epoch 181/200\n",
            "8731/8731 [==============================] - 2s 187us/step - loss: 0.7958 - acc: 0.7686 - val_loss: 1.4209 - val_acc: 0.6900\n",
            "Epoch 182/200\n",
            "8731/8731 [==============================] - 2s 185us/step - loss: 0.7860 - acc: 0.7726 - val_loss: 1.4468 - val_acc: 0.6880\n",
            "Epoch 183/200\n",
            "8731/8731 [==============================] - 2s 188us/step - loss: 0.8080 - acc: 0.7685 - val_loss: 1.5381 - val_acc: 0.6838\n",
            "Epoch 184/200\n",
            "8731/8731 [==============================] - 2s 185us/step - loss: 0.8322 - acc: 0.7681 - val_loss: 1.5260 - val_acc: 0.6777\n",
            "Epoch 185/200\n",
            "8731/8731 [==============================] - 2s 189us/step - loss: 0.7974 - acc: 0.7702 - val_loss: 1.4318 - val_acc: 0.6962\n",
            "Epoch 186/200\n",
            "8731/8731 [==============================] - 2s 186us/step - loss: 0.7907 - acc: 0.7704 - val_loss: 1.4922 - val_acc: 0.6972\n",
            "Epoch 187/200\n",
            "8731/8731 [==============================] - 2s 184us/step - loss: 0.8048 - acc: 0.7708 - val_loss: 1.4597 - val_acc: 0.6972\n",
            "Epoch 188/200\n",
            "8731/8731 [==============================] - 2s 189us/step - loss: 0.7794 - acc: 0.7795 - val_loss: 1.5288 - val_acc: 0.6694\n",
            "Epoch 189/200\n",
            "8731/8731 [==============================] - 2s 184us/step - loss: 0.7956 - acc: 0.7728 - val_loss: 1.4516 - val_acc: 0.6880\n",
            "Epoch 190/200\n",
            "8731/8731 [==============================] - 2s 192us/step - loss: 0.7833 - acc: 0.7729 - val_loss: 1.4655 - val_acc: 0.6849\n",
            "Epoch 191/200\n",
            "8731/8731 [==============================] - 2s 191us/step - loss: 0.8127 - acc: 0.7738 - val_loss: 1.4879 - val_acc: 0.6807\n",
            "Epoch 192/200\n",
            "8731/8731 [==============================] - 2s 193us/step - loss: 0.8512 - acc: 0.7627 - val_loss: 1.4420 - val_acc: 0.7013\n",
            "Epoch 193/200\n",
            "8731/8731 [==============================] - 2s 194us/step - loss: 0.8017 - acc: 0.7709 - val_loss: 1.5758 - val_acc: 0.6859\n",
            "Epoch 194/200\n",
            "8731/8731 [==============================] - 2s 193us/step - loss: 0.7819 - acc: 0.7778 - val_loss: 1.4144 - val_acc: 0.6931\n",
            "Epoch 195/200\n",
            "8731/8731 [==============================] - 2s 197us/step - loss: 0.7718 - acc: 0.7815 - val_loss: 1.4262 - val_acc: 0.6818\n",
            "Epoch 196/200\n",
            "8731/8731 [==============================] - 2s 191us/step - loss: 0.7622 - acc: 0.7807 - val_loss: 1.5642 - val_acc: 0.6797\n",
            "Epoch 197/200\n",
            "8731/8731 [==============================] - 2s 188us/step - loss: 0.7597 - acc: 0.7792 - val_loss: 1.4362 - val_acc: 0.6880\n",
            "Epoch 198/200\n",
            "8731/8731 [==============================] - 2s 186us/step - loss: 0.7895 - acc: 0.7769 - val_loss: 1.4509 - val_acc: 0.6869\n",
            "Epoch 199/200\n",
            "8731/8731 [==============================] - 2s 186us/step - loss: 0.7795 - acc: 0.7778 - val_loss: 1.3663 - val_acc: 0.7044\n",
            "Epoch 200/200\n",
            "8731/8731 [==============================] - 2s 189us/step - loss: 0.8000 - acc: 0.7776 - val_loss: 1.4631 - val_acc: 0.6921\n"
          ],
          "name": "stdout"
        },
        {
          "output_type": "display_data",
          "data": {
            "image/png": "[encoded data removed]",
            "text/plain": [
              "<Figure size 432x288 with 1 Axes>"
            ]
          },
          "metadata": {
            "tags": []
          }
        },
        {
          "output_type": "display_data",
          "data": {
            "image/png": "[encoded data removed]",
            "text/plain": [
              "<Figure size 432x288 with 1 Axes>"
            ]
          },
          "metadata": {
            "tags": []
          }
        }
      ]
    },
    {
      "cell_type": "markdown",
      "metadata": {
        "id": "KsA8lY54BpYE",
        "colab_type": "text"
      },
      "source": [
        "### Testing the model with an unseen file"
      ]
    },
    {
      "cell_type": "code",
      "metadata": {
        "id": "z-5dedNjBo1e",
        "colab_type": "code",
        "colab": {}
      },
      "source": [
        "\n",
        "prediction = model.predict(np.array(tk.texts_to_sequences(text)))\n",
        "print(prediction)"
      ],
      "execution_count": 0,
      "outputs": []
    },
    {
      "cell_type": "markdown",
      "metadata": {
        "id": "GAD6dQa3GfiP",
        "colab_type": "text"
      },
      "source": [
        "###Save Model\n",
        "\n",
        "---\n",
        "\n"
      ]
    },
    {
      "cell_type": "code",
      "metadata": {
        "id": "knjT7nY8GfA8",
        "colab_type": "code",
        "colab": {}
      },
      "source": [
        "model.save('urban_sound.h5')"
      ],
      "execution_count": 0,
      "outputs": []
    },
    {
      "cell_type": "code",
      "metadata": {
        "id": "VyRRiwEGGddg",
        "colab_type": "code",
        "colab": {}
      },
      "source": [
        "model.summary()"
      ],
      "execution_count": 0,
      "outputs": []
    },
    {
      "cell_type": "code",
      "metadata": {
        "id": "8ipcFNaULqsG",
        "colab_type": "code",
        "colab": {}
      },
      "source": [
        "from keras import backend as K\n",
        "# This line must be executed before loading Keras model.\n",
        "K.set_learning_phase(0)"
      ],
      "execution_count": 0,
      "outputs": []
    },
    {
      "cell_type": "code",
      "metadata": {
        "id": "-9-qXwyVLtLA",
        "colab_type": "code",
        "colab": {
          "base_uri": "https://localhost:8080/",
          "height": 51
        },
        "outputId": "c01f9ca5-0d22-4309-be78-ee211b6ae0d9"
      },
      "source": [
        "from keras.models import load_model\n",
        "model = load_model('target_model/urban_sound.h5')\n",
        "print(model.outputs)\n",
        "# [<tf.Tensor 'dense_2/Softmax:0' shape=(?, 10) dtype=float32>]\n",
        "print(model.inputs)\n",
        "# [<tf.Tensor 'conv2d_1_input:0' shape=(?, 28, 28, 1) dtype=float32>]"
      ],
      "execution_count": 15,
      "outputs": [
        {
          "output_type": "stream",
          "text": [
            "[<tf.Tensor 'dense_2_1/Softmax:0' shape=(?, 44) dtype=float32>]\n",
            "[<tf.Tensor 'conv2d_1_input_1:0' shape=(?, 10, 51, 1) dtype=float32>]\n"
          ],
          "name": "stdout"
        }
      ]
    },
    {
      "cell_type": "code",
      "metadata": {
        "id": "tK3aAKpqMFvc",
        "colab_type": "code",
        "colab": {}
      },
      "source": [
        "def freeze_session(session, keep_var_names=None, output_names=None, clear_devices=True):\n",
        "    \"\"\"\n",
        "    Freezes the state of a session into a pruned computation graph.\n",
        "\n",
        "    Creates a new computation graph where variable nodes are replaced by\n",
        "    constants taking their current value in the session. The new graph will be\n",
        "    pruned so subgraphs that are not necessary to compute the requested\n",
        "    outputs are removed.\n",
        "    @param session The TensorFlow session to be frozen.\n",
        "    @param keep_var_names A list of variable names that should not be frozen,\n",
        "                          or None to freeze all the variables in the graph.\n",
        "    @param output_names Names of the relevant graph outputs.\n",
        "    @param clear_devices Remove the device directives from the graph for better portability.\n",
        "    @return The frozen graph definition.\n",
        "    \"\"\"\n",
        "    from tensorflow.python.framework.graph_util import convert_variables_to_constants\n",
        "    graph = session.graph\n",
        "    with graph.as_default():\n",
        "        freeze_var_names = list(set(v.op.name for v in tf.global_variables()).difference(keep_var_names or []))\n",
        "        output_names = output_names or []\n",
        "        output_names += [v.op.name for v in tf.global_variables()]\n",
        "        # Graph -> GraphDef ProtoBuf\n",
        "        input_graph_def = graph.as_graph_def()\n",
        "        if clear_devices:\n",
        "            for node in input_graph_def.node:\n",
        "                node.device = \"\"\n",
        "        frozen_graph = convert_variables_to_constants(session, input_graph_def,\n",
        "                                                      output_names, freeze_var_names)\n",
        "        return frozen_graph\n"
      ],
      "execution_count": 0,
      "outputs": []
    },
    {
      "cell_type": "code",
      "metadata": {
        "id": "_4S5mtJjMwdB",
        "colab_type": "code",
        "colab": {
          "base_uri": "https://localhost:8080/",
          "height": 173
        },
        "outputId": "8febea0e-a399-47c3-9359-11f74dff4c17"
      },
      "source": [
        "import tensorflow as tf\n",
        "frozen_graph = freeze_session(K.get_session(),\n",
        "                              output_names=[out.op.name for out in model.outputs])"
      ],
      "execution_count": 18,
      "outputs": [
        {
          "output_type": "stream",
          "text": [
            "WARNING:tensorflow:From <ipython-input-16-66f248686223>:28: convert_variables_to_constants (from tensorflow.python.framework.graph_util_impl) is deprecated and will be removed in a future version.\n",
            "Instructions for updating:\n",
            "Use tf.compat.v1.graph_util.convert_variables_to_constants\n",
            "WARNING:tensorflow:From /usr/local/lib/python3.6/dist-packages/tensorflow/python/framework/graph_util_impl.py:245: extract_sub_graph (from tensorflow.python.framework.graph_util_impl) is deprecated and will be removed in a future version.\n",
            "Instructions for updating:\n",
            "Use tf.compat.v1.graph_util.extract_sub_graph\n",
            "INFO:tensorflow:Froze 438 variables.\n",
            "INFO:tensorflow:Converted 438 variables to const ops.\n"
          ],
          "name": "stdout"
        }
      ]
    },
    {
      "cell_type": "code",
      "metadata": {
        "id": "SyrvG3C2M2of",
        "colab_type": "code",
        "colab": {
          "base_uri": "https://localhost:8080/",
          "height": 34
        },
        "outputId": "c5a376f1-8db7-4f47-f8c2-4f279fef2f88"
      },
      "source": [
        "tf.train.write_graph(frozen_graph, \"model\", \"urban_sound_model.pb\", as_text=False)"
      ],
      "execution_count": 19,
      "outputs": [
        {
          "output_type": "execute_result",
          "data": {
            "text/plain": [
              "'model/tf_model.pb'"
            ]
          },
          "metadata": {
            "tags": []
          },
          "execution_count": 19
        }
      ]
    },
    {
      "cell_type": "markdown",
      "metadata": {
        "id": "EQYm890ntf12",
        "colab_type": "text"
      },
      "source": [
        ""
      ]
    },
    {
      "cell_type": "code",
      "metadata": {
        "id": "c1Zl4IuyPrM7",
        "colab_type": "code",
        "colab": {}
      },
      "source": [
        "\n",
        "plt.plot(history.history['acc'])"
      ],
      "execution_count": 0,
      "outputs": []
    },
    {
      "cell_type": "code",
      "metadata": {
        "id": "iiAufMuSHEWB",
        "colab_type": "code",
        "colab": {}
      },
      "source": [
        "acc = history.history['acc']\n",
        "val_acc = history.history['val_acc']\n",
        "loss = history.history['loss']\n",
        "val_loss = history.history['val_loss']\n",
        "epochs = range(1, len(acc) + 1)"
      ],
      "execution_count": 0,
      "outputs": []
    },
    {
      "cell_type": "code",
      "metadata": {
        "id": "RXTfd8MKHoYR",
        "colab_type": "code",
        "colab": {}
      },
      "source": [
        "plt.plot(epochs, acc, 'bo', label='Training acc')\n",
        "plt.plot(epochs, val_acc, 'b', label='Validation acc')\n",
        "plt.title('Training and validation accuracy')\n",
        "plt.legend()\n",
        "\n",
        "plt.figure()\n",
        "\n",
        "plt.plot(epochs, loss, 'bo', label='Training loss')\n",
        "plt.plot(epochs,val_loss, 'b', label='Validation loss')\n",
        "plt.title('Training and validation loss')\n",
        "plt.legend()\n",
        "plt.show()\n",
        "\n"
      ],
      "execution_count": 0,
      "outputs": []
    },
    {
      "cell_type": "markdown",
      "metadata": {
        "id": "tm5FlvfX88wo",
        "colab_type": "text"
      },
      "source": [
        "##Alternate folder train and test structure"
      ]
    },
    {
      "cell_type": "code",
      "metadata": {
        "id": "A9njsm5MskSq",
        "colab_type": "code",
        "colab": {}
      },
      "source": [
        "sample = wav2mfcc('/content/small-urban-sound-dataset/tiny-dataset/crackling_fire/1-17150-A.wav')\n",
        "\n",
        "#X_train = X_train.reshape(X_train.shape[0], 10, 51, 1)\n"
      ],
      "execution_count": 0,
      "outputs": []
    },
    {
      "cell_type": "code",
      "metadata": {
        "id": "ARF4iPLZXH7t",
        "colab_type": "code",
        "colab": {}
      },
      "source": [
        "print(sample.shape)"
      ],
      "execution_count": 0,
      "outputs": []
    },
    {
      "cell_type": "code",
      "metadata": {
        "id": "7phdcHrqXCat",
        "colab_type": "code",
        "colab": {}
      },
      "source": [
        "sample_reshape = sample.reshape(sample(10,51,1))"
      ],
      "execution_count": 0,
      "outputs": []
    },
    {
      "cell_type": "code",
      "metadata": {
        "id": "0q5xmQdSWFBd",
        "colab_type": "code",
        "colab": {}
      },
      "source": [
        "print(get_labels() [0] [np.argmax(model.predict(sample_reshape))])"
      ],
      "execution_count": 0,
      "outputs": []
    },
    {
      "cell_type": "code",
      "metadata": {
        "id": "yiLUN--y0u79",
        "colab_type": "code",
        "colab": {}
      },
      "source": [
        "model.summary()"
      ],
      "execution_count": 0,
      "outputs": []
    },
    {
      "cell_type": "code",
      "metadata": {
        "id": "nHBULmNeFteL",
        "colab_type": "code",
        "colab": {}
      },
      "source": [
        "\n",
        "base_directory ='/content/target_dataset/'\n",
        "os.mkdir(base_directory)\n",
        "train_dir = os.path.join(base_directory, 'train')\n",
        "os.mkdir(train_dir)\n",
        "validation_dir = os.path.join(base_directory, 'validation')\n",
        "os.mkdir(validation_dir)\n",
        "test_dir = os.path.join(base_directory, 'test')\n",
        "os.mkdir(test_dir)\n"
      ],
      "execution_count": 0,
      "outputs": []
    },
    {
      "cell_type": "code",
      "metadata": {
        "id": "eDMMKPgkXSko",
        "colab_type": "code",
        "colab": {}
      },
      "source": [
        "original_dataset_dir = '/content/Sound-Datasets/combined_datasets/'"
      ],
      "execution_count": 0,
      "outputs": []
    },
    {
      "cell_type": "code",
      "metadata": {
        "id": "mcURx0euURiX",
        "colab_type": "code",
        "colab": {}
      },
      "source": [
        "train_gunshot_dir = os.path.join(train_dir, 'gun_shot')\n",
        "os.mkdir(train_gunshot_dir)\n",
        "train_dogbark_dir = os.path.join(train_dir, 'dog_bark')\n",
        "os.mkdir(train_dogbark_dir)\n",
        "\n",
        "validation_gunshot_dir = os.path.join(validation_dir, 'gun_shot')\n",
        "os.mkdir(validation_gunshot_dir)\n",
        "validation_dogbark_dir = os.path.join(validation_dir, 'dog_bark')\n",
        "os.mkdir(validation_dogbark_dir)\n",
        "\n",
        "test_gunshot_dir = os.path.join(test_dir, 'gun_shot')\n",
        "os.mkdir(test_gunshot_dir)\n",
        "test_dogbark_dir = os.path.join(test_dir, 'dog_bark')\n",
        "os.mkdir(test_dogbark_dir)\n"
      ],
      "execution_count": 0,
      "outputs": []
    },
    {
      "cell_type": "code",
      "metadata": {
        "id": "KZ-fuVCQZWWA",
        "colab_type": "code",
        "colab": {}
      },
      "source": [
        "fnames_dog = os.listdir('/content/Sound-Datasets/combined_datasets/dog_bark')\n",
        "fnames_gun = os.listdir('/content/Sound-Datasets/combined_datasets/gun_shot')\n",
        "fnames = os.listdir('/content/Sound-Datasets/combined_datasets/dog_bark')"
      ],
      "execution_count": 0,
      "outputs": []
    },
    {
      "cell_type": "code",
      "metadata": {
        "id": "54t8veJLZdw_",
        "colab_type": "code",
        "colab": {}
      },
      "source": [
        "#print(fnames)\n",
        "size = len(fnames)\n",
        "train_percentage = 0.8\n",
        "validation_percentage = 0.1\n",
        "test_percentage = 0.1\n",
        "print('train percentage = %f' %train_percentage)\n",
        "train_size = int(round(size * (train_percentage)))\n",
        "validation_size = int(round(size * (validation_percentage)))\n",
        "test_size = int(round(size * (test_percentage)))\n",
        "print(size)\n",
        "print('train_size = %i' %train_size)\n",
        "print('validation_size = %i' %validation_size)\n",
        "print('test_size = %i' %test_size)\n",
        "total = train_size + validation_size + test_size\n",
        "print(total)"
      ],
      "execution_count": 0,
      "outputs": []
    },
    {
      "cell_type": "code",
      "metadata": {
        "id": "pojp7QvbfKch",
        "colab_type": "code",
        "colab": {}
      },
      "source": [
        "\n",
        "\n",
        "#os.chdir('/content/combined_datasets/dog_bark')\n",
        "train_list=[]\n",
        "validation_list=[]\n",
        "test_list=[]\n",
        "\n",
        "train_list = fnames[0:train_size]\n",
        "validation_list = fnames[train_size:train_size+validation_size]\n",
        "test_list = fnames[train_size+validation_size:total]\n",
        "\n",
        "\n",
        "for train in train_list:\n",
        "  src_train = os.path.join(original_dataset_dir+'dog_bark', train )\n",
        "  dst_train = os.path.join('/content/target_dataset/train/dog_bark', train)\n",
        "  shutil.copyfile(src_train, dst_train)\n",
        "\n",
        "for validation in validation_list:\n",
        "  src_validation = os.path.join(original_dataset_dir+'dog_bark', validation)\n",
        "  dst_validation = os.path.join('/content/target_dataset/validation/dog_bark', validation)\n",
        "  shutil.copyfile(src_validation, dst_validation)\n",
        "  \n",
        "for test in test_list:\n",
        "  src_test = os.path.join(original_dataset_dir+'dog_bark', test)\n",
        "  dst_test = os.path.join('/content/target_dataset/test/dog_bark', test)\n",
        "  shutil.copyfile(src_test, dst_test)\n",
        "  \n",
        "        \n",
        "  "
      ],
      "execution_count": 0,
      "outputs": []
    },
    {
      "cell_type": "code",
      "metadata": {
        "id": "LOB0kg2_DGCt",
        "colab_type": "code",
        "colab": {}
      },
      "source": [
        "fnames_train = os.listdir('/content/target_dataset/train/dog_bark')\n",
        "print(len(fnames_train))\n",
        "fnames_val = os.listdir('/content/target_dataset/validation/dog_bark')\n",
        "print(len(fnames_val))\n",
        "fnames_test = os.listdir('/content/target_dataset/test/dog_bark')\n",
        "print(len(fnames_test))\n"
      ],
      "execution_count": 0,
      "outputs": []
    },
    {
      "cell_type": "code",
      "metadata": {
        "id": "Z94KvPBWU6kq",
        "colab_type": "code",
        "colab": {}
      },
      "source": [
        "validation_gunshot_dir = os.path.join(validation_dir, 'gun_shot')\n",
        "os.mkdir(validation_gunshot_dir)\n",
        "validation_dogbark_dir = os.path.join(validation_dir, 'dog_bark')\n",
        "os.mkdir(validation_dogbark_dir)"
      ],
      "execution_count": 0,
      "outputs": []
    },
    {
      "cell_type": "code",
      "metadata": {
        "id": "imuKEMG8U8Jg",
        "colab_type": "code",
        "colab": {}
      },
      "source": [
        "test_gunshot_dir = os.path.join(test_dir, 'gun_shot')\n",
        "os.mkdir(test_gunshot_dir)\n",
        "test_dogbark_dir = os.path.join(test_dir, 'dog_bark')\n",
        "os.mkdir(test_dogbark_dir)"
      ],
      "execution_count": 0,
      "outputs": []
    },
    {
      "cell_type": "markdown",
      "metadata": {
        "id": "ywdXdFQFRUXu",
        "colab_type": "text"
      },
      "source": [
        "###Preparing for google speech dataset\n"
      ]
    },
    {
      "cell_type": "code",
      "metadata": {
        "id": "Sdio_TpuAE5W",
        "colab_type": "code",
        "colab": {}
      },
      "source": [
        "data_url='http://download.tensorflow.org/data/speech_commands_v0.02.tar.gz'\n",
        "os.makedirs(dest_directory)\n",
        "filename = data_url.split('/')[-1]\n",
        "filepath = os.path.join(dest_directory, filename)\n",
        "\n",
        "print(filename)\n",
        "print(filepath)\n",
        " \n",
        "def _progress(count, block_size, total_size):\n",
        "    sys.stdout.write('\\r>> Downloading %s %.1f%%' % \\\n",
        "            (filename, float(count * block_size) / float(total_size) * 100.0)) \n",
        "    sys.stdout.flush()\n",
        "\n",
        "urban_dataset_dir = '/content/combined_datasets/' \n"
      ],
      "execution_count": 0,
      "outputs": []
    },
    {
      "cell_type": "code",
      "metadata": {
        "id": "5Z1f7OCcESAP",
        "colab_type": "code",
        "colab": {}
      },
      "source": [
        "filepath, _ = urllib.request.urlretrieve(data_url, filepath, _progress)\n",
        "statinfo = os.stat(filepath)\n",
        "tf.logging.info('Successfully downloaded %s (%d bytes)', filename, statinfo.st_size)\n",
        "tarfile.open(filepath, 'r:gz').extractall(dest_directory)"
      ],
      "execution_count": 0,
      "outputs": []
    }
  ]
}