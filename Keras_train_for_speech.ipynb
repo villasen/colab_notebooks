{
  "nbformat": 4,
  "nbformat_minor": 0,
  "metadata": {
    "colab": {
      "name": "Keras train for speech.ipynb",
      "version": "0.3.2",
      "provenance": [],
      "include_colab_link": true
    },
    "kernelspec": {
      "name": "python3",
      "display_name": "Python 3"
    },
    "accelerator": "GPU"
  },
  "cells": [
    {
      "cell_type": "markdown",
      "metadata": {
        "id": "view-in-github",
        "colab_type": "text"
      },
      "source": [
        "<a href=\"https://colab.research.google.com/github/villasen/colab_notebooks/blob/master/Keras_train_for_speech.ipynb\" target=\"_parent\"><img src=\"https://colab.research.google.com/assets/colab-badge.svg\" alt=\"Open In Colab\"/></a>"
      ]
    },
    {
      "cell_type": "code",
      "metadata": {
        "id": "HjlCIz9y8NKk",
        "colab_type": "code",
        "colab": {
          "base_uri": "https://localhost:8080/",
          "height": 136
        },
        "outputId": "3cd1b16e-5786-412d-9228-65b212524c5f"
      },
      "source": [
        "!git clone https://github.com/villasen/speech-numpy.git"
      ],
      "execution_count": 1,
      "outputs": [
        {
          "output_type": "stream",
          "text": [
            "Cloning into 'speech-numpy'...\n",
            "remote: Enumerating objects: 39, done.\u001b[K\n",
            "remote: Counting objects: 100% (39/39), done.\u001b[K\n",
            "remote: Compressing objects: 100% (38/38), done.\u001b[K\n",
            "remote: Total 39 (delta 1), reused 0 (delta 0), pack-reused 0\u001b[K\n",
            "Unpacking objects: 100% (39/39), done.\n",
            "Checking out files: 100% (32/32), done.\n"
          ],
          "name": "stdout"
        }
      ]
    },
    {
      "cell_type": "code",
      "metadata": {
        "id": "Rc99ICZWzk9D",
        "colab_type": "code",
        "outputId": "5ad07e3d-7c88-4519-91df-8626b68086ac",
        "colab": {
          "base_uri": "https://localhost:8080/",
          "height": 34
        }
      },
      "source": [
        "import keras\n",
        "from keras import layers\n",
        "from keras import models\n",
        "from keras import backend as K\n",
        "from keras import optimizers\n",
        "from keras import utils\n",
        "from keras.models import Sequential\n",
        "from keras.layers import Dense, Dropout, Flatten, Conv2D, MaxPooling2D\n",
        "import numpy as np\n",
        "import librosa\n",
        "import tensorflow\n",
        "import scipy\n",
        "import os, shutil\n",
        "from keras.utils import to_categorical\n",
        "from sklearn.model_selection import train_test_split\n",
        "import matplotlib.pyplot as plt\n",
        "import tensorflow as tf\n",
        "from six.moves import urllib\n",
        "import sys\n",
        "import tarfile"
      ],
      "execution_count": 6,
      "outputs": [
        {
          "output_type": "stream",
          "text": [
            "Using TensorFlow backend.\n"
          ],
          "name": "stderr"
        }
      ]
    },
    {
      "cell_type": "code",
      "metadata": {
        "id": "nLXjMkQtz-RB",
        "colab_type": "code",
        "colab": {}
      },
      "source": [
        "dest_directory = \"/content/speech_target/\"\n",
        "data_url='http://download.tensorflow.org/data/speech_commands_v0.02.tar.gz'"
      ],
      "execution_count": 0,
      "outputs": []
    },
    {
      "cell_type": "code",
      "metadata": {
        "id": "CTw2j5PBDhGd",
        "colab_type": "code",
        "colab": {
          "base_uri": "https://localhost:8080/",
          "height": 595
        },
        "outputId": "6511f297-36db-4d9f-c603-cb72bc2bcaa1"
      },
      "source": [
        "!ls -al speech-numpy/"
      ],
      "execution_count": 4,
      "outputs": [
        {
          "output_type": "stream",
          "text": [
            "total 365972\n",
            "drwxr-xr-x 2 root root     4096 May 30 05:33 .\n",
            "drwxr-xr-x 1 root root     4096 May 30 05:30 ..\n",
            "-rw-r--r-- 1 root root  6789248 May 30 05:32 backward.npy\n",
            "-rw-r--r-- 1 root root  8217248 May 30 05:32 bed.npy\n",
            "-rw-r--r-- 1 root root  8421248 May 30 05:32 bird.npy\n",
            "-rw-r--r-- 1 root root  8286608 May 30 05:32 cat.npy\n",
            "-rw-r--r-- 1 root root  8682368 May 30 05:32 dog.npy\n",
            "-rw-r--r-- 1 root root 15981488 May 30 05:32 down.npy\n",
            "-rw-r--r-- 1 root root 15451088 May 30 05:32 eight.npy\n",
            "-rw-r--r-- 1 root root  6442448 May 30 05:32 follow.npy\n",
            "-rw-r--r-- 1 root root  6352688 May 30 05:32 forward.npy\n",
            "-rw-r--r-- 1 root root 15210368 May 30 05:32 four.npy\n",
            "-rw-r--r-- 1 root root 15830528 May 30 05:32 go.npy\n",
            "-rw-r--r-- 1 root root  8621168 May 30 05:32 house.npy\n",
            "-rw-r--r-- 1 root root  6426128 May 30 05:32 learn.npy\n",
            "-rw-r--r-- 1 root root 15508208 May 30 05:32 left.npy\n",
            "-rw-r--r-- 1 root root  8568128 May 30 05:32 marvin.npy\n",
            "-rw-r--r-- 1 root root 16050848 May 30 05:32 nine.npy\n",
            "-rw-r--r-- 1 root root 16079408 May 30 05:32 no.npy\n",
            "-rw-r--r-- 1 root root 15279728 May 30 05:32 off.npy\n",
            "-rw-r--r-- 1 root root 15687728 May 30 05:32 on.npy\n",
            "-rw-r--r-- 1 root root 15414368 May 30 05:32 right.npy\n",
            "-rw-r--r-- 1 root root  8249888 May 30 05:32 sheila.npy\n",
            "-rw-r--r-- 1 root root 15748928 May 30 05:32 six.npy\n",
            "-rw-r--r-- 1 root root 15797888 May 30 05:32 stop.npy\n",
            "-rw-r--r-- 1 root root 15206288 May 30 05:32 three.npy\n",
            "-rw-r--r-- 1 root root  7176848 May 30 05:32 tree.npy\n",
            "-rw-r--r-- 1 root root 15830528 May 30 05:32 two.npy\n",
            "-rw-r--r-- 1 root root 15189968 May 30 05:32 up.npy\n",
            "-rw-r--r-- 1 root root  6495488 May 30 05:32 visual.npy\n",
            "-rw-r--r-- 1 root root  8661968 May 30 05:32 wow.npy\n",
            "-rw-r--r-- 1 root root 16499648 May 30 05:32 yes.npy\n",
            "-rw-r--r-- 1 root root 16532288 May 30 05:32 zero.npy\n"
          ],
          "name": "stdout"
        }
      ]
    },
    {
      "cell_type": "code",
      "metadata": {
        "id": "4m0d1WKMDoFx",
        "colab_type": "code",
        "colab": {}
      },
      "source": [
        "!rm -r speech-numpy/.ipynb_checkpoints/\n",
        "!rm -r speech-numpy/.git/"
      ],
      "execution_count": 0,
      "outputs": []
    },
    {
      "cell_type": "code",
      "metadata": {
        "id": "bm7eY_jazNYp",
        "colab_type": "code",
        "colab": {}
      },
      "source": [
        "\n",
        "data_url='http://download.tensorflow.org/data/speech_commands_v0.02.tar.gz'\n",
        "os.makedirs(dest_directory)\n",
        "filename = data_url.split('/')[-1]\n",
        "filepath = os.path.join(dest_directory, filename)\n",
        "\n",
        "print(filename)\n",
        "print(filepath)\n",
        " \n",
        "def _progress(count, block_size, total_size):\n",
        "    sys.stdout.write('\\r>> Downloading %s %.1f%%' % \\\n",
        "            (filename, float(count * block_size) / float(total_size) * 100.0)) \n",
        "    sys.stdout.flush()\n",
        "\n",
        "urban_dataset_dir = '/content/combined_datasets/' "
      ],
      "execution_count": 0,
      "outputs": []
    },
    {
      "cell_type": "code",
      "metadata": {
        "id": "sA1SHcVy0r8R",
        "colab_type": "code",
        "colab": {}
      },
      "source": [
        "  def maybe_download_and_extract_dataset(data_url, dest_directory):\n",
        "    \"\"\"Download and extract data set tar file.\n",
        "    If the data set we're using doesn't already exist, this function\n",
        "    downloads it from the TensorFlow.org website and unpacks it into a\n",
        "    directory.\n",
        "    If the data_url is none, don't download anything and expect the data\n",
        "    directory to contain the correct files already.\n",
        "    Args:\n",
        "      data_url: Web location of the tar file containing the data set.\n",
        "      dest_directory: File path to extract data to.\n",
        "    \"\"\"\n",
        "    if not data_url:\n",
        "      return\n",
        "    if not os.path.exists(dest_directory):\n",
        "      os.makedirs(dest_directory)\n",
        "    filename = data_url.split('/')[-1]\n",
        "    filepath = os.path.join(dest_directory, filename)\n",
        "    print(filepath)\n",
        "    if not os.path.exists(filepath):\n",
        "\n",
        "      def _progress(count, block_size, total_size):\n",
        "        sys.stdout.write(\n",
        "            '\\r>> Downloading %s %.1f%%' %\n",
        "            (filename, float(count * block_size) / float(total_size) * 100.0))\n",
        "        sys.stdout.flush()\n",
        "\n",
        "      try:\n",
        "        filepath, _ = urllib.request.urlretrieve(data_url, filepath, _progress)\n",
        "      except:\n",
        "        tf.logging.error('Failed to download URL: %s to folder: %s', data_url,\n",
        "                         filepath)\n",
        "        tf.logging.error('Please make sure you have enough free space and'\n",
        "                         ' an internet connection')\n",
        "        raise\n",
        "      print()\n",
        "      statinfo = os.stat(filepath)\n",
        "      tf.logging.info('Successfully downloaded %s (%d bytes)', filename,\n",
        "                      statinfo.st_size)\n",
        "    tarfile.open(filepath, 'r:gz').extractall(dest_directory)"
      ],
      "execution_count": 0,
      "outputs": []
    },
    {
      "cell_type": "code",
      "metadata": {
        "id": "zF9If1_90vzr",
        "colab_type": "code",
        "colab": {}
      },
      "source": [
        "maybe_download_and_extract_dataset( data_url, dest_directory)"
      ],
      "execution_count": 0,
      "outputs": []
    },
    {
      "cell_type": "code",
      "metadata": {
        "id": "e4jURFILmxKB",
        "colab_type": "code",
        "colab": {}
      },
      "source": [
        "!ls speech_target/ -al"
      ],
      "execution_count": 0,
      "outputs": []
    },
    {
      "cell_type": "code",
      "metadata": {
        "id": "i8yDReprIWOe",
        "colab_type": "code",
        "colab": {
          "base_uri": "https://localhost:8080/",
          "height": 54
        },
        "outputId": "9a455db6-84d7-4dd5-d3c8-f1a53be7c8ad"
      },
      "source": [
        "labels = os.listdir('speech-numpy/')\n",
        "print(labels)"
      ],
      "execution_count": 7,
      "outputs": [
        {
          "output_type": "stream",
          "text": [
            "['wow.npy', 'go.npy', 'left.npy', 'on.npy', 'three.npy', 'dog.npy', 'backward.npy', 'stop.npy', 'learn.npy', 'visual.npy', 'two.npy', 'bird.npy', 'off.npy', 'tree.npy', 'house.npy', 'cat.npy', 'down.npy', 'four.npy', 'eight.npy', 'nine.npy', 'follow.npy', 'marvin.npy', 'zero.npy', 'up.npy', 'no.npy', 'sheila.npy', 'right.npy', 'forward.npy', 'bed.npy', 'six.npy', 'yes.npy']\n"
          ],
          "name": "stdout"
        }
      ]
    },
    {
      "cell_type": "code",
      "metadata": {
        "id": "2pkC0OzfMFBg",
        "colab_type": "code",
        "colab": {}
      },
      "source": [
        "def get_train_test(split_ratio=0.9, random_state=42):\n",
        "    # Get available labels\n",
        "    #labels, indices, _ = get_labels(DATA_PATH)\n",
        "\n",
        "    # Getting first arrays\n",
        "    #X = np.load('/content/target_npy_files/' + labels[0] + '.npy')\n",
        "    X = np.load('/content/speech-numpy/' + labels[0])\n",
        "    y = np.zeros(X.shape[0])\n",
        "\n",
        "    \n",
        "    # Append all of the dataset into one single array, same goes for y\n",
        "    for i, label in enumerate(labels[1:]):\n",
        "        #x = np.load('/content/target_npy_files/' + label + '.npy')\n",
        "        x = np.load('/content/speech-numpy/' + label)\n",
        "        \n",
        "        X = np.vstack((X, x))\n",
        "        y = np.append(y, np.full(x.shape[0], fill_value= (i + 1)))\n",
        "        \n",
        "    assert X.shape[0] == len(y)\n",
        "\n",
        "    return train_test_split(X, y, test_size= (1 - split_ratio), random_state=random_state, shuffle=True)"
      ],
      "execution_count": 0,
      "outputs": []
    },
    {
      "cell_type": "markdown",
      "metadata": {
        "id": "VZ8zjMUgEJBT",
        "colab_type": "text"
      },
      "source": [
        ""
      ]
    },
    {
      "cell_type": "code",
      "metadata": {
        "id": "KL8yJGZk9RKK",
        "colab_type": "code",
        "colab": {}
      },
      "source": [
        "#save_data_to_array(path=DATA_PATH, max_pad_len=51)    \n",
        "X_train, X_test, y_train, y_test = get_train_test()\n",
        "\n",
        "X_train = X_train.reshape(X_train.shape[0], 10, 51, 1)\n",
        "X_test = X_test.reshape(X_test.shape[0], 10, 51, 1)\n",
        "y_train_hot = to_categorical(y_train)\n",
        "y_test_hot = to_categorical(y_test)"
      ],
      "execution_count": 0,
      "outputs": []
    },
    {
      "cell_type": "code",
      "metadata": {
        "id": "YIo6kgbPNmkZ",
        "colab_type": "code",
        "colab": {}
      },
      "source": [
        "!rm -r target_model/\n"
      ],
      "execution_count": 0,
      "outputs": []
    },
    {
      "cell_type": "code",
      "metadata": {
        "id": "iNgVTpaS9A57",
        "colab_type": "code",
        "colab": {
          "base_uri": "https://localhost:8080/",
          "height": 1242
        },
        "outputId": "3b5c6062-0b0a-4dad-8157-77f85c5205d7"
      },
      "source": [
        "# Creating Keras sequential model\n",
        "#bn = 1\n",
        "target_model = '/content/target_model/'\n",
        "os.mkdir(target_model)\n",
        "BN=True\n",
        "model = models.Sequential()\n",
        "\n",
        "def dscnn_train():\n",
        "  # 1\n",
        "      model.add(layers.Conv2D(64, (4,10), strides=(2,2), padding='same', activation='relu', \\\n",
        "                #input_shape=(10, 49, 1)))\n",
        "                input_shape=(10,51,1)))\n",
        "      #model.add(layers.Dropout(0.5))\n",
        "      if BN == True:\n",
        "          model.add(layers.BatchNormalization(axis=-1, momentum=0.99, epsilon=0.001, \\\n",
        "                                                center=True, scale=True, beta_initializer='zeros', \\\n",
        "                                                gamma_initializer='ones', moving_mean_initializer='zeros', \\\n",
        "                                                moving_variance_initializer='ones', beta_regularizer=None, \\\n",
        "                                                gamma_regularizer=None, beta_constraint=None, gamma_constraint=None))\n",
        "      \n",
        "      #model.add(layers.Dropout(0.5))\n",
        "      model.add(layers.ReLU(max_value=None, negative_slope=0.0, threshold=0.0))\n",
        "      #model.add(layers.Dropout(0.5))\n",
        "      # 2\n",
        "      model.add(layers.SeparableConv2D(64, (3,3), strides=(1,1), data_format='channels_last', padding='same', depth_multiplier=1, activation='relu'))  \n",
        "      if BN == True:\n",
        "          model.add(layers.BatchNormalization(axis=-1, momentum=0.99, epsilon=0.001, \\\n",
        "                                              center=True, scale=True, beta_initializer='zeros', \\\n",
        "                                              gamma_initializer='ones', moving_mean_initializer='zeros', \\\n",
        "                                              moving_variance_initializer='ones', beta_regularizer=None, \\\n",
        "                                              gamma_regularizer=None, beta_constraint=None, gamma_constraint=None))\n",
        "      #model.add(layers.Dropout(0.5))\n",
        "      model.add(layers.ReLU(max_value=None, negative_slope=0.0, threshold=0.0))\n",
        "      #model.add(layers.Dropout(0.5))\n",
        "\n",
        "      model.add(layers.Conv2D(64, (1,1), strides=(1,1), padding='same', use_bias=False))\n",
        "      if BN == True:\n",
        "          model.add(layers.BatchNormalization(axis=-1, momentum=0.99, epsilon=0.001, \\\n",
        "                                              center=True, scale=True, beta_initializer='zeros', \\\n",
        "                                              gamma_initializer='ones', moving_mean_initializer='zeros', \\\n",
        "                                              moving_variance_initializer='ones', beta_regularizer=None, \\\n",
        "                                              gamma_regularizer=None, beta_constraint=None, gamma_constraint=None))\n",
        "     # model.add(layers.Dropout(0.5))\n",
        "      model.add(layers.ReLU(max_value=None, negative_slope=0.0, threshold=0.0))\n",
        "     # model.add(layers.Dropout(0.5))\n",
        "      # 3\n",
        "      model.add(layers.SeparableConv2D(64, (3,3), strides=(1,1), data_format='channels_last', padding='same', depth_multiplier=1, activation='relu'))\n",
        "      if BN == True:\n",
        "          model.add(layers.BatchNormalization(axis=-1, momentum=0.99, epsilon=0.001, \\\n",
        "                                              center=True, scale=True, beta_initializer='zeros', \\\n",
        "                                              gamma_initializer='ones', moving_mean_initializer='zeros', \\\n",
        "                                              moving_variance_initializer='ones', beta_regularizer=None, \\\n",
        "                                              gamma_regularizer=None, beta_constraint=None, gamma_constraint=None))\n",
        "      \n",
        "      #model.add(layers.Dropout(0.5))\n",
        "      model.add(layers.ReLU(max_value=None, negative_slope=0.0, threshold=0.0))\n",
        "     # model.add(layers.Dropout(0.5))\n",
        "      \n",
        "      model.add(layers.Conv2D(64, (1,1), strides=(1,1), padding='same', use_bias=False))\n",
        "      if BN == True:\n",
        "          model.add(layers.BatchNormalization(axis=-1, momentum=0.99, epsilon=0.001, \\\n",
        "                                              center=True, scale=True, beta_initializer='zeros', \\\n",
        "                                              gamma_initializer='ones', moving_mean_initializer='zeros', \\\n",
        "                                              moving_variance_initializer='ones', beta_regularizer=None, \\\n",
        "                                              gamma_regularizer=None, beta_constraint=None, gamma_constraint=None))\n",
        "      #model.add(layers.Dropout(0.5))\n",
        "      model.add(layers.ReLU(max_value=None, negative_slope=0.0, threshold=0.0))\n",
        "      model.add(layers.Dropout(0.5))\n",
        "\n",
        "      # 4\n",
        "      model.add(layers.SeparableConv2D(64, (3,3), strides=(1,1), data_format='channels_last', padding='same', depth_multiplier=1, activation='relu'))\n",
        "      if BN == True:\n",
        "          model.add(layers.BatchNormalization(axis=-1, momentum=0.99, epsilon=0.001, \\\n",
        "                                              center=True, scale=True, beta_initializer='zeros', \\\n",
        "                                              gamma_initializer='ones', moving_mean_initializer='zeros', \\\n",
        "                                              moving_variance_initializer='ones', beta_regularizer=None, \\\n",
        "                                              gamma_regularizer=None, beta_constraint=None, gamma_constraint=None))\n",
        "      #model.add(layers.Dropout(0.5))\n",
        "      model.add(layers.ReLU(max_value=None, negative_slope=0.0, threshold=0.0))\n",
        "      model.add(layers.Dropout(0.5))\n",
        "      model.add(layers.Conv2D(64, (1,1), strides=(1,1), padding='same', use_bias=False))\n",
        "      if BN == True:\n",
        "          model.add(layers.BatchNormalization(axis=-1, momentum=0.99, epsilon=0.001, \\\n",
        "                                              center=True, scale=True, beta_initializer='zeros', \\\n",
        "                                              gamma_initializer='ones', moving_mean_initializer='zeros', \\\n",
        "                                              moving_variance_initializer='ones', beta_regularizer=None, \\\n",
        "                                              gamma_regularizer=None, beta_constraint=None, gamma_constraint=None))\n",
        "      model.add(layers.Dropout(0.5))\n",
        "      model.add(layers.ReLU(max_value=None, negative_slope=0.0, threshold=0.0))\n",
        "      model.add(layers.Dropout(0.5))\n",
        "\n",
        "      # 5\n",
        "      model.add(layers.SeparableConv2D(64, (3,3), strides=(1,1), data_format='channels_last', padding='same', depth_multiplier=1, activation='relu'))\n",
        "      if BN == True:\n",
        "          model.add(layers.BatchNormalization(axis=-1, momentum=0.99, epsilon=0.001, \\\n",
        "                                              center=True, scale=True, beta_initializer='zeros', \\\n",
        "                                              gamma_initializer='ones', moving_mean_initializer='zeros', \\\n",
        "                                              moving_variance_initializer='ones', beta_regularizer=None, \\\n",
        "                                              gamma_regularizer=None, beta_constraint=None, gamma_constraint=None))\n",
        "      #model.add(layers.Dropout(0.5))\n",
        "      model.add(layers.ReLU(max_value=None, negative_slope=0.0, threshold=0.0))\n",
        "      model.add(layers.Dropout(0.5))\n",
        "      model.add(layers.Conv2D(64, (1,1), strides=(1,1), padding='same', use_bias=False))\n",
        "      if BN == True:      \n",
        "          model.add(layers.BatchNormalization(axis=-1, momentum=0.99, epsilon=0.001, \\\n",
        "                                              center=True, scale=True, beta_initializer='zeros', \\\n",
        "                                              gamma_initializer='ones', moving_mean_initializer='zeros', \\\n",
        "                                              moving_variance_initializer='ones', beta_regularizer=None, \\\n",
        "                                              gamma_regularizer=None, beta_constraint=None, gamma_constraint=None))\n",
        "      #model.add(layers.Dropout(0.5))\n",
        "      model.add(layers.ReLU(max_value=None, negative_slope=0.0, threshold=0.0))\n",
        "      model.add(layers.Dropout(0.5))\n",
        "\n",
        "\n",
        "      \n",
        "           \n",
        "      \n",
        "# Final layer\n",
        "      \n",
        "      #model.add(layers.Dropout(0.5))\n",
        "      model.add(layers.AveragePooling2D(pool_size=(5, 25), strides=(2,2), padding='valid', data_format=None))\n",
        "      model.add(layers.Dropout(0.5))\n",
        "      model.add(layers.Flatten(data_format=None))\n",
        "     # model.add(layers.Dropout(0.5))\n",
        "      model.add(layers.Dense(64, activation='relu'))\n",
        "      model.add(layers.Dropout(0.5))\n",
        "      #model.add(layers.Dense(12, activation='softmax'))\n",
        "      model.add(layers.Dense(31, activation='softmax'))\n",
        "      #model.add(layers.Dropout(0.5))\n",
        "      # Compilation step to choose loss function, optimizer and metric\n",
        "      # Configuring the learning process\n",
        "      model.compile(optimizer='adam', loss='categorical_crossentropy', metrics=['accuracy'])\n",
        "      #model.fit()\n",
        "      history = model.fit(X_train, y_train_hot, batch_size=100, epochs=20, verbose=1, validation_data=(X_test, y_test_hot))\n",
        "      \n",
        "      #plt.plot(history.history['acc'])\n",
        "      #Restarts layer sequence number \n",
        "      #K.clear_session()\n",
        "\n",
        "      acc = history.history['acc']\n",
        "      val_acc = history.history['val_acc']\n",
        "      loss = history.history['loss']\n",
        "      val_loss = history.history['val_loss']\n",
        "      epochs = range(1, len(acc) + 1)\n",
        "      \n",
        "      plt.plot(epochs, acc, 'bo', label='Training acc')\n",
        "      plt.plot(epochs, val_acc, 'b', label='Validation acc')\n",
        "      plt.title('Training and validation accuracy')\n",
        "      plt.legend()\n",
        "\n",
        "      plt.figure()\n",
        "\n",
        "      plt.plot(epochs, loss, 'bo', label='Training loss')\n",
        "      plt.plot(epochs,val_loss, 'b', label='Validation loss')\n",
        "      plt.title('Training and validation loss')\n",
        "      plt.legend()\n",
        "      plt.show()\n",
        "      \n",
        "      \n",
        "      model.save('/content/target_model/urban_sound.h5')\n",
        "  \n",
        "dscnn_train()  "
      ],
      "execution_count": 13,
      "outputs": [
        {
          "output_type": "stream",
          "text": [
            "Train on 82651 samples, validate on 9184 samples\n",
            "Epoch 1/20\n",
            "82651/82651 [==============================] - 16s 192us/step - loss: 3.0969 - acc: 0.0852 - val_loss: 3.1185 - val_acc: 0.0818\n",
            "Epoch 2/20\n",
            "82651/82651 [==============================] - 14s 175us/step - loss: 2.7703 - acc: 0.1339 - val_loss: 2.6588 - val_acc: 0.1725\n",
            "Epoch 3/20\n",
            "82651/82651 [==============================] - 14s 166us/step - loss: 2.4234 - acc: 0.2174 - val_loss: 2.0929 - val_acc: 0.3398\n",
            "Epoch 4/20\n",
            "82651/82651 [==============================] - 14s 165us/step - loss: 2.0176 - acc: 0.3522 - val_loss: 1.6953 - val_acc: 0.4594\n",
            "Epoch 5/20\n",
            "82651/82651 [==============================] - 14s 166us/step - loss: 1.7309 - acc: 0.4497 - val_loss: 1.4475 - val_acc: 0.5444\n",
            "Epoch 6/20\n",
            "82651/82651 [==============================] - 14s 168us/step - loss: 1.5465 - acc: 0.5164 - val_loss: 1.2288 - val_acc: 0.6287\n",
            "Epoch 7/20\n",
            "82651/82651 [==============================] - 14s 169us/step - loss: 1.4098 - acc: 0.5628 - val_loss: 1.0740 - val_acc: 0.6696\n",
            "Epoch 8/20\n",
            "82651/82651 [==============================] - 14s 174us/step - loss: 1.3053 - acc: 0.5986 - val_loss: 1.0605 - val_acc: 0.6712\n",
            "Epoch 9/20\n",
            "82651/82651 [==============================] - 14s 173us/step - loss: 1.2342 - acc: 0.6169 - val_loss: 0.9379 - val_acc: 0.7103\n",
            "Epoch 10/20\n",
            "82651/82651 [==============================] - 14s 167us/step - loss: 1.1805 - acc: 0.6369 - val_loss: 0.9302 - val_acc: 0.7104\n",
            "Epoch 11/20\n",
            "82651/82651 [==============================] - 14s 168us/step - loss: 1.1301 - acc: 0.6518 - val_loss: 0.9460 - val_acc: 0.7008\n",
            "Epoch 12/20\n",
            "82651/82651 [==============================] - 14s 170us/step - loss: 1.0943 - acc: 0.6640 - val_loss: 0.8583 - val_acc: 0.7306\n",
            "Epoch 13/20\n",
            "82651/82651 [==============================] - 14s 172us/step - loss: 1.0523 - acc: 0.6813 - val_loss: 0.8244 - val_acc: 0.7374\n",
            "Epoch 14/20\n",
            "82651/82651 [==============================] - 14s 171us/step - loss: 1.0170 - acc: 0.6888 - val_loss: 0.7607 - val_acc: 0.7594\n",
            "Epoch 15/20\n",
            "82651/82651 [==============================] - 14s 169us/step - loss: 0.9830 - acc: 0.7035 - val_loss: 0.7891 - val_acc: 0.7548\n",
            "Epoch 16/20\n",
            "82651/82651 [==============================] - 14s 166us/step - loss: 0.9500 - acc: 0.7133 - val_loss: 0.7155 - val_acc: 0.7887\n",
            "Epoch 17/20\n",
            "82651/82651 [==============================] - 14s 167us/step - loss: 0.9198 - acc: 0.7264 - val_loss: 0.6878 - val_acc: 0.7887\n",
            "Epoch 18/20\n",
            "82651/82651 [==============================] - 14s 167us/step - loss: 0.8890 - acc: 0.7369 - val_loss: 0.6705 - val_acc: 0.7986\n",
            "Epoch 19/20\n",
            "82651/82651 [==============================] - 15s 182us/step - loss: 0.8688 - acc: 0.7474 - val_loss: 0.6663 - val_acc: 0.7955\n",
            "Epoch 20/20\n",
            "82651/82651 [==============================] - 14s 171us/step - loss: 0.8375 - acc: 0.7558 - val_loss: 0.6761 - val_acc: 0.7943\n"
          ],
          "name": "stdout"
        },
        {
          "output_type": "display_data",
          "data": {
            "image/png": "[encoded data removed]",
            "text/plain": [
              "<Figure size 432x288 with 1 Axes>"
            ]
          },
          "metadata": {
            "tags": []
          }
        },
        {
          "output_type": "display_data",
          "data": {
            "image/png": "[encoded data removed]",
            "text/plain": [
              "<Figure size 432x288 with 1 Axes>"
            ]
          },
          "metadata": {
            "tags": []
          }
        }
      ]
    }
  ]
}