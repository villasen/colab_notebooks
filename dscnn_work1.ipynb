{
  "nbformat": 4,
  "nbformat_minor": 0,
  "metadata": {
    "colab": {
      "name": "dscnn_work1.ipynb",
      "version": "0.3.2",
      "provenance": [],
      "include_colab_link": true
    },
    "kernelspec": {
      "name": "python2",
      "display_name": "Python 2"
    },
    "accelerator": "GPU"
  },
  "cells": [
    {
      "cell_type": "markdown",
      "metadata": {
        "id": "view-in-github",
        "colab_type": "text"
      },
      "source": [
        "<a href=\"https://colab.research.google.com/github/villasen/colab_test_notebook/blob/master/dscnn_work1.ipynb\" target=\"_parent\"><img src=\"https://colab.research.google.com/assets/colab-badge.svg\" alt=\"Open In Colab\"/></a>"
      ]
    },
    {
      "metadata": {
        "id": "jsMKvw1ei_Tv",
        "colab_type": "code",
        "outputId": "46c762e4-f714-4ac5-f317-6f71d7ce224b",
        "colab": {
          "base_uri": "https://localhost:8080/",
          "height": 102
        }
      },
      "cell_type": "code",
      "source": [
        "!git clone https://github.com/ARM-software/ML-KWS-for-MCU\n",
        "  "
      ],
      "execution_count": 0,
      "outputs": [
        {
          "output_type": "stream",
          "text": [
            "Cloning into 'ML-KWS-for-MCU'...\n",
            "remote: Enumerating objects: 451, done.\u001b[K\n",
            "remote: Total 451 (delta 0), reused 0 (delta 0), pack-reused 451\u001b[K\n",
            "Receiving objects: 100% (451/451), 19.44 MiB | 36.33 MiB/s, done.\n",
            "Resolving deltas: 100% (91/91), done.\n"
          ],
          "name": "stdout"
        }
      ]
    },
    {
      "metadata": {
        "id": "ZjYDPIsWkQEH",
        "colab_type": "code",
        "outputId": "a4b343d1-8de5-478e-ab0e-59b6a89b204e",
        "colab": {
          "base_uri": "https://localhost:8080/",
          "height": 255
        }
      },
      "cell_type": "code",
      "source": [
        "!python ML-KWS-for-MCU/train.py --model_architecture ds_cnn --model_size_info 5 64 10 4 2 2 64 3 3 1 1 64 3 3 1 1 64 3 3 1 1 64 3 3 1 1 --dct_coefficient_count 10 \\\n",
        "--window_size_ms 40 --window_stride_ms 20 --learning_rate 0.0005,0.0001,0.00002 --how_many_training_steps 7000,6000,5000 --summaries_dir work/DS_CNN/DS_CNN1/retrain_logs \\\n",
        "--train_dir work/DS_CNN/DS_CNN1/training "
      ],
      "execution_count": 0,
      "outputs": [
        {
          "output_type": "stream",
          "text": [
            "INFO:tensorflow:Confusion Matrix:\n",
            " [[408   0   0   0   0   0   0   0   0   0   0   0]\n",
            " [  0 347   3   5   1   8  16   8   7   0   5   8]\n",
            " [  1   8 395   5   0   1   8   0   0   0   0   1]\n",
            " [  0   3   0 386   0   4   3   0   0   0   1   8]\n",
            " [  0   7   0   1 382   2   0   0   2  17  10   4]\n",
            " [  0   9   0  10   0 377   0   1   3   0   3   3]\n",
            " [  1   2  13   1   0   1 392   1   0   0   1   0]\n",
            " [  0   6   1   1   0   0   9 374   2   0   2   1]\n",
            " [  1  13   0   0   3   2   0   0 361  13   1   2]\n",
            " [  1   5   0   1  10   1   0   0   7 366   2   9]\n",
            " [  0   1   0   0   4   2   0   0   0   0 401   3]\n",
            " [  0   7   3  15   3   8   1   0   1   0   1 363]]\n",
            "INFO:tensorflow:Final test accuracy = 93.09% (N=4890)\n"
          ],
          "name": "stdout"
        }
      ]
    },
    {
      "metadata": {
        "id": "L833M4ZSVClY",
        "colab_type": "code",
        "outputId": "47bda943-337a-4bff-dcda-2b75eb7e1233",
        "colab": {
          "base_uri": "https://localhost:8080/",
          "height": 34
        }
      },
      "cell_type": "code",
      "source": [
        "!pwd\n"
      ],
      "execution_count": 0,
      "outputs": [
        {
          "output_type": "stream",
          "text": [
            "/content\n"
          ],
          "name": "stdout"
        }
      ]
    },
    {
      "metadata": {
        "id": "W66vd6KnVerY",
        "colab_type": "code",
        "outputId": "4cbf3cb5-d2c0-4aba-bd23-864b12e86141",
        "colab": {
          "base_uri": "https://localhost:8080/",
          "height": 85
        }
      },
      "cell_type": "code",
      "source": [
        "!ls -l"
      ],
      "execution_count": 0,
      "outputs": [
        {
          "output_type": "stream",
          "text": [
            "total 12\n",
            "drwxr-xr-x 5 root root 4096 Mar  1 01:56 ML-KWS-for-MCU\n",
            "drwxr-xr-x 1 root root 4096 Feb 26 17:33 sample_data\n",
            "drwxr-xr-x 3 root root 4096 Mar  1 01:58 work\n"
          ],
          "name": "stdout"
        }
      ]
    },
    {
      "metadata": {
        "id": "yEAWerxsVjtB",
        "colab_type": "code",
        "outputId": "df020abb-6f73-4ee5-ce8c-03ef736d5409",
        "colab": {
          "base_uri": "https://localhost:8080/",
          "height": 102
        }
      },
      "cell_type": "code",
      "source": [
        "!mkdir temp\n",
        "!ls -l\n",
        "\n",
        "\n"
      ],
      "execution_count": 0,
      "outputs": [
        {
          "output_type": "stream",
          "text": [
            "total 16\n",
            "drwxr-xr-x 5 root root 4096 Mar  1 01:56 ML-KWS-for-MCU\n",
            "drwxr-xr-x 1 root root 4096 Feb 26 17:33 sample_data\n",
            "drwxr-xr-x 2 root root 4096 Mar  1 03:43 temp\n",
            "drwxr-xr-x 3 root root 4096 Mar  1 01:58 work\n"
          ],
          "name": "stdout"
        }
      ]
    },
    {
      "metadata": {
        "id": "gfKvt6xwYHjn",
        "colab_type": "code",
        "outputId": "f780b826-92f5-40d6-8a97-5ad2464374f9",
        "colab": {
          "base_uri": "https://localhost:8080/",
          "height": 102
        }
      },
      "cell_type": "code",
      "source": [
        "!cd work/DS_CNN/DS_CNN1/training\n",
        "!ls -l"
      ],
      "execution_count": 0,
      "outputs": [
        {
          "output_type": "stream",
          "text": [
            "total 16\n",
            "drwxr-xr-x 5 root root 4096 Mar  1 01:56 ML-KWS-for-MCU\n",
            "drwxr-xr-x 1 root root 4096 Feb 26 17:33 sample_data\n",
            "drwxr-xr-x 2 root root 4096 Mar  1 03:43 temp\n",
            "drwxr-xr-x 3 root root 4096 Mar  1 01:58 work\n"
          ],
          "name": "stdout"
        }
      ]
    },
    {
      "metadata": {
        "id": "qqcO0LeeWb_E",
        "colab_type": "code",
        "outputId": "00d7ca70-27d9-471f-b64f-63efce887227",
        "colab": {
          "base_uri": "https://localhost:8080/",
          "height": 71
        }
      },
      "cell_type": "code",
      "source": [
        "!cp /content/work/DS_CNN/DS_CNN1/training/{ds_cnn.pbtxt, ds_cnn_labels.txt} /content/temp/ "
      ],
      "execution_count": 0,
      "outputs": [
        {
          "output_type": "stream",
          "text": [
            "cp: cannot stat '/content/work/DS_CNN/DS_CNN1/training/{ds_cnn.pbtxt,': No such file or directory\n",
            "cp: cannot stat 'ds_cnn_labels.txt}': No such file or directory\n"
          ],
          "name": "stdout"
        }
      ]
    },
    {
      "metadata": {
        "id": "KNScvniJYgD0",
        "colab_type": "code",
        "outputId": "090238b1-12f8-45f9-aa5a-fd97aa4445b3",
        "colab": {
          "base_uri": "https://localhost:8080/",
          "height": 102
        }
      },
      "cell_type": "code",
      "source": [
        "!ls -l /content/work/DS_CNN/DS_CNN1/training/\n",
        "!cp /content/work/DS_CNN/DS_CNN1/training/ds_cnn_labels.txt /content/temp/\n",
        "!ls /content/temp/"
      ],
      "execution_count": 0,
      "outputs": [
        {
          "output_type": "stream",
          "text": [
            "total 608\n",
            "drwxr-xr-x 2 root root   4096 Mar  1 03:26 best\n",
            "-rw-r--r-- 1 root root     60 Mar  1 01:59 ds_cnn_labels.txt\n",
            "-rw-r--r-- 1 root root 610533 Mar  1 01:59 ds_cnn.pbtxt\n",
            "ds_cnn_labels.txt\n"
          ],
          "name": "stdout"
        }
      ]
    },
    {
      "metadata": {
        "id": "Rlli_dNSaNxo",
        "colab_type": "code",
        "outputId": "4ba295ff-5efb-47fe-8eb9-6232ec2c248e",
        "colab": {
          "base_uri": "https://localhost:8080/",
          "height": 34
        }
      },
      "cell_type": "code",
      "source": [
        "!cp /content/work/DS_CNN/DS_CNN1/training/ds_cnn.pbtxt /content/temp/\n",
        "!ls /content/temp/"
      ],
      "execution_count": 0,
      "outputs": [
        {
          "output_type": "stream",
          "text": [
            "ds_cnn_labels.txt  ds_cnn.pbtxt\n"
          ],
          "name": "stdout"
        }
      ]
    },
    {
      "metadata": {
        "id": "NqavE7NLap8a",
        "colab_type": "code",
        "outputId": "3095ea44-9811-49a8-b4d5-3c8ae12867a8",
        "colab": {
          "base_uri": "https://localhost:8080/",
          "height": 102
        }
      },
      "cell_type": "code",
      "source": [
        "!tar -cvf test.tar /content/temp\n",
        "!ls /content/temp/"
      ],
      "execution_count": 0,
      "outputs": [
        {
          "output_type": "stream",
          "text": [
            "tar: Removing leading `/' from member names\n",
            "/content/temp/\n",
            "/content/temp/ds_cnn_labels.txt\n",
            "/content/temp/ds_cnn.pbtxt\n",
            "ds_cnn_labels.txt  ds_cnn.pbtxt\n"
          ],
          "name": "stdout"
        }
      ]
    },
    {
      "metadata": {
        "id": "mF5o-2mZbYpE",
        "colab_type": "code",
        "outputId": "05a93faa-e712-4e01-de1e-b430f70aa379",
        "colab": {
          "base_uri": "https://localhost:8080/",
          "height": 649
        }
      },
      "cell_type": "code",
      "source": [
        "!tar -cvf test2.tar /content/work/\n",
        "!ls -l"
      ],
      "execution_count": 0,
      "outputs": [
        {
          "output_type": "stream",
          "text": [
            "tar: Removing leading `/' from member names\n",
            "/content/work/\n",
            "/content/work/DS_CNN/\n",
            "/content/work/DS_CNN/DS_CNN1/\n",
            "/content/work/DS_CNN/DS_CNN1/retrain_logs/\n",
            "/content/work/DS_CNN/DS_CNN1/retrain_logs/train/\n",
            "/content/work/DS_CNN/DS_CNN1/retrain_logs/train/events.out.tfevents.1551405539.3ba27aa8f961\n",
            "/content/work/DS_CNN/DS_CNN1/retrain_logs/validation/\n",
            "/content/work/DS_CNN/DS_CNN1/retrain_logs/validation/events.out.tfevents.1551405657.3ba27aa8f961\n",
            "/content/work/DS_CNN/DS_CNN1/training/\n",
            "/content/work/DS_CNN/DS_CNN1/training/best/\n",
            "/content/work/DS_CNN/DS_CNN1/training/best/ds_cnn_9264.ckpt-16400.data-00000-of-00001\n",
            "/content/work/DS_CNN/DS_CNN1/training/best/ds_cnn_9248.ckpt-12400.meta\n",
            "/content/work/DS_CNN/DS_CNN1/training/best/ds_cnn_9241.ckpt-8800.index\n",
            "/content/work/DS_CNN/DS_CNN1/training/best/ds_cnn_9262.ckpt-16000.meta\n",
            "/content/work/DS_CNN/DS_CNN1/training/best/ds_cnn_9248.ckpt-12400.index\n",
            "/content/work/DS_CNN/DS_CNN1/training/best/ds_cnn_9264.ckpt-16400.meta\n",
            "/content/work/DS_CNN/DS_CNN1/training/best/ds_cnn_9241.ckpt-8800.meta\n",
            "/content/work/DS_CNN/DS_CNN1/training/best/ds_cnn_9257.ckpt-15200.data-00000-of-00001\n",
            "/content/work/DS_CNN/DS_CNN1/training/best/ds_cnn_9241.ckpt-8800.data-00000-of-00001\n",
            "/content/work/DS_CNN/DS_CNN1/training/best/ds_cnn_9262.ckpt-16000.data-00000-of-00001\n",
            "/content/work/DS_CNN/DS_CNN1/training/best/ds_cnn_9262.ckpt-16000.index\n",
            "/content/work/DS_CNN/DS_CNN1/training/best/ds_cnn_9248.ckpt-12400.data-00000-of-00001\n",
            "/content/work/DS_CNN/DS_CNN1/training/best/ds_cnn_9257.ckpt-15200.meta\n",
            "/content/work/DS_CNN/DS_CNN1/training/best/ds_cnn_9257.ckpt-15200.index\n",
            "/content/work/DS_CNN/DS_CNN1/training/best/ds_cnn_9264.ckpt-16400.index\n",
            "/content/work/DS_CNN/DS_CNN1/training/best/checkpoint\n",
            "/content/work/DS_CNN/DS_CNN1/training/ds_cnn_labels.txt\n",
            "/content/work/DS_CNN/DS_CNN1/training/ds_cnn.pbtxt\n",
            "total 6628\n",
            "drwxr-xr-x 5 root root    4096 Mar  1 01:56 ML-KWS-for-MCU\n",
            "drwxr-xr-x 1 root root    4096 Feb 26 17:33 sample_data\n",
            "drwxr-xr-x 2 root root    4096 Mar  1 04:01 temp\n",
            "-rw-r--r-- 1 root root 6154240 Mar  1 04:09 test2.tar\n",
            "-rw-r--r-- 1 root root  614400 Mar  1 04:04 test.tar\n",
            "drwxr-xr-x 3 root root    4096 Mar  1 01:58 work\n"
          ],
          "name": "stdout"
        }
      ]
    }
  ]
}